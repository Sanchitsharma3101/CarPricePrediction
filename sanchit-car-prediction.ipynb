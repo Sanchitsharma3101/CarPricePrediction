{
 "cells": [
  {
   "cell_type": "markdown",
   "id": "1c8769fe",
   "metadata": {
    "_cell_guid": "b1076dfc-b9ad-4769-8c92-a6c4dae69d19",
    "_uuid": "8f2839f25d086af736a60e9eeb907d3b93b6e0e5",
    "papermill": {
     "duration": 0.020227,
     "end_time": "2022-09-19T00:29:16.167938",
     "exception": false,
     "start_time": "2022-09-19T00:29:16.147711",
     "status": "completed"
    },
    "tags": []
   },
   "source": [
    "## Table of content:\n",
    "* [Introduction](#introduction) \n",
    "* [Exploratory Data Analysis](#eda)\n",
    "    * [Statistical Analysis](#statistical)\n",
    "    * [Outliers](#outliers)\n",
    "    * [Missing Data](#missing)\n",
    "    * [Data Cleaning](#DC)\n",
    "* [Training ML-Model](#model)\n",
    "    * [Data preprocessing](#preprocessing)\n",
    "    * [Scaling Numerical Features (Normalization)](#SNF)\n",
    "    * [Encoding Categorical Columns](#ECC)\n",
    "    * [Feature Importance](#featureImp)\n",
    "* [Conclusion](#conclusion)"
   ]
  },
  {
   "cell_type": "markdown",
   "id": "a60e2c88",
   "metadata": {
    "papermill": {
     "duration": 0.015441,
     "end_time": "2022-09-19T00:29:16.199362",
     "exception": false,
     "start_time": "2022-09-19T00:29:16.183921",
     "status": "completed"
    },
    "tags": []
   },
   "source": [
    "## Introduction <a class=\"anchor\" id=\"introduction\"></a>"
   ]
  },
  {
   "cell_type": "markdown",
   "id": "4f8b9fc6",
   "metadata": {
    "papermill": {
     "duration": 0.015456,
     "end_time": "2022-09-19T00:29:16.231614",
     "exception": false,
     "start_time": "2022-09-19T00:29:16.216158",
     "status": "completed"
    },
    "tags": []
   },
   "source": [
    "The dataset has 16 columns which are:<br>\n",
    "<a class=\"anchor\" id=\"columns\"></a><br>\n",
    "ID<br>\n",
    "Price: price of the care(Target Column)<br>\n",
    "Levy<br>\n",
    "Manufacturer<br>\n",
    "Model<br>\n",
    "Prod. year<br>\n",
    "Category<br>\n",
    "Leather interior<br>\n",
    "Fuel type<br>\n",
    "Engine volume<br>\n",
    "Mileage<br>\n",
    "Cylinders<br>\n",
    "Gear box type<br>\n",
    "Drive wheels<br>\n",
    "Doors<br>\n",
    "Wheel<br>\n",
    "Color<br>\n",
    "Airbags<br>"
   ]
  },
  {
   "cell_type": "markdown",
   "id": "0dc39632",
   "metadata": {
    "papermill": {
     "duration": 0.015371,
     "end_time": "2022-09-19T00:29:16.262752",
     "exception": false,
     "start_time": "2022-09-19T00:29:16.247381",
     "status": "completed"
    },
    "tags": []
   },
   "source": [
    "#### Importing the neccessary libraries"
   ]
  },
  {
   "cell_type": "code",
   "execution_count": 1,
   "id": "29e5113e",
   "metadata": {
    "execution": {
     "iopub.execute_input": "2022-09-19T00:29:16.296323Z",
     "iopub.status.busy": "2022-09-19T00:29:16.295821Z",
     "iopub.status.idle": "2022-09-19T00:29:19.088506Z",
     "shell.execute_reply": "2022-09-19T00:29:19.087283Z"
    },
    "papermill": {
     "duration": 2.813374,
     "end_time": "2022-09-19T00:29:19.091874",
     "exception": false,
     "start_time": "2022-09-19T00:29:16.278500",
     "status": "completed"
    },
    "tags": []
   },
   "outputs": [],
   "source": [
    "# Libraries\n",
    "import numpy as np \n",
    "import pandas as pd\n",
    "import time\n",
    "import seaborn as sns\n",
    "import matplotlib.pyplot as plt\n",
    "import plotly.express as px\n",
    "\n",
    "from sklearn.ensemble import GradientBoostingRegressor, AdaBoostRegressor, BaggingRegressor\n",
    "from sklearn.linear_model import SGDRegressor, LinearRegression\n",
    "from sklearn.tree import ExtraTreeRegressor, DecisionTreeRegressor\n",
    "# ANN\n",
    "\n",
    "from sklearn.model_selection import train_test_split\n",
    "from sklearn.preprocessing import MinMaxScaler\n",
    "from sklearn.preprocessing import OneHotEncoder\n",
    "from sklearn.metrics import r2_score, mean_squared_error, mean_absolute_error"
   ]
  },
  {
   "cell_type": "markdown",
   "id": "11341aeb",
   "metadata": {
    "execution": {
     "iopub.execute_input": "2022-09-18T18:57:54.757340Z",
     "iopub.status.busy": "2022-09-18T18:57:54.756877Z",
     "iopub.status.idle": "2022-09-18T18:57:54.763009Z",
     "shell.execute_reply": "2022-09-18T18:57:54.761918Z",
     "shell.execute_reply.started": "2022-09-18T18:57:54.757302Z"
    },
    "papermill": {
     "duration": 0.015533,
     "end_time": "2022-09-19T00:29:19.123653",
     "exception": false,
     "start_time": "2022-09-19T00:29:19.108120",
     "status": "completed"
    },
    "tags": []
   },
   "source": [
    "## Exploratory Data Analysis <a class=\"anchor\" id=\"eda\"></a>"
   ]
  },
  {
   "cell_type": "code",
   "execution_count": 2,
   "id": "363c0579",
   "metadata": {
    "execution": {
     "iopub.execute_input": "2022-09-19T00:29:19.157750Z",
     "iopub.status.busy": "2022-09-19T00:29:19.157274Z",
     "iopub.status.idle": "2022-09-19T00:29:19.289001Z",
     "shell.execute_reply": "2022-09-19T00:29:19.287310Z"
    },
    "papermill": {
     "duration": 0.152833,
     "end_time": "2022-09-19T00:29:19.292330",
     "exception": false,
     "start_time": "2022-09-19T00:29:19.139497",
     "status": "completed"
    },
    "tags": []
   },
   "outputs": [],
   "source": [
    "# Reading the dataset\n",
    "dataset = pd.read_csv('../input/car-price-prediction-challenge/car_price_prediction.csv',index_col = False)\n",
    "\n"
   ]
  },
  {
   "cell_type": "code",
   "execution_count": 3,
   "id": "b8529db6",
   "metadata": {
    "execution": {
     "iopub.execute_input": "2022-09-19T00:29:19.327881Z",
     "iopub.status.busy": "2022-09-19T00:29:19.327379Z",
     "iopub.status.idle": "2022-09-19T00:29:19.370722Z",
     "shell.execute_reply": "2022-09-19T00:29:19.369482Z"
    },
    "papermill": {
     "duration": 0.064696,
     "end_time": "2022-09-19T00:29:19.373521",
     "exception": false,
     "start_time": "2022-09-19T00:29:19.308825",
     "status": "completed"
    },
    "tags": []
   },
   "outputs": [
    {
     "data": {
      "text/html": [
       "<div>\n",
       "<style scoped>\n",
       "    .dataframe tbody tr th:only-of-type {\n",
       "        vertical-align: middle;\n",
       "    }\n",
       "\n",
       "    .dataframe tbody tr th {\n",
       "        vertical-align: top;\n",
       "    }\n",
       "\n",
       "    .dataframe thead th {\n",
       "        text-align: right;\n",
       "    }\n",
       "</style>\n",
       "<table border=\"1\" class=\"dataframe\">\n",
       "  <thead>\n",
       "    <tr style=\"text-align: right;\">\n",
       "      <th></th>\n",
       "      <th>ID</th>\n",
       "      <th>Price</th>\n",
       "      <th>Levy</th>\n",
       "      <th>Manufacturer</th>\n",
       "      <th>Model</th>\n",
       "      <th>Prod. year</th>\n",
       "      <th>Category</th>\n",
       "      <th>Leather interior</th>\n",
       "      <th>Fuel type</th>\n",
       "      <th>Engine volume</th>\n",
       "      <th>Mileage</th>\n",
       "      <th>Cylinders</th>\n",
       "      <th>Gear box type</th>\n",
       "      <th>Drive wheels</th>\n",
       "      <th>Doors</th>\n",
       "      <th>Wheel</th>\n",
       "      <th>Color</th>\n",
       "      <th>Airbags</th>\n",
       "    </tr>\n",
       "  </thead>\n",
       "  <tbody>\n",
       "    <tr>\n",
       "      <th>18751</th>\n",
       "      <td>45809366</td>\n",
       "      <td>28589</td>\n",
       "      <td>833</td>\n",
       "      <td>CHEVROLET</td>\n",
       "      <td>Captiva</td>\n",
       "      <td>2015</td>\n",
       "      <td>Jeep</td>\n",
       "      <td>Yes</td>\n",
       "      <td>Diesel</td>\n",
       "      <td>2.2</td>\n",
       "      <td>57293 km</td>\n",
       "      <td>4.0</td>\n",
       "      <td>Automatic</td>\n",
       "      <td>Front</td>\n",
       "      <td>04-May</td>\n",
       "      <td>Left wheel</td>\n",
       "      <td>Silver</td>\n",
       "      <td>4</td>\n",
       "    </tr>\n",
       "    <tr>\n",
       "      <th>7404</th>\n",
       "      <td>45797470</td>\n",
       "      <td>44843</td>\n",
       "      <td>1091</td>\n",
       "      <td>HYUNDAI</td>\n",
       "      <td>H1</td>\n",
       "      <td>2016</td>\n",
       "      <td>Universal</td>\n",
       "      <td>Yes</td>\n",
       "      <td>Diesel</td>\n",
       "      <td>2.5</td>\n",
       "      <td>133687 km</td>\n",
       "      <td>4.0</td>\n",
       "      <td>Automatic</td>\n",
       "      <td>Front</td>\n",
       "      <td>04-May</td>\n",
       "      <td>Left wheel</td>\n",
       "      <td>Grey</td>\n",
       "      <td>4</td>\n",
       "    </tr>\n",
       "    <tr>\n",
       "      <th>7667</th>\n",
       "      <td>45798721</td>\n",
       "      <td>65858</td>\n",
       "      <td>-</td>\n",
       "      <td>FORD</td>\n",
       "      <td>Mustang</td>\n",
       "      <td>1965</td>\n",
       "      <td>Coupe</td>\n",
       "      <td>Yes</td>\n",
       "      <td>Petrol</td>\n",
       "      <td>4.7</td>\n",
       "      <td>68800 km</td>\n",
       "      <td>8.0</td>\n",
       "      <td>Automatic</td>\n",
       "      <td>Front</td>\n",
       "      <td>02-Mar</td>\n",
       "      <td>Left wheel</td>\n",
       "      <td>Red</td>\n",
       "      <td>2</td>\n",
       "    </tr>\n",
       "    <tr>\n",
       "      <th>17870</th>\n",
       "      <td>45772363</td>\n",
       "      <td>54568</td>\n",
       "      <td>1363</td>\n",
       "      <td>LEXUS</td>\n",
       "      <td>GX 460</td>\n",
       "      <td>2012</td>\n",
       "      <td>Jeep</td>\n",
       "      <td>Yes</td>\n",
       "      <td>Petrol</td>\n",
       "      <td>4.6</td>\n",
       "      <td>255406 km</td>\n",
       "      <td>8.0</td>\n",
       "      <td>Automatic</td>\n",
       "      <td>4x4</td>\n",
       "      <td>04-May</td>\n",
       "      <td>Left wheel</td>\n",
       "      <td>Black</td>\n",
       "      <td>0</td>\n",
       "    </tr>\n",
       "    <tr>\n",
       "      <th>17580</th>\n",
       "      <td>45804077</td>\n",
       "      <td>10349</td>\n",
       "      <td>-</td>\n",
       "      <td>MERCEDES-BENZ</td>\n",
       "      <td>C 200</td>\n",
       "      <td>2002</td>\n",
       "      <td>Goods wagon</td>\n",
       "      <td>No</td>\n",
       "      <td>Petrol</td>\n",
       "      <td>2</td>\n",
       "      <td>22500 km</td>\n",
       "      <td>4.0</td>\n",
       "      <td>Manual</td>\n",
       "      <td>Rear</td>\n",
       "      <td>04-May</td>\n",
       "      <td>Left wheel</td>\n",
       "      <td>Silver</td>\n",
       "      <td>12</td>\n",
       "    </tr>\n",
       "  </tbody>\n",
       "</table>\n",
       "</div>"
      ],
      "text/plain": [
       "             ID  Price  Levy   Manufacturer    Model  Prod. year     Category  \\\n",
       "18751  45809366  28589   833      CHEVROLET  Captiva        2015         Jeep   \n",
       "7404   45797470  44843  1091        HYUNDAI       H1        2016    Universal   \n",
       "7667   45798721  65858     -           FORD  Mustang        1965        Coupe   \n",
       "17870  45772363  54568  1363          LEXUS   GX 460        2012         Jeep   \n",
       "17580  45804077  10349     -  MERCEDES-BENZ    C 200        2002  Goods wagon   \n",
       "\n",
       "      Leather interior Fuel type Engine volume    Mileage  Cylinders  \\\n",
       "18751              Yes    Diesel           2.2   57293 km        4.0   \n",
       "7404               Yes    Diesel           2.5  133687 km        4.0   \n",
       "7667               Yes    Petrol           4.7   68800 km        8.0   \n",
       "17870              Yes    Petrol           4.6  255406 km        8.0   \n",
       "17580               No    Petrol             2   22500 km        4.0   \n",
       "\n",
       "      Gear box type Drive wheels   Doors       Wheel   Color  Airbags  \n",
       "18751     Automatic        Front  04-May  Left wheel  Silver        4  \n",
       "7404      Automatic        Front  04-May  Left wheel    Grey        4  \n",
       "7667      Automatic        Front  02-Mar  Left wheel     Red        2  \n",
       "17870     Automatic          4x4  04-May  Left wheel   Black        0  \n",
       "17580        Manual         Rear  04-May  Left wheel  Silver       12  "
      ]
     },
     "execution_count": 3,
     "metadata": {},
     "output_type": "execute_result"
    }
   ],
   "source": [
    "# Displaying 5 random samples from the dataset first 5 data\n",
    "data = dataset.copy()\n",
    "data.sample(5)"
   ]
  },
  {
   "cell_type": "code",
   "execution_count": 4,
   "id": "bba717b0",
   "metadata": {
    "execution": {
     "iopub.execute_input": "2022-09-19T00:29:19.408405Z",
     "iopub.status.busy": "2022-09-19T00:29:19.407471Z",
     "iopub.status.idle": "2022-09-19T00:29:19.415004Z",
     "shell.execute_reply": "2022-09-19T00:29:19.414132Z"
    },
    "papermill": {
     "duration": 0.027144,
     "end_time": "2022-09-19T00:29:19.417141",
     "exception": false,
     "start_time": "2022-09-19T00:29:19.389997",
     "status": "completed"
    },
    "tags": []
   },
   "outputs": [
    {
     "data": {
      "text/plain": [
       "(19237, 18)"
      ]
     },
     "execution_count": 4,
     "metadata": {},
     "output_type": "execute_result"
    }
   ],
   "source": [
    "data.shape"
   ]
  },
  {
   "cell_type": "code",
   "execution_count": 5,
   "id": "5f11dd46",
   "metadata": {
    "execution": {
     "iopub.execute_input": "2022-09-19T00:29:19.452181Z",
     "iopub.status.busy": "2022-09-19T00:29:19.451475Z",
     "iopub.status.idle": "2022-09-19T00:29:19.457596Z",
     "shell.execute_reply": "2022-09-19T00:29:19.456770Z"
    },
    "papermill": {
     "duration": 0.025923,
     "end_time": "2022-09-19T00:29:19.459634",
     "exception": false,
     "start_time": "2022-09-19T00:29:19.433711",
     "status": "completed"
    },
    "tags": []
   },
   "outputs": [
    {
     "data": {
      "text/plain": [
       "Index(['ID', 'Price', 'Levy', 'Manufacturer', 'Model', 'Prod. year',\n",
       "       'Category', 'Leather interior', 'Fuel type', 'Engine volume', 'Mileage',\n",
       "       'Cylinders', 'Gear box type', 'Drive wheels', 'Doors', 'Wheel', 'Color',\n",
       "       'Airbags'],\n",
       "      dtype='object')"
      ]
     },
     "execution_count": 5,
     "metadata": {},
     "output_type": "execute_result"
    }
   ],
   "source": [
    "data.columns"
   ]
  },
  {
   "cell_type": "markdown",
   "id": "19c4e58c",
   "metadata": {
    "papermill": {
     "duration": 0.015622,
     "end_time": "2022-09-19T00:29:19.491363",
     "exception": false,
     "start_time": "2022-09-19T00:29:19.475741",
     "status": "completed"
    },
    "tags": []
   },
   "source": [
    "18 Columns present in the dataset. See full meaning for each of the columns [here](#columns)"
   ]
  },
  {
   "cell_type": "markdown",
   "id": "a3a89e95",
   "metadata": {
    "papermill": {
     "duration": 0.016402,
     "end_time": "2022-09-19T00:29:19.523937",
     "exception": false,
     "start_time": "2022-09-19T00:29:19.507535",
     "status": "completed"
    },
    "tags": []
   },
   "source": [
    "### Statistical analysis <a class=\"anchor\" id=\"statistical\"></a>"
   ]
  },
  {
   "cell_type": "code",
   "execution_count": 6,
   "id": "f38a5d79",
   "metadata": {
    "execution": {
     "iopub.execute_input": "2022-09-19T00:29:19.559006Z",
     "iopub.status.busy": "2022-09-19T00:29:19.558329Z",
     "iopub.status.idle": "2022-09-19T00:29:19.595233Z",
     "shell.execute_reply": "2022-09-19T00:29:19.594007Z"
    },
    "papermill": {
     "duration": 0.05893,
     "end_time": "2022-09-19T00:29:19.599374",
     "exception": false,
     "start_time": "2022-09-19T00:29:19.540444",
     "status": "completed"
    },
    "tags": []
   },
   "outputs": [
    {
     "name": "stdout",
     "output_type": "stream",
     "text": [
      "<class 'pandas.core.frame.DataFrame'>\n",
      "RangeIndex: 19237 entries, 0 to 19236\n",
      "Data columns (total 18 columns):\n",
      " #   Column            Non-Null Count  Dtype  \n",
      "---  ------            --------------  -----  \n",
      " 0   ID                19237 non-null  int64  \n",
      " 1   Price             19237 non-null  int64  \n",
      " 2   Levy              19237 non-null  object \n",
      " 3   Manufacturer      19237 non-null  object \n",
      " 4   Model             19237 non-null  object \n",
      " 5   Prod. year        19237 non-null  int64  \n",
      " 6   Category          19237 non-null  object \n",
      " 7   Leather interior  19237 non-null  object \n",
      " 8   Fuel type         19237 non-null  object \n",
      " 9   Engine volume     19237 non-null  object \n",
      " 10  Mileage           19237 non-null  object \n",
      " 11  Cylinders         19237 non-null  float64\n",
      " 12  Gear box type     19237 non-null  object \n",
      " 13  Drive wheels      19237 non-null  object \n",
      " 14  Doors             19237 non-null  object \n",
      " 15  Wheel             19237 non-null  object \n",
      " 16  Color             19237 non-null  object \n",
      " 17  Airbags           19237 non-null  int64  \n",
      "dtypes: float64(1), int64(4), object(13)\n",
      "memory usage: 2.6+ MB\n"
     ]
    }
   ],
   "source": [
    "data.info()"
   ]
  },
  {
   "cell_type": "markdown",
   "id": "2dc65947",
   "metadata": {
    "papermill": {
     "duration": 0.016006,
     "end_time": "2022-09-19T00:29:19.632057",
     "exception": false,
     "start_time": "2022-09-19T00:29:19.616051",
     "status": "completed"
    },
    "tags": []
   },
   "source": [
    "The dataset contains both numerical and categorical data.\n",
    "\n",
    "We can confirm further by checking for missing value counts and a graphical display to check as well "
   ]
  },
  {
   "cell_type": "code",
   "execution_count": 7,
   "id": "364a893d",
   "metadata": {
    "execution": {
     "iopub.execute_input": "2022-09-19T00:29:19.668084Z",
     "iopub.status.busy": "2022-09-19T00:29:19.666666Z",
     "iopub.status.idle": "2022-09-19T00:29:19.702023Z",
     "shell.execute_reply": "2022-09-19T00:29:19.700634Z"
    },
    "papermill": {
     "duration": 0.056268,
     "end_time": "2022-09-19T00:29:19.704843",
     "exception": false,
     "start_time": "2022-09-19T00:29:19.648575",
     "status": "completed"
    },
    "tags": []
   },
   "outputs": [
    {
     "data": {
      "text/html": [
       "<div>\n",
       "<style scoped>\n",
       "    .dataframe tbody tr th:only-of-type {\n",
       "        vertical-align: middle;\n",
       "    }\n",
       "\n",
       "    .dataframe tbody tr th {\n",
       "        vertical-align: top;\n",
       "    }\n",
       "\n",
       "    .dataframe thead th {\n",
       "        text-align: right;\n",
       "    }\n",
       "</style>\n",
       "<table border=\"1\" class=\"dataframe\">\n",
       "  <thead>\n",
       "    <tr style=\"text-align: right;\">\n",
       "      <th></th>\n",
       "      <th>ID</th>\n",
       "      <th>Price</th>\n",
       "      <th>Prod. year</th>\n",
       "      <th>Cylinders</th>\n",
       "      <th>Airbags</th>\n",
       "    </tr>\n",
       "  </thead>\n",
       "  <tbody>\n",
       "    <tr>\n",
       "      <th>count</th>\n",
       "      <td>1.923700e+04</td>\n",
       "      <td>1.923700e+04</td>\n",
       "      <td>19237.000000</td>\n",
       "      <td>19237.000000</td>\n",
       "      <td>19237.000000</td>\n",
       "    </tr>\n",
       "    <tr>\n",
       "      <th>mean</th>\n",
       "      <td>4.557654e+07</td>\n",
       "      <td>1.855593e+04</td>\n",
       "      <td>2010.912824</td>\n",
       "      <td>4.582991</td>\n",
       "      <td>6.582627</td>\n",
       "    </tr>\n",
       "    <tr>\n",
       "      <th>std</th>\n",
       "      <td>9.365914e+05</td>\n",
       "      <td>1.905813e+05</td>\n",
       "      <td>5.668673</td>\n",
       "      <td>1.199933</td>\n",
       "      <td>4.320168</td>\n",
       "    </tr>\n",
       "    <tr>\n",
       "      <th>min</th>\n",
       "      <td>2.074688e+07</td>\n",
       "      <td>1.000000e+00</td>\n",
       "      <td>1939.000000</td>\n",
       "      <td>1.000000</td>\n",
       "      <td>0.000000</td>\n",
       "    </tr>\n",
       "    <tr>\n",
       "      <th>25%</th>\n",
       "      <td>4.569837e+07</td>\n",
       "      <td>5.331000e+03</td>\n",
       "      <td>2009.000000</td>\n",
       "      <td>4.000000</td>\n",
       "      <td>4.000000</td>\n",
       "    </tr>\n",
       "    <tr>\n",
       "      <th>50%</th>\n",
       "      <td>4.577231e+07</td>\n",
       "      <td>1.317200e+04</td>\n",
       "      <td>2012.000000</td>\n",
       "      <td>4.000000</td>\n",
       "      <td>6.000000</td>\n",
       "    </tr>\n",
       "    <tr>\n",
       "      <th>75%</th>\n",
       "      <td>4.580204e+07</td>\n",
       "      <td>2.207500e+04</td>\n",
       "      <td>2015.000000</td>\n",
       "      <td>4.000000</td>\n",
       "      <td>12.000000</td>\n",
       "    </tr>\n",
       "    <tr>\n",
       "      <th>max</th>\n",
       "      <td>4.581665e+07</td>\n",
       "      <td>2.630750e+07</td>\n",
       "      <td>2020.000000</td>\n",
       "      <td>16.000000</td>\n",
       "      <td>16.000000</td>\n",
       "    </tr>\n",
       "  </tbody>\n",
       "</table>\n",
       "</div>"
      ],
      "text/plain": [
       "                 ID         Price    Prod. year     Cylinders       Airbags\n",
       "count  1.923700e+04  1.923700e+04  19237.000000  19237.000000  19237.000000\n",
       "mean   4.557654e+07  1.855593e+04   2010.912824      4.582991      6.582627\n",
       "std    9.365914e+05  1.905813e+05      5.668673      1.199933      4.320168\n",
       "min    2.074688e+07  1.000000e+00   1939.000000      1.000000      0.000000\n",
       "25%    4.569837e+07  5.331000e+03   2009.000000      4.000000      4.000000\n",
       "50%    4.577231e+07  1.317200e+04   2012.000000      4.000000      6.000000\n",
       "75%    4.580204e+07  2.207500e+04   2015.000000      4.000000     12.000000\n",
       "max    4.581665e+07  2.630750e+07   2020.000000     16.000000     16.000000"
      ]
     },
     "execution_count": 7,
     "metadata": {},
     "output_type": "execute_result"
    }
   ],
   "source": [
    "data.describe()"
   ]
  },
  {
   "cell_type": "code",
   "execution_count": 8,
   "id": "c3077146",
   "metadata": {
    "execution": {
     "iopub.execute_input": "2022-09-19T00:29:19.741116Z",
     "iopub.status.busy": "2022-09-19T00:29:19.740313Z",
     "iopub.status.idle": "2022-09-19T00:29:19.748845Z",
     "shell.execute_reply": "2022-09-19T00:29:19.747107Z"
    },
    "papermill": {
     "duration": 0.029898,
     "end_time": "2022-09-19T00:29:19.751397",
     "exception": false,
     "start_time": "2022-09-19T00:29:19.721499",
     "status": "completed"
    },
    "tags": []
   },
   "outputs": [
    {
     "name": "stdout",
     "output_type": "stream",
     "text": [
      "The minimum price is:  1\n",
      "The maximum price is:  26307500\n"
     ]
    }
   ],
   "source": [
    "print('The minimum price is: ', data['Price'].min())\n",
    "print('The maximum price is: ', data['Price'].max())"
   ]
  },
  {
   "cell_type": "code",
   "execution_count": 9,
   "id": "0b684bca",
   "metadata": {
    "execution": {
     "iopub.execute_input": "2022-09-19T00:29:19.788705Z",
     "iopub.status.busy": "2022-09-19T00:29:19.787983Z",
     "iopub.status.idle": "2022-09-19T00:29:19.807913Z",
     "shell.execute_reply": "2022-09-19T00:29:19.807012Z"
    },
    "papermill": {
     "duration": 0.041144,
     "end_time": "2022-09-19T00:29:19.810053",
     "exception": false,
     "start_time": "2022-09-19T00:29:19.768909",
     "status": "completed"
    },
    "tags": []
   },
   "outputs": [
    {
     "data": {
      "text/html": [
       "<div>\n",
       "<style scoped>\n",
       "    .dataframe tbody tr th:only-of-type {\n",
       "        vertical-align: middle;\n",
       "    }\n",
       "\n",
       "    .dataframe tbody tr th {\n",
       "        vertical-align: top;\n",
       "    }\n",
       "\n",
       "    .dataframe thead th {\n",
       "        text-align: right;\n",
       "    }\n",
       "</style>\n",
       "<table border=\"1\" class=\"dataframe\">\n",
       "  <thead>\n",
       "    <tr style=\"text-align: right;\">\n",
       "      <th></th>\n",
       "      <th>ID</th>\n",
       "      <th>Price</th>\n",
       "      <th>Levy</th>\n",
       "      <th>Manufacturer</th>\n",
       "      <th>Model</th>\n",
       "      <th>Prod. year</th>\n",
       "      <th>Category</th>\n",
       "      <th>Leather interior</th>\n",
       "      <th>Fuel type</th>\n",
       "      <th>Engine volume</th>\n",
       "      <th>Mileage</th>\n",
       "      <th>Cylinders</th>\n",
       "      <th>Gear box type</th>\n",
       "      <th>Drive wheels</th>\n",
       "      <th>Doors</th>\n",
       "      <th>Wheel</th>\n",
       "      <th>Color</th>\n",
       "      <th>Airbags</th>\n",
       "    </tr>\n",
       "  </thead>\n",
       "  <tbody>\n",
       "    <tr>\n",
       "      <th>1225</th>\n",
       "      <td>45795524</td>\n",
       "      <td>627220</td>\n",
       "      <td>-</td>\n",
       "      <td>MERCEDES-BENZ</td>\n",
       "      <td>G 65 AMG 63AMG</td>\n",
       "      <td>2020</td>\n",
       "      <td>Jeep</td>\n",
       "      <td>Yes</td>\n",
       "      <td>Petrol</td>\n",
       "      <td>6.3 Turbo</td>\n",
       "      <td>0 km</td>\n",
       "      <td>8.0</td>\n",
       "      <td>Tiptronic</td>\n",
       "      <td>4x4</td>\n",
       "      <td>04-May</td>\n",
       "      <td>Left wheel</td>\n",
       "      <td>Black</td>\n",
       "      <td>12</td>\n",
       "    </tr>\n",
       "    <tr>\n",
       "      <th>8541</th>\n",
       "      <td>45761204</td>\n",
       "      <td>872946</td>\n",
       "      <td>2067</td>\n",
       "      <td>LAMBORGHINI</td>\n",
       "      <td>Urus</td>\n",
       "      <td>2019</td>\n",
       "      <td>Universal</td>\n",
       "      <td>Yes</td>\n",
       "      <td>Petrol</td>\n",
       "      <td>4</td>\n",
       "      <td>2531 km</td>\n",
       "      <td>8.0</td>\n",
       "      <td>Tiptronic</td>\n",
       "      <td>4x4</td>\n",
       "      <td>04-May</td>\n",
       "      <td>Left wheel</td>\n",
       "      <td>Black</td>\n",
       "      <td>0</td>\n",
       "    </tr>\n",
       "    <tr>\n",
       "      <th>16983</th>\n",
       "      <td>45812886</td>\n",
       "      <td>26307500</td>\n",
       "      <td>-</td>\n",
       "      <td>OPEL</td>\n",
       "      <td>Combo</td>\n",
       "      <td>1999</td>\n",
       "      <td>Goods wagon</td>\n",
       "      <td>No</td>\n",
       "      <td>Diesel</td>\n",
       "      <td>1.7</td>\n",
       "      <td>99999 km</td>\n",
       "      <td>4.0</td>\n",
       "      <td>Manual</td>\n",
       "      <td>Front</td>\n",
       "      <td>02-Mar</td>\n",
       "      <td>Left wheel</td>\n",
       "      <td>Blue</td>\n",
       "      <td>0</td>\n",
       "    </tr>\n",
       "  </tbody>\n",
       "</table>\n",
       "</div>"
      ],
      "text/plain": [
       "             ID     Price  Levy   Manufacturer           Model  Prod. year  \\\n",
       "1225   45795524    627220     -  MERCEDES-BENZ  G 65 AMG 63AMG        2020   \n",
       "8541   45761204    872946  2067    LAMBORGHINI            Urus        2019   \n",
       "16983  45812886  26307500     -           OPEL           Combo        1999   \n",
       "\n",
       "          Category Leather interior Fuel type Engine volume   Mileage  \\\n",
       "1225          Jeep              Yes    Petrol     6.3 Turbo      0 km   \n",
       "8541     Universal              Yes    Petrol             4   2531 km   \n",
       "16983  Goods wagon               No    Diesel           1.7  99999 km   \n",
       "\n",
       "       Cylinders Gear box type Drive wheels   Doors       Wheel  Color  \\\n",
       "1225         8.0     Tiptronic          4x4  04-May  Left wheel  Black   \n",
       "8541         8.0     Tiptronic          4x4  04-May  Left wheel  Black   \n",
       "16983        4.0        Manual        Front  02-Mar  Left wheel   Blue   \n",
       "\n",
       "       Airbags  \n",
       "1225        12  \n",
       "8541         0  \n",
       "16983        0  "
      ]
     },
     "execution_count": 9,
     "metadata": {},
     "output_type": "execute_result"
    }
   ],
   "source": [
    "# Cheching to see price above 400,000\n",
    "data[data['Price'] >= 400000]"
   ]
  },
  {
   "cell_type": "code",
   "execution_count": 10,
   "id": "f3a476da",
   "metadata": {
    "execution": {
     "iopub.execute_input": "2022-09-19T00:29:19.846552Z",
     "iopub.status.busy": "2022-09-19T00:29:19.845849Z",
     "iopub.status.idle": "2022-09-19T00:29:19.851952Z",
     "shell.execute_reply": "2022-09-19T00:29:19.851163Z"
    },
    "papermill": {
     "duration": 0.026924,
     "end_time": "2022-09-19T00:29:19.854052",
     "exception": false,
     "start_time": "2022-09-19T00:29:19.827128",
     "status": "completed"
    },
    "tags": []
   },
   "outputs": [
    {
     "data": {
      "text/plain": [
       "18555.92722357956"
      ]
     },
     "execution_count": 10,
     "metadata": {},
     "output_type": "execute_result"
    }
   ],
   "source": [
    "# checking for the mean value\n",
    "data['Price'].mean()"
   ]
  },
  {
   "cell_type": "code",
   "execution_count": 11,
   "id": "e539e05a",
   "metadata": {
    "execution": {
     "iopub.execute_input": "2022-09-19T00:29:19.891517Z",
     "iopub.status.busy": "2022-09-19T00:29:19.890825Z",
     "iopub.status.idle": "2022-09-19T00:29:19.897818Z",
     "shell.execute_reply": "2022-09-19T00:29:19.896877Z"
    },
    "papermill": {
     "duration": 0.02821,
     "end_time": "2022-09-19T00:29:19.899918",
     "exception": false,
     "start_time": "2022-09-19T00:29:19.871708",
     "status": "completed"
    },
    "tags": []
   },
   "outputs": [
    {
     "data": {
      "text/plain": [
       "49459.0"
      ]
     },
     "execution_count": 11,
     "metadata": {},
     "output_type": "execute_result"
    }
   ],
   "source": [
    "np.percentile(data['Price'], 95)"
   ]
  },
  {
   "cell_type": "markdown",
   "id": "241ee4f6",
   "metadata": {
    "papermill": {
     "duration": 0.016614,
     "end_time": "2022-09-19T00:29:19.934209",
     "exception": false,
     "start_time": "2022-09-19T00:29:19.917595",
     "status": "completed"
    },
    "tags": []
   },
   "source": [
    "### Outliers <a class=\"anchor\" id=\"outliers\"></a>"
   ]
  },
  {
   "cell_type": "code",
   "execution_count": 12,
   "id": "c53c821e",
   "metadata": {
    "execution": {
     "iopub.execute_input": "2022-09-19T00:29:19.970790Z",
     "iopub.status.busy": "2022-09-19T00:29:19.969979Z",
     "iopub.status.idle": "2022-09-19T00:29:21.240816Z",
     "shell.execute_reply": "2022-09-19T00:29:21.239915Z"
    },
    "papermill": {
     "duration": 1.292001,
     "end_time": "2022-09-19T00:29:21.243424",
     "exception": false,
     "start_time": "2022-09-19T00:29:19.951423",
     "status": "completed"
    },
    "tags": []
   },
   "outputs": [
    {
     "data": {
      "text/html": [
       "        <script type=\"text/javascript\">\n",
       "        window.PlotlyConfig = {MathJaxConfig: 'local'};\n",
       "        if (window.MathJax && window.MathJax.Hub && window.MathJax.Hub.Config) {window.MathJax.Hub.Config({SVG: {font: \"STIX-Web\"}});}\n",
       "        if (typeof require !== 'undefined') {\n",
       "        require.undef(\"plotly\");\n",
       "        requirejs.config({\n",
       "            paths: {\n",
       "                'plotly': ['https://cdn.plot.ly/plotly-2.14.0.min']\n",
       "            }\n",
       "        });\n",
       "        require(['plotly'], function(Plotly) {\n",
       "            window._Plotly = Plotly;\n",
       "        });\n",
       "        }\n",
       "        </script>\n",
       "        "
      ]
     },
     "metadata": {},
     "output_type": "display_data"
    },
    {
     "data": {
      "text/html": [
       "<div>                            <div id=\"d49e3642-b37e-49fb-9715-804d66ceb3a7\" class=\"plotly-graph-div\" style=\"height:525px; width:100%;\"></div>            <script type=\"text/javascript\">                require([\"plotly\"], function(Plotly) {                    window.PLOTLYENV=window.PLOTLYENV || {};                                    if (document.getElementById(\"d49e3642-b37e-49fb-9715-804d66ceb3a7\")) {                    Plotly.newPlot(                        \"d49e3642-b37e-49fb-9715-804d66ceb3a7\",                        [{\"hovertemplate\":\"index=%{x}<br>Price=%{y}<extra></extra>\",\"legendgroup\":\"\",\"line\":{\"color\":\"#636efa\",\"dash\":\"solid\"},\"marker\":{\"symbol\":\"circle\"},\"mode\":\"lines\",\"name\":\"\",\"showlegend\":false,\"x\":[0,1,2,3,4,5,6,7,8,9,10,11,12,13,14,15,16,17,18,19,20,21,22,23,24,25,26,27,28,29,30,31,32,33,34,35,36,37,38,39,40,41,42,43,44,45,46,47,48,49,50,51,52,53,54,55,56,57,58,59,60,61,62,63,64,65,66,67,68,69,70,71,72,73,74,75,76,77,78,79,80,81,82,83,84,85,86,87,88,89,90,91,92,93,94,95,96,97,98,99,100,101,102,103,104,105,106,107,108,109,110,111,112,113,114,115,116,117,118,119,120,121,122,123,124,125,126,127,128,129,130,131,132,133,134,135,136,137,138,139,140,141,142,143,144,145,146,147,148,149,150,151,152,153,154,155,156,157,158,159,160,161,162,163,164,165,166,167,168,169,170,171,172,173,174,175,176,177,178,179,180,181,182,183,184,185,186,187,188,189,190,191,192,193,194,195,196,197,198,199,200,201,202,203,204,205,206,207,208,209,210,211,212,213,214,215,216,217,218,219,220,221,222,223,224,225,226,227,228,229,230,231,232,233,234,235,236,237,238,239,240,241,242,243,244,245,246,247,248,249,250,251,252,253,254,255,256,257,258,259,260,261,262,263,264,265,266,267,268,269,270,271,272,273,274,275,276,277,278,279,280,281,282,283,284,285,286,287,288,289,290,291,292,293,294,295,296,297,298,299,300,301,302,303,304,305,306,307,308,309,310,311,312,313,314,315,316,317,318,319,320,321,322,323,324,325,326,327,328,329,330,331,332,333,334,335,336,337,338,339,340,341,342,343,344,345,346,347,348,349,350,351,352,353,354,355,356,357,358,359,360,361,362,363,364,365,366,367,368,369,370,371,372,373,374,375,376,377,378,379,380,381,382,383,384,385,386,387,388,389,390,391,392,393,394,395,396,397,398,399,400,401,402,403,404,405,406,407,408,409,410,411,412,413,414,415,416,417,418,419,420,421,422,423,424,425,426,427,428,429,430,431,432,433,434,435,436,437,438,439,440,441,442,443,444,445,446,447,448,449,450,451,452,453,454,455,456,457,458,459,460,461,462,463,464,465,466,467,468,469,470,471,472,473,474,475,476,477,478,479,480,481,482,483,484,485,486,487,488,489,490,491,492,493,494,495,496,497,498,499,500,501,502,503,504,505,506,507,508,509,510,511,512,513,514,515,516,517,518,519,520,521,522,523,524,525,526,527,528,529,530,531,532,533,534,535,536,537,538,539,540,541,542,543,544,545,546,547,548,549,550,551,552,553,554,555,556,557,558,559,560,561,562,563,564,565,566,567,568,569,570,571,572,573,574,575,576,577,578,579,580,581,582,583,584,585,586,587,588,589,590,591,592,593,594,595,596,597,598,599,600,601,602,603,604,605,606,607,608,609,610,611,612,613,614,615,616,617,618,619,620,621,622,623,624,625,626,627,628,629,630,631,632,633,634,635,636,637,638,639,640,641,642,643,644,645,646,647,648,649,650,651,652,653,654,655,656,657,658,659,660,661,662,663,664,665,666,667,668,669,670,671,672,673,674,675,676,677,678,679,680,681,682,683,684,685,686,687,688,689,690,691,692,693,694,695,696,697,698,699,700,701,702,703,704,705,706,707,708,709,710,711,712,713,714,715,716,717,718,719,720,721,722,723,724,725,726,727,728,729,730,731,732,733,734,735,736,737,738,739,740,741,742,743,744,745,746,747,748,749,750,751,752,753,754,755,756,757,758,759,760,761,762,763,764,765,766,767,768,769,770,771,772,773,774,775,776,777,778,779,780,781,782,783,784,785,786,787,788,789,790,791,792,793,794,795,796,797,798,799,800,801,802,803,804,805,806,807,808,809,810,811,812,813,814,815,816,817,818,819,820,821,822,823,824,825,826,827,828,829,830,831,832,833,834,835,836,837,838,839,840,841,842,843,844,845,846,847,848,849,850,851,852,853,854,855,856,857,858,859,860,861,862,863,864,865,866,867,868,869,870,871,872,873,874,875,876,877,878,879,880,881,882,883,884,885,886,887,888,889,890,891,892,893,894,895,896,897,898,899,900,901,902,903,904,905,906,907,908,909,910,911,912,913,914,915,916,917,918,919,920,921,922,923,924,925,926,927,928,929,930,931,932,933,934,935,936,937,938,939,940,941,942,943,944,945,946,947,948,949,950,951,952,953,954,955,956,957,958,959,960,961,962,963,964,965,966,967,968,969,970,971,972,973,974,975,976,977,978,979,980,981,982,983,984,985,986,987,988,989,990,991,992,993,994,995,996,997,998,999,1000,1001,1002,1003,1004,1005,1006,1007,1008,1009,1010,1011,1012,1013,1014,1015,1016,1017,1018,1019,1020,1021,1022,1023,1024,1025,1026,1027,1028,1029,1030,1031,1032,1033,1034,1035,1036,1037,1038,1039,1040,1041,1042,1043,1044,1045,1046,1047,1048,1049,1050,1051,1052,1053,1054,1055,1056,1057,1058,1059,1060,1061,1062,1063,1064,1065,1066,1067,1068,1069,1070,1071,1072,1073,1074,1075,1076,1077,1078,1079,1080,1081,1082,1083,1084,1085,1086,1087,1088,1089,1090,1091,1092,1093,1094,1095,1096,1097,1098,1099,1100,1101,1102,1103,1104,1105,1106,1107,1108,1109,1110,1111,1112,1113,1114,1115,1116,1117,1118,1119,1120,1121,1122,1123,1124,1125,1126,1127,1128,1129,1130,1131,1132,1133,1134,1135,1136,1137,1138,1139,1140,1141,1142,1143,1144,1145,1146,1147,1148,1149,1150,1151,1152,1153,1154,1155,1156,1157,1158,1159,1160,1161,1162,1163,1164,1165,1166,1167,1168,1169,1170,1171,1172,1173,1174,1175,1176,1177,1178,1179,1180,1181,1182,1183,1184,1185,1186,1187,1188,1189,1190,1191,1192,1193,1194,1195,1196,1197,1198,1199,1200,1201,1202,1203,1204,1205,1206,1207,1208,1209,1210,1211,1212,1213,1214,1215,1216,1217,1218,1219,1220,1221,1222,1223,1224,1225,1226,1227,1228,1229,1230,1231,1232,1233,1234,1235,1236,1237,1238,1239,1240,1241,1242,1243,1244,1245,1246,1247,1248,1249,1250,1251,1252,1253,1254,1255,1256,1257,1258,1259,1260,1261,1262,1263,1264,1265,1266,1267,1268,1269,1270,1271,1272,1273,1274,1275,1276,1277,1278,1279,1280,1281,1282,1283,1284,1285,1286,1287,1288,1289,1290,1291,1292,1293,1294,1295,1296,1297,1298,1299,1300,1301,1302,1303,1304,1305,1306,1307,1308,1309,1310,1311,1312,1313,1314,1315,1316,1317,1318,1319,1320,1321,1322,1323,1324,1325,1326,1327,1328,1329,1330,1331,1332,1333,1334,1335,1336,1337,1338,1339,1340,1341,1342,1343,1344,1345,1346,1347,1348,1349,1350,1351,1352,1353,1354,1355,1356,1357,1358,1359,1360,1361,1362,1363,1364,1365,1366,1367,1368,1369,1370,1371,1372,1373,1374,1375,1376,1377,1378,1379,1380,1381,1382,1383,1384,1385,1386,1387,1388,1389,1390,1391,1392,1393,1394,1395,1396,1397,1398,1399,1400,1401,1402,1403,1404,1405,1406,1407,1408,1409,1410,1411,1412,1413,1414,1415,1416,1417,1418,1419,1420,1421,1422,1423,1424,1425,1426,1427,1428,1429,1430,1431,1432,1433,1434,1435,1436,1437,1438,1439,1440,1441,1442,1443,1444,1445,1446,1447,1448,1449,1450,1451,1452,1453,1454,1455,1456,1457,1458,1459,1460,1461,1462,1463,1464,1465,1466,1467,1468,1469,1470,1471,1472,1473,1474,1475,1476,1477,1478,1479,1480,1481,1482,1483,1484,1485,1486,1487,1488,1489,1490,1491,1492,1493,1494,1495,1496,1497,1498,1499,1500,1501,1502,1503,1504,1505,1506,1507,1508,1509,1510,1511,1512,1513,1514,1515,1516,1517,1518,1519,1520,1521,1522,1523,1524,1525,1526,1527,1528,1529,1530,1531,1532,1533,1534,1535,1536,1537,1538,1539,1540,1541,1542,1543,1544,1545,1546,1547,1548,1549,1550,1551,1552,1553,1554,1555,1556,1557,1558,1559,1560,1561,1562,1563,1564,1565,1566,1567,1568,1569,1570,1571,1572,1573,1574,1575,1576,1577,1578,1579,1580,1581,1582,1583,1584,1585,1586,1587,1588,1589,1590,1591,1592,1593,1594,1595,1596,1597,1598,1599,1600,1601,1602,1603,1604,1605,1606,1607,1608,1609,1610,1611,1612,1613,1614,1615,1616,1617,1618,1619,1620,1621,1622,1623,1624,1625,1626,1627,1628,1629,1630,1631,1632,1633,1634,1635,1636,1637,1638,1639,1640,1641,1642,1643,1644,1645,1646,1647,1648,1649,1650,1651,1652,1653,1654,1655,1656,1657,1658,1659,1660,1661,1662,1663,1664,1665,1666,1667,1668,1669,1670,1671,1672,1673,1674,1675,1676,1677,1678,1679,1680,1681,1682,1683,1684,1685,1686,1687,1688,1689,1690,1691,1692,1693,1694,1695,1696,1697,1698,1699,1700,1701,1702,1703,1704,1705,1706,1707,1708,1709,1710,1711,1712,1713,1714,1715,1716,1717,1718,1719,1720,1721,1722,1723,1724,1725,1726,1727,1728,1729,1730,1731,1732,1733,1734,1735,1736,1737,1738,1739,1740,1741,1742,1743,1744,1745,1746,1747,1748,1749,1750,1751,1752,1753,1754,1755,1756,1757,1758,1759,1760,1761,1762,1763,1764,1765,1766,1767,1768,1769,1770,1771,1772,1773,1774,1775,1776,1777,1778,1779,1780,1781,1782,1783,1784,1785,1786,1787,1788,1789,1790,1791,1792,1793,1794,1795,1796,1797,1798,1799,1800,1801,1802,1803,1804,1805,1806,1807,1808,1809,1810,1811,1812,1813,1814,1815,1816,1817,1818,1819,1820,1821,1822,1823,1824,1825,1826,1827,1828,1829,1830,1831,1832,1833,1834,1835,1836,1837,1838,1839,1840,1841,1842,1843,1844,1845,1846,1847,1848,1849,1850,1851,1852,1853,1854,1855,1856,1857,1858,1859,1860,1861,1862,1863,1864,1865,1866,1867,1868,1869,1870,1871,1872,1873,1874,1875,1876,1877,1878,1879,1880,1881,1882,1883,1884,1885,1886,1887,1888,1889,1890,1891,1892,1893,1894,1895,1896,1897,1898,1899,1900,1901,1902,1903,1904,1905,1906,1907,1908,1909,1910,1911,1912,1913,1914,1915,1916,1917,1918,1919,1920,1921,1922,1923,1924,1925,1926,1927,1928,1929,1930,1931,1932,1933,1934,1935,1936,1937,1938,1939,1940,1941,1942,1943,1944,1945,1946,1947,1948,1949,1950,1951,1952,1953,1954,1955,1956,1957,1958,1959,1960,1961,1962,1963,1964,1965,1966,1967,1968,1969,1970,1971,1972,1973,1974,1975,1976,1977,1978,1979,1980,1981,1982,1983,1984,1985,1986,1987,1988,1989,1990,1991,1992,1993,1994,1995,1996,1997,1998,1999,2000,2001,2002,2003,2004,2005,2006,2007,2008,2009,2010,2011,2012,2013,2014,2015,2016,2017,2018,2019,2020,2021,2022,2023,2024,2025,2026,2027,2028,2029,2030,2031,2032,2033,2034,2035,2036,2037,2038,2039,2040,2041,2042,2043,2044,2045,2046,2047,2048,2049,2050,2051,2052,2053,2054,2055,2056,2057,2058,2059,2060,2061,2062,2063,2064,2065,2066,2067,2068,2069,2070,2071,2072,2073,2074,2075,2076,2077,2078,2079,2080,2081,2082,2083,2084,2085,2086,2087,2088,2089,2090,2091,2092,2093,2094,2095,2096,2097,2098,2099,2100,2101,2102,2103,2104,2105,2106,2107,2108,2109,2110,2111,2112,2113,2114,2115,2116,2117,2118,2119,2120,2121,2122,2123,2124,2125,2126,2127,2128,2129,2130,2131,2132,2133,2134,2135,2136,2137,2138,2139,2140,2141,2142,2143,2144,2145,2146,2147,2148,2149,2150,2151,2152,2153,2154,2155,2156,2157,2158,2159,2160,2161,2162,2163,2164,2165,2166,2167,2168,2169,2170,2171,2172,2173,2174,2175,2176,2177,2178,2179,2180,2181,2182,2183,2184,2185,2186,2187,2188,2189,2190,2191,2192,2193,2194,2195,2196,2197,2198,2199,2200,2201,2202,2203,2204,2205,2206,2207,2208,2209,2210,2211,2212,2213,2214,2215,2216,2217,2218,2219,2220,2221,2222,2223,2224,2225,2226,2227,2228,2229,2230,2231,2232,2233,2234,2235,2236,2237,2238,2239,2240,2241,2242,2243,2244,2245,2246,2247,2248,2249,2250,2251,2252,2253,2254,2255,2256,2257,2258,2259,2260,2261,2262,2263,2264,2265,2266,2267,2268,2269,2270,2271,2272,2273,2274,2275,2276,2277,2278,2279,2280,2281,2282,2283,2284,2285,2286,2287,2288,2289,2290,2291,2292,2293,2294,2295,2296,2297,2298,2299,2300,2301,2302,2303,2304,2305,2306,2307,2308,2309,2310,2311,2312,2313,2314,2315,2316,2317,2318,2319,2320,2321,2322,2323,2324,2325,2326,2327,2328,2329,2330,2331,2332,2333,2334,2335,2336,2337,2338,2339,2340,2341,2342,2343,2344,2345,2346,2347,2348,2349,2350,2351,2352,2353,2354,2355,2356,2357,2358,2359,2360,2361,2362,2363,2364,2365,2366,2367,2368,2369,2370,2371,2372,2373,2374,2375,2376,2377,2378,2379,2380,2381,2382,2383,2384,2385,2386,2387,2388,2389,2390,2391,2392,2393,2394,2395,2396,2397,2398,2399,2400,2401,2402,2403,2404,2405,2406,2407,2408,2409,2410,2411,2412,2413,2414,2415,2416,2417,2418,2419,2420,2421,2422,2423,2424,2425,2426,2427,2428,2429,2430,2431,2432,2433,2434,2435,2436,2437,2438,2439,2440,2441,2442,2443,2444,2445,2446,2447,2448,2449,2450,2451,2452,2453,2454,2455,2456,2457,2458,2459,2460,2461,2462,2463,2464,2465,2466,2467,2468,2469,2470,2471,2472,2473,2474,2475,2476,2477,2478,2479,2480,2481,2482,2483,2484,2485,2486,2487,2488,2489,2490,2491,2492,2493,2494,2495,2496,2497,2498,2499,2500,2501,2502,2503,2504,2505,2506,2507,2508,2509,2510,2511,2512,2513,2514,2515,2516,2517,2518,2519,2520,2521,2522,2523,2524,2525,2526,2527,2528,2529,2530,2531,2532,2533,2534,2535,2536,2537,2538,2539,2540,2541,2542,2543,2544,2545,2546,2547,2548,2549,2550,2551,2552,2553,2554,2555,2556,2557,2558,2559,2560,2561,2562,2563,2564,2565,2566,2567,2568,2569,2570,2571,2572,2573,2574,2575,2576,2577,2578,2579,2580,2581,2582,2583,2584,2585,2586,2587,2588,2589,2590,2591,2592,2593,2594,2595,2596,2597,2598,2599,2600,2601,2602,2603,2604,2605,2606,2607,2608,2609,2610,2611,2612,2613,2614,2615,2616,2617,2618,2619,2620,2621,2622,2623,2624,2625,2626,2627,2628,2629,2630,2631,2632,2633,2634,2635,2636,2637,2638,2639,2640,2641,2642,2643,2644,2645,2646,2647,2648,2649,2650,2651,2652,2653,2654,2655,2656,2657,2658,2659,2660,2661,2662,2663,2664,2665,2666,2667,2668,2669,2670,2671,2672,2673,2674,2675,2676,2677,2678,2679,2680,2681,2682,2683,2684,2685,2686,2687,2688,2689,2690,2691,2692,2693,2694,2695,2696,2697,2698,2699,2700,2701,2702,2703,2704,2705,2706,2707,2708,2709,2710,2711,2712,2713,2714,2715,2716,2717,2718,2719,2720,2721,2722,2723,2724,2725,2726,2727,2728,2729,2730,2731,2732,2733,2734,2735,2736,2737,2738,2739,2740,2741,2742,2743,2744,2745,2746,2747,2748,2749,2750,2751,2752,2753,2754,2755,2756,2757,2758,2759,2760,2761,2762,2763,2764,2765,2766,2767,2768,2769,2770,2771,2772,2773,2774,2775,2776,2777,2778,2779,2780,2781,2782,2783,2784,2785,2786,2787,2788,2789,2790,2791,2792,2793,2794,2795,2796,2797,2798,2799,2800,2801,2802,2803,2804,2805,2806,2807,2808,2809,2810,2811,2812,2813,2814,2815,2816,2817,2818,2819,2820,2821,2822,2823,2824,2825,2826,2827,2828,2829,2830,2831,2832,2833,2834,2835,2836,2837,2838,2839,2840,2841,2842,2843,2844,2845,2846,2847,2848,2849,2850,2851,2852,2853,2854,2855,2856,2857,2858,2859,2860,2861,2862,2863,2864,2865,2866,2867,2868,2869,2870,2871,2872,2873,2874,2875,2876,2877,2878,2879,2880,2881,2882,2883,2884,2885,2886,2887,2888,2889,2890,2891,2892,2893,2894,2895,2896,2897,2898,2899,2900,2901,2902,2903,2904,2905,2906,2907,2908,2909,2910,2911,2912,2913,2914,2915,2916,2917,2918,2919,2920,2921,2922,2923,2924,2925,2926,2927,2928,2929,2930,2931,2932,2933,2934,2935,2936,2937,2938,2939,2940,2941,2942,2943,2944,2945,2946,2947,2948,2949,2950,2951,2952,2953,2954,2955,2956,2957,2958,2959,2960,2961,2962,2963,2964,2965,2966,2967,2968,2969,2970,2971,2972,2973,2974,2975,2976,2977,2978,2979,2980,2981,2982,2983,2984,2985,2986,2987,2988,2989,2990,2991,2992,2993,2994,2995,2996,2997,2998,2999,3000,3001,3002,3003,3004,3005,3006,3007,3008,3009,3010,3011,3012,3013,3014,3015,3016,3017,3018,3019,3020,3021,3022,3023,3024,3025,3026,3027,3028,3029,3030,3031,3032,3033,3034,3035,3036,3037,3038,3039,3040,3041,3042,3043,3044,3045,3046,3047,3048,3049,3050,3051,3052,3053,3054,3055,3056,3057,3058,3059,3060,3061,3062,3063,3064,3065,3066,3067,3068,3069,3070,3071,3072,3073,3074,3075,3076,3077,3078,3079,3080,3081,3082,3083,3084,3085,3086,3087,3088,3089,3090,3091,3092,3093,3094,3095,3096,3097,3098,3099,3100,3101,3102,3103,3104,3105,3106,3107,3108,3109,3110,3111,3112,3113,3114,3115,3116,3117,3118,3119,3120,3121,3122,3123,3124,3125,3126,3127,3128,3129,3130,3131,3132,3133,3134,3135,3136,3137,3138,3139,3140,3141,3142,3143,3144,3145,3146,3147,3148,3149,3150,3151,3152,3153,3154,3155,3156,3157,3158,3159,3160,3161,3162,3163,3164,3165,3166,3167,3168,3169,3170,3171,3172,3173,3174,3175,3176,3177,3178,3179,3180,3181,3182,3183,3184,3185,3186,3187,3188,3189,3190,3191,3192,3193,3194,3195,3196,3197,3198,3199,3200,3201,3202,3203,3204,3205,3206,3207,3208,3209,3210,3211,3212,3213,3214,3215,3216,3217,3218,3219,3220,3221,3222,3223,3224,3225,3226,3227,3228,3229,3230,3231,3232,3233,3234,3235,3236,3237,3238,3239,3240,3241,3242,3243,3244,3245,3246,3247,3248,3249,3250,3251,3252,3253,3254,3255,3256,3257,3258,3259,3260,3261,3262,3263,3264,3265,3266,3267,3268,3269,3270,3271,3272,3273,3274,3275,3276,3277,3278,3279,3280,3281,3282,3283,3284,3285,3286,3287,3288,3289,3290,3291,3292,3293,3294,3295,3296,3297,3298,3299,3300,3301,3302,3303,3304,3305,3306,3307,3308,3309,3310,3311,3312,3313,3314,3315,3316,3317,3318,3319,3320,3321,3322,3323,3324,3325,3326,3327,3328,3329,3330,3331,3332,3333,3334,3335,3336,3337,3338,3339,3340,3341,3342,3343,3344,3345,3346,3347,3348,3349,3350,3351,3352,3353,3354,3355,3356,3357,3358,3359,3360,3361,3362,3363,3364,3365,3366,3367,3368,3369,3370,3371,3372,3373,3374,3375,3376,3377,3378,3379,3380,3381,3382,3383,3384,3385,3386,3387,3388,3389,3390,3391,3392,3393,3394,3395,3396,3397,3398,3399,3400,3401,3402,3403,3404,3405,3406,3407,3408,3409,3410,3411,3412,3413,3414,3415,3416,3417,3418,3419,3420,3421,3422,3423,3424,3425,3426,3427,3428,3429,3430,3431,3432,3433,3434,3435,3436,3437,3438,3439,3440,3441,3442,3443,3444,3445,3446,3447,3448,3449,3450,3451,3452,3453,3454,3455,3456,3457,3458,3459,3460,3461,3462,3463,3464,3465,3466,3467,3468,3469,3470,3471,3472,3473,3474,3475,3476,3477,3478,3479,3480,3481,3482,3483,3484,3485,3486,3487,3488,3489,3490,3491,3492,3493,3494,3495,3496,3497,3498,3499,3500,3501,3502,3503,3504,3505,3506,3507,3508,3509,3510,3511,3512,3513,3514,3515,3516,3517,3518,3519,3520,3521,3522,3523,3524,3525,3526,3527,3528,3529,3530,3531,3532,3533,3534,3535,3536,3537,3538,3539,3540,3541,3542,3543,3544,3545,3546,3547,3548,3549,3550,3551,3552,3553,3554,3555,3556,3557,3558,3559,3560,3561,3562,3563,3564,3565,3566,3567,3568,3569,3570,3571,3572,3573,3574,3575,3576,3577,3578,3579,3580,3581,3582,3583,3584,3585,3586,3587,3588,3589,3590,3591,3592,3593,3594,3595,3596,3597,3598,3599,3600,3601,3602,3603,3604,3605,3606,3607,3608,3609,3610,3611,3612,3613,3614,3615,3616,3617,3618,3619,3620,3621,3622,3623,3624,3625,3626,3627,3628,3629,3630,3631,3632,3633,3634,3635,3636,3637,3638,3639,3640,3641,3642,3643,3644,3645,3646,3647,3648,3649,3650,3651,3652,3653,3654,3655,3656,3657,3658,3659,3660,3661,3662,3663,3664,3665,3666,3667,3668,3669,3670,3671,3672,3673,3674,3675,3676,3677,3678,3679,3680,3681,3682,3683,3684,3685,3686,3687,3688,3689,3690,3691,3692,3693,3694,3695,3696,3697,3698,3699,3700,3701,3702,3703,3704,3705,3706,3707,3708,3709,3710,3711,3712,3713,3714,3715,3716,3717,3718,3719,3720,3721,3722,3723,3724,3725,3726,3727,3728,3729,3730,3731,3732,3733,3734,3735,3736,3737,3738,3739,3740,3741,3742,3743,3744,3745,3746,3747,3748,3749,3750,3751,3752,3753,3754,3755,3756,3757,3758,3759,3760,3761,3762,3763,3764,3765,3766,3767,3768,3769,3770,3771,3772,3773,3774,3775,3776,3777,3778,3779,3780,3781,3782,3783,3784,3785,3786,3787,3788,3789,3790,3791,3792,3793,3794,3795,3796,3797,3798,3799,3800,3801,3802,3803,3804,3805,3806,3807,3808,3809,3810,3811,3812,3813,3814,3815,3816,3817,3818,3819,3820,3821,3822,3823,3824,3825,3826,3827,3828,3829,3830,3831,3832,3833,3834,3835,3836,3837,3838,3839,3840,3841,3842,3843,3844,3845,3846,3847,3848,3849,3850,3851,3852,3853,3854,3855,3856,3857,3858,3859,3860,3861,3862,3863,3864,3865,3866,3867,3868,3869,3870,3871,3872,3873,3874,3875,3876,3877,3878,3879,3880,3881,3882,3883,3884,3885,3886,3887,3888,3889,3890,3891,3892,3893,3894,3895,3896,3897,3898,3899,3900,3901,3902,3903,3904,3905,3906,3907,3908,3909,3910,3911,3912,3913,3914,3915,3916,3917,3918,3919,3920,3921,3922,3923,3924,3925,3926,3927,3928,3929,3930,3931,3932,3933,3934,3935,3936,3937,3938,3939,3940,3941,3942,3943,3944,3945,3946,3947,3948,3949,3950,3951,3952,3953,3954,3955,3956,3957,3958,3959,3960,3961,3962,3963,3964,3965,3966,3967,3968,3969,3970,3971,3972,3973,3974,3975,3976,3977,3978,3979,3980,3981,3982,3983,3984,3985,3986,3987,3988,3989,3990,3991,3992,3993,3994,3995,3996,3997,3998,3999,4000,4001,4002,4003,4004,4005,4006,4007,4008,4009,4010,4011,4012,4013,4014,4015,4016,4017,4018,4019,4020,4021,4022,4023,4024,4025,4026,4027,4028,4029,4030,4031,4032,4033,4034,4035,4036,4037,4038,4039,4040,4041,4042,4043,4044,4045,4046,4047,4048,4049,4050,4051,4052,4053,4054,4055,4056,4057,4058,4059,4060,4061,4062,4063,4064,4065,4066,4067,4068,4069,4070,4071,4072,4073,4074,4075,4076,4077,4078,4079,4080,4081,4082,4083,4084,4085,4086,4087,4088,4089,4090,4091,4092,4093,4094,4095,4096,4097,4098,4099,4100,4101,4102,4103,4104,4105,4106,4107,4108,4109,4110,4111,4112,4113,4114,4115,4116,4117,4118,4119,4120,4121,4122,4123,4124,4125,4126,4127,4128,4129,4130,4131,4132,4133,4134,4135,4136,4137,4138,4139,4140,4141,4142,4143,4144,4145,4146,4147,4148,4149,4150,4151,4152,4153,4154,4155,4156,4157,4158,4159,4160,4161,4162,4163,4164,4165,4166,4167,4168,4169,4170,4171,4172,4173,4174,4175,4176,4177,4178,4179,4180,4181,4182,4183,4184,4185,4186,4187,4188,4189,4190,4191,4192,4193,4194,4195,4196,4197,4198,4199,4200,4201,4202,4203,4204,4205,4206,4207,4208,4209,4210,4211,4212,4213,4214,4215,4216,4217,4218,4219,4220,4221,4222,4223,4224,4225,4226,4227,4228,4229,4230,4231,4232,4233,4234,4235,4236,4237,4238,4239,4240,4241,4242,4243,4244,4245,4246,4247,4248,4249,4250,4251,4252,4253,4254,4255,4256,4257,4258,4259,4260,4261,4262,4263,4264,4265,4266,4267,4268,4269,4270,4271,4272,4273,4274,4275,4276,4277,4278,4279,4280,4281,4282,4283,4284,4285,4286,4287,4288,4289,4290,4291,4292,4293,4294,4295,4296,4297,4298,4299,4300,4301,4302,4303,4304,4305,4306,4307,4308,4309,4310,4311,4312,4313,4314,4315,4316,4317,4318,4319,4320,4321,4322,4323,4324,4325,4326,4327,4328,4329,4330,4331,4332,4333,4334,4335,4336,4337,4338,4339,4340,4341,4342,4343,4344,4345,4346,4347,4348,4349,4350,4351,4352,4353,4354,4355,4356,4357,4358,4359,4360,4361,4362,4363,4364,4365,4366,4367,4368,4369,4370,4371,4372,4373,4374,4375,4376,4377,4378,4379,4380,4381,4382,4383,4384,4385,4386,4387,4388,4389,4390,4391,4392,4393,4394,4395,4396,4397,4398,4399,4400,4401,4402,4403,4404,4405,4406,4407,4408,4409,4410,4411,4412,4413,4414,4415,4416,4417,4418,4419,4420,4421,4422,4423,4424,4425,4426,4427,4428,4429,4430,4431,4432,4433,4434,4435,4436,4437,4438,4439,4440,4441,4442,4443,4444,4445,4446,4447,4448,4449,4450,4451,4452,4453,4454,4455,4456,4457,4458,4459,4460,4461,4462,4463,4464,4465,4466,4467,4468,4469,4470,4471,4472,4473,4474,4475,4476,4477,4478,4479,4480,4481,4482,4483,4484,4485,4486,4487,4488,4489,4490,4491,4492,4493,4494,4495,4496,4497,4498,4499,4500,4501,4502,4503,4504,4505,4506,4507,4508,4509,4510,4511,4512,4513,4514,4515,4516,4517,4518,4519,4520,4521,4522,4523,4524,4525,4526,4527,4528,4529,4530,4531,4532,4533,4534,4535,4536,4537,4538,4539,4540,4541,4542,4543,4544,4545,4546,4547,4548,4549,4550,4551,4552,4553,4554,4555,4556,4557,4558,4559,4560,4561,4562,4563,4564,4565,4566,4567,4568,4569,4570,4571,4572,4573,4574,4575,4576,4577,4578,4579,4580,4581,4582,4583,4584,4585,4586,4587,4588,4589,4590,4591,4592,4593,4594,4595,4596,4597,4598,4599,4600,4601,4602,4603,4604,4605,4606,4607,4608,4609,4610,4611,4612,4613,4614,4615,4616,4617,4618,4619,4620,4621,4622,4623,4624,4625,4626,4627,4628,4629,4630,4631,4632,4633,4634,4635,4636,4637,4638,4639,4640,4641,4642,4643,4644,4645,4646,4647,4648,4649,4650,4651,4652,4653,4654,4655,4656,4657,4658,4659,4660,4661,4662,4663,4664,4665,4666,4667,4668,4669,4670,4671,4672,4673,4674,4675,4676,4677,4678,4679,4680,4681,4682,4683,4684,4685,4686,4687,4688,4689,4690,4691,4692,4693,4694,4695,4696,4697,4698,4699,4700,4701,4702,4703,4704,4705,4706,4707,4708,4709,4710,4711,4712,4713,4714,4715,4716,4717,4718,4719,4720,4721,4722,4723,4724,4725,4726,4727,4728,4729,4730,4731,4732,4733,4734,4735,4736,4737,4738,4739,4740,4741,4742,4743,4744,4745,4746,4747,4748,4749,4750,4751,4752,4753,4754,4755,4756,4757,4758,4759,4760,4761,4762,4763,4764,4765,4766,4767,4768,4769,4770,4771,4772,4773,4774,4775,4776,4777,4778,4779,4780,4781,4782,4783,4784,4785,4786,4787,4788,4789,4790,4791,4792,4793,4794,4795,4796,4797,4798,4799,4800,4801,4802,4803,4804,4805,4806,4807,4808,4809,4810,4811,4812,4813,4814,4815,4816,4817,4818,4819,4820,4821,4822,4823,4824,4825,4826,4827,4828,4829,4830,4831,4832,4833,4834,4835,4836,4837,4838,4839,4840,4841,4842,4843,4844,4845,4846,4847,4848,4849,4850,4851,4852,4853,4854,4855,4856,4857,4858,4859,4860,4861,4862,4863,4864,4865,4866,4867,4868,4869,4870,4871,4872,4873,4874,4875,4876,4877,4878,4879,4880,4881,4882,4883,4884,4885,4886,4887,4888,4889,4890,4891,4892,4893,4894,4895,4896,4897,4898,4899,4900,4901,4902,4903,4904,4905,4906,4907,4908,4909,4910,4911,4912,4913,4914,4915,4916,4917,4918,4919,4920,4921,4922,4923,4924,4925,4926,4927,4928,4929,4930,4931,4932,4933,4934,4935,4936,4937,4938,4939,4940,4941,4942,4943,4944,4945,4946,4947,4948,4949,4950,4951,4952,4953,4954,4955,4956,4957,4958,4959,4960,4961,4962,4963,4964,4965,4966,4967,4968,4969,4970,4971,4972,4973,4974,4975,4976,4977,4978,4979,4980,4981,4982,4983,4984,4985,4986,4987,4988,4989,4990,4991,4992,4993,4994,4995,4996,4997,4998,4999,5000,5001,5002,5003,5004,5005,5006,5007,5008,5009,5010,5011,5012,5013,5014,5015,5016,5017,5018,5019,5020,5021,5022,5023,5024,5025,5026,5027,5028,5029,5030,5031,5032,5033,5034,5035,5036,5037,5038,5039,5040,5041,5042,5043,5044,5045,5046,5047,5048,5049,5050,5051,5052,5053,5054,5055,5056,5057,5058,5059,5060,5061,5062,5063,5064,5065,5066,5067,5068,5069,5070,5071,5072,5073,5074,5075,5076,5077,5078,5079,5080,5081,5082,5083,5084,5085,5086,5087,5088,5089,5090,5091,5092,5093,5094,5095,5096,5097,5098,5099,5100,5101,5102,5103,5104,5105,5106,5107,5108,5109,5110,5111,5112,5113,5114,5115,5116,5117,5118,5119,5120,5121,5122,5123,5124,5125,5126,5127,5128,5129,5130,5131,5132,5133,5134,5135,5136,5137,5138,5139,5140,5141,5142,5143,5144,5145,5146,5147,5148,5149,5150,5151,5152,5153,5154,5155,5156,5157,5158,5159,5160,5161,5162,5163,5164,5165,5166,5167,5168,5169,5170,5171,5172,5173,5174,5175,5176,5177,5178,5179,5180,5181,5182,5183,5184,5185,5186,5187,5188,5189,5190,5191,5192,5193,5194,5195,5196,5197,5198,5199,5200,5201,5202,5203,5204,5205,5206,5207,5208,5209,5210,5211,5212,5213,5214,5215,5216,5217,5218,5219,5220,5221,5222,5223,5224,5225,5226,5227,5228,5229,5230,5231,5232,5233,5234,5235,5236,5237,5238,5239,5240,5241,5242,5243,5244,5245,5246,5247,5248,5249,5250,5251,5252,5253,5254,5255,5256,5257,5258,5259,5260,5261,5262,5263,5264,5265,5266,5267,5268,5269,5270,5271,5272,5273,5274,5275,5276,5277,5278,5279,5280,5281,5282,5283,5284,5285,5286,5287,5288,5289,5290,5291,5292,5293,5294,5295,5296,5297,5298,5299,5300,5301,5302,5303,5304,5305,5306,5307,5308,5309,5310,5311,5312,5313,5314,5315,5316,5317,5318,5319,5320,5321,5322,5323,5324,5325,5326,5327,5328,5329,5330,5331,5332,5333,5334,5335,5336,5337,5338,5339,5340,5341,5342,5343,5344,5345,5346,5347,5348,5349,5350,5351,5352,5353,5354,5355,5356,5357,5358,5359,5360,5361,5362,5363,5364,5365,5366,5367,5368,5369,5370,5371,5372,5373,5374,5375,5376,5377,5378,5379,5380,5381,5382,5383,5384,5385,5386,5387,5388,5389,5390,5391,5392,5393,5394,5395,5396,5397,5398,5399,5400,5401,5402,5403,5404,5405,5406,5407,5408,5409,5410,5411,5412,5413,5414,5415,5416,5417,5418,5419,5420,5421,5422,5423,5424,5425,5426,5427,5428,5429,5430,5431,5432,5433,5434,5435,5436,5437,5438,5439,5440,5441,5442,5443,5444,5445,5446,5447,5448,5449,5450,5451,5452,5453,5454,5455,5456,5457,5458,5459,5460,5461,5462,5463,5464,5465,5466,5467,5468,5469,5470,5471,5472,5473,5474,5475,5476,5477,5478,5479,5480,5481,5482,5483,5484,5485,5486,5487,5488,5489,5490,5491,5492,5493,5494,5495,5496,5497,5498,5499,5500,5501,5502,5503,5504,5505,5506,5507,5508,5509,5510,5511,5512,5513,5514,5515,5516,5517,5518,5519,5520,5521,5522,5523,5524,5525,5526,5527,5528,5529,5530,5531,5532,5533,5534,5535,5536,5537,5538,5539,5540,5541,5542,5543,5544,5545,5546,5547,5548,5549,5550,5551,5552,5553,5554,5555,5556,5557,5558,5559,5560,5561,5562,5563,5564,5565,5566,5567,5568,5569,5570,5571,5572,5573,5574,5575,5576,5577,5578,5579,5580,5581,5582,5583,5584,5585,5586,5587,5588,5589,5590,5591,5592,5593,5594,5595,5596,5597,5598,5599,5600,5601,5602,5603,5604,5605,5606,5607,5608,5609,5610,5611,5612,5613,5614,5615,5616,5617,5618,5619,5620,5621,5622,5623,5624,5625,5626,5627,5628,5629,5630,5631,5632,5633,5634,5635,5636,5637,5638,5639,5640,5641,5642,5643,5644,5645,5646,5647,5648,5649,5650,5651,5652,5653,5654,5655,5656,5657,5658,5659,5660,5661,5662,5663,5664,5665,5666,5667,5668,5669,5670,5671,5672,5673,5674,5675,5676,5677,5678,5679,5680,5681,5682,5683,5684,5685,5686,5687,5688,5689,5690,5691,5692,5693,5694,5695,5696,5697,5698,5699,5700,5701,5702,5703,5704,5705,5706,5707,5708,5709,5710,5711,5712,5713,5714,5715,5716,5717,5718,5719,5720,5721,5722,5723,5724,5725,5726,5727,5728,5729,5730,5731,5732,5733,5734,5735,5736,5737,5738,5739,5740,5741,5742,5743,5744,5745,5746,5747,5748,5749,5750,5751,5752,5753,5754,5755,5756,5757,5758,5759,5760,5761,5762,5763,5764,5765,5766,5767,5768,5769,5770,5771,5772,5773,5774,5775,5776,5777,5778,5779,5780,5781,5782,5783,5784,5785,5786,5787,5788,5789,5790,5791,5792,5793,5794,5795,5796,5797,5798,5799,5800,5801,5802,5803,5804,5805,5806,5807,5808,5809,5810,5811,5812,5813,5814,5815,5816,5817,5818,5819,5820,5821,5822,5823,5824,5825,5826,5827,5828,5829,5830,5831,5832,5833,5834,5835,5836,5837,5838,5839,5840,5841,5842,5843,5844,5845,5846,5847,5848,5849,5850,5851,5852,5853,5854,5855,5856,5857,5858,5859,5860,5861,5862,5863,5864,5865,5866,5867,5868,5869,5870,5871,5872,5873,5874,5875,5876,5877,5878,5879,5880,5881,5882,5883,5884,5885,5886,5887,5888,5889,5890,5891,5892,5893,5894,5895,5896,5897,5898,5899,5900,5901,5902,5903,5904,5905,5906,5907,5908,5909,5910,5911,5912,5913,5914,5915,5916,5917,5918,5919,5920,5921,5922,5923,5924,5925,5926,5927,5928,5929,5930,5931,5932,5933,5934,5935,5936,5937,5938,5939,5940,5941,5942,5943,5944,5945,5946,5947,5948,5949,5950,5951,5952,5953,5954,5955,5956,5957,5958,5959,5960,5961,5962,5963,5964,5965,5966,5967,5968,5969,5970,5971,5972,5973,5974,5975,5976,5977,5978,5979,5980,5981,5982,5983,5984,5985,5986,5987,5988,5989,5990,5991,5992,5993,5994,5995,5996,5997,5998,5999,6000,6001,6002,6003,6004,6005,6006,6007,6008,6009,6010,6011,6012,6013,6014,6015,6016,6017,6018,6019,6020,6021,6022,6023,6024,6025,6026,6027,6028,6029,6030,6031,6032,6033,6034,6035,6036,6037,6038,6039,6040,6041,6042,6043,6044,6045,6046,6047,6048,6049,6050,6051,6052,6053,6054,6055,6056,6057,6058,6059,6060,6061,6062,6063,6064,6065,6066,6067,6068,6069,6070,6071,6072,6073,6074,6075,6076,6077,6078,6079,6080,6081,6082,6083,6084,6085,6086,6087,6088,6089,6090,6091,6092,6093,6094,6095,6096,6097,6098,6099,6100,6101,6102,6103,6104,6105,6106,6107,6108,6109,6110,6111,6112,6113,6114,6115,6116,6117,6118,6119,6120,6121,6122,6123,6124,6125,6126,6127,6128,6129,6130,6131,6132,6133,6134,6135,6136,6137,6138,6139,6140,6141,6142,6143,6144,6145,6146,6147,6148,6149,6150,6151,6152,6153,6154,6155,6156,6157,6158,6159,6160,6161,6162,6163,6164,6165,6166,6167,6168,6169,6170,6171,6172,6173,6174,6175,6176,6177,6178,6179,6180,6181,6182,6183,6184,6185,6186,6187,6188,6189,6190,6191,6192,6193,6194,6195,6196,6197,6198,6199,6200,6201,6202,6203,6204,6205,6206,6207,6208,6209,6210,6211,6212,6213,6214,6215,6216,6217,6218,6219,6220,6221,6222,6223,6224,6225,6226,6227,6228,6229,6230,6231,6232,6233,6234,6235,6236,6237,6238,6239,6240,6241,6242,6243,6244,6245,6246,6247,6248,6249,6250,6251,6252,6253,6254,6255,6256,6257,6258,6259,6260,6261,6262,6263,6264,6265,6266,6267,6268,6269,6270,6271,6272,6273,6274,6275,6276,6277,6278,6279,6280,6281,6282,6283,6284,6285,6286,6287,6288,6289,6290,6291,6292,6293,6294,6295,6296,6297,6298,6299,6300,6301,6302,6303,6304,6305,6306,6307,6308,6309,6310,6311,6312,6313,6314,6315,6316,6317,6318,6319,6320,6321,6322,6323,6324,6325,6326,6327,6328,6329,6330,6331,6332,6333,6334,6335,6336,6337,6338,6339,6340,6341,6342,6343,6344,6345,6346,6347,6348,6349,6350,6351,6352,6353,6354,6355,6356,6357,6358,6359,6360,6361,6362,6363,6364,6365,6366,6367,6368,6369,6370,6371,6372,6373,6374,6375,6376,6377,6378,6379,6380,6381,6382,6383,6384,6385,6386,6387,6388,6389,6390,6391,6392,6393,6394,6395,6396,6397,6398,6399,6400,6401,6402,6403,6404,6405,6406,6407,6408,6409,6410,6411,6412,6413,6414,6415,6416,6417,6418,6419,6420,6421,6422,6423,6424,6425,6426,6427,6428,6429,6430,6431,6432,6433,6434,6435,6436,6437,6438,6439,6440,6441,6442,6443,6444,6445,6446,6447,6448,6449,6450,6451,6452,6453,6454,6455,6456,6457,6458,6459,6460,6461,6462,6463,6464,6465,6466,6467,6468,6469,6470,6471,6472,6473,6474,6475,6476,6477,6478,6479,6480,6481,6482,6483,6484,6485,6486,6487,6488,6489,6490,6491,6492,6493,6494,6495,6496,6497,6498,6499,6500,6501,6502,6503,6504,6505,6506,6507,6508,6509,6510,6511,6512,6513,6514,6515,6516,6517,6518,6519,6520,6521,6522,6523,6524,6525,6526,6527,6528,6529,6530,6531,6532,6533,6534,6535,6536,6537,6538,6539,6540,6541,6542,6543,6544,6545,6546,6547,6548,6549,6550,6551,6552,6553,6554,6555,6556,6557,6558,6559,6560,6561,6562,6563,6564,6565,6566,6567,6568,6569,6570,6571,6572,6573,6574,6575,6576,6577,6578,6579,6580,6581,6582,6583,6584,6585,6586,6587,6588,6589,6590,6591,6592,6593,6594,6595,6596,6597,6598,6599,6600,6601,6602,6603,6604,6605,6606,6607,6608,6609,6610,6611,6612,6613,6614,6615,6616,6617,6618,6619,6620,6621,6622,6623,6624,6625,6626,6627,6628,6629,6630,6631,6632,6633,6634,6635,6636,6637,6638,6639,6640,6641,6642,6643,6644,6645,6646,6647,6648,6649,6650,6651,6652,6653,6654,6655,6656,6657,6658,6659,6660,6661,6662,6663,6664,6665,6666,6667,6668,6669,6670,6671,6672,6673,6674,6675,6676,6677,6678,6679,6680,6681,6682,6683,6684,6685,6686,6687,6688,6689,6690,6691,6692,6693,6694,6695,6696,6697,6698,6699,6700,6701,6702,6703,6704,6705,6706,6707,6708,6709,6710,6711,6712,6713,6714,6715,6716,6717,6718,6719,6720,6721,6722,6723,6724,6725,6726,6727,6728,6729,6730,6731,6732,6733,6734,6735,6736,6737,6738,6739,6740,6741,6742,6743,6744,6745,6746,6747,6748,6749,6750,6751,6752,6753,6754,6755,6756,6757,6758,6759,6760,6761,6762,6763,6764,6765,6766,6767,6768,6769,6770,6771,6772,6773,6774,6775,6776,6777,6778,6779,6780,6781,6782,6783,6784,6785,6786,6787,6788,6789,6790,6791,6792,6793,6794,6795,6796,6797,6798,6799,6800,6801,6802,6803,6804,6805,6806,6807,6808,6809,6810,6811,6812,6813,6814,6815,6816,6817,6818,6819,6820,6821,6822,6823,6824,6825,6826,6827,6828,6829,6830,6831,6832,6833,6834,6835,6836,6837,6838,6839,6840,6841,6842,6843,6844,6845,6846,6847,6848,6849,6850,6851,6852,6853,6854,6855,6856,6857,6858,6859,6860,6861,6862,6863,6864,6865,6866,6867,6868,6869,6870,6871,6872,6873,6874,6875,6876,6877,6878,6879,6880,6881,6882,6883,6884,6885,6886,6887,6888,6889,6890,6891,6892,6893,6894,6895,6896,6897,6898,6899,6900,6901,6902,6903,6904,6905,6906,6907,6908,6909,6910,6911,6912,6913,6914,6915,6916,6917,6918,6919,6920,6921,6922,6923,6924,6925,6926,6927,6928,6929,6930,6931,6932,6933,6934,6935,6936,6937,6938,6939,6940,6941,6942,6943,6944,6945,6946,6947,6948,6949,6950,6951,6952,6953,6954,6955,6956,6957,6958,6959,6960,6961,6962,6963,6964,6965,6966,6967,6968,6969,6970,6971,6972,6973,6974,6975,6976,6977,6978,6979,6980,6981,6982,6983,6984,6985,6986,6987,6988,6989,6990,6991,6992,6993,6994,6995,6996,6997,6998,6999,7000,7001,7002,7003,7004,7005,7006,7007,7008,7009,7010,7011,7012,7013,7014,7015,7016,7017,7018,7019,7020,7021,7022,7023,7024,7025,7026,7027,7028,7029,7030,7031,7032,7033,7034,7035,7036,7037,7038,7039,7040,7041,7042,7043,7044,7045,7046,7047,7048,7049,7050,7051,7052,7053,7054,7055,7056,7057,7058,7059,7060,7061,7062,7063,7064,7065,7066,7067,7068,7069,7070,7071,7072,7073,7074,7075,7076,7077,7078,7079,7080,7081,7082,7083,7084,7085,7086,7087,7088,7089,7090,7091,7092,7093,7094,7095,7096,7097,7098,7099,7100,7101,7102,7103,7104,7105,7106,7107,7108,7109,7110,7111,7112,7113,7114,7115,7116,7117,7118,7119,7120,7121,7122,7123,7124,7125,7126,7127,7128,7129,7130,7131,7132,7133,7134,7135,7136,7137,7138,7139,7140,7141,7142,7143,7144,7145,7146,7147,7148,7149,7150,7151,7152,7153,7154,7155,7156,7157,7158,7159,7160,7161,7162,7163,7164,7165,7166,7167,7168,7169,7170,7171,7172,7173,7174,7175,7176,7177,7178,7179,7180,7181,7182,7183,7184,7185,7186,7187,7188,7189,7190,7191,7192,7193,7194,7195,7196,7197,7198,7199,7200,7201,7202,7203,7204,7205,7206,7207,7208,7209,7210,7211,7212,7213,7214,7215,7216,7217,7218,7219,7220,7221,7222,7223,7224,7225,7226,7227,7228,7229,7230,7231,7232,7233,7234,7235,7236,7237,7238,7239,7240,7241,7242,7243,7244,7245,7246,7247,7248,7249,7250,7251,7252,7253,7254,7255,7256,7257,7258,7259,7260,7261,7262,7263,7264,7265,7266,7267,7268,7269,7270,7271,7272,7273,7274,7275,7276,7277,7278,7279,7280,7281,7282,7283,7284,7285,7286,7287,7288,7289,7290,7291,7292,7293,7294,7295,7296,7297,7298,7299,7300,7301,7302,7303,7304,7305,7306,7307,7308,7309,7310,7311,7312,7313,7314,7315,7316,7317,7318,7319,7320,7321,7322,7323,7324,7325,7326,7327,7328,7329,7330,7331,7332,7333,7334,7335,7336,7337,7338,7339,7340,7341,7342,7343,7344,7345,7346,7347,7348,7349,7350,7351,7352,7353,7354,7355,7356,7357,7358,7359,7360,7361,7362,7363,7364,7365,7366,7367,7368,7369,7370,7371,7372,7373,7374,7375,7376,7377,7378,7379,7380,7381,7382,7383,7384,7385,7386,7387,7388,7389,7390,7391,7392,7393,7394,7395,7396,7397,7398,7399,7400,7401,7402,7403,7404,7405,7406,7407,7408,7409,7410,7411,7412,7413,7414,7415,7416,7417,7418,7419,7420,7421,7422,7423,7424,7425,7426,7427,7428,7429,7430,7431,7432,7433,7434,7435,7436,7437,7438,7439,7440,7441,7442,7443,7444,7445,7446,7447,7448,7449,7450,7451,7452,7453,7454,7455,7456,7457,7458,7459,7460,7461,7462,7463,7464,7465,7466,7467,7468,7469,7470,7471,7472,7473,7474,7475,7476,7477,7478,7479,7480,7481,7482,7483,7484,7485,7486,7487,7488,7489,7490,7491,7492,7493,7494,7495,7496,7497,7498,7499,7500,7501,7502,7503,7504,7505,7506,7507,7508,7509,7510,7511,7512,7513,7514,7515,7516,7517,7518,7519,7520,7521,7522,7523,7524,7525,7526,7527,7528,7529,7530,7531,7532,7533,7534,7535,7536,7537,7538,7539,7540,7541,7542,7543,7544,7545,7546,7547,7548,7549,7550,7551,7552,7553,7554,7555,7556,7557,7558,7559,7560,7561,7562,7563,7564,7565,7566,7567,7568,7569,7570,7571,7572,7573,7574,7575,7576,7577,7578,7579,7580,7581,7582,7583,7584,7585,7586,7587,7588,7589,7590,7591,7592,7593,7594,7595,7596,7597,7598,7599,7600,7601,7602,7603,7604,7605,7606,7607,7608,7609,7610,7611,7612,7613,7614,7615,7616,7617,7618,7619,7620,7621,7622,7623,7624,7625,7626,7627,7628,7629,7630,7631,7632,7633,7634,7635,7636,7637,7638,7639,7640,7641,7642,7643,7644,7645,7646,7647,7648,7649,7650,7651,7652,7653,7654,7655,7656,7657,7658,7659,7660,7661,7662,7663,7664,7665,7666,7667,7668,7669,7670,7671,7672,7673,7674,7675,7676,7677,7678,7679,7680,7681,7682,7683,7684,7685,7686,7687,7688,7689,7690,7691,7692,7693,7694,7695,7696,7697,7698,7699,7700,7701,7702,7703,7704,7705,7706,7707,7708,7709,7710,7711,7712,7713,7714,7715,7716,7717,7718,7719,7720,7721,7722,7723,7724,7725,7726,7727,7728,7729,7730,7731,7732,7733,7734,7735,7736,7737,7738,7739,7740,7741,7742,7743,7744,7745,7746,7747,7748,7749,7750,7751,7752,7753,7754,7755,7756,7757,7758,7759,7760,7761,7762,7763,7764,7765,7766,7767,7768,7769,7770,7771,7772,7773,7774,7775,7776,7777,7778,7779,7780,7781,7782,7783,7784,7785,7786,7787,7788,7789,7790,7791,7792,7793,7794,7795,7796,7797,7798,7799,7800,7801,7802,7803,7804,7805,7806,7807,7808,7809,7810,7811,7812,7813,7814,7815,7816,7817,7818,7819,7820,7821,7822,7823,7824,7825,7826,7827,7828,7829,7830,7831,7832,7833,7834,7835,7836,7837,7838,7839,7840,7841,7842,7843,7844,7845,7846,7847,7848,7849,7850,7851,7852,7853,7854,7855,7856,7857,7858,7859,7860,7861,7862,7863,7864,7865,7866,7867,7868,7869,7870,7871,7872,7873,7874,7875,7876,7877,7878,7879,7880,7881,7882,7883,7884,7885,7886,7887,7888,7889,7890,7891,7892,7893,7894,7895,7896,7897,7898,7899,7900,7901,7902,7903,7904,7905,7906,7907,7908,7909,7910,7911,7912,7913,7914,7915,7916,7917,7918,7919,7920,7921,7922,7923,7924,7925,7926,7927,7928,7929,7930,7931,7932,7933,7934,7935,7936,7937,7938,7939,7940,7941,7942,7943,7944,7945,7946,7947,7948,7949,7950,7951,7952,7953,7954,7955,7956,7957,7958,7959,7960,7961,7962,7963,7964,7965,7966,7967,7968,7969,7970,7971,7972,7973,7974,7975,7976,7977,7978,7979,7980,7981,7982,7983,7984,7985,7986,7987,7988,7989,7990,7991,7992,7993,7994,7995,7996,7997,7998,7999,8000,8001,8002,8003,8004,8005,8006,8007,8008,8009,8010,8011,8012,8013,8014,8015,8016,8017,8018,8019,8020,8021,8022,8023,8024,8025,8026,8027,8028,8029,8030,8031,8032,8033,8034,8035,8036,8037,8038,8039,8040,8041,8042,8043,8044,8045,8046,8047,8048,8049,8050,8051,8052,8053,8054,8055,8056,8057,8058,8059,8060,8061,8062,8063,8064,8065,8066,8067,8068,8069,8070,8071,8072,8073,8074,8075,8076,8077,8078,8079,8080,8081,8082,8083,8084,8085,8086,8087,8088,8089,8090,8091,8092,8093,8094,8095,8096,8097,8098,8099,8100,8101,8102,8103,8104,8105,8106,8107,8108,8109,8110,8111,8112,8113,8114,8115,8116,8117,8118,8119,8120,8121,8122,8123,8124,8125,8126,8127,8128,8129,8130,8131,8132,8133,8134,8135,8136,8137,8138,8139,8140,8141,8142,8143,8144,8145,8146,8147,8148,8149,8150,8151,8152,8153,8154,8155,8156,8157,8158,8159,8160,8161,8162,8163,8164,8165,8166,8167,8168,8169,8170,8171,8172,8173,8174,8175,8176,8177,8178,8179,8180,8181,8182,8183,8184,8185,8186,8187,8188,8189,8190,8191,8192,8193,8194,8195,8196,8197,8198,8199,8200,8201,8202,8203,8204,8205,8206,8207,8208,8209,8210,8211,8212,8213,8214,8215,8216,8217,8218,8219,8220,8221,8222,8223,8224,8225,8226,8227,8228,8229,8230,8231,8232,8233,8234,8235,8236,8237,8238,8239,8240,8241,8242,8243,8244,8245,8246,8247,8248,8249,8250,8251,8252,8253,8254,8255,8256,8257,8258,8259,8260,8261,8262,8263,8264,8265,8266,8267,8268,8269,8270,8271,8272,8273,8274,8275,8276,8277,8278,8279,8280,8281,8282,8283,8284,8285,8286,8287,8288,8289,8290,8291,8292,8293,8294,8295,8296,8297,8298,8299,8300,8301,8302,8303,8304,8305,8306,8307,8308,8309,8310,8311,8312,8313,8314,8315,8316,8317,8318,8319,8320,8321,8322,8323,8324,8325,8326,8327,8328,8329,8330,8331,8332,8333,8334,8335,8336,8337,8338,8339,8340,8341,8342,8343,8344,8345,8346,8347,8348,8349,8350,8351,8352,8353,8354,8355,8356,8357,8358,8359,8360,8361,8362,8363,8364,8365,8366,8367,8368,8369,8370,8371,8372,8373,8374,8375,8376,8377,8378,8379,8380,8381,8382,8383,8384,8385,8386,8387,8388,8389,8390,8391,8392,8393,8394,8395,8396,8397,8398,8399,8400,8401,8402,8403,8404,8405,8406,8407,8408,8409,8410,8411,8412,8413,8414,8415,8416,8417,8418,8419,8420,8421,8422,8423,8424,8425,8426,8427,8428,8429,8430,8431,8432,8433,8434,8435,8436,8437,8438,8439,8440,8441,8442,8443,8444,8445,8446,8447,8448,8449,8450,8451,8452,8453,8454,8455,8456,8457,8458,8459,8460,8461,8462,8463,8464,8465,8466,8467,8468,8469,8470,8471,8472,8473,8474,8475,8476,8477,8478,8479,8480,8481,8482,8483,8484,8485,8486,8487,8488,8489,8490,8491,8492,8493,8494,8495,8496,8497,8498,8499,8500,8501,8502,8503,8504,8505,8506,8507,8508,8509,8510,8511,8512,8513,8514,8515,8516,8517,8518,8519,8520,8521,8522,8523,8524,8525,8526,8527,8528,8529,8530,8531,8532,8533,8534,8535,8536,8537,8538,8539,8540,8541,8542,8543,8544,8545,8546,8547,8548,8549,8550,8551,8552,8553,8554,8555,8556,8557,8558,8559,8560,8561,8562,8563,8564,8565,8566,8567,8568,8569,8570,8571,8572,8573,8574,8575,8576,8577,8578,8579,8580,8581,8582,8583,8584,8585,8586,8587,8588,8589,8590,8591,8592,8593,8594,8595,8596,8597,8598,8599,8600,8601,8602,8603,8604,8605,8606,8607,8608,8609,8610,8611,8612,8613,8614,8615,8616,8617,8618,8619,8620,8621,8622,8623,8624,8625,8626,8627,8628,8629,8630,8631,8632,8633,8634,8635,8636,8637,8638,8639,8640,8641,8642,8643,8644,8645,8646,8647,8648,8649,8650,8651,8652,8653,8654,8655,8656,8657,8658,8659,8660,8661,8662,8663,8664,8665,8666,8667,8668,8669,8670,8671,8672,8673,8674,8675,8676,8677,8678,8679,8680,8681,8682,8683,8684,8685,8686,8687,8688,8689,8690,8691,8692,8693,8694,8695,8696,8697,8698,8699,8700,8701,8702,8703,8704,8705,8706,8707,8708,8709,8710,8711,8712,8713,8714,8715,8716,8717,8718,8719,8720,8721,8722,8723,8724,8725,8726,8727,8728,8729,8730,8731,8732,8733,8734,8735,8736,8737,8738,8739,8740,8741,8742,8743,8744,8745,8746,8747,8748,8749,8750,8751,8752,8753,8754,8755,8756,8757,8758,8759,8760,8761,8762,8763,8764,8765,8766,8767,8768,8769,8770,8771,8772,8773,8774,8775,8776,8777,8778,8779,8780,8781,8782,8783,8784,8785,8786,8787,8788,8789,8790,8791,8792,8793,8794,8795,8796,8797,8798,8799,8800,8801,8802,8803,8804,8805,8806,8807,8808,8809,8810,8811,8812,8813,8814,8815,8816,8817,8818,8819,8820,8821,8822,8823,8824,8825,8826,8827,8828,8829,8830,8831,8832,8833,8834,8835,8836,8837,8838,8839,8840,8841,8842,8843,8844,8845,8846,8847,8848,8849,8850,8851,8852,8853,8854,8855,8856,8857,8858,8859,8860,8861,8862,8863,8864,8865,8866,8867,8868,8869,8870,8871,8872,8873,8874,8875,8876,8877,8878,8879,8880,8881,8882,8883,8884,8885,8886,8887,8888,8889,8890,8891,8892,8893,8894,8895,8896,8897,8898,8899,8900,8901,8902,8903,8904,8905,8906,8907,8908,8909,8910,8911,8912,8913,8914,8915,8916,8917,8918,8919,8920,8921,8922,8923,8924,8925,8926,8927,8928,8929,8930,8931,8932,8933,8934,8935,8936,8937,8938,8939,8940,8941,8942,8943,8944,8945,8946,8947,8948,8949,8950,8951,8952,8953,8954,8955,8956,8957,8958,8959,8960,8961,8962,8963,8964,8965,8966,8967,8968,8969,8970,8971,8972,8973,8974,8975,8976,8977,8978,8979,8980,8981,8982,8983,8984,8985,8986,8987,8988,8989,8990,8991,8992,8993,8994,8995,8996,8997,8998,8999,9000,9001,9002,9003,9004,9005,9006,9007,9008,9009,9010,9011,9012,9013,9014,9015,9016,9017,9018,9019,9020,9021,9022,9023,9024,9025,9026,9027,9028,9029,9030,9031,9032,9033,9034,9035,9036,9037,9038,9039,9040,9041,9042,9043,9044,9045,9046,9047,9048,9049,9050,9051,9052,9053,9054,9055,9056,9057,9058,9059,9060,9061,9062,9063,9064,9065,9066,9067,9068,9069,9070,9071,9072,9073,9074,9075,9076,9077,9078,9079,9080,9081,9082,9083,9084,9085,9086,9087,9088,9089,9090,9091,9092,9093,9094,9095,9096,9097,9098,9099,9100,9101,9102,9103,9104,9105,9106,9107,9108,9109,9110,9111,9112,9113,9114,9115,9116,9117,9118,9119,9120,9121,9122,9123,9124,9125,9126,9127,9128,9129,9130,9131,9132,9133,9134,9135,9136,9137,9138,9139,9140,9141,9142,9143,9144,9145,9146,9147,9148,9149,9150,9151,9152,9153,9154,9155,9156,9157,9158,9159,9160,9161,9162,9163,9164,9165,9166,9167,9168,9169,9170,9171,9172,9173,9174,9175,9176,9177,9178,9179,9180,9181,9182,9183,9184,9185,9186,9187,9188,9189,9190,9191,9192,9193,9194,9195,9196,9197,9198,9199,9200,9201,9202,9203,9204,9205,9206,9207,9208,9209,9210,9211,9212,9213,9214,9215,9216,9217,9218,9219,9220,9221,9222,9223,9224,9225,9226,9227,9228,9229,9230,9231,9232,9233,9234,9235,9236,9237,9238,9239,9240,9241,9242,9243,9244,9245,9246,9247,9248,9249,9250,9251,9252,9253,9254,9255,9256,9257,9258,9259,9260,9261,9262,9263,9264,9265,9266,9267,9268,9269,9270,9271,9272,9273,9274,9275,9276,9277,9278,9279,9280,9281,9282,9283,9284,9285,9286,9287,9288,9289,9290,9291,9292,9293,9294,9295,9296,9297,9298,9299,9300,9301,9302,9303,9304,9305,9306,9307,9308,9309,9310,9311,9312,9313,9314,9315,9316,9317,9318,9319,9320,9321,9322,9323,9324,9325,9326,9327,9328,9329,9330,9331,9332,9333,9334,9335,9336,9337,9338,9339,9340,9341,9342,9343,9344,9345,9346,9347,9348,9349,9350,9351,9352,9353,9354,9355,9356,9357,9358,9359,9360,9361,9362,9363,9364,9365,9366,9367,9368,9369,9370,9371,9372,9373,9374,9375,9376,9377,9378,9379,9380,9381,9382,9383,9384,9385,9386,9387,9388,9389,9390,9391,9392,9393,9394,9395,9396,9397,9398,9399,9400,9401,9402,9403,9404,9405,9406,9407,9408,9409,9410,9411,9412,9413,9414,9415,9416,9417,9418,9419,9420,9421,9422,9423,9424,9425,9426,9427,9428,9429,9430,9431,9432,9433,9434,9435,9436,9437,9438,9439,9440,9441,9442,9443,9444,9445,9446,9447,9448,9449,9450,9451,9452,9453,9454,9455,9456,9457,9458,9459,9460,9461,9462,9463,9464,9465,9466,9467,9468,9469,9470,9471,9472,9473,9474,9475,9476,9477,9478,9479,9480,9481,9482,9483,9484,9485,9486,9487,9488,9489,9490,9491,9492,9493,9494,9495,9496,9497,9498,9499,9500,9501,9502,9503,9504,9505,9506,9507,9508,9509,9510,9511,9512,9513,9514,9515,9516,9517,9518,9519,9520,9521,9522,9523,9524,9525,9526,9527,9528,9529,9530,9531,9532,9533,9534,9535,9536,9537,9538,9539,9540,9541,9542,9543,9544,9545,9546,9547,9548,9549,9550,9551,9552,9553,9554,9555,9556,9557,9558,9559,9560,9561,9562,9563,9564,9565,9566,9567,9568,9569,9570,9571,9572,9573,9574,9575,9576,9577,9578,9579,9580,9581,9582,9583,9584,9585,9586,9587,9588,9589,9590,9591,9592,9593,9594,9595,9596,9597,9598,9599,9600,9601,9602,9603,9604,9605,9606,9607,9608,9609,9610,9611,9612,9613,9614,9615,9616,9617,9618,9619,9620,9621,9622,9623,9624,9625,9626,9627,9628,9629,9630,9631,9632,9633,9634,9635,9636,9637,9638,9639,9640,9641,9642,9643,9644,9645,9646,9647,9648,9649,9650,9651,9652,9653,9654,9655,9656,9657,9658,9659,9660,9661,9662,9663,9664,9665,9666,9667,9668,9669,9670,9671,9672,9673,9674,9675,9676,9677,9678,9679,9680,9681,9682,9683,9684,9685,9686,9687,9688,9689,9690,9691,9692,9693,9694,9695,9696,9697,9698,9699,9700,9701,9702,9703,9704,9705,9706,9707,9708,9709,9710,9711,9712,9713,9714,9715,9716,9717,9718,9719,9720,9721,9722,9723,9724,9725,9726,9727,9728,9729,9730,9731,9732,9733,9734,9735,9736,9737,9738,9739,9740,9741,9742,9743,9744,9745,9746,9747,9748,9749,9750,9751,9752,9753,9754,9755,9756,9757,9758,9759,9760,9761,9762,9763,9764,9765,9766,9767,9768,9769,9770,9771,9772,9773,9774,9775,9776,9777,9778,9779,9780,9781,9782,9783,9784,9785,9786,9787,9788,9789,9790,9791,9792,9793,9794,9795,9796,9797,9798,9799,9800,9801,9802,9803,9804,9805,9806,9807,9808,9809,9810,9811,9812,9813,9814,9815,9816,9817,9818,9819,9820,9821,9822,9823,9824,9825,9826,9827,9828,9829,9830,9831,9832,9833,9834,9835,9836,9837,9838,9839,9840,9841,9842,9843,9844,9845,9846,9847,9848,9849,9850,9851,9852,9853,9854,9855,9856,9857,9858,9859,9860,9861,9862,9863,9864,9865,9866,9867,9868,9869,9870,9871,9872,9873,9874,9875,9876,9877,9878,9879,9880,9881,9882,9883,9884,9885,9886,9887,9888,9889,9890,9891,9892,9893,9894,9895,9896,9897,9898,9899,9900,9901,9902,9903,9904,9905,9906,9907,9908,9909,9910,9911,9912,9913,9914,9915,9916,9917,9918,9919,9920,9921,9922,9923,9924,9925,9926,9927,9928,9929,9930,9931,9932,9933,9934,9935,9936,9937,9938,9939,9940,9941,9942,9943,9944,9945,9946,9947,9948,9949,9950,9951,9952,9953,9954,9955,9956,9957,9958,9959,9960,9961,9962,9963,9964,9965,9966,9967,9968,9969,9970,9971,9972,9973,9974,9975,9976,9977,9978,9979,9980,9981,9982,9983,9984,9985,9986,9987,9988,9989,9990,9991,9992,9993,9994,9995,9996,9997,9998,9999,10000,10001,10002,10003,10004,10005,10006,10007,10008,10009,10010,10011,10012,10013,10014,10015,10016,10017,10018,10019,10020,10021,10022,10023,10024,10025,10026,10027,10028,10029,10030,10031,10032,10033,10034,10035,10036,10037,10038,10039,10040,10041,10042,10043,10044,10045,10046,10047,10048,10049,10050,10051,10052,10053,10054,10055,10056,10057,10058,10059,10060,10061,10062,10063,10064,10065,10066,10067,10068,10069,10070,10071,10072,10073,10074,10075,10076,10077,10078,10079,10080,10081,10082,10083,10084,10085,10086,10087,10088,10089,10090,10091,10092,10093,10094,10095,10096,10097,10098,10099,10100,10101,10102,10103,10104,10105,10106,10107,10108,10109,10110,10111,10112,10113,10114,10115,10116,10117,10118,10119,10120,10121,10122,10123,10124,10125,10126,10127,10128,10129,10130,10131,10132,10133,10134,10135,10136,10137,10138,10139,10140,10141,10142,10143,10144,10145,10146,10147,10148,10149,10150,10151,10152,10153,10154,10155,10156,10157,10158,10159,10160,10161,10162,10163,10164,10165,10166,10167,10168,10169,10170,10171,10172,10173,10174,10175,10176,10177,10178,10179,10180,10181,10182,10183,10184,10185,10186,10187,10188,10189,10190,10191,10192,10193,10194,10195,10196,10197,10198,10199,10200,10201,10202,10203,10204,10205,10206,10207,10208,10209,10210,10211,10212,10213,10214,10215,10216,10217,10218,10219,10220,10221,10222,10223,10224,10225,10226,10227,10228,10229,10230,10231,10232,10233,10234,10235,10236,10237,10238,10239,10240,10241,10242,10243,10244,10245,10246,10247,10248,10249,10250,10251,10252,10253,10254,10255,10256,10257,10258,10259,10260,10261,10262,10263,10264,10265,10266,10267,10268,10269,10270,10271,10272,10273,10274,10275,10276,10277,10278,10279,10280,10281,10282,10283,10284,10285,10286,10287,10288,10289,10290,10291,10292,10293,10294,10295,10296,10297,10298,10299,10300,10301,10302,10303,10304,10305,10306,10307,10308,10309,10310,10311,10312,10313,10314,10315,10316,10317,10318,10319,10320,10321,10322,10323,10324,10325,10326,10327,10328,10329,10330,10331,10332,10333,10334,10335,10336,10337,10338,10339,10340,10341,10342,10343,10344,10345,10346,10347,10348,10349,10350,10351,10352,10353,10354,10355,10356,10357,10358,10359,10360,10361,10362,10363,10364,10365,10366,10367,10368,10369,10370,10371,10372,10373,10374,10375,10376,10377,10378,10379,10380,10381,10382,10383,10384,10385,10386,10387,10388,10389,10390,10391,10392,10393,10394,10395,10396,10397,10398,10399,10400,10401,10402,10403,10404,10405,10406,10407,10408,10409,10410,10411,10412,10413,10414,10415,10416,10417,10418,10419,10420,10421,10422,10423,10424,10425,10426,10427,10428,10429,10430,10431,10432,10433,10434,10435,10436,10437,10438,10439,10440,10441,10442,10443,10444,10445,10446,10447,10448,10449,10450,10451,10452,10453,10454,10455,10456,10457,10458,10459,10460,10461,10462,10463,10464,10465,10466,10467,10468,10469,10470,10471,10472,10473,10474,10475,10476,10477,10478,10479,10480,10481,10482,10483,10484,10485,10486,10487,10488,10489,10490,10491,10492,10493,10494,10495,10496,10497,10498,10499,10500,10501,10502,10503,10504,10505,10506,10507,10508,10509,10510,10511,10512,10513,10514,10515,10516,10517,10518,10519,10520,10521,10522,10523,10524,10525,10526,10527,10528,10529,10530,10531,10532,10533,10534,10535,10536,10537,10538,10539,10540,10541,10542,10543,10544,10545,10546,10547,10548,10549,10550,10551,10552,10553,10554,10555,10556,10557,10558,10559,10560,10561,10562,10563,10564,10565,10566,10567,10568,10569,10570,10571,10572,10573,10574,10575,10576,10577,10578,10579,10580,10581,10582,10583,10584,10585,10586,10587,10588,10589,10590,10591,10592,10593,10594,10595,10596,10597,10598,10599,10600,10601,10602,10603,10604,10605,10606,10607,10608,10609,10610,10611,10612,10613,10614,10615,10616,10617,10618,10619,10620,10621,10622,10623,10624,10625,10626,10627,10628,10629,10630,10631,10632,10633,10634,10635,10636,10637,10638,10639,10640,10641,10642,10643,10644,10645,10646,10647,10648,10649,10650,10651,10652,10653,10654,10655,10656,10657,10658,10659,10660,10661,10662,10663,10664,10665,10666,10667,10668,10669,10670,10671,10672,10673,10674,10675,10676,10677,10678,10679,10680,10681,10682,10683,10684,10685,10686,10687,10688,10689,10690,10691,10692,10693,10694,10695,10696,10697,10698,10699,10700,10701,10702,10703,10704,10705,10706,10707,10708,10709,10710,10711,10712,10713,10714,10715,10716,10717,10718,10719,10720,10721,10722,10723,10724,10725,10726,10727,10728,10729,10730,10731,10732,10733,10734,10735,10736,10737,10738,10739,10740,10741,10742,10743,10744,10745,10746,10747,10748,10749,10750,10751,10752,10753,10754,10755,10756,10757,10758,10759,10760,10761,10762,10763,10764,10765,10766,10767,10768,10769,10770,10771,10772,10773,10774,10775,10776,10777,10778,10779,10780,10781,10782,10783,10784,10785,10786,10787,10788,10789,10790,10791,10792,10793,10794,10795,10796,10797,10798,10799,10800,10801,10802,10803,10804,10805,10806,10807,10808,10809,10810,10811,10812,10813,10814,10815,10816,10817,10818,10819,10820,10821,10822,10823,10824,10825,10826,10827,10828,10829,10830,10831,10832,10833,10834,10835,10836,10837,10838,10839,10840,10841,10842,10843,10844,10845,10846,10847,10848,10849,10850,10851,10852,10853,10854,10855,10856,10857,10858,10859,10860,10861,10862,10863,10864,10865,10866,10867,10868,10869,10870,10871,10872,10873,10874,10875,10876,10877,10878,10879,10880,10881,10882,10883,10884,10885,10886,10887,10888,10889,10890,10891,10892,10893,10894,10895,10896,10897,10898,10899,10900,10901,10902,10903,10904,10905,10906,10907,10908,10909,10910,10911,10912,10913,10914,10915,10916,10917,10918,10919,10920,10921,10922,10923,10924,10925,10926,10927,10928,10929,10930,10931,10932,10933,10934,10935,10936,10937,10938,10939,10940,10941,10942,10943,10944,10945,10946,10947,10948,10949,10950,10951,10952,10953,10954,10955,10956,10957,10958,10959,10960,10961,10962,10963,10964,10965,10966,10967,10968,10969,10970,10971,10972,10973,10974,10975,10976,10977,10978,10979,10980,10981,10982,10983,10984,10985,10986,10987,10988,10989,10990,10991,10992,10993,10994,10995,10996,10997,10998,10999,11000,11001,11002,11003,11004,11005,11006,11007,11008,11009,11010,11011,11012,11013,11014,11015,11016,11017,11018,11019,11020,11021,11022,11023,11024,11025,11026,11027,11028,11029,11030,11031,11032,11033,11034,11035,11036,11037,11038,11039,11040,11041,11042,11043,11044,11045,11046,11047,11048,11049,11050,11051,11052,11053,11054,11055,11056,11057,11058,11059,11060,11061,11062,11063,11064,11065,11066,11067,11068,11069,11070,11071,11072,11073,11074,11075,11076,11077,11078,11079,11080,11081,11082,11083,11084,11085,11086,11087,11088,11089,11090,11091,11092,11093,11094,11095,11096,11097,11098,11099,11100,11101,11102,11103,11104,11105,11106,11107,11108,11109,11110,11111,11112,11113,11114,11115,11116,11117,11118,11119,11120,11121,11122,11123,11124,11125,11126,11127,11128,11129,11130,11131,11132,11133,11134,11135,11136,11137,11138,11139,11140,11141,11142,11143,11144,11145,11146,11147,11148,11149,11150,11151,11152,11153,11154,11155,11156,11157,11158,11159,11160,11161,11162,11163,11164,11165,11166,11167,11168,11169,11170,11171,11172,11173,11174,11175,11176,11177,11178,11179,11180,11181,11182,11183,11184,11185,11186,11187,11188,11189,11190,11191,11192,11193,11194,11195,11196,11197,11198,11199,11200,11201,11202,11203,11204,11205,11206,11207,11208,11209,11210,11211,11212,11213,11214,11215,11216,11217,11218,11219,11220,11221,11222,11223,11224,11225,11226,11227,11228,11229,11230,11231,11232,11233,11234,11235,11236,11237,11238,11239,11240,11241,11242,11243,11244,11245,11246,11247,11248,11249,11250,11251,11252,11253,11254,11255,11256,11257,11258,11259,11260,11261,11262,11263,11264,11265,11266,11267,11268,11269,11270,11271,11272,11273,11274,11275,11276,11277,11278,11279,11280,11281,11282,11283,11284,11285,11286,11287,11288,11289,11290,11291,11292,11293,11294,11295,11296,11297,11298,11299,11300,11301,11302,11303,11304,11305,11306,11307,11308,11309,11310,11311,11312,11313,11314,11315,11316,11317,11318,11319,11320,11321,11322,11323,11324,11325,11326,11327,11328,11329,11330,11331,11332,11333,11334,11335,11336,11337,11338,11339,11340,11341,11342,11343,11344,11345,11346,11347,11348,11349,11350,11351,11352,11353,11354,11355,11356,11357,11358,11359,11360,11361,11362,11363,11364,11365,11366,11367,11368,11369,11370,11371,11372,11373,11374,11375,11376,11377,11378,11379,11380,11381,11382,11383,11384,11385,11386,11387,11388,11389,11390,11391,11392,11393,11394,11395,11396,11397,11398,11399,11400,11401,11402,11403,11404,11405,11406,11407,11408,11409,11410,11411,11412,11413,11414,11415,11416,11417,11418,11419,11420,11421,11422,11423,11424,11425,11426,11427,11428,11429,11430,11431,11432,11433,11434,11435,11436,11437,11438,11439,11440,11441,11442,11443,11444,11445,11446,11447,11448,11449,11450,11451,11452,11453,11454,11455,11456,11457,11458,11459,11460,11461,11462,11463,11464,11465,11466,11467,11468,11469,11470,11471,11472,11473,11474,11475,11476,11477,11478,11479,11480,11481,11482,11483,11484,11485,11486,11487,11488,11489,11490,11491,11492,11493,11494,11495,11496,11497,11498,11499,11500,11501,11502,11503,11504,11505,11506,11507,11508,11509,11510,11511,11512,11513,11514,11515,11516,11517,11518,11519,11520,11521,11522,11523,11524,11525,11526,11527,11528,11529,11530,11531,11532,11533,11534,11535,11536,11537,11538,11539,11540,11541,11542,11543,11544,11545,11546,11547,11548,11549,11550,11551,11552,11553,11554,11555,11556,11557,11558,11559,11560,11561,11562,11563,11564,11565,11566,11567,11568,11569,11570,11571,11572,11573,11574,11575,11576,11577,11578,11579,11580,11581,11582,11583,11584,11585,11586,11587,11588,11589,11590,11591,11592,11593,11594,11595,11596,11597,11598,11599,11600,11601,11602,11603,11604,11605,11606,11607,11608,11609,11610,11611,11612,11613,11614,11615,11616,11617,11618,11619,11620,11621,11622,11623,11624,11625,11626,11627,11628,11629,11630,11631,11632,11633,11634,11635,11636,11637,11638,11639,11640,11641,11642,11643,11644,11645,11646,11647,11648,11649,11650,11651,11652,11653,11654,11655,11656,11657,11658,11659,11660,11661,11662,11663,11664,11665,11666,11667,11668,11669,11670,11671,11672,11673,11674,11675,11676,11677,11678,11679,11680,11681,11682,11683,11684,11685,11686,11687,11688,11689,11690,11691,11692,11693,11694,11695,11696,11697,11698,11699,11700,11701,11702,11703,11704,11705,11706,11707,11708,11709,11710,11711,11712,11713,11714,11715,11716,11717,11718,11719,11720,11721,11722,11723,11724,11725,11726,11727,11728,11729,11730,11731,11732,11733,11734,11735,11736,11737,11738,11739,11740,11741,11742,11743,11744,11745,11746,11747,11748,11749,11750,11751,11752,11753,11754,11755,11756,11757,11758,11759,11760,11761,11762,11763,11764,11765,11766,11767,11768,11769,11770,11771,11772,11773,11774,11775,11776,11777,11778,11779,11780,11781,11782,11783,11784,11785,11786,11787,11788,11789,11790,11791,11792,11793,11794,11795,11796,11797,11798,11799,11800,11801,11802,11803,11804,11805,11806,11807,11808,11809,11810,11811,11812,11813,11814,11815,11816,11817,11818,11819,11820,11821,11822,11823,11824,11825,11826,11827,11828,11829,11830,11831,11832,11833,11834,11835,11836,11837,11838,11839,11840,11841,11842,11843,11844,11845,11846,11847,11848,11849,11850,11851,11852,11853,11854,11855,11856,11857,11858,11859,11860,11861,11862,11863,11864,11865,11866,11867,11868,11869,11870,11871,11872,11873,11874,11875,11876,11877,11878,11879,11880,11881,11882,11883,11884,11885,11886,11887,11888,11889,11890,11891,11892,11893,11894,11895,11896,11897,11898,11899,11900,11901,11902,11903,11904,11905,11906,11907,11908,11909,11910,11911,11912,11913,11914,11915,11916,11917,11918,11919,11920,11921,11922,11923,11924,11925,11926,11927,11928,11929,11930,11931,11932,11933,11934,11935,11936,11937,11938,11939,11940,11941,11942,11943,11944,11945,11946,11947,11948,11949,11950,11951,11952,11953,11954,11955,11956,11957,11958,11959,11960,11961,11962,11963,11964,11965,11966,11967,11968,11969,11970,11971,11972,11973,11974,11975,11976,11977,11978,11979,11980,11981,11982,11983,11984,11985,11986,11987,11988,11989,11990,11991,11992,11993,11994,11995,11996,11997,11998,11999,12000,12001,12002,12003,12004,12005,12006,12007,12008,12009,12010,12011,12012,12013,12014,12015,12016,12017,12018,12019,12020,12021,12022,12023,12024,12025,12026,12027,12028,12029,12030,12031,12032,12033,12034,12035,12036,12037,12038,12039,12040,12041,12042,12043,12044,12045,12046,12047,12048,12049,12050,12051,12052,12053,12054,12055,12056,12057,12058,12059,12060,12061,12062,12063,12064,12065,12066,12067,12068,12069,12070,12071,12072,12073,12074,12075,12076,12077,12078,12079,12080,12081,12082,12083,12084,12085,12086,12087,12088,12089,12090,12091,12092,12093,12094,12095,12096,12097,12098,12099,12100,12101,12102,12103,12104,12105,12106,12107,12108,12109,12110,12111,12112,12113,12114,12115,12116,12117,12118,12119,12120,12121,12122,12123,12124,12125,12126,12127,12128,12129,12130,12131,12132,12133,12134,12135,12136,12137,12138,12139,12140,12141,12142,12143,12144,12145,12146,12147,12148,12149,12150,12151,12152,12153,12154,12155,12156,12157,12158,12159,12160,12161,12162,12163,12164,12165,12166,12167,12168,12169,12170,12171,12172,12173,12174,12175,12176,12177,12178,12179,12180,12181,12182,12183,12184,12185,12186,12187,12188,12189,12190,12191,12192,12193,12194,12195,12196,12197,12198,12199,12200,12201,12202,12203,12204,12205,12206,12207,12208,12209,12210,12211,12212,12213,12214,12215,12216,12217,12218,12219,12220,12221,12222,12223,12224,12225,12226,12227,12228,12229,12230,12231,12232,12233,12234,12235,12236,12237,12238,12239,12240,12241,12242,12243,12244,12245,12246,12247,12248,12249,12250,12251,12252,12253,12254,12255,12256,12257,12258,12259,12260,12261,12262,12263,12264,12265,12266,12267,12268,12269,12270,12271,12272,12273,12274,12275,12276,12277,12278,12279,12280,12281,12282,12283,12284,12285,12286,12287,12288,12289,12290,12291,12292,12293,12294,12295,12296,12297,12298,12299,12300,12301,12302,12303,12304,12305,12306,12307,12308,12309,12310,12311,12312,12313,12314,12315,12316,12317,12318,12319,12320,12321,12322,12323,12324,12325,12326,12327,12328,12329,12330,12331,12332,12333,12334,12335,12336,12337,12338,12339,12340,12341,12342,12343,12344,12345,12346,12347,12348,12349,12350,12351,12352,12353,12354,12355,12356,12357,12358,12359,12360,12361,12362,12363,12364,12365,12366,12367,12368,12369,12370,12371,12372,12373,12374,12375,12376,12377,12378,12379,12380,12381,12382,12383,12384,12385,12386,12387,12388,12389,12390,12391,12392,12393,12394,12395,12396,12397,12398,12399,12400,12401,12402,12403,12404,12405,12406,12407,12408,12409,12410,12411,12412,12413,12414,12415,12416,12417,12418,12419,12420,12421,12422,12423,12424,12425,12426,12427,12428,12429,12430,12431,12432,12433,12434,12435,12436,12437,12438,12439,12440,12441,12442,12443,12444,12445,12446,12447,12448,12449,12450,12451,12452,12453,12454,12455,12456,12457,12458,12459,12460,12461,12462,12463,12464,12465,12466,12467,12468,12469,12470,12471,12472,12473,12474,12475,12476,12477,12478,12479,12480,12481,12482,12483,12484,12485,12486,12487,12488,12489,12490,12491,12492,12493,12494,12495,12496,12497,12498,12499,12500,12501,12502,12503,12504,12505,12506,12507,12508,12509,12510,12511,12512,12513,12514,12515,12516,12517,12518,12519,12520,12521,12522,12523,12524,12525,12526,12527,12528,12529,12530,12531,12532,12533,12534,12535,12536,12537,12538,12539,12540,12541,12542,12543,12544,12545,12546,12547,12548,12549,12550,12551,12552,12553,12554,12555,12556,12557,12558,12559,12560,12561,12562,12563,12564,12565,12566,12567,12568,12569,12570,12571,12572,12573,12574,12575,12576,12577,12578,12579,12580,12581,12582,12583,12584,12585,12586,12587,12588,12589,12590,12591,12592,12593,12594,12595,12596,12597,12598,12599,12600,12601,12602,12603,12604,12605,12606,12607,12608,12609,12610,12611,12612,12613,12614,12615,12616,12617,12618,12619,12620,12621,12622,12623,12624,12625,12626,12627,12628,12629,12630,12631,12632,12633,12634,12635,12636,12637,12638,12639,12640,12641,12642,12643,12644,12645,12646,12647,12648,12649,12650,12651,12652,12653,12654,12655,12656,12657,12658,12659,12660,12661,12662,12663,12664,12665,12666,12667,12668,12669,12670,12671,12672,12673,12674,12675,12676,12677,12678,12679,12680,12681,12682,12683,12684,12685,12686,12687,12688,12689,12690,12691,12692,12693,12694,12695,12696,12697,12698,12699,12700,12701,12702,12703,12704,12705,12706,12707,12708,12709,12710,12711,12712,12713,12714,12715,12716,12717,12718,12719,12720,12721,12722,12723,12724,12725,12726,12727,12728,12729,12730,12731,12732,12733,12734,12735,12736,12737,12738,12739,12740,12741,12742,12743,12744,12745,12746,12747,12748,12749,12750,12751,12752,12753,12754,12755,12756,12757,12758,12759,12760,12761,12762,12763,12764,12765,12766,12767,12768,12769,12770,12771,12772,12773,12774,12775,12776,12777,12778,12779,12780,12781,12782,12783,12784,12785,12786,12787,12788,12789,12790,12791,12792,12793,12794,12795,12796,12797,12798,12799,12800,12801,12802,12803,12804,12805,12806,12807,12808,12809,12810,12811,12812,12813,12814,12815,12816,12817,12818,12819,12820,12821,12822,12823,12824,12825,12826,12827,12828,12829,12830,12831,12832,12833,12834,12835,12836,12837,12838,12839,12840,12841,12842,12843,12844,12845,12846,12847,12848,12849,12850,12851,12852,12853,12854,12855,12856,12857,12858,12859,12860,12861,12862,12863,12864,12865,12866,12867,12868,12869,12870,12871,12872,12873,12874,12875,12876,12877,12878,12879,12880,12881,12882,12883,12884,12885,12886,12887,12888,12889,12890,12891,12892,12893,12894,12895,12896,12897,12898,12899,12900,12901,12902,12903,12904,12905,12906,12907,12908,12909,12910,12911,12912,12913,12914,12915,12916,12917,12918,12919,12920,12921,12922,12923,12924,12925,12926,12927,12928,12929,12930,12931,12932,12933,12934,12935,12936,12937,12938,12939,12940,12941,12942,12943,12944,12945,12946,12947,12948,12949,12950,12951,12952,12953,12954,12955,12956,12957,12958,12959,12960,12961,12962,12963,12964,12965,12966,12967,12968,12969,12970,12971,12972,12973,12974,12975,12976,12977,12978,12979,12980,12981,12982,12983,12984,12985,12986,12987,12988,12989,12990,12991,12992,12993,12994,12995,12996,12997,12998,12999,13000,13001,13002,13003,13004,13005,13006,13007,13008,13009,13010,13011,13012,13013,13014,13015,13016,13017,13018,13019,13020,13021,13022,13023,13024,13025,13026,13027,13028,13029,13030,13031,13032,13033,13034,13035,13036,13037,13038,13039,13040,13041,13042,13043,13044,13045,13046,13047,13048,13049,13050,13051,13052,13053,13054,13055,13056,13057,13058,13059,13060,13061,13062,13063,13064,13065,13066,13067,13068,13069,13070,13071,13072,13073,13074,13075,13076,13077,13078,13079,13080,13081,13082,13083,13084,13085,13086,13087,13088,13089,13090,13091,13092,13093,13094,13095,13096,13097,13098,13099,13100,13101,13102,13103,13104,13105,13106,13107,13108,13109,13110,13111,13112,13113,13114,13115,13116,13117,13118,13119,13120,13121,13122,13123,13124,13125,13126,13127,13128,13129,13130,13131,13132,13133,13134,13135,13136,13137,13138,13139,13140,13141,13142,13143,13144,13145,13146,13147,13148,13149,13150,13151,13152,13153,13154,13155,13156,13157,13158,13159,13160,13161,13162,13163,13164,13165,13166,13167,13168,13169,13170,13171,13172,13173,13174,13175,13176,13177,13178,13179,13180,13181,13182,13183,13184,13185,13186,13187,13188,13189,13190,13191,13192,13193,13194,13195,13196,13197,13198,13199,13200,13201,13202,13203,13204,13205,13206,13207,13208,13209,13210,13211,13212,13213,13214,13215,13216,13217,13218,13219,13220,13221,13222,13223,13224,13225,13226,13227,13228,13229,13230,13231,13232,13233,13234,13235,13236,13237,13238,13239,13240,13241,13242,13243,13244,13245,13246,13247,13248,13249,13250,13251,13252,13253,13254,13255,13256,13257,13258,13259,13260,13261,13262,13263,13264,13265,13266,13267,13268,13269,13270,13271,13272,13273,13274,13275,13276,13277,13278,13279,13280,13281,13282,13283,13284,13285,13286,13287,13288,13289,13290,13291,13292,13293,13294,13295,13296,13297,13298,13299,13300,13301,13302,13303,13304,13305,13306,13307,13308,13309,13310,13311,13312,13313,13314,13315,13316,13317,13318,13319,13320,13321,13322,13323,13324,13325,13326,13327,13328,13329,13330,13331,13332,13333,13334,13335,13336,13337,13338,13339,13340,13341,13342,13343,13344,13345,13346,13347,13348,13349,13350,13351,13352,13353,13354,13355,13356,13357,13358,13359,13360,13361,13362,13363,13364,13365,13366,13367,13368,13369,13370,13371,13372,13373,13374,13375,13376,13377,13378,13379,13380,13381,13382,13383,13384,13385,13386,13387,13388,13389,13390,13391,13392,13393,13394,13395,13396,13397,13398,13399,13400,13401,13402,13403,13404,13405,13406,13407,13408,13409,13410,13411,13412,13413,13414,13415,13416,13417,13418,13419,13420,13421,13422,13423,13424,13425,13426,13427,13428,13429,13430,13431,13432,13433,13434,13435,13436,13437,13438,13439,13440,13441,13442,13443,13444,13445,13446,13447,13448,13449,13450,13451,13452,13453,13454,13455,13456,13457,13458,13459,13460,13461,13462,13463,13464,13465,13466,13467,13468,13469,13470,13471,13472,13473,13474,13475,13476,13477,13478,13479,13480,13481,13482,13483,13484,13485,13486,13487,13488,13489,13490,13491,13492,13493,13494,13495,13496,13497,13498,13499,13500,13501,13502,13503,13504,13505,13506,13507,13508,13509,13510,13511,13512,13513,13514,13515,13516,13517,13518,13519,13520,13521,13522,13523,13524,13525,13526,13527,13528,13529,13530,13531,13532,13533,13534,13535,13536,13537,13538,13539,13540,13541,13542,13543,13544,13545,13546,13547,13548,13549,13550,13551,13552,13553,13554,13555,13556,13557,13558,13559,13560,13561,13562,13563,13564,13565,13566,13567,13568,13569,13570,13571,13572,13573,13574,13575,13576,13577,13578,13579,13580,13581,13582,13583,13584,13585,13586,13587,13588,13589,13590,13591,13592,13593,13594,13595,13596,13597,13598,13599,13600,13601,13602,13603,13604,13605,13606,13607,13608,13609,13610,13611,13612,13613,13614,13615,13616,13617,13618,13619,13620,13621,13622,13623,13624,13625,13626,13627,13628,13629,13630,13631,13632,13633,13634,13635,13636,13637,13638,13639,13640,13641,13642,13643,13644,13645,13646,13647,13648,13649,13650,13651,13652,13653,13654,13655,13656,13657,13658,13659,13660,13661,13662,13663,13664,13665,13666,13667,13668,13669,13670,13671,13672,13673,13674,13675,13676,13677,13678,13679,13680,13681,13682,13683,13684,13685,13686,13687,13688,13689,13690,13691,13692,13693,13694,13695,13696,13697,13698,13699,13700,13701,13702,13703,13704,13705,13706,13707,13708,13709,13710,13711,13712,13713,13714,13715,13716,13717,13718,13719,13720,13721,13722,13723,13724,13725,13726,13727,13728,13729,13730,13731,13732,13733,13734,13735,13736,13737,13738,13739,13740,13741,13742,13743,13744,13745,13746,13747,13748,13749,13750,13751,13752,13753,13754,13755,13756,13757,13758,13759,13760,13761,13762,13763,13764,13765,13766,13767,13768,13769,13770,13771,13772,13773,13774,13775,13776,13777,13778,13779,13780,13781,13782,13783,13784,13785,13786,13787,13788,13789,13790,13791,13792,13793,13794,13795,13796,13797,13798,13799,13800,13801,13802,13803,13804,13805,13806,13807,13808,13809,13810,13811,13812,13813,13814,13815,13816,13817,13818,13819,13820,13821,13822,13823,13824,13825,13826,13827,13828,13829,13830,13831,13832,13833,13834,13835,13836,13837,13838,13839,13840,13841,13842,13843,13844,13845,13846,13847,13848,13849,13850,13851,13852,13853,13854,13855,13856,13857,13858,13859,13860,13861,13862,13863,13864,13865,13866,13867,13868,13869,13870,13871,13872,13873,13874,13875,13876,13877,13878,13879,13880,13881,13882,13883,13884,13885,13886,13887,13888,13889,13890,13891,13892,13893,13894,13895,13896,13897,13898,13899,13900,13901,13902,13903,13904,13905,13906,13907,13908,13909,13910,13911,13912,13913,13914,13915,13916,13917,13918,13919,13920,13921,13922,13923,13924,13925,13926,13927,13928,13929,13930,13931,13932,13933,13934,13935,13936,13937,13938,13939,13940,13941,13942,13943,13944,13945,13946,13947,13948,13949,13950,13951,13952,13953,13954,13955,13956,13957,13958,13959,13960,13961,13962,13963,13964,13965,13966,13967,13968,13969,13970,13971,13972,13973,13974,13975,13976,13977,13978,13979,13980,13981,13982,13983,13984,13985,13986,13987,13988,13989,13990,13991,13992,13993,13994,13995,13996,13997,13998,13999,14000,14001,14002,14003,14004,14005,14006,14007,14008,14009,14010,14011,14012,14013,14014,14015,14016,14017,14018,14019,14020,14021,14022,14023,14024,14025,14026,14027,14028,14029,14030,14031,14032,14033,14034,14035,14036,14037,14038,14039,14040,14041,14042,14043,14044,14045,14046,14047,14048,14049,14050,14051,14052,14053,14054,14055,14056,14057,14058,14059,14060,14061,14062,14063,14064,14065,14066,14067,14068,14069,14070,14071,14072,14073,14074,14075,14076,14077,14078,14079,14080,14081,14082,14083,14084,14085,14086,14087,14088,14089,14090,14091,14092,14093,14094,14095,14096,14097,14098,14099,14100,14101,14102,14103,14104,14105,14106,14107,14108,14109,14110,14111,14112,14113,14114,14115,14116,14117,14118,14119,14120,14121,14122,14123,14124,14125,14126,14127,14128,14129,14130,14131,14132,14133,14134,14135,14136,14137,14138,14139,14140,14141,14142,14143,14144,14145,14146,14147,14148,14149,14150,14151,14152,14153,14154,14155,14156,14157,14158,14159,14160,14161,14162,14163,14164,14165,14166,14167,14168,14169,14170,14171,14172,14173,14174,14175,14176,14177,14178,14179,14180,14181,14182,14183,14184,14185,14186,14187,14188,14189,14190,14191,14192,14193,14194,14195,14196,14197,14198,14199,14200,14201,14202,14203,14204,14205,14206,14207,14208,14209,14210,14211,14212,14213,14214,14215,14216,14217,14218,14219,14220,14221,14222,14223,14224,14225,14226,14227,14228,14229,14230,14231,14232,14233,14234,14235,14236,14237,14238,14239,14240,14241,14242,14243,14244,14245,14246,14247,14248,14249,14250,14251,14252,14253,14254,14255,14256,14257,14258,14259,14260,14261,14262,14263,14264,14265,14266,14267,14268,14269,14270,14271,14272,14273,14274,14275,14276,14277,14278,14279,14280,14281,14282,14283,14284,14285,14286,14287,14288,14289,14290,14291,14292,14293,14294,14295,14296,14297,14298,14299,14300,14301,14302,14303,14304,14305,14306,14307,14308,14309,14310,14311,14312,14313,14314,14315,14316,14317,14318,14319,14320,14321,14322,14323,14324,14325,14326,14327,14328,14329,14330,14331,14332,14333,14334,14335,14336,14337,14338,14339,14340,14341,14342,14343,14344,14345,14346,14347,14348,14349,14350,14351,14352,14353,14354,14355,14356,14357,14358,14359,14360,14361,14362,14363,14364,14365,14366,14367,14368,14369,14370,14371,14372,14373,14374,14375,14376,14377,14378,14379,14380,14381,14382,14383,14384,14385,14386,14387,14388,14389,14390,14391,14392,14393,14394,14395,14396,14397,14398,14399,14400,14401,14402,14403,14404,14405,14406,14407,14408,14409,14410,14411,14412,14413,14414,14415,14416,14417,14418,14419,14420,14421,14422,14423,14424,14425,14426,14427,14428,14429,14430,14431,14432,14433,14434,14435,14436,14437,14438,14439,14440,14441,14442,14443,14444,14445,14446,14447,14448,14449,14450,14451,14452,14453,14454,14455,14456,14457,14458,14459,14460,14461,14462,14463,14464,14465,14466,14467,14468,14469,14470,14471,14472,14473,14474,14475,14476,14477,14478,14479,14480,14481,14482,14483,14484,14485,14486,14487,14488,14489,14490,14491,14492,14493,14494,14495,14496,14497,14498,14499,14500,14501,14502,14503,14504,14505,14506,14507,14508,14509,14510,14511,14512,14513,14514,14515,14516,14517,14518,14519,14520,14521,14522,14523,14524,14525,14526,14527,14528,14529,14530,14531,14532,14533,14534,14535,14536,14537,14538,14539,14540,14541,14542,14543,14544,14545,14546,14547,14548,14549,14550,14551,14552,14553,14554,14555,14556,14557,14558,14559,14560,14561,14562,14563,14564,14565,14566,14567,14568,14569,14570,14571,14572,14573,14574,14575,14576,14577,14578,14579,14580,14581,14582,14583,14584,14585,14586,14587,14588,14589,14590,14591,14592,14593,14594,14595,14596,14597,14598,14599,14600,14601,14602,14603,14604,14605,14606,14607,14608,14609,14610,14611,14612,14613,14614,14615,14616,14617,14618,14619,14620,14621,14622,14623,14624,14625,14626,14627,14628,14629,14630,14631,14632,14633,14634,14635,14636,14637,14638,14639,14640,14641,14642,14643,14644,14645,14646,14647,14648,14649,14650,14651,14652,14653,14654,14655,14656,14657,14658,14659,14660,14661,14662,14663,14664,14665,14666,14667,14668,14669,14670,14671,14672,14673,14674,14675,14676,14677,14678,14679,14680,14681,14682,14683,14684,14685,14686,14687,14688,14689,14690,14691,14692,14693,14694,14695,14696,14697,14698,14699,14700,14701,14702,14703,14704,14705,14706,14707,14708,14709,14710,14711,14712,14713,14714,14715,14716,14717,14718,14719,14720,14721,14722,14723,14724,14725,14726,14727,14728,14729,14730,14731,14732,14733,14734,14735,14736,14737,14738,14739,14740,14741,14742,14743,14744,14745,14746,14747,14748,14749,14750,14751,14752,14753,14754,14755,14756,14757,14758,14759,14760,14761,14762,14763,14764,14765,14766,14767,14768,14769,14770,14771,14772,14773,14774,14775,14776,14777,14778,14779,14780,14781,14782,14783,14784,14785,14786,14787,14788,14789,14790,14791,14792,14793,14794,14795,14796,14797,14798,14799,14800,14801,14802,14803,14804,14805,14806,14807,14808,14809,14810,14811,14812,14813,14814,14815,14816,14817,14818,14819,14820,14821,14822,14823,14824,14825,14826,14827,14828,14829,14830,14831,14832,14833,14834,14835,14836,14837,14838,14839,14840,14841,14842,14843,14844,14845,14846,14847,14848,14849,14850,14851,14852,14853,14854,14855,14856,14857,14858,14859,14860,14861,14862,14863,14864,14865,14866,14867,14868,14869,14870,14871,14872,14873,14874,14875,14876,14877,14878,14879,14880,14881,14882,14883,14884,14885,14886,14887,14888,14889,14890,14891,14892,14893,14894,14895,14896,14897,14898,14899,14900,14901,14902,14903,14904,14905,14906,14907,14908,14909,14910,14911,14912,14913,14914,14915,14916,14917,14918,14919,14920,14921,14922,14923,14924,14925,14926,14927,14928,14929,14930,14931,14932,14933,14934,14935,14936,14937,14938,14939,14940,14941,14942,14943,14944,14945,14946,14947,14948,14949,14950,14951,14952,14953,14954,14955,14956,14957,14958,14959,14960,14961,14962,14963,14964,14965,14966,14967,14968,14969,14970,14971,14972,14973,14974,14975,14976,14977,14978,14979,14980,14981,14982,14983,14984,14985,14986,14987,14988,14989,14990,14991,14992,14993,14994,14995,14996,14997,14998,14999,15000,15001,15002,15003,15004,15005,15006,15007,15008,15009,15010,15011,15012,15013,15014,15015,15016,15017,15018,15019,15020,15021,15022,15023,15024,15025,15026,15027,15028,15029,15030,15031,15032,15033,15034,15035,15036,15037,15038,15039,15040,15041,15042,15043,15044,15045,15046,15047,15048,15049,15050,15051,15052,15053,15054,15055,15056,15057,15058,15059,15060,15061,15062,15063,15064,15065,15066,15067,15068,15069,15070,15071,15072,15073,15074,15075,15076,15077,15078,15079,15080,15081,15082,15083,15084,15085,15086,15087,15088,15089,15090,15091,15092,15093,15094,15095,15096,15097,15098,15099,15100,15101,15102,15103,15104,15105,15106,15107,15108,15109,15110,15111,15112,15113,15114,15115,15116,15117,15118,15119,15120,15121,15122,15123,15124,15125,15126,15127,15128,15129,15130,15131,15132,15133,15134,15135,15136,15137,15138,15139,15140,15141,15142,15143,15144,15145,15146,15147,15148,15149,15150,15151,15152,15153,15154,15155,15156,15157,15158,15159,15160,15161,15162,15163,15164,15165,15166,15167,15168,15169,15170,15171,15172,15173,15174,15175,15176,15177,15178,15179,15180,15181,15182,15183,15184,15185,15186,15187,15188,15189,15190,15191,15192,15193,15194,15195,15196,15197,15198,15199,15200,15201,15202,15203,15204,15205,15206,15207,15208,15209,15210,15211,15212,15213,15214,15215,15216,15217,15218,15219,15220,15221,15222,15223,15224,15225,15226,15227,15228,15229,15230,15231,15232,15233,15234,15235,15236,15237,15238,15239,15240,15241,15242,15243,15244,15245,15246,15247,15248,15249,15250,15251,15252,15253,15254,15255,15256,15257,15258,15259,15260,15261,15262,15263,15264,15265,15266,15267,15268,15269,15270,15271,15272,15273,15274,15275,15276,15277,15278,15279,15280,15281,15282,15283,15284,15285,15286,15287,15288,15289,15290,15291,15292,15293,15294,15295,15296,15297,15298,15299,15300,15301,15302,15303,15304,15305,15306,15307,15308,15309,15310,15311,15312,15313,15314,15315,15316,15317,15318,15319,15320,15321,15322,15323,15324,15325,15326,15327,15328,15329,15330,15331,15332,15333,15334,15335,15336,15337,15338,15339,15340,15341,15342,15343,15344,15345,15346,15347,15348,15349,15350,15351,15352,15353,15354,15355,15356,15357,15358,15359,15360,15361,15362,15363,15364,15365,15366,15367,15368,15369,15370,15371,15372,15373,15374,15375,15376,15377,15378,15379,15380,15381,15382,15383,15384,15385,15386,15387,15388,15389,15390,15391,15392,15393,15394,15395,15396,15397,15398,15399,15400,15401,15402,15403,15404,15405,15406,15407,15408,15409,15410,15411,15412,15413,15414,15415,15416,15417,15418,15419,15420,15421,15422,15423,15424,15425,15426,15427,15428,15429,15430,15431,15432,15433,15434,15435,15436,15437,15438,15439,15440,15441,15442,15443,15444,15445,15446,15447,15448,15449,15450,15451,15452,15453,15454,15455,15456,15457,15458,15459,15460,15461,15462,15463,15464,15465,15466,15467,15468,15469,15470,15471,15472,15473,15474,15475,15476,15477,15478,15479,15480,15481,15482,15483,15484,15485,15486,15487,15488,15489,15490,15491,15492,15493,15494,15495,15496,15497,15498,15499,15500,15501,15502,15503,15504,15505,15506,15507,15508,15509,15510,15511,15512,15513,15514,15515,15516,15517,15518,15519,15520,15521,15522,15523,15524,15525,15526,15527,15528,15529,15530,15531,15532,15533,15534,15535,15536,15537,15538,15539,15540,15541,15542,15543,15544,15545,15546,15547,15548,15549,15550,15551,15552,15553,15554,15555,15556,15557,15558,15559,15560,15561,15562,15563,15564,15565,15566,15567,15568,15569,15570,15571,15572,15573,15574,15575,15576,15577,15578,15579,15580,15581,15582,15583,15584,15585,15586,15587,15588,15589,15590,15591,15592,15593,15594,15595,15596,15597,15598,15599,15600,15601,15602,15603,15604,15605,15606,15607,15608,15609,15610,15611,15612,15613,15614,15615,15616,15617,15618,15619,15620,15621,15622,15623,15624,15625,15626,15627,15628,15629,15630,15631,15632,15633,15634,15635,15636,15637,15638,15639,15640,15641,15642,15643,15644,15645,15646,15647,15648,15649,15650,15651,15652,15653,15654,15655,15656,15657,15658,15659,15660,15661,15662,15663,15664,15665,15666,15667,15668,15669,15670,15671,15672,15673,15674,15675,15676,15677,15678,15679,15680,15681,15682,15683,15684,15685,15686,15687,15688,15689,15690,15691,15692,15693,15694,15695,15696,15697,15698,15699,15700,15701,15702,15703,15704,15705,15706,15707,15708,15709,15710,15711,15712,15713,15714,15715,15716,15717,15718,15719,15720,15721,15722,15723,15724,15725,15726,15727,15728,15729,15730,15731,15732,15733,15734,15735,15736,15737,15738,15739,15740,15741,15742,15743,15744,15745,15746,15747,15748,15749,15750,15751,15752,15753,15754,15755,15756,15757,15758,15759,15760,15761,15762,15763,15764,15765,15766,15767,15768,15769,15770,15771,15772,15773,15774,15775,15776,15777,15778,15779,15780,15781,15782,15783,15784,15785,15786,15787,15788,15789,15790,15791,15792,15793,15794,15795,15796,15797,15798,15799,15800,15801,15802,15803,15804,15805,15806,15807,15808,15809,15810,15811,15812,15813,15814,15815,15816,15817,15818,15819,15820,15821,15822,15823,15824,15825,15826,15827,15828,15829,15830,15831,15832,15833,15834,15835,15836,15837,15838,15839,15840,15841,15842,15843,15844,15845,15846,15847,15848,15849,15850,15851,15852,15853,15854,15855,15856,15857,15858,15859,15860,15861,15862,15863,15864,15865,15866,15867,15868,15869,15870,15871,15872,15873,15874,15875,15876,15877,15878,15879,15880,15881,15882,15883,15884,15885,15886,15887,15888,15889,15890,15891,15892,15893,15894,15895,15896,15897,15898,15899,15900,15901,15902,15903,15904,15905,15906,15907,15908,15909,15910,15911,15912,15913,15914,15915,15916,15917,15918,15919,15920,15921,15922,15923,15924,15925,15926,15927,15928,15929,15930,15931,15932,15933,15934,15935,15936,15937,15938,15939,15940,15941,15942,15943,15944,15945,15946,15947,15948,15949,15950,15951,15952,15953,15954,15955,15956,15957,15958,15959,15960,15961,15962,15963,15964,15965,15966,15967,15968,15969,15970,15971,15972,15973,15974,15975,15976,15977,15978,15979,15980,15981,15982,15983,15984,15985,15986,15987,15988,15989,15990,15991,15992,15993,15994,15995,15996,15997,15998,15999,16000,16001,16002,16003,16004,16005,16006,16007,16008,16009,16010,16011,16012,16013,16014,16015,16016,16017,16018,16019,16020,16021,16022,16023,16024,16025,16026,16027,16028,16029,16030,16031,16032,16033,16034,16035,16036,16037,16038,16039,16040,16041,16042,16043,16044,16045,16046,16047,16048,16049,16050,16051,16052,16053,16054,16055,16056,16057,16058,16059,16060,16061,16062,16063,16064,16065,16066,16067,16068,16069,16070,16071,16072,16073,16074,16075,16076,16077,16078,16079,16080,16081,16082,16083,16084,16085,16086,16087,16088,16089,16090,16091,16092,16093,16094,16095,16096,16097,16098,16099,16100,16101,16102,16103,16104,16105,16106,16107,16108,16109,16110,16111,16112,16113,16114,16115,16116,16117,16118,16119,16120,16121,16122,16123,16124,16125,16126,16127,16128,16129,16130,16131,16132,16133,16134,16135,16136,16137,16138,16139,16140,16141,16142,16143,16144,16145,16146,16147,16148,16149,16150,16151,16152,16153,16154,16155,16156,16157,16158,16159,16160,16161,16162,16163,16164,16165,16166,16167,16168,16169,16170,16171,16172,16173,16174,16175,16176,16177,16178,16179,16180,16181,16182,16183,16184,16185,16186,16187,16188,16189,16190,16191,16192,16193,16194,16195,16196,16197,16198,16199,16200,16201,16202,16203,16204,16205,16206,16207,16208,16209,16210,16211,16212,16213,16214,16215,16216,16217,16218,16219,16220,16221,16222,16223,16224,16225,16226,16227,16228,16229,16230,16231,16232,16233,16234,16235,16236,16237,16238,16239,16240,16241,16242,16243,16244,16245,16246,16247,16248,16249,16250,16251,16252,16253,16254,16255,16256,16257,16258,16259,16260,16261,16262,16263,16264,16265,16266,16267,16268,16269,16270,16271,16272,16273,16274,16275,16276,16277,16278,16279,16280,16281,16282,16283,16284,16285,16286,16287,16288,16289,16290,16291,16292,16293,16294,16295,16296,16297,16298,16299,16300,16301,16302,16303,16304,16305,16306,16307,16308,16309,16310,16311,16312,16313,16314,16315,16316,16317,16318,16319,16320,16321,16322,16323,16324,16325,16326,16327,16328,16329,16330,16331,16332,16333,16334,16335,16336,16337,16338,16339,16340,16341,16342,16343,16344,16345,16346,16347,16348,16349,16350,16351,16352,16353,16354,16355,16356,16357,16358,16359,16360,16361,16362,16363,16364,16365,16366,16367,16368,16369,16370,16371,16372,16373,16374,16375,16376,16377,16378,16379,16380,16381,16382,16383,16384,16385,16386,16387,16388,16389,16390,16391,16392,16393,16394,16395,16396,16397,16398,16399,16400,16401,16402,16403,16404,16405,16406,16407,16408,16409,16410,16411,16412,16413,16414,16415,16416,16417,16418,16419,16420,16421,16422,16423,16424,16425,16426,16427,16428,16429,16430,16431,16432,16433,16434,16435,16436,16437,16438,16439,16440,16441,16442,16443,16444,16445,16446,16447,16448,16449,16450,16451,16452,16453,16454,16455,16456,16457,16458,16459,16460,16461,16462,16463,16464,16465,16466,16467,16468,16469,16470,16471,16472,16473,16474,16475,16476,16477,16478,16479,16480,16481,16482,16483,16484,16485,16486,16487,16488,16489,16490,16491,16492,16493,16494,16495,16496,16497,16498,16499,16500,16501,16502,16503,16504,16505,16506,16507,16508,16509,16510,16511,16512,16513,16514,16515,16516,16517,16518,16519,16520,16521,16522,16523,16524,16525,16526,16527,16528,16529,16530,16531,16532,16533,16534,16535,16536,16537,16538,16539,16540,16541,16542,16543,16544,16545,16546,16547,16548,16549,16550,16551,16552,16553,16554,16555,16556,16557,16558,16559,16560,16561,16562,16563,16564,16565,16566,16567,16568,16569,16570,16571,16572,16573,16574,16575,16576,16577,16578,16579,16580,16581,16582,16583,16584,16585,16586,16587,16588,16589,16590,16591,16592,16593,16594,16595,16596,16597,16598,16599,16600,16601,16602,16603,16604,16605,16606,16607,16608,16609,16610,16611,16612,16613,16614,16615,16616,16617,16618,16619,16620,16621,16622,16623,16624,16625,16626,16627,16628,16629,16630,16631,16632,16633,16634,16635,16636,16637,16638,16639,16640,16641,16642,16643,16644,16645,16646,16647,16648,16649,16650,16651,16652,16653,16654,16655,16656,16657,16658,16659,16660,16661,16662,16663,16664,16665,16666,16667,16668,16669,16670,16671,16672,16673,16674,16675,16676,16677,16678,16679,16680,16681,16682,16683,16684,16685,16686,16687,16688,16689,16690,16691,16692,16693,16694,16695,16696,16697,16698,16699,16700,16701,16702,16703,16704,16705,16706,16707,16708,16709,16710,16711,16712,16713,16714,16715,16716,16717,16718,16719,16720,16721,16722,16723,16724,16725,16726,16727,16728,16729,16730,16731,16732,16733,16734,16735,16736,16737,16738,16739,16740,16741,16742,16743,16744,16745,16746,16747,16748,16749,16750,16751,16752,16753,16754,16755,16756,16757,16758,16759,16760,16761,16762,16763,16764,16765,16766,16767,16768,16769,16770,16771,16772,16773,16774,16775,16776,16777,16778,16779,16780,16781,16782,16783,16784,16785,16786,16787,16788,16789,16790,16791,16792,16793,16794,16795,16796,16797,16798,16799,16800,16801,16802,16803,16804,16805,16806,16807,16808,16809,16810,16811,16812,16813,16814,16815,16816,16817,16818,16819,16820,16821,16822,16823,16824,16825,16826,16827,16828,16829,16830,16831,16832,16833,16834,16835,16836,16837,16838,16839,16840,16841,16842,16843,16844,16845,16846,16847,16848,16849,16850,16851,16852,16853,16854,16855,16856,16857,16858,16859,16860,16861,16862,16863,16864,16865,16866,16867,16868,16869,16870,16871,16872,16873,16874,16875,16876,16877,16878,16879,16880,16881,16882,16883,16884,16885,16886,16887,16888,16889,16890,16891,16892,16893,16894,16895,16896,16897,16898,16899,16900,16901,16902,16903,16904,16905,16906,16907,16908,16909,16910,16911,16912,16913,16914,16915,16916,16917,16918,16919,16920,16921,16922,16923,16924,16925,16926,16927,16928,16929,16930,16931,16932,16933,16934,16935,16936,16937,16938,16939,16940,16941,16942,16943,16944,16945,16946,16947,16948,16949,16950,16951,16952,16953,16954,16955,16956,16957,16958,16959,16960,16961,16962,16963,16964,16965,16966,16967,16968,16969,16970,16971,16972,16973,16974,16975,16976,16977,16978,16979,16980,16981,16982,16983,16984,16985,16986,16987,16988,16989,16990,16991,16992,16993,16994,16995,16996,16997,16998,16999,17000,17001,17002,17003,17004,17005,17006,17007,17008,17009,17010,17011,17012,17013,17014,17015,17016,17017,17018,17019,17020,17021,17022,17023,17024,17025,17026,17027,17028,17029,17030,17031,17032,17033,17034,17035,17036,17037,17038,17039,17040,17041,17042,17043,17044,17045,17046,17047,17048,17049,17050,17051,17052,17053,17054,17055,17056,17057,17058,17059,17060,17061,17062,17063,17064,17065,17066,17067,17068,17069,17070,17071,17072,17073,17074,17075,17076,17077,17078,17079,17080,17081,17082,17083,17084,17085,17086,17087,17088,17089,17090,17091,17092,17093,17094,17095,17096,17097,17098,17099,17100,17101,17102,17103,17104,17105,17106,17107,17108,17109,17110,17111,17112,17113,17114,17115,17116,17117,17118,17119,17120,17121,17122,17123,17124,17125,17126,17127,17128,17129,17130,17131,17132,17133,17134,17135,17136,17137,17138,17139,17140,17141,17142,17143,17144,17145,17146,17147,17148,17149,17150,17151,17152,17153,17154,17155,17156,17157,17158,17159,17160,17161,17162,17163,17164,17165,17166,17167,17168,17169,17170,17171,17172,17173,17174,17175,17176,17177,17178,17179,17180,17181,17182,17183,17184,17185,17186,17187,17188,17189,17190,17191,17192,17193,17194,17195,17196,17197,17198,17199,17200,17201,17202,17203,17204,17205,17206,17207,17208,17209,17210,17211,17212,17213,17214,17215,17216,17217,17218,17219,17220,17221,17222,17223,17224,17225,17226,17227,17228,17229,17230,17231,17232,17233,17234,17235,17236,17237,17238,17239,17240,17241,17242,17243,17244,17245,17246,17247,17248,17249,17250,17251,17252,17253,17254,17255,17256,17257,17258,17259,17260,17261,17262,17263,17264,17265,17266,17267,17268,17269,17270,17271,17272,17273,17274,17275,17276,17277,17278,17279,17280,17281,17282,17283,17284,17285,17286,17287,17288,17289,17290,17291,17292,17293,17294,17295,17296,17297,17298,17299,17300,17301,17302,17303,17304,17305,17306,17307,17308,17309,17310,17311,17312,17313,17314,17315,17316,17317,17318,17319,17320,17321,17322,17323,17324,17325,17326,17327,17328,17329,17330,17331,17332,17333,17334,17335,17336,17337,17338,17339,17340,17341,17342,17343,17344,17345,17346,17347,17348,17349,17350,17351,17352,17353,17354,17355,17356,17357,17358,17359,17360,17361,17362,17363,17364,17365,17366,17367,17368,17369,17370,17371,17372,17373,17374,17375,17376,17377,17378,17379,17380,17381,17382,17383,17384,17385,17386,17387,17388,17389,17390,17391,17392,17393,17394,17395,17396,17397,17398,17399,17400,17401,17402,17403,17404,17405,17406,17407,17408,17409,17410,17411,17412,17413,17414,17415,17416,17417,17418,17419,17420,17421,17422,17423,17424,17425,17426,17427,17428,17429,17430,17431,17432,17433,17434,17435,17436,17437,17438,17439,17440,17441,17442,17443,17444,17445,17446,17447,17448,17449,17450,17451,17452,17453,17454,17455,17456,17457,17458,17459,17460,17461,17462,17463,17464,17465,17466,17467,17468,17469,17470,17471,17472,17473,17474,17475,17476,17477,17478,17479,17480,17481,17482,17483,17484,17485,17486,17487,17488,17489,17490,17491,17492,17493,17494,17495,17496,17497,17498,17499,17500,17501,17502,17503,17504,17505,17506,17507,17508,17509,17510,17511,17512,17513,17514,17515,17516,17517,17518,17519,17520,17521,17522,17523,17524,17525,17526,17527,17528,17529,17530,17531,17532,17533,17534,17535,17536,17537,17538,17539,17540,17541,17542,17543,17544,17545,17546,17547,17548,17549,17550,17551,17552,17553,17554,17555,17556,17557,17558,17559,17560,17561,17562,17563,17564,17565,17566,17567,17568,17569,17570,17571,17572,17573,17574,17575,17576,17577,17578,17579,17580,17581,17582,17583,17584,17585,17586,17587,17588,17589,17590,17591,17592,17593,17594,17595,17596,17597,17598,17599,17600,17601,17602,17603,17604,17605,17606,17607,17608,17609,17610,17611,17612,17613,17614,17615,17616,17617,17618,17619,17620,17621,17622,17623,17624,17625,17626,17627,17628,17629,17630,17631,17632,17633,17634,17635,17636,17637,17638,17639,17640,17641,17642,17643,17644,17645,17646,17647,17648,17649,17650,17651,17652,17653,17654,17655,17656,17657,17658,17659,17660,17661,17662,17663,17664,17665,17666,17667,17668,17669,17670,17671,17672,17673,17674,17675,17676,17677,17678,17679,17680,17681,17682,17683,17684,17685,17686,17687,17688,17689,17690,17691,17692,17693,17694,17695,17696,17697,17698,17699,17700,17701,17702,17703,17704,17705,17706,17707,17708,17709,17710,17711,17712,17713,17714,17715,17716,17717,17718,17719,17720,17721,17722,17723,17724,17725,17726,17727,17728,17729,17730,17731,17732,17733,17734,17735,17736,17737,17738,17739,17740,17741,17742,17743,17744,17745,17746,17747,17748,17749,17750,17751,17752,17753,17754,17755,17756,17757,17758,17759,17760,17761,17762,17763,17764,17765,17766,17767,17768,17769,17770,17771,17772,17773,17774,17775,17776,17777,17778,17779,17780,17781,17782,17783,17784,17785,17786,17787,17788,17789,17790,17791,17792,17793,17794,17795,17796,17797,17798,17799,17800,17801,17802,17803,17804,17805,17806,17807,17808,17809,17810,17811,17812,17813,17814,17815,17816,17817,17818,17819,17820,17821,17822,17823,17824,17825,17826,17827,17828,17829,17830,17831,17832,17833,17834,17835,17836,17837,17838,17839,17840,17841,17842,17843,17844,17845,17846,17847,17848,17849,17850,17851,17852,17853,17854,17855,17856,17857,17858,17859,17860,17861,17862,17863,17864,17865,17866,17867,17868,17869,17870,17871,17872,17873,17874,17875,17876,17877,17878,17879,17880,17881,17882,17883,17884,17885,17886,17887,17888,17889,17890,17891,17892,17893,17894,17895,17896,17897,17898,17899,17900,17901,17902,17903,17904,17905,17906,17907,17908,17909,17910,17911,17912,17913,17914,17915,17916,17917,17918,17919,17920,17921,17922,17923,17924,17925,17926,17927,17928,17929,17930,17931,17932,17933,17934,17935,17936,17937,17938,17939,17940,17941,17942,17943,17944,17945,17946,17947,17948,17949,17950,17951,17952,17953,17954,17955,17956,17957,17958,17959,17960,17961,17962,17963,17964,17965,17966,17967,17968,17969,17970,17971,17972,17973,17974,17975,17976,17977,17978,17979,17980,17981,17982,17983,17984,17985,17986,17987,17988,17989,17990,17991,17992,17993,17994,17995,17996,17997,17998,17999,18000,18001,18002,18003,18004,18005,18006,18007,18008,18009,18010,18011,18012,18013,18014,18015,18016,18017,18018,18019,18020,18021,18022,18023,18024,18025,18026,18027,18028,18029,18030,18031,18032,18033,18034,18035,18036,18037,18038,18039,18040,18041,18042,18043,18044,18045,18046,18047,18048,18049,18050,18051,18052,18053,18054,18055,18056,18057,18058,18059,18060,18061,18062,18063,18064,18065,18066,18067,18068,18069,18070,18071,18072,18073,18074,18075,18076,18077,18078,18079,18080,18081,18082,18083,18084,18085,18086,18087,18088,18089,18090,18091,18092,18093,18094,18095,18096,18097,18098,18099,18100,18101,18102,18103,18104,18105,18106,18107,18108,18109,18110,18111,18112,18113,18114,18115,18116,18117,18118,18119,18120,18121,18122,18123,18124,18125,18126,18127,18128,18129,18130,18131,18132,18133,18134,18135,18136,18137,18138,18139,18140,18141,18142,18143,18144,18145,18146,18147,18148,18149,18150,18151,18152,18153,18154,18155,18156,18157,18158,18159,18160,18161,18162,18163,18164,18165,18166,18167,18168,18169,18170,18171,18172,18173,18174,18175,18176,18177,18178,18179,18180,18181,18182,18183,18184,18185,18186,18187,18188,18189,18190,18191,18192,18193,18194,18195,18196,18197,18198,18199,18200,18201,18202,18203,18204,18205,18206,18207,18208,18209,18210,18211,18212,18213,18214,18215,18216,18217,18218,18219,18220,18221,18222,18223,18224,18225,18226,18227,18228,18229,18230,18231,18232,18233,18234,18235,18236,18237,18238,18239,18240,18241,18242,18243,18244,18245,18246,18247,18248,18249,18250,18251,18252,18253,18254,18255,18256,18257,18258,18259,18260,18261,18262,18263,18264,18265,18266,18267,18268,18269,18270,18271,18272,18273,18274,18275,18276,18277,18278,18279,18280,18281,18282,18283,18284,18285,18286,18287,18288,18289,18290,18291,18292,18293,18294,18295,18296,18297,18298,18299,18300,18301,18302,18303,18304,18305,18306,18307,18308,18309,18310,18311,18312,18313,18314,18315,18316,18317,18318,18319,18320,18321,18322,18323,18324,18325,18326,18327,18328,18329,18330,18331,18332,18333,18334,18335,18336,18337,18338,18339,18340,18341,18342,18343,18344,18345,18346,18347,18348,18349,18350,18351,18352,18353,18354,18355,18356,18357,18358,18359,18360,18361,18362,18363,18364,18365,18366,18367,18368,18369,18370,18371,18372,18373,18374,18375,18376,18377,18378,18379,18380,18381,18382,18383,18384,18385,18386,18387,18388,18389,18390,18391,18392,18393,18394,18395,18396,18397,18398,18399,18400,18401,18402,18403,18404,18405,18406,18407,18408,18409,18410,18411,18412,18413,18414,18415,18416,18417,18418,18419,18420,18421,18422,18423,18424,18425,18426,18427,18428,18429,18430,18431,18432,18433,18434,18435,18436,18437,18438,18439,18440,18441,18442,18443,18444,18445,18446,18447,18448,18449,18450,18451,18452,18453,18454,18455,18456,18457,18458,18459,18460,18461,18462,18463,18464,18465,18466,18467,18468,18469,18470,18471,18472,18473,18474,18475,18476,18477,18478,18479,18480,18481,18482,18483,18484,18485,18486,18487,18488,18489,18490,18491,18492,18493,18494,18495,18496,18497,18498,18499,18500,18501,18502,18503,18504,18505,18506,18507,18508,18509,18510,18511,18512,18513,18514,18515,18516,18517,18518,18519,18520,18521,18522,18523,18524,18525,18526,18527,18528,18529,18530,18531,18532,18533,18534,18535,18536,18537,18538,18539,18540,18541,18542,18543,18544,18545,18546,18547,18548,18549,18550,18551,18552,18553,18554,18555,18556,18557,18558,18559,18560,18561,18562,18563,18564,18565,18566,18567,18568,18569,18570,18571,18572,18573,18574,18575,18576,18577,18578,18579,18580,18581,18582,18583,18584,18585,18586,18587,18588,18589,18590,18591,18592,18593,18594,18595,18596,18597,18598,18599,18600,18601,18602,18603,18604,18605,18606,18607,18608,18609,18610,18611,18612,18613,18614,18615,18616,18617,18618,18619,18620,18621,18622,18623,18624,18625,18626,18627,18628,18629,18630,18631,18632,18633,18634,18635,18636,18637,18638,18639,18640,18641,18642,18643,18644,18645,18646,18647,18648,18649,18650,18651,18652,18653,18654,18655,18656,18657,18658,18659,18660,18661,18662,18663,18664,18665,18666,18667,18668,18669,18670,18671,18672,18673,18674,18675,18676,18677,18678,18679,18680,18681,18682,18683,18684,18685,18686,18687,18688,18689,18690,18691,18692,18693,18694,18695,18696,18697,18698,18699,18700,18701,18702,18703,18704,18705,18706,18707,18708,18709,18710,18711,18712,18713,18714,18715,18716,18717,18718,18719,18720,18721,18722,18723,18724,18725,18726,18727,18728,18729,18730,18731,18732,18733,18734,18735,18736,18737,18738,18739,18740,18741,18742,18743,18744,18745,18746,18747,18748,18749,18750,18751,18752,18753,18754,18755,18756,18757,18758,18759,18760,18761,18762,18763,18764,18765,18766,18767,18768,18769,18770,18771,18772,18773,18774,18775,18776,18777,18778,18779,18780,18781,18782,18783,18784,18785,18786,18787,18788,18789,18790,18791,18792,18793,18794,18795,18796,18797,18798,18799,18800,18801,18802,18803,18804,18805,18806,18807,18808,18809,18810,18811,18812,18813,18814,18815,18816,18817,18818,18819,18820,18821,18822,18823,18824,18825,18826,18827,18828,18829,18830,18831,18832,18833,18834,18835,18836,18837,18838,18839,18840,18841,18842,18843,18844,18845,18846,18847,18848,18849,18850,18851,18852,18853,18854,18855,18856,18857,18858,18859,18860,18861,18862,18863,18864,18865,18866,18867,18868,18869,18870,18871,18872,18873,18874,18875,18876,18877,18878,18879,18880,18881,18882,18883,18884,18885,18886,18887,18888,18889,18890,18891,18892,18893,18894,18895,18896,18897,18898,18899,18900,18901,18902,18903,18904,18905,18906,18907,18908,18909,18910,18911,18912,18913,18914,18915,18916,18917,18918,18919,18920,18921,18922,18923,18924,18925,18926,18927,18928,18929,18930,18931,18932,18933,18934,18935,18936,18937,18938,18939,18940,18941,18942,18943,18944,18945,18946,18947,18948,18949,18950,18951,18952,18953,18954,18955,18956,18957,18958,18959,18960,18961,18962,18963,18964,18965,18966,18967,18968,18969,18970,18971,18972,18973,18974,18975,18976,18977,18978,18979,18980,18981,18982,18983,18984,18985,18986,18987,18988,18989,18990,18991,18992,18993,18994,18995,18996,18997,18998,18999,19000,19001,19002,19003,19004,19005,19006,19007,19008,19009,19010,19011,19012,19013,19014,19015,19016,19017,19018,19019,19020,19021,19022,19023,19024,19025,19026,19027,19028,19029,19030,19031,19032,19033,19034,19035,19036,19037,19038,19039,19040,19041,19042,19043,19044,19045,19046,19047,19048,19049,19050,19051,19052,19053,19054,19055,19056,19057,19058,19059,19060,19061,19062,19063,19064,19065,19066,19067,19068,19069,19070,19071,19072,19073,19074,19075,19076,19077,19078,19079,19080,19081,19082,19083,19084,19085,19086,19087,19088,19089,19090,19091,19092,19093,19094,19095,19096,19097,19098,19099,19100,19101,19102,19103,19104,19105,19106,19107,19108,19109,19110,19111,19112,19113,19114,19115,19116,19117,19118,19119,19120,19121,19122,19123,19124,19125,19126,19127,19128,19129,19130,19131,19132,19133,19134,19135,19136,19137,19138,19139,19140,19141,19142,19143,19144,19145,19146,19147,19148,19149,19150,19151,19152,19153,19154,19155,19156,19157,19158,19159,19160,19161,19162,19163,19164,19165,19166,19167,19168,19169,19170,19171,19172,19173,19174,19175,19176,19177,19178,19179,19180,19181,19182,19183,19184,19185,19186,19187,19188,19189,19190,19191,19192,19193,19194,19195,19196,19197,19198,19199,19200,19201,19202,19203,19204,19205,19206,19207,19208,19209,19210,19211,19212,19213,19214,19215,19216,19217,19218,19219,19220,19221,19222,19223,19224,19225,19226,19227,19228,19229,19230,19231,19232,19233,19234,19235,19236],\"xaxis\":\"x\",\"y\":[13328,16621,8467,3607,11726,39493,1803,549,1098,26657,941,8781,3000,1019,59464,549,7683,28382,549,941,18826,20698,17562,7840,4704,20385,549,30,14454,12074,15681,19444,6899,125,24462,23235,51746,7527,19121,314,24462,45734,20165,21326,549,220,15681,55390,12544,17249,34889,862,14583,392,38500,8781,87112,1411,392,23521,16935,10349,7213,5331,20526,9722,34657,36564,314,5488,30063,15800,43952,53154,14740,42337,3763,18189,862,220,5645,7527,21953,8154,21953,19121,36065,8781,6247,16289,77775,2822,549,6981,27284,32929,18817,4234,15053,15458,2901,706,314,15681,26657,10663,12858,1019,549,12858,15000,85553,44752,17158,12231,11917,1254,94,25591,14897,23521,3450,706,1019,16935,19444,11604,51965,706,9408,13328,17876,549,20071,22894,2901,15681,39829,706,18660,22580,11604,314,5488,4300,18817,21169,9095,1568,3136,17876,11290,36065,862,21395,15681,627,40070,11917,72130,35927,21012,21012,13172,15624,4547,5488,20005,36110,7840,470,1300,43880,29479,17249,9408,44213,8467,627,21950,706,3136,3450,9408,31500,20385,314,2300,7840,56450,1490,627,314,13172,19757,4704,706,5802,25716,14426,10820,45436,11917,41281,4391,3058,3700,15681,6586,12544,30063,72130,21639,36692,30,12231,3136,10663,5620,19130,9408,3,15367,5959,26594,36065,26343,549,6000,40142,14000,17923,54518,10349,8154,282,7527,3450,22063,2901,4704,5331,941,16900,18189,5331,42651,15524,17249,73071,862,28909,8467,50,14426,9000,30734,22580,862,7464,1333,59865,49237,68223,392,7683,22266,2430,282,392,33556,39161,16308,17719,43278,470,20385,941,49858,8781,220,9722,21326,51075,15241,2587,15524,27911,4861,29793,18208,549,30,34497,6272,4924,4704,43576,7840,28225,700,2352,18817,4861,13172,37320,706,39201,36426,8467,7840,12701,8154,46414,45160,100,100355,1176,12231,5802,2901,1882,22894,11290,6586,14426,36065,27284,21639,7840,7840,282,1646,24198,25365,1725,314,17249,470,31361,4704,12720,26372,13485,25591,6429,251,39829,13172,627,8097,12388,18503,12231,40,17054,5300,9565,24302,18817,1960,17249,15530,11290,24148,10036,18817,10349,549,9252,55823,25089,18669,941,15053,10660,37000,18826,14583,21012,5645,18826,22649,16590,31988,8624,21012,10663,220,13485,5331,7370,11900,17249,4391,17876,11604,13799,40769,7997,7840,14113,11917,12777,18817,23521,22580,392,12544,9722,3450,1882,15991,11133,94,34184,21169,7495,4861,13485,81539,20005,3000,11917,84675,7840,627,12570,17249,2800,6899,14009,392,8311,23521,25716,21730,80911,19369,12544,25299,7213,6899,8154,18817,61499,17249,9879,4000,17249,51225,49798,17249,29166,188,79971,11604,15681,2500,392,627,2274,19444,43592,15367,4861,14113,13564,17876,10349,15000,12544,5600,14583,36827,21639,9,14113,40340,10976,25089,300,18688,69935,28830,42337,23834,16621,314,16000,11917,13485,862,15994,5175,15367,15994,11917,18817,1568,21953,13808,392,16151,3300,22947,40769,7840,9408,25089,282,10976,5488,5000,9722,16621,13956,9418,24415,3763,470,10036,1725,549,314,5645,10976,4547,21285,29793,706,862,314,19130,1900,35570,8781,12544,24148,706,22580,4861,12858,8154,1800,4861,36065,282,17876,18189,24775,15257,16900,14740,10976,22825,12544,16935,20385,10976,38213,44134,8467,392,4391,7213,9565,348,12544,24148,6272,100,18817,119172,10663,44247,9408,19444,11917,75266,54157,49889,9408,23834,22894,10976,5604,17876,18189,70,10976,27911,6429,470,40769,7840,25089,10976,7213,22894,7840,784,12231,11917,51746,17035,3100,188,27654,17719,94,14081,706,282,2666,23994,13172,14740,59586,18817,11563,45376,15681,33707,12544,11604,6800,17876,188,18189,28225,2509,44247,71503,7213,4077,6586,15681,3763,157,13172,6586,47042,5865,20883,10976,23521,25402,9095,2666,87497,5018,12231,11604,20005,5018,13799,13068,14113,314,1019,16465,7300,6899,3293,17249,10192,39201,36235,22843,21699,25299,2300,392,2500,40142,19124,11604,7213,11917,17249,23521,784,11604,18503,14113,5959,92502,1019,32035,14376,220,25089,6899,5488,18817,3450,25,7997,38888,1882,35438,1019,23207,17092,7150,188,8154,34497,9408,24148,59272,11604,20385,14426,6144,45473,15994,11133,18189,1333,1960,26030,48000,81539,8781,627,5802,8624,21953,15681,8154,53000,21181,15681,862,27284,39458,18189,31581,117290,7840,20385,12287,20266,2822,16283,71503,8467,27654,2509,13172,16123,3,9408,11917,9565,9408,17876,1411,13485,3763,19864,15053,15000,7527,7683,19444,15681,13642,706,17249,25,11604,10663,13172,20278,15367,25083,5500,2430,38574,15524,34607,18817,14113,10506,470,18189,13172,314,16308,44558,21326,30596,7213,28241,1019,14426,6899,8311,627,13485,38445,9722,157,9722,43905,27356,15173,25089,14426,15681,11917,25669,314,862,9565,314,14740,7997,16308,37580,31361,6429,42369,15681,16308,3293,30000,5331,3293,31913,2587,19757,15681,12858,4861,5900,57030,14009,14113,35269,50297,19369,2195,12544,4800,14740,48575,9418,15367,7056,17249,9300,68994,21953,52696,2901,3763,12544,18817,47042,15367,20665,16935,4180,14426,4704,10349,19757,12858,11290,44711,50178,30734,862,10349,2666,13172,13328,5331,19610,35234,15053,32929,21326,80,14740,41387,251,7840,19444,470,14113,10036,15210,16621,10663,13172,7840,9408,54882,12544,862,8467,58507,53317,1646,3293,42987,706,17876,24462,251,9722,20266,7840,10036,8781,470,8467,10192,13000,7213,33243,8781,31831,40340,56509,282,17923,8938,29793,3450,6586,10349,10663,15210,46101,14113,9722,14426,9252,10036,10976,17249,34811,470,8467,7840,25810,60,5175,3136,15053,12074,24462,4500,40471,9418,36065,31361,470,9252,3136,10036,14269,5018,19601,4704,17876,16766,30,30734,7056,5018,54458,23521,39829,12513,9408,11290,17249,15053,2700,5959,5488,11274,21000,28532,18189,10976,4704,94,12607,9095,3058,6899,36065,392,10036,549,10986,6272,941,39829,392,3920,9879,3450,15681,29087,3607,10349,22357,31988,188,15470,97219,19974,15681,3000,14113,18776,4861,6272,131716,19121,43576,33243,12544,300,7213,13799,19874,21953,188,18503,6586,627,1333,12544,45473,13000,9722,17249,627,14113,13015,627,470,18503,10036,3607,18531,45473,18503,45473,26657,4547,11290,10349,14113,14740,14113,9722,12541,14500,29166,11604,2901,70,10506,36379,14113,37633,26196,392,18503,5802,5370,36065,65858,549,5488,1019,11133,14821,7066,66482,10976,8154,10036,15681,25264,90,6586,8154,19444,15053,11000,251,16621,549,24932,48697,19726,470,28225,3000,50,17562,470,42764,627,7840,16778,10192,24709,784,784,5645,39829,392,9565,17405,21953,54255,16621,45473,31047,49864,20385,6429,6586,15677,13956,15693,470,21012,251,23521,54048,470,194438,13485,7840,2500,2430,15053,2500,19444,8500,314,314,314,627,4547,38822,31,9408,75160,3763,6,20385,6429,17249,17876,24709,15053,49237,392,16621,941,706,39201,21410,24029,133284,26657,41867,44608,37066,7683,21953,1803,3763,14113,19416,26657,11917,34184,13799,2195,5758,4547,11149,20228,11133,29793,43868,4704,9418,8467,314,13485,7683,10976,22894,7840,5739,10515,8154,14113,35902,14115,5331,73620,38445,26657,15210,51746,43592,314,627220,44134,549,50,21953,4391,21953,29793,941,10820,2352,6899,19444,20385,4861,5927,27911,7840,10663,5488,13485,21326,12544,188,9408,10820,34406,188,35140,14113,392,22502,4234,40769,47042,10976,50767,15649,2901,30107,106627,18240,9722,10036,16935,50,10976,53314,7997,16621,314,18124,6269,51746,3763,14740,16621,20846,3763,12143,8781,14113,17249,706,30740,15132,9565,3763,470,3136,17876,9832,52696,314,67404,28225,29479,150,1882,10663,36065,23521,314,3763,5331,2274,2038,4234,13328,35752,19444,74796,16151,45210,14294,14166,9408,7840,157,784,48873,470,10976,9252,17249,20385,12231,24462,19757,1490,314,33823,470,627,13589,900,24462,53941,706,470,34905,11917,17249,40,314,11290,50,15681,5018,30750,15681,12140,3700,44533,392,6272,20698,784,8154,81539,24462,8467,18189,7527,19444,47,7683,706,1098,20005,10381,15681,11917,20071,19416,20385,20071,13962,61471,17844,7527,1098,43905,20244,9408,10958,470,21181,39829,15994,14269,3763,3000,31581,23207,6500,131308,470,470,9095,16935,3136,15681,20636,25402,19914,21953,18817,10976,16621,14740,17876,47,11604,10036,10506,9346,7213,40092,25089,5331,5645,14113,51526,22266,9095,627,862,941,5331,6272,9656,392,4547,1568,392,1700,941,5209,14113,12544,12231,549,70562,14113,20789,10349,14113,5175,1254,549,18503,26657,20500,52059,19281,627,18503,3136,32412,16621,22577,42692,25716,392,9095,3450,7213,11604,282,2979,15681,12544,52853,18189,33556,9408,20385,34635,17942,12074,14269,78403,19757,392,52687,706,8781,7056,41578,10036,10663,12256,8000,314,11604,14000,40076,7840,157,17249,21639,7683,13178,81539,49550,549,11133,1882,10976,34572,23521,17249,4200,28225,3607,18033,125,10672,43905,9408,18660,549,18817,470,6899,1960,20005,11290,13799,2979,4861,58172,7840,53154,6272,31581,42337,251,9252,8467,12388,627,45734,19757,11299,862,1725,10976,251,1568,11177,81225,23138,10976,470,19757,81539,314,14113,5959,25089,16308,6429,12544,549,7840,4800,87497,862,282,16599,15367,11604,23207,42651,8781,64463,40,18503,1333,35736,25638,7213,15681,5331,11917,8154,7527,18826,3293,24462,392,7840,15053,17562,40889,11133,392,17000,18503,7683,862,188,112900,120,15053,51746,37633,18817,39559,35046,13172,1568,11290,627,21953,35,26613,34889,40142,96915,2195,14113,5331,627,43278,9408,15681,8947,8467,16621,18817,314,3450,12858,2509,10406,9095,7840,9593,12388,94,17562,9722,627,30,7840,392,12600,4861,42601,49864,17942,23408,18817,330,69935,20385,15063,627,24462,13485,627,13877,29793,1176,59464,56136,46728,37633,27284,130,21953,16741,13485,2700,22248,5645,5645,2509,23521,21492,16308,3136,470,204,470,11917,11604,24148,392,18503,8781,10349,12231,549,41281,10515,51432,13485,16308,29094,28225,30734,1500,27284,5331,157,4391,30906,18826,28357,15100,6899,549,3607,188,10349,16894,157,53031,627,16621,35902,5645,23521,11917,12544,12074,8467,13328,59586,45,17249,96071,9000,5849,1700,12858,5645,4234,14113,9408,15681,16621,18240,15681,157,2117,549,10506,19757,7527,32615,20698,7840,31358,29793,23364,14113,50049,1019,37633,10349,20700,21639,12544,2666,157,10669,5893,7778,11604,11760,6429,51454,43868,3763,27889,47,17249,47042,8467,19757,7840,7370,6272,22580,19444,13485,15367,17355,17876,392,2509,26149,314,62722,25716,64290,6272,10641,3293,19444,20162,15367,627,15681,4234,10036,18817,40769,30,3763,77775,16308,314,52059,4704,26030,5959,17000,3500,18189,28222,2117,53759,16308,42667,6899,9408,8467,15530,7840,20385,29950,8154,9408,10976,18189,314,14426,16308,549,5331,220,10663,10349,17249,549,8781,2274,28225,3607,28225,17249,6899,17249,6899,7700,22580,37564,4180,15063,3763,220,46919,6586,5331,18400,1333,5645,18817,20250,17249,9252,4234,32615,45473,14113,4704,12544,600,14113,36567,28225,7213,10349,31581,9722,392,18189,14426,1568,1254,11604,18503,36197,19757,10349,15994,21953,11290,38260,9722,6272,21639,38574,20526,26657,53314,7000,37633,9095,12074,21395,19757,11290,15681,15367,3607,15053,12544,15994,14583,14740,21953,6272,7527,11447,14069,549,78,784,14113,5802,6868,862,1882,4861,20266,11604,5645,12858,9408,21326,16327,9408,19444,862,69502,38737,11760,8154,9500,30420,7213,470,40,1411,13328,18346,8467,5018,114468,13454,20385,1646,4547,3293,20266,35043,13000,4701,3450,19444,314,8154,17249,14113,7840,18660,10976,9565,15681,18531,5018,75266,549,11604,3450,5959,10976,33000,1411,10349,627,8781,4500,10036,40057,4359,19444,3136,53941,39750,392,10349,32929,26255,14740,21012,27654,25089,8938,10349,20698,392,7213,20005,21326,627,2901,32929,17942,10663,7056,7840,1646,5802,4077,62722,5018,18503,7806,12231,14269,18440,21326,23521,10036,2038,11604,17249,15681,314,28852,19130,54568,51746,14113,15681,50184,18817,706,5645,1019,4234,16500,282,13485,2979,16289,12544,60,50805,8781,627,28225,30800,23239,12544,15624,1568,7392,15053,784,8947,20698,58495,15053,31988,19444,17562,220,24283,188,28852,21805,11290,16766,19444,37633,1176,15681,11917,26657,8154,2195,9252,3450,30931,36401,54393,44166,314,15681,47042,19416,10349,23207,627,12544,4077,200,2430,6115,7997,25591,314,9252,8467,6272,16850,19130,8781,20071,8311,28225,15681,14113,3293,16308,6500,15367,314,41886,7840,1568,3293,23734,12676,17249,220,1333,47042,23436,24775,9095,21012,17876,23521,7840,10349,4861,42651,12858,470,14269,14426,19130,16935,20698,18500,3136,862,4000,470,18189,784,549,15053,549,28300,750,16935,78917,19416,49858,27284,23129,4704,13172,188,19130,28852,83107,37897,10036,17939,157,13736,4704,800,22197,12858,94,8500,282,4547,8781,19444,27284,10349,17249,392,5802,7840,10349,23521,1019,37000,4704,29166,862,7260,18189,706,862,19757,21608,47042,15681,12544,220,33870,25500,43278,10349,37633,15681,314,14113,13485,7527,32412,12720,7997,39085,3293,17405,5018,28225,32929,7527,19676,2666,706,33556,16308,18503,862,14834,6429,1254,26425,12858,9879,17092,9346,2195,41886,8154,13000,14426,6523,25716,24775,10036,15681,1725,5018,6899,2038,28059,50,15624,219527,282,30,3763,27598,470,42024,20071,33908,17035,11864,42337,45473,30,3293,15367,36137,470,941,20385,22580,4077,220,7840,392,13799,7524,16894,36567,25089,15681,8154,25089,36065,1490,18503,941,20385,17876,21482,3150,27284,47408,470,21012,10663,6586,84675,15994,14113,18346,18503,13626,9565,5645,549,4547,188,36899,1019,15681,12544,27911,17876,14113,8000,8781,14269,220,5200,116036,6586,10349,26657,10036,25089,19130,21500,3450,26657,14426,1254,97219,61154,18817,21012,11290,627,24775,83107,70562,706,45445,3136,25716,282,11102,8311,7840,706,13485,11604,12544,14950,28852,14113,1500,5959,33908,13172,549,9722,12544,2500,1568,627,392,9565,21285,11290,30734,10381,8938,4704,16151,7056,22580,941,55528,392,9408,9565,18503,59586,25716,5331,13485,22900,14454,22894,31650,6899,10663,8000,5175,7000,14426,220,17876,45633,9722,24123,18817,6586,70562,53154,22266,1646,29323,7840,10036,26096,23521,10000,18503,251,392,11604,19823,35899,16935,35438,1333,21012,470,16778,19914,12544,27284,43905,22269,9722,3607,13987,282,549,470,23521,1646,13998,12544,16766,22840,32302,10976,784,7840,35846,16935,4234,41083,12231,25559,6743,35309,12858,2038,12074,5802,157,3136,19444,282,15053,16621,392,100,6272,8467,45,5000,54932,26971,9722,314,40142,5950,15994,8154,15681,34074,12858,3136,110,28423,1411,3763,21000,15681,35005,10381,314,12544,21326,9408,6272,470,3763,10976,31220,23521,58338,76835,47042,21805,941,1500,14113,13799,20814,9408,10663,20385,9377,30517,8500,12544,52687,13000,8200,28789,188,94,11917,549,12231,8311,57607,13799,25089,392,6272,157,29793,31988,549,48575,157,10036,4704,17719,15681,18814,21500,392,36065,392,35,12544,14113,28225,15053,20071,17249,24239,5645,13172,5209,2979,17249,19757,28,7527,41811,40340,7213,408,15681,5018,14740,13485,51166,2430,8467,24123,9408,16308,4547,25000,392,25089,470,48610,3293,27911,59831,13172,80,627,21940,20698,13172,5331,22843,17876,25716,4861,15681,314,11447,37320,4077,1960,27946,2600,13172,23138,46728,42337,13485,14113,29793,31047,1725,220,13500,470,627,94,21395,4234,3607,3293,10663,26475,10663,37320,15994,3607,9408,10117,28830,24891,3000,50,30891,282,24148,46207,5200,43952,2430,55515,94083,23521,27435,10506,22433,9095,11604,28241,627,34419,25089,282,10820,282,18503,78403,10036,470,29793,9722,27924,14113,1646,12074,470,21953,7200,16621,6272,17562,1411,18117,19130,15612,20,12544,15994,4077,1646,314,35124,12858,4704,19130,2430,30351,11290,6272,706,35839,73071,16308,98282,21953,600,627,8467,47042,35902,20698,8781,13485,4077,188,6272,5175,49165,18817,7840,35736,16480,30,16778,19121,941,14715,18117,862,23521,28589,11917,2979,10349,21796,12544,20385,21012,16935,17876,24618,22947,7213,172486,21012,8000,6586,14426,18000,37229,18240,251,11133,15994,19456,37633,47042,17876,18503,7840,16935,14269,6272,627,26657,14113,8781,13184,5018,49058,15681,470,3200,18817,61154,37066,5959,15053,11917,18422,28852,3000,10697,16935,7213,14740,20171,26149,14113,18189,21031,31,21169,16308,29793,314,13877,25086,5959,24462,392,14740,941,40769,42692,51746,1333,1333,14269,42808,44517,6586,8154,41811,8467,5300,470,11917,21639,5645,392,26657,5018,3136,38260,10663,31,26475,19707,9565,23521,8000,21639,6586,76835,5645,38894,35043,1568,220,13485,17876,23521,16935,44752,8781,34811,5488,19200,7527,18817,2587,627,7840,7213,13485,41387,3000,11704,10976,18124,46919,1568,14900,22545,32929,862,26343,941,348,15053,314,5645,4077,10036,180,16621,7840,10976,314,16041,7840,862,35,8000,10300,314,172486,4861,17405,3763,16891,32910,20071,21169,6899,25716,109764,8154,51272,16621,13771,21639,17562,1019,10192,15994,64290,2901,549,17562,8467,10036,14113,24462,11760,87811,54568,18189,27174,17240,22649,14113,22894,11290,4704,38445,19757,2800,13799,8938,470,15053,18817,157,12000,9722,8900,9408,9408,83251,1803,29793,40769,22266,9408,23678,20698,5331,11704,1960,20385,14113,3607,24239,20491,28532,1490,22197,10976,37580,5018,10663,50184,10976,19613,45473,15367,25729,6586,18660,57842,3450,17694,15053,11290,627,4861,10017,31988,34406,141124,392,8154,29793,14113,29633,392,11447,20071,784,8624,13328,17562,36068,7840,47217,37000,16621,6523,12231,27946,23239,119172,12544,17245,2352,79902,26343,549,8624,21639,70,39201,17249,25089,9565,12281,9938,470,17540,470,1098,37580,14269,18000,1725,23521,13485,25089,29777,22580,7840,36166,34497,17186,17158,5018,42337,49858,19757,16621,30038,16308,29793,862,12858,16618,392,18817,34406,45044,1490,8938,627,282,8467,3136,8467,5018,251,84675,10663,20,11917,14740,6899,15624,10349,1568,14740,549,10976,6586,46101,22580,111332,14113,16621,19130,2430,21639,17249,19757,1000,11604,51746,32302,40390,9879,15681,16621,17719,7527,18245,14113,16800,18817,13485,26343,6899,16091,52263,23834,15367,2666,27598,49751,16000,9408,22000,20297,58579,17562,3900,8467,23521,157,17249,26971,14583,10976,6586,12701,58018,18531,10976,3607,9408,10036,21953,11604,28222,17249,61154,4861,41720,21326,13172,15292,25,10976,48873,8154,11917,282,21326,22580,4861,17562,26594,15994,27911,706,39515,220,17562,14113,17249,14113,314,19306,188,10663,90,4391,25089,22649,10515,20266,31248,6272,8781,24148,10672,188,4000,314,24273,26657,4704,39829,23935,8467,14113,18531,19757,15681,20385,20385,39559,124989,19601,10000,13328,392,16621,15681,19679,9879,27654,32929,17663,52959,18189,706,862,14740,5018,27924,5488,28225,16621,10400,1960,24283,3920,9364,23110,4391,314,9722,5645,36068,251,140,392,10036,7527,8781,50178,4704,15681,35344,8154,15925,23521,314,15681,21953,11290,5959,2274,11000,4547,11604,12544,17249,28059,18826,31361,13485,9408,19130,21326,34074,11099,314,18817,29793,31675,21012,15367,941,470,53154,12544,16308,18503,11368,6899,43435,11133,20385,4234,3450,43868,28225,39201,22266,125,6429,9252,25889,7370,17249,16151,24860,22894,10349,17000,314,15681,7100,55932,9252,37633,251,14113,8154,3293,12544,24123,3800,188,37633,14113,157,1882,39559,470,12544,7840,12500,220,45633,1725,14426,15681,39797,80,13297,12231,1098,35908,140,2038,9722,26475,16935,8467,16935,10036,15850,7683,45473,10976,35,4077,14069,55823,38975,706,17249,19444,40390,70,18817,1019,941,29166,9408,30,42337,5645,7997,3607,10976,19444,3293,6272,56450,220,4234,3920,18500,19500,28852,8781,23207,17346,13172,1568,29793,30906,10820,10900,9408,4077,42987,15681,30712,19914,9722,33076,18503,7527,12858,549,12544,470,314,9408,2979,35902,15053,11676,13172,43592,706,18189,10036,48566,25089,16621,12544,8154,31361,34635,18503,16308,21012,7213,13485,6586,15132,12231,15850,6269,20266,282,54346,1019,4077,18817,549,40769,12388,14454,6611,7527,392,47042,25089,10663,20385,6899,8154,21012,5645,16000,21009,64917,30734,19757,39026,6272,24462,13172,17562,188,4077,50526,48610,4077,627,2117,19444,15681,1176,7527,5175,52059,16621,470,52106,18503,40,9000,21326,30,19444,1411,2500,11604,14113,251,8311,15994,7213,13172,15994,27174,314,14113,22580,8311,20918,4077,16308,1725,27356,470,470,82166,10976,18519,9408,1098,13877,3293,23521,7056,21790,7840,65858,13476,25089,22266,6743,6272,4077,392,5645,7840,1646,12544,15681,10349,941,549,42987,862,10976,5645,27093,17719,19757,4704,282,23678,250,40983,13463,5018,941,1098,13485,392,37633,39615,5018,157,9252,21953,132971,188,10349,19130,21326,40456,10349,13799,50,22894,31361,7213,4547,1882,41811,39201,37000,11000,10349,29793,6586,10036,22894,15053,7056,25889,16621,20005,22894,19130,4359,14740,43868,47000,15994,3450,17562,784,2195,7527,8781,21012,22649,40983,19416,549,16935,15681,9408,16621,2979,23207,12858,17249,7997,60,12541,14113,59006,8467,10349,7527,20005,12388,392,15053,862,25264,21012,14113,4077,96749,42337,130,10976,16621,23734,1725,1019,15681,157,24433,9722,3000,1646,627,34419,784,16935,4704,9879,29793,17249,10349,23932,1098,13172,25089,6272,5959,28539,3058,470,26657,1490,9722,18660,19444,1568,12306,41281,28830,18817,21326,62722,16308,49550,23521,11290,7683,23834,3000,10036,14426,16308,10976,9408,20385,11290,28852,1725,24932,17249,627,51373,100355,12544,52059,7997,4547,17562,15994,12720,8781,42692,9252,24709,2430,9565,16308,45044,10036,32929,28225,8467,15850,4547,5018,53540,11917,1176,8938,20005,15681,7840,7300,8154,25089,3450,3136,10506,9095,10976,9095,470,392,157,6429,28225,941,22580,26657,9408,8467,14454,392,4077,65858,9408,3450,15423,10349,15681,16308,16308,54568,27598,20814,314,15681,941,8467,9722,706,8781,5959,16308,45436,8781,15285,314,9408,26343,37633,32935,25763,19429,9408,10036,470,7213,25089,10349,39201,31361,18000,12074,13495,18189,36065,19933,34497,8097,18817,160,7997,10349,16894,8781,11760,6743,18189,11917,54850,20071,6899,1803,6272,67981,32929,9408,1000,21103,27284,110,3607,36137,862,6900,47201,1490,13485,2850,941,54882,20071,47694,15681,31,22423,10349,1254,18240,20542,7840,27284,4391,9095,21953,32302,9252,80,10976,5018,28100,15681,14897,10976,10349,11917,14113,11000,2195,1019,8590,11917,20385,33538,16292,19306,7527,19601,21953,12231,10349,10036,17249,13799,18817,9722,15524,34406,13768,5018,30107,40769,9408,549,11604,18817,14113,8467,10976,10036,38574,13172,21953,470,470,8467,36065,23521,10976,16308,18817,58018,49751,1411,12858,44542,220,37633,5300,19369,45,15994,15367,21357,51523,14113,15053,941,7527,64002,20266,9756,6899,28068,3293,17876,16465,470,220,46414,9000,15245,392,627,784,42965,56513,7997,27259,392,14113,23521,470,22063,26657,31082,53314,8781,16778,4547,12585,15681,6272,28482,63,26017,3607,17500,15053,29711,32035,36827,2430,34102,314,6272,57372,26372,19130,314,26657,16894,1019,2509,21395,17468,10976,13642,25559,2587,17405,9252,17562,706,4547,10036,30734,3920,21326,21652,13172,6837,470,97401,17509,6272,22266,25716,18817,7683,4600,9722,5488,9900,220,12544,15053,23521,9408,10349,314,36065,33550,18189,12858,13172,19130,11917,1800,21639,20005,13799,11917,784,2300,23592,34607,11917,12544,45210,10349,13172,627,10914,14583,7517,8467,25089,1725,36065,156805,23678,23521,15681,2038,31675,6899,66902,1019,14900,13328,24148,392,21012,24462,13184,37837,4391,2600,5018,8154,21636,23207,3450,72758,10000,1098,1568,9408,31424,13764,12544,27911,90919,32973,12544,627,14746,21012,157,84675,8467,157,2000,17562,39201,7840,13523,2117,13172,3763,16621,7997,27911,7828,14740,24462,15681,941,24775,27284,862,25032,470,19757,4391,10349,33230,15681,2038,18660,20385,549,29479,13328,250,19657,10986,7213,157,27911,23521,2979,3607,4391,941,12425,49237,21012,56513,17876,282,38260,45,10349,392,48048,12544,10036,23204,21796,20209,7056,862,12544,5488,470,15681,17054,392,10349,40224,23000,27911,16308,6115,7527,10349,20385,3136,26030,4200,25716,9252,42717,31797,10036,7188,8800,14426,4077,157,17346,80,314,31988,12500,67426,15681,125500,4861,784,30,5175,941,62722,31361,6272,25456,10349,6899,36065,15847,24709,24267,3607,4704,7370,16621,32929,20005,15053,10976,7213,66197,16308,7840,92515,392,61521,41811,11704,28241,470,12544,12388,470,3700,26475,19309,6899,20237,8634,24462,941,13946,5018,10976,9408,14740,37633,3920,11604,54568,20005,2117,5959,8154,12544,18814,25716,25089,9565,20005,862,25089,47042,18503,5175,392,8311,60000,34811,12544,549,14113,15524,22894,392,627,26343,43394,18817,27284,25889,17227,22580,25810,18817,549,3136,300,157,39458,3293,627,18817,392,1254,24625,34811,157,39603,20385,11917,282,8500,45473,32744,6595,62408,15866,37633,12231,32929,1411,46809,82097,14113,14897,392,15257,204,13485,40,7527,14113,25089,29793,40456,22580,12777,21326,3800,14740,17876,1725,13172,15718,32929,21987,41720,24148,8467,7840,392,12544,5018,7840,18817,20000,7700,17249,22580,549,16621,10036,18189,706,10349,20000,29087,282,470,784,549,27174,52059,7527,20883,549,25299,23521,4300,43868,549,251,14426,1176,18826,23521,7370,30,5331,7840,251,13485,7213,15000,13485,8311,46728,8467,18817,18817,470,35124,15053,48610,862,10349,400,11917,15367,9408,11290,8467,20385,34500,23521,9252,19121,9095,31361,11917,21012,16571,16308,13485,6586,10663,14113,188,1882,110,1490,17249,4704,706,28100,16621,8938,862,784,110,11604,17249,9722,9095,15053,13172,9408,15681,14113,14113,392,54458,4704,9722,8467,12388,18817,10976,13485,11604,20071,47042,470,37947,34673,19736,12074,15681,941,1646,4704,17876,7840,17562,16559,47989,8624,45376,6800,392,4077,21326,12585,12544,15994,14426,81539,14500,32929,41867,5000,15612,8154,18503,43360,42337,8938,941,706,706,31361,25889,47042,21012,38737,9252,14113,28852,2200,15367,3293,12231,14081,21953,14686,15053,21357,18826,51432,23834,49459,251,9722,42538,40983,18240,50,9408,1725,11133,18660,19287,4077,30828,549,14113,549,157,6429,11259,6586,73714,18817,11290,25716,35071,7683,9722,37947,20385,13900,38016,251,11133,6586,51746,5018,15053,24148,11917,17876,27375,8154,784,7840,3500,188,7997,12544,5331,8467,23659,470,19914,188,19416,35309,1700,8467,314,6429,1725,32910,65,11992,7840,9408,30734,13956,34692,627,10976,16308,10976,6272,20385,784,3763,10986,49237,21012,80,250,17249,14426,27422,8154,125,17562,392,26971,88438,18817,15612,9408,282,6429,40346,22843,16935,5331,12522,23207,3763,45,11290,13485,12858,300,39201,46236,392,13485,11133,23521,10976,11917,392,28078,11447,9722,18189,43905,13172,10036,26814,5645,12231,9000,26030,94083,15132,24148,10976,3607,41710,6272,17876,11917,10036,11917,30455,60,6272,11011,12540,12544,784,7840,14426,73071,14269,12544,4861,2430,51517,30420,32772,5645,9252,15681,8467,73071,58959,33575,5645,47,11368,5018,4077,1176,5488,7213,15000,11917,23521,21012,37611,15681,7213,4077,470,1019,9512,6429,14897,9252,16443,13485,73034,8500,12388,15991,25591,6272,470,6700,470,17249,1098,7527,14454,17876,29793,11274,16621,61154,16935,13956,10349,75266,18817,11290,188,8154,9879,7213,10976,9408,25086,19444,1568,8154,175622,11262,12544,11133,10036,24029,38445,31988,21953,14454,6899,3293,47408,45,7840,17249,6272,23104,27889,5645,13172,5551,53314,32929,10349,392,11133,784,784,470,72130,14113,16308,15681,6586,15994,47042,2822,31772,5959,13172,50767,30750,8500,26030,28539,14583,19444,26657,4547,549,32393,29793,62722,3,24462,1568,8311,392,17245,10976,16308,12231,17249,2100,15681,10036,56450,18660,20071,9408,8467,1568,941,13172,22947,470,29793,4391,5018,9408,706,10036,1333,20149,18189,941,3450,13953,22649,17249,4077,17663,11917,10976,392,627,18503,188,16621,29777,3000,50,3300,22110,15681,6899,17249,6429,16408,23521,42786,1568,8154,4861,2195,6272,23521,20005,10381,14113,13485,30,1333,15530,6586,18531,3763,7495,5331,470,9000,24775,16308,13799,17249,5959,24327,16935,36219,17876,32929,27924,627,7840,13485,6272,941,6272,31361,24775,23834,14583,11604,15681,8467,20855,7000,8154,549,6899,17249,44843,17876,470,27946,1254,251,25716,17876,9722,1019,10036,8500,40224,7840,7056,19130,63826,10976,549,80,7683,3450,251,11604,21253,18033,35908,470,13172,17876,21652,8467,3293,14740,78403,121524,38445,3293,16621,24920,15053,13799,9408,16621,11917,14740,34497,706,862,11604,19416,37633,26030,9000,2509,13739,40769,5331,9095,30,14454,10349,784,18362,21181,8000,42337,26814,10349,52696,35269,15367,25089,14113,3,45000,14740,3763,8781,14426,12074,7840,16308,12570,470,392,19757,1882,43278,24458,20385,10976,16308,14426,14113,46414,10976,18189,13172,7213,784,10663,48261,32954,6899,16621,13328,54697,10349,549,40769,11368,12858,43905,10663,39201,3500,11886,10641,14269,13328,17562,3607,17249,308906,21953,100,16935,100,15053,5331,392,11604,5018,48575,5331,20005,53154,1333,7213,31361,15053,251,19757,7213,21953,20385,16308,15681,8781,4077,15681,20385,15367,25089,15053,4704,7213,45473,19130,4328,15053,6586,3450,11447,42337,314,10976,28909,20385,627,6115,25000,627,5000,18503,29793,26491,28225,5175,2822,50184,1646,15681,549,44533,6899,17249,6899,8311,15323,25089,188,15681,5800,24148,17562,3900,5018,10976,45473,9252,14583,251,12231,1350,941,27654,20385,706,18817,20385,61816,4234,706,2430,45342,14113,37633,2038,57428,61521,8781,18817,26720,36733,11917,125,627,17562,4391,12544,549,11604,12858,470,25089,6899,43278,23521,314,21953,13172,26657,9408,16935,13172,314,10976,27065,11500,20200,8500,39201,12858,37633,18346,36065,4704,8781,8154,5488,22580,7213,12231,157,470,9565,6272,20385,100,13799,14740,12544,12980,32929,11290,19444,24775,220,20266,37163,8467,15053,19444,3763,16465,75793,21639,18817,19444,30238,3763,3763,24775,4391,7056,21950,29087,6586,12112,15681,1568,15681,2509,11851,5175,5896,39750,31361,6899,34811,25402,3763,3763,9408,27284,37633,16621,11760,23521,392,549,30734,24148,8311,29144,470,7000,22266,24148,392,15053,3293,41629,2195,11917,3293,2000,3000,9722,19384,4704,13172,5018,784,19757,20385,157,35438,941,31047,4234,1176,20300,8154,2800,37633,49858,100,42987,42692,11917,4861,37476,13485,47537,7997,3293,15681,10976,27654,392,14166,188,73071,14426,12231,157,3450,3136,18817,10349,2195,46414,1019,4704,3763,19757,1725,11760,627,20883,8938,29793,18817,6272,11917,28225,32302,53282,15994,29075,22894,5802,9408,3700,81445,14740,14583,41553,2744,3763,34497,20385,7213,30420,56845,22580,6743,2901,784,3000,7527,30602,39201,3763,44134,6272,7840,27827,16000,35237,470,11604,32929,19657,16954,118519,1098,16333,41654,19441,9879,15681,13485,11290,627,392,11800,7527,4704,1098,941,2195,314,13799,16280,30326,7840,6,11447,21012,16308,2430,53188,24283,3000,6272,7840,706,26657,392,282,10036,1098,9722,7840,21326,23521,17054,5018,706,7840,784,2117,10036,8311,4200,32929,8320,12544,45825,17249,94,21169,9252,31047,4077,282,7840,17876,6899,314,549,16935,16621,29793,1000,8781,314,18189,16960,28830,627,3763,11917,9722,40769,20385,14301,2587,706,19400,13799,30517,18647,3000,86243,549,14897,20385,37125,19384,20532,68994,14740,15530,42337,20000,3000,25089,5645,470,125,2509,46866,26262,22894,18503,16308,3607,5372,10036,5331,470,46728,17249,8097,627,32929,25089,6743,10663,18817,16621,6241,21012,19757,23521,282,25591,12544,21326,6272,22357,14113,16750,549,5018,13485,1176,6899,45473,2195,20266,30734,15053,17249,1098,12000,17249,17562,27598,1568,26030,28780,220,14700,392,19444,54568,21953,1411,5331,314,13642,17562,13485,10036,29636,13953,42337,31361,7840,30,188,4391,20385,220,36692,10349,8781,5000,17249,25089,314,34497,862,13172,61154,16308,37232,23207,17158,9408,37574,6209,10036,5488,19914,24775,470,9095,1882,5645,33870,22580,35344,8154,18817,11133,18500,12231,21330,16308,627,52059,34877,10506,20385,8467,47042,1646,6586,9408,10976,32311,25139,5645,11917,8154,19444,9408,4704,11604,50178,8467,58018,941,11290,4234,24462,18500,13172,10036,314,31581,30351,2038,57108,12544,7683,7213,8154,862,12858,12544,19309,32035,40769,17562,11290,7527,51746,24775,18817,40,5959,2509,16308,14740,42717,8311,19444,50178,24462,11917,9408,8154,19444,37066,2509,1176,11604,4391,15125,22549,25089,42337,1882,3293,15681,1000,9408,157,3136,32311,10663,46414,11447,65040,157,627,40000,17158,38311,6899,25512,15524,14269,19679,3293,32302,3136,392,13172,48610,28617,2430,9722,470,37000,706,35610,7213,16308,44247,11917,8154,470,15681,784,11133,17249,13000,36834,2500,7997,14113,9095,50341,26657,68681,21326,9092,30,29793,1019,21395,26030,39891,25089,14113,7370,7056,21012,11917,20005,54167,10663,47205,470,8467,17876,38060,32104,25089,2038,4391,470,19309,2437,30,94,15000,40092,706,15681,14740,17249,16358,43868,19444,17249,95651,20385,14740,16308,470,11917,23521,784,80,81539,20071,12083,4980,18240,7683,549,16308,8624,16766,706,6272,7997,54568,23521,30,15367,15210,6586,50178,220,11290,12000,8643,11133,706,157,10976,627,9722,9722,47042,20469,18616,2038,21326,7840,10000,40556,11447,17562,28015,17249,19369,7840,20385,2195,10349,19000,5959,282,79971,9408,15681,21953,10976,34673,549,22580,314,10349,784,40,37062,15681,10036,18189,23834,22894,4704,4704,47042,37633,18503,34500,17876,12858,27755,5488,10036,8154,10192,8467,14113,16756,20385,706,1568,16621,314,22063,8938,16621,15053,7840,24775,17249,12544,34494,13172,18422,10036,18817,18503,10036,2430,13172,18503,3450,15273,18189,6000,18817,10663,5018,29094,11604,125,2979,706,11917,21103,254024,34811,1098,17249,12858,1254,29793,13485,26657,18189,8781,31047,2587,39201,8311,13172,21953,7700,25089,10349,27598,43548,28225,10036,220,21796,19757,29793,11604,8467,16160,34497,282,6899,14834,20385,18189,15053,36808,4704,7527,22580,8467,9252,470,29793,6893,9879,862,10349,3,18189,26657,4547,19416,24148,18817,2352,1646,4077,22433,1176,25716,11917,20385,52696,47042,12231,60,14113,56509,3450,784,7213,282,706,7527,59087,15681,70562,66815,64463,6272,9095,10349,16621,66482,23207,1700,220,862,27598,627,1254,5959,43655,20542,14113,1725,15053,54882,49858,12544,17562,392,6272,7213,46728,45633,9565,282,20817,941,1882,392,46728,12544,24738,49293,10976,7500,26149,54255,17249,15681,11604,6000,15681,706,314,10036,40769,15950,18826,45210,20000,6899,125,37354,40443,38737,18503,2352,19444,14113,15289,24148,117604,22423,470,18503,549,23994,15994,27284,35438,47042,5645,2117,18817,706,10036,8781,10349,50018,5331,5018,314,4200,19914,16621,157,11917,7213,24148,26030,21639,157,31988,30,9408,34184,16160,549,10976,14897,36235,19002,9252,21326,784,1500,11290,17876,1019,3450,19416,8781,22894,627,21953,9095,1490,3763,34497,30,14113,22291,15524,35328,8778,6899,12858,15681,25,1098,18189,941,10976,46621,11290,17923,13297,22502,14385,4704,392,15367,30107,16308,17249,23521,14113,20385,9252,29965,34811,21326,2038,784,10349,51746,1960,32035,48202,47042,470,47989,36137,17249,6837,11290,10349,54167,16894,706,109764,12858,19613,21012,15677,22894,188,29166,14426,3293,5645,12544,42845,17249,18817,21639,32929,188,16879,10976,22947,22840,36733,22580,19444,17249,21181,1646,1725,11133,9888,6899,25591,1568,25089,1333,12980,10976,42400,42171,392,50,31361,25089,1333,1098,2509,10036,19121,14113,13485,8154,21326,27093,15053,4704,100355,3920,9408,18240,9095,5959,33908,10036,16308,19579,17500,470,46414,33378,27770,15053,27105,14269,30,42692,9722,4391,16500,8311,12000,12544,3607,1000,5959,11917,38888,392,18240,15053,4547,20385,17876,17249,11604,10976,30,15367,6272,4861,549,12074,13642,15336,706,49751,64290,392,44542,18817,10976,251,21796,784,43905,11290,61154,36834,24775,51517,1411,12231,16788,10036,15053,22894,627,9879,14113,13172,22693,5645,20385,21326,28225,4234,43880,12861,25,1725,11760,37238,30,7840,314,9722,784,10381,9405,4391,100,314,48610,23207,1098,15681,20385,16935,3607,11917,5018,17405,25089,2038,4400,50,28852,6275,7056,862,125,8500,17249,314,17249,1568,7213,549,549,1568,125,16383,6586,8467,23521,21473,33409,14113,26030,7527,8154,27065,36564,9722,13172,12585,941,15681,24148,17719,23602,470,5645,55195,11917,27755,80074,6899,28225,11992,8467,392,6899,862,188,13172,25089,45,11604,19444,10663,19823,5802,2822,17562,7840,7683,5331,282,65858,16091,73698,11447,62697,188,627,9095,33556,6272,58018,23521,8154,17449,22580,392,10349,21000,7997,6429,8781,188,7119,12231,15367,18817,19444,39226,5802,24932,627,16621,37564,7527,12544,627,21395,784,45342,4077,9722,12074,12544,10192,32929,5331,251,14426,21639,862,17562,13328,6272,45473,65052,7840,4861,7213,49143,21953,2509,15681,8467,627,1019,24148,15053,8154,19444,10506,5018,8624,17948,13172,7840,12544,25,8154,9095,9408,80000,6900,21482,15053,21326,23834,16621,6272,3293,35005,3293,11604,10036,188,24148,2195,6899,4077,22894,51746,10349,21953,19130,45160,10663,5018,10000,28225,4077,10249,9095,21950,5331,10036,19444,29793,706,5018,941,8000,10976,7213,18817,15681,9252,8311,78829,9252,9879,12544,10349,13015,136420,2352,75266,22894,2666,8000,7527,941,9000,54458,16621,172486,21326,15053,37066,19800,22400,36567,2195,23301,5018,27654,46919,5134,627,40142,7840,10036,21953,32615,27911,17038,392,19130,8154,15524,2430,627,25089,6586,3400,31361,17092,6899,8963,30577,706,600,392,13877,12544,7527,37006,46728,220,18679,27284,24462,11227,8467,220,15367,13485,125,314,392,3763,16400,3293,9252,16308,1019,10092,36068,13000,4077,24709,5018,10036,10976,44047,15681,7840,1568,20382,12074,9722,42717,10036,5645,2901,706,18817,27598,8154,10663,549,941,18189,470,50,32409,15423,39829,11290,26927,13172,17249,8781,6272,7683,6272,549,21639,47042,14583,22947,24148,13642,26343,24415,2600,28225,17484,40769,314,10663,17346,392,45009,5018,220,5175,6115,3700,27654,5488,549,11604,8781,25591,6115,392,9879,14426,1882,220,9408,22894,35902,119172,15850,125,10976,3920,706,14113,30,5331,4300,39201,2500,11917,26030,11917,47042,4700,13799,51689,36065,15132,22894,58391,31988,12231,941,21326,10976,25763,65858,8781,10976,19130,9252,22580,8154,14740,21639,50178,10976,7840,4547,18503,28909,30,93371,8467,12388,2509,4391,16935,20385,157,11290,22580,30185,33236,11604,16741,2822,20347,10663,38737,12544,392,24183,26306,7527,5959,5645,15367,14426,3293,10036,10976,1490,23521,3136,10036,49751,2352,18660,21953,2300,3450,1646,14113,10036,6272,20698,470,862,5018,4861,21639,392,15681,4077,12544,1254,12544,15681,3450,1019,47,43576,22580,13172,26657,42337,5883,1725,6272,53000,627,314,37947,41547,16549,18814,1725,32412,6800,23521,13799,19726,18189,470,8467,27654,9095,24092,8938,18817,13485,2666,25889,18519,392,15500,10000,131716,94,28539,2500,8154,11604,10349,16308,9722,8467,10036,862,24775,40769,12544,1500,14113,26017,18826,57698,54568,706,28592,1568,5018,9700,314,17249,47,40,5018,392,26971,314,32973,20385,18189,11917,470,1098,46101,784,20385,44134,13485,26657,11290,9252,7213,20698,39201,3763,7527,706,26343,21012,13485,10976,39201,862,3450,10500,20071,5645,37633,30,6272,19444,34811,14426,29479,26657,784,6899,627,44166,3450,107841,61154,15681,32245,21683,17876,12544,9408,34419,25716,8781,5645,34108,3450,3763,6586,2822,43905,21953,35438,24000,4547,21699,20228,627,2195,69502,9722,15994,470,40769,13796,14426,53154,33086,14426,14583,8467,21953,6272,470,40183,22567,5959,13310,7213,14113,4391,49550,40000,25086,12544,25597,23521,33230,18503,10349,6272,12544,1882,6272,29075,52059,10100,12544,314,8154,9095,470,4500,35124,29166,29793,11447,59827,13799,26343,15681,251,549,8154,220,3293,21012,4861,18503,4704,16308,22580,12231,549,7840,627,8467,23414,7840,862,17500,31361,17249,31988,20266,4077,9252,23772,15053,11917,40901,941,706,21012,4701,12701,80,11917,24123,32302,4000,13485,7213,14113,12570,18817,30734,26262,101923,20385,28241,114468,31819,7840,14583,4234,12074,13589,21169,16621,26030,22947,16935,1960,7514,43216,9095,7370,19800,18189,22580,23207,5959,37633,30734,3763,39750,41547,41547,20228,6899,11604,5488,9722,5331,13485,18189,19914,80,14069,13172,16543,1200,30085,33243,706,15991,12231,15053,40688,1254,21953,29479,28225,27065,784,22894,12334,117604,23521,14426,42337,30326,12544,15053,10036,20385,941,18033,9722,17663,20385,20610,22580,28523,8700,15053,25089,2587,141124,15053,3607,63152,15681,18817,11290,68994,54186,30734,17249,9879,392,21012,20385,15060,314,17876,18817,1019,7527,862,4234,16443,17249,54807,16308,15681,314,8781,31361,17249,13454,8450,392,1568,37633,30906,7840,38060,55,21953,5300,5331,17876,7840,1882,33494,15524,10976,5645,7213,314,22580,38260,19130,157,3136,627,627,29950,12855,10976,61154,19121,12231,10976,21639,10976,67404,10349,3000,16935,11290,33870,188,549,23533,627,6272,1176,16935,11000,13172,314,40,35570,21181,392,862,5802,314,10349,36065,23521,706,45473,14740,314,14740,30085,188,6899,15681,15053,13172,40092,7840,34497,10976,29793,3136,68223,41710,42102,470,51746,600,24775,314,16621,53154,15681,14740,15470,80,3058,16308,18189,38182,5488,13172,31,470,78403,18189,47042,470,32973,34692,7997,7213,21953,10400,23521,157,4704,23521,1019,13956,9095,13799,9879,3450,55823,3500,71647,4391,10036,12858,9565,13500,392,58971,8781,34406,50,8467,13397,18240,392,9400,22110,11604,11650,392,35269,18669,314,39201,21652,44533,15681,19306,470,7997,17876,22894,32311,39201,9252,6429,16480,12544,3136,27284,392,41547,2666,4704,29711,13172,31988,706,314,2822,34657,20385,23659,40954,15681,33243,16308,470,19736,7370,54568,1098,22894,19601,20071,7213,15053,51746,21326,9164,31361,22894,5331,70,54822,15555,13360,30,28423,9408,18817,12544,7840,26770,31653,35438,35846,20385,29793,3,20165,549,27924,941,46728,21639,228935,15681,12388,25089,20385,17249,15500,470,36065,2509,706,3000,26491,10663,10569,7527,25089,38894,8154,12858,7840,2500,392,10349,14113,549,24462,26186,13015,41161,25716,8467,23207,6272,1333,69935,19757,17562,14800,26657,2195,11133,4077,19121,18817,26657,14062,13172,47694,13172,862,80,10349,20385,12858,59464,83107,16935,8154,15210,43592,1411,6586,22894,19444,22947,12074,9722,188,9408,216391,23207,784,13297,12544,21953,6,941,7840,42218,17000,15053,7213,470,17876,3136,28830,32929,39201,94080,282,10349,23521,10976,23834,30420,50,549,41055,11604,2666,15994,8154,23521,4800,314,7840,31675,5018,14269,16935,6899,5378,41538,25716,4077,549,19444,20385,8467,23521,44843,43815,16151,25396,3293,44545,28225,784,24123,30596,17562,6586,48610,24148,17876,13799,44000,100,1098,20068,21953,21639,8781,4500,32615,6272,73698,15681,4704,941,941,6586,2038,392,157,22580,5700,18817,9408,23207,7213,627,17559,2666,19914,20385,15681,5018,10976,5645,1900,35567,3136,17876,13350,10036,9252,87497,16741,11290,12522,13172,30,14113,6272,25089,40,5488,55343,14740,16621,21012,37633,3607,9408,19444,1098,7527,10036,24239,470,20385,6899,42337,39891,13485,1490,8300,21639,17876,49550,6115,251,38229,10349,16621,470,16088,90,47042,31361,627,40769,250,18817,188,13000,470,4077,17249,21326,16621,35850,18826,32904,18503,7213,28423,18817,6899,6272,706,4704,16621,34497,7840,7840,30734,9408,11290,13485,470,8467,17249,13172,8781,18817,15681,862,7527,3293,43868,17249,1568,8154,5959,24302,6500,1725,9408,5018,4861,6272,13589,12231,16621,7840,4704,11099,862,7840,54882,32311,7683,22580,24148,21012,37476,2195,21953,6586,21953,706,9408,392,157,10036,549,3900,17562,392,22266,10349,9800,15681,6429,89482,46101,6429,282,392,45787,150,12231,6115,7840,24148,29586,6899,48108,10663,12544,125,1019,392,31248,24176,8154,21326,9095,15500,2822,188,1019,15994,10349,26030,50178,627,19757,47042,18817,17700,18817,251,784,14454,40142,53580,18826,14500,14426,67699,15063,28225,15367,34184,65817,392,27755,7500,7370,29445,1176,15681,11563,28225,627,10036,22580,21326,470,784,220,37633,8624,13328,1646,11447,40,3136,23500,37984,65858,1568,1646,3400,13956,39201,25816,16465,64290,28241,2587,3058,13438,28328,10663,21953,40983,26814,47076,62722,24000,24462,20071,31988,23935,10976,9408,10349,706,25387,1960,8154,14113,627,36400,71983,9095,1882,11917,392,11920,6899,9314,5488,3450,30420,1176,24462,9408,17562,12544,167781,2195,2509,10506,48610,106627,4800,25889,4704,5959,13485,9400,5000,16894,392,17227,3300,10036,6115,22580,11143,17876,43576,5488,11422,34108,37006,10820,10036,55509,3600,288521,11290,470,2822,16621,2430,6586,12720,23521,7840,9095,101923,15718,6272,10976,188,470,43134,18531,21395,16894,5488,549,15994,21953,30,19757,15837,19089,65858,8778,39201,784,9600,35344,21639,32377,20786,1646,50,22894,41397,12607,1882,12074,12231,12617,7840,17876,17249,8781,38894,7840,18503,627,157,6272,3136,8154,314,1725,16935,5018,11917,44134,6899,1,42171,9408,10349,28225,32302,15681,2587,4704,47537,14740,18240,706,19444,19121,36692,1411,16308,21181,7840,15060,20385,27000,11604,7840,15681,627,314,30,6241,39201,15681,4861,3920,20814,2979,47989,37006,6115,392,3293,36065,14269,3920,21012,16308,13956,40,16308,10036,31361,16621,5802,7840,7000,17249,10349,15825,7997,1568,5466,34419,24123,3763,39201,1725,1411,627,15681,27504,17117,20071,549,47,1568,42102,7997,157,18500,17719,37633,14740,24148,220,157,1646,37633,53518,5645,1882,9565,6272,7527,19914,2744,17876,10349,251,4704,20385,61951,3607,17249,54458,29793,3763,9095,2274,18240,2195,36065,2500,39559,3293,34980,157,18189,1000,4704,7370,6272,470,17249,36401,15681,14113,83107,3136,15367,8781,16308,21639,27541,3450,8938,6272,7213,11917,10349,8000,14542,13485,56431,6586,8781,110,23207,314,21326,549,44865,18503,1803,16621,18817,61154,30734,1568,17092,26306,314,10976,11133,282,52696,251,188,13485,31361,17249,25089,70562,60840,10349,450,18189,627,18500,16935,16621,23364,862,147397,14740,282,6272,4391,31047,23408,11290,8000,7840,12231,42171,34340,13956,18817,862,15681,16621,21953,68994,11604,188,15060,17500,17562,50529,4704,44545,39201,90,36068,10036,32929,5000,11541,16308,549,392,64171,72130,13956,3293,392,9408,24283,24148,45160,38229,16621,46414,22894,1646,13172,11917,25716,7056,14740,150,6115,19130,81808,25716,3600,29793,1176,41701,30734,15053,17876,3763,7840,15994,18500,8500,39201,8781,16508,57698,549,15681,34387,4701,10036,6899,24709,10976,3136,21181,8467,12231,39559,28852,7527,10976,20266,220,4234,15681,17876,8000,24775,13328,32302,36567,16960,2038,7213,15524,7840,784,25089,314,14113,20900,6272,51815,13600,12300,39226,18826,26343,13476,23521,69810,16913,282,1176,549,13485,9418,13642,10976,8781,19287,6899,4704,19444,24148,18346,6586,17249,23521,12544,3450,6272,12541,21639,38229,188,1019,73071,14113,13877,19444,3136,10036,20385,1333,11917,12231,40026,15367,314,12544,18503,1019,10976,114154,25089,30,25089,188,22580,14269,31581,42337,24775,31988,13799,51526,32929,40,8781,15681,35800,8467,37476,25500,30,220,14113,10976,23521,56848,11290,39201,9095,3450,10036,13642,7527,9408,20005,1019,24462,36366,8467,17876,2430,314,7683,5018,17249,22000,7840,9700,15994,20385,5500,10406,20385,13013,17813,9543,42337,18973,5018,5500,5018,25299,16323,80,8006,5331,941,5184,18189,4547,28539,6899,6272,26343,8154,6899,16621,7213,314,17562,8985,54568,7213,12121,392,470,22894,10976,39201,2509,18817,18826,6272,21103,9565,14583,32615,7370,18092,15367,25889,16327,11604,2979,5341,2000,8467,37633,49459,862,26657,157,37633,14740,20385,10663,8781,392,6272,17562,15053,1490,25089,24462,34184,12858,94,35046,44862,392,5802,33230,3450,32979,13500,21040,28423,79782,251,706,15053,3500,706,15681,4077,17876,14426,627,21639,706,17249,2274,23521,392,17562,56450,9832,3763,18826,1646,1568,11290,29793,17346,44724,17923,77775,282,11604,19416,1725,20071,45,11917,15053,28852,48998,35962,17876,13269,33575,8467,31747,23521,11133,24148,59834,8467,10349,15994,78,36865,15053,15681,18817,36231,1646,23207,31047,6899,21768,60213,34419,157,31047,314,23207,29793,21395,60502,6899,46490,5959,14122,8154,1490,19130,8000,8467,11917,24148,470,21953,15367,7213,21012,15681,25089,51373,10663,16766,40634,16308,28391,19500,5331,220,13799,6899,23828,50,62493,70,21326,7840,11604,13485,16618,1882,470,54954,11290,22433,549,54349,149,157,1176,37291,9722,14426,4200,13172,9722,15681,549,15681,8154,12858,15367,17876,22580,96071,9261,39829,19757,11604,17249,10000,314,31248,6586,10663,7840,14113,11133,36426,18817,11133,6,18500,314,10820,18503,251,314,706,39201,78,94,470,4000,45674,4300,19601,549,17562,470,14959,282,13172,17876,7840,13956,11604,4077,31361,16935,11604,13485,9252,40,6272,19579,22825,27591,32302,34811,35902,13172,24327,188,6895,34406,16480,19384,1568,29793,25089,3763,32145,10036,18983,48610,3293,28225,15483,10349,31,7997,120,7683,8467,21953,6586,42334,49798,18817,51965,627,6429,5175,7840,13172,11917,31047,24004,1490,24327,12544,30891,6500,38574,50008,10036,18503,872946,10349,4704,470,50341,7056,49864,6272,42171,39559,21012,32744,43278,44752,29793,5802,11604,549,6899,62722,7840,29166,40092,1568,20005,52687,6586,706,314,14831,23436,20385,24148,3450,1333,18189,784,9408,22649,12231,14740,42692,15053,17900,157,125,9722,862,5018,2437,627,9408,21012,9879,27284,23521,1882,9408,6586,9095,47,862,392,10036,14113,5645,5018,45872,10032,1490,70,13808,9400,7213,21953,15994,84675,1803,23521,83107,11290,9722,14740,10976,15053,6115,32302,862,123330,10349,282,5175,8781,21326,15464,10976,25889,392,23389,19757,26657,12858,6272,69935,45473,220,21326,8467,40,2430,18189,25810,40926,314,8467,4234,282,7213,14583,58579,12858,17249,19757,50037,22894,15681,14834,7213,16621,13495,23207,14740,16935,10349,13172,29323,627,37984,2038,8781,3136,941,32929,9095,21953,30734,13172,45210,9408,5000,6586,41397,10349,22580,941,15200,14740,11604,23834,39201,9095,12388,5865,10349,862,86243,37633,14740,16308,15367,10349,15994,5802,18503,4861,314,12544,21639,12074,15053,3000,28225,13700,3763,13485,13485,40976,6272,8154,49237,30420,6743,8154,25089,1568,549,15681,2700,150,86142,8154,549,11604,1500,19757,10032,282,18240,39829,470,2000,15053,55230,1333,69621,4077,10663,12544,10036,26657,314,23207,14426,21326,18503,188,11604,19130,43880,10349,14113,17876,3763,94,392,62722,862,3763,10000,21326,4234,3293,19080,48610,15677,3763,10506,24148,47038,941,130,18817,1568,19601,37633,1725,16935,13799,10663,16621,627,10663,11290,23521,47408,17249,8467,15994,7840,37633,1019,24327,627,941,35000,23521,45436,6272,5802,20266,48697,15681,18817,5018,51965,12074,941,3763,46518,5018,20385,40142,4234,14113,43868,13799,42218,314,12858,20071,11447,62722,73131,15900,627,1019,44846,19130,706,16308,15000,1882,26971,17249,25,17249,10976,5500,2587,25274,5331,45633,8781,29793,33575,392,14426,6899,10976,49723,47076,9722,19444,15000,314,10976,25716,12100,4077,65858,549,3763,12544,35438,7056,314,10000,4547,3600,13877,58018,21326,23521,5802,314,251,9500,8500,7279,11760,11290,29122,11290,627,2352,27654,392,26657,8154,103491,40387,1019,20385,66197,15060,14113,2509,30734,22894,11133,6900,15210,157,43655,5018,7997,56450,17245,21500,58018,14113,17562,10663,1646,12074,7683,13626,15681,32929,44213,7527,400,15367,22580,23521,50178,23521,3763,24302,6272,9408,9252,12858,15681,15053,17876,56136,47531,43548,15681,16621,18726,10976,392,16443,3136,11604,7995,8467,24029,65858,32945,15035,9000,17249,45138,27479,24775,188,17876,43545,94,17249,12231,16621,120,27174,7840,18189,23521,3607,1568,3,17562,60,17876,26657,29163,15577,8515,18189,6272,2430,4547,25716,16621,23207,11604,7840,4547,28830,25089,111332,12281,90,8781,6899,3500,4077,18503,4861,47810,12544,16621,16481,314,3500,18817,18422,2666,26030,18800,706,23521,21953,11604,18817,13658,24239,10349,10976,10976,19296,17876,14113,157,16621,16107,5645,46251,941,13485,18503,20005,31317,26180,6743,7200,8154,10515,17000,15367,14113,14113,7527,14166,5500,20209,38894,7840,1098,10976,21953,22266,4234,627,9095,18189,19757,13000,3763,941,14113,20385,2666,1098,9938,1568,706,23521,13172,12544,25763,11290,29793,9252,9408,13015,36065,14113,47982,26030,10032,21012,23138,4265,27504,941,7213,6429,12544,20071,26999,31988,4547,14113,251,2901,5645,131716,188,12231,12858,220,3763,18422,706,26030,220,43868,10976,314,22894,40769,42764,79971,1700,101923,24462,4234,10976,251,22567,1098,5959,6909,15530,862,40556,5331,18817,6586,22894,20005,16778,26657,21953,22357,1568,1568,19933,2509,17000,20385,392,95739,45872,941,39201,251,59586,48610,47107,1333,7213,3607,26971,14834,14454,706,11604,314,34811,18817,34497,9565,706,19444,3293,784,12858,2700,28043,13328,6899,4704,56177,45473,12231,141124,22580,17876,1568,5959,4200,14834,9408,16151,23239,4861,14113,68994,9565,3450,6269,24775,784,25591,18817,15681,627,627,6429,4391,3136,23389,24462,5018,5018,8154,6899,470,69935,7213,4077,17249,12544,28592,36065,12544,24920,5645,15681,8154,627,1650,106627,172486,16308,22266,5959,13642,16621,26030,627,12858,12231,20385,56450,29762,31675,22580,35610,31988,17023,36231,1700,470,7840,36539,30,7527,3763,40769,15367,15681,12758,25512,627,15060,2038,2500,31047,15053,6743,2587,20698,9408,4704,42218,21639,15681,59837,23521,3763,3450,35557,5175,38229,23521,12544,7809,8467,4861,31,23207,470,10500,41629,941,15681,14113,18817,8000,31988,10663,13485,13485,4077,16308,862,16778,12074,26657,25440,1176,81539,627,1098,1568,17562,37000,5000,6115,21953,220,18189,10036,7840,16621,10349,470,5959,13172,5645,157,314,2509,42337,7213,8938,15035,3763,15994,11604,18817,19613,22266,1111,22580,16935,19444,10000,18033,470,627,297930,5645,11917,31211,9095,11864,392,2352,15681,9879,5802,15681,3607,12544,49751,13172,27598,9408,8467,11290,16308,25089,941,14740,9095,1568,17249,40769,392,10506,9198,3293,20385,29552,24148,19287,41720,17562,98787,23687,15718,784,25,18503,15367,25889,16621,34240,13485,470,941,20385,37125,13485,392,30966,49751,13172,15681,6899,15053,627,627,5331,11290,549,5645,20698,1254,12432,10976,25889,3136,10945,51746,25089,14113,6583,392,22580,24775,51746,392,18211,8311,54568,251,29479,10976,10663,3293,627,26030,251,6899,14113,627,15681,7840,15681,5488,59586,6586,21482,16621,10349,4704,250,14909,3763,21326,20266,57108,27598,2744,10036,5018,11604,78,6429,16621,17634,17562,7840,9252,5331,7527,627,8467,706,28225,13771,1490,120,7213,17876,2979,6899,20385,282,38445,26030,5018,43360,43278,125,45044,24775,46919,627,19707,19130,33556,18503,42692,44849,6586,50,34497,41055,1019,8154,220,23521,25873,17249,19416,22567,10349,22580,15850,31245,18500,10036,11604,8467,314,40,20385,3450,392,45204,22894,1333,59827,8938,7527,18189,26657,1333,18826,31047,18817,5802,11290,6115,5331,16308,5331,19444,12544,12858,314,19657,2195,1568,11917,7056,50178,706,18481,25089,314,92070,25089,17249,39201,18817,9377,627,941,7213,41883,24462,15681,13485,7840,20385,19130,10036,314,470,39201,46919,9095,58971,14113,7683,314,470,19089,27356,40362,784,35570,14426,18817,5959,13485,16308,16778,19757,251,862,8624,14269,10036,5802,7527,22567,20005,6617,11604,17405,34811,8963,11290,7840,392,15681,3450,282,706,19130,2038,39201,19444,8467,10349,20228,200,8154,9722,13485,19757,5018,19914,470,6586,43576,13172,9722,7213,62057,16308,16590,31675,10663,2200,5488,29793,23521,13485,941,7200,23521,5645,10000,12544,12544,33378,40142,32929,24148,14636,19444,2666,45633,4077,39559,37633,89379,9252,1490,49858,220,1803,8006,6586,56450,5331,282,62719,19757,15681,32929,14454,19823,26770,54405,392,12700,251,78403,1882,28852,21953,11133,12544,42965,53314,7840,706,20500,12544,1646,11604,15681,19500,12544,3136,19707,34240,3,15400,10976,10000,17562,15681,47377,5645,7213,68994,81539,16621,5802,9095,5500,7840,13495,24571,20814,15524,188,1646,627,15496,51746,9700,7997,24283,5331,3607,17054,1803,5959,549,29169,35,13799,7213,20228,32929,18092,12231,14113,3607,2700,6272,43868,38574,17876,7213,1725,1411,3500,8467,157,27598,17249,29793,17249,36065,30367,470,3763,21297,39593,314,68144,15994,1803,6899,470,4704,23518,251,10036,14113,20005,8938,14229,8781,15289,13485,50030,7527,17249,9565,21953,8311,3850,7213,10976,21953,16935,6586,17876,7840,200,7370,29075,43880,392,31659,8311,11917,314,28909,2430,8467,15681,10697,27911,19444,19883,31361,2587,9722,13015,7213,5018,1882,7213,15681,7840,26096,46728,4391,11604,78403,5500,10669,18817,15681,7370,34497,26657,8781,13495,13172,41397,5018,32302,1803,15681,34400,31988,15367,5645,37006,50,21639,6586,44752,7997,6272,21950,18660,15681,1725,18817,8467,784,706,30,38229,9722,19444,6500,11917,23521,3450,20071,13799,10506,470,34905,9722,4200,20800,38163,188,314,10000,68148,3607,13500,470,6586,56450,6899,34240,1411,15681,941,18817,13771,5018,3058,25089,14113,12272,3293,10450,38400,8154,17305,3293,38809,30405,19444,28225,27284,18817,40224,18983,20385,1568,16138,10349,39750,1568,58507,20385,18189,5959,10349,2900,15681,19444,706,94,392,94,11290,7527,17562,7840,32929,14113,862,13015,44500,18240,68681,56136,43868,24462,470,10349,21012,11604,7840,470,19757,10506,706,8467,941,392,17249,8781,11917,23414,1411,10976,9408,12858,15681,31047,21326,44517,35900,27654,20005,16935,220,9408,3763,125,16308,26657,22580,1568,26971,15681,16308,49864,13172,15053,9252,2430,9408,14166,9408,36231,15367,31,19444,32973,282,57391,2979,32615,1490,39189,12388,1646,7683,9408,14113,314,24681,5865,26594,6000,1019,11290,9832,11917,1882,15681,18817,14897,28222,20385,1411,16621,8467,3920,16621,30,37125,14740,20005,35,43143,22580,1098,49237,18503,26030,9722,27190,13962,1098,24415,31988,7213,6300,470,26657,42024,392,54568,470,5645,54568,8377,11851,15063,18817,51028,14426,11133,10349,2901,11604,31361,10976,73698,13956,9565,10000,8467,23521,11917,35570,3136,43576,42000,941,19121,4077,24775,15367,14113,6743,5645,26971,25089,15289,16308,549,10976,941,18817,94083,22357,13203,33870,17553,10036,2038,18033,20385,7213,7997,21953,49174,53941,25889,53521,4391,6586,70562,30784,10663,4861,10873,18654,53185,9408,14740,63152,1254,15681,21103,10663,28225,13485,14740,3800,53872,87811,22580,15367,39201,282,6586,549,11917,14069,941,20855,18817,21972,10349,21918,9565,9879,1882,157,44003,7997,862,17249,627,862,17562,10036,11290,15367,15035,9500,188,21639,25365,8154,14113,7213,10349,10036,12544,15035,35338,29777,44247,7997,3763,15681,2509,23521,125,1176,549,27284,17813,10663,314,11447,10976,93769,43278,6586,5331,1568,41553,862,24123,11992,21953,99440,392,18817,314,7056,32302,42551,20266,103491,6899,16778,20385,17562,100,35124,26591,2430,19707,90,3450,16500,314,21953,131716,10349,32929,11604,8467,7840,26030,13877,22000,470,549,47,157,627,10000,16308,39829,6899,399,2979,549,1803,3800,16621,19444,10036,314,13328,5331,18817,22843,11290,1882,54255,470,8700,23521,9095,12544,18669,19757,11604,83107,11917,2822,16935,4234,314,15681,10976,3607,55515,24148,3000,12800,39161,23521,10506,392,56340,36567,4861,12074,14113,53787,12800,11290,392,13172,73633,7213,392,45473,8781,6272,13962,251,549,53314,220,56450,10635,8154,15053,11917,7840,25716,19883,45473,8500,16621,4391,43905,9879,28755,15053,43592,2000,39954,4391,15681,23521,14426,21953,21326,4861,46728,12544,1882,13485,2000,8154,14740,21326,37125,2901,470,31358,12858,98066,14856,188,21326,13015,5959,13962,19008,30000,40634,79616,282,1098,6899,4704,24462,6272,15521,104216,9879,8467,21639,251,6272,60831,38063,14740,14113,46414,43905,627,11563,7527,14113,9252,7997,1019,51589,17562,21012,30906,12388,3700,6586,43592,15994,5018,21075,6269,18801,9095,150533,41281,15681,22894,22433,45542,784,10036,21639,17249,34497,10976,2800,10192,1882,1254,16621,11917,39201,23521,5645,4861,44843,26657,12544,9543,7840,5425,34184,11917,37730,26657,2822,18817,11290,17249,4077,10349,30,12858,16778,6896,10976,16935,37633,56450,20385,56371,10349,24775,29479,1490,3500,7840,10349,3450,22894,23408,29006,11770,470,862,12544,9252,188,26149,11300,10506,8467,2352,19416,1411,862,1725,14897,43592,4500,3136,6899,12544,11604,706,13485,22580,16621,392,3293,10036,14113,36899,784,15994,30517,7840,470,16935,6272,69935,17876,13877,4077,2666,13172,14454,15681,14113,43905,24709,47042,10663,21953,14113,14113,61471,862,19601,24327,18158,16621,13172,1254,43128,18817,64823,4077,11200,39201,48610,282,23082,20171,392,10663,6500,5645,14113,78403,15994,26017,2430,38609,10349,21940,17844,1646,24462,97219,40,10492,40769,10976,6586,9408,10036,108371,17562,18033,1725,9408,30856,18817,53314,26657,15822,22715,25,15681,1333,19707,16480,5488,2509,15053,56136,1646,941,21326,31047,7809,7213,12231,470,42337,21768,19130,4200,15681,314,13172,40,21012,9722,51746,7370,18817,5645,103491,13799,627,21326,10192,31524,18000,13987,13172,23521,21739,862,3058,9095,7700,22649,18660,10663,314,5175,7213,16308,20071,48955,16465,12287,40556,14113,34406,52959,17747,470,17249,39829,7840,8320,11917,48610,7119,4000,20005,5331,13000,24283,17484,7213,3800,15681,6476,4077,1176,157,5018,47042,15053,22580,13172,25089,100,6272,16894,30151,53154,7840,941,15800,1568,220,1411,30564,21953,88595,1960,16621,21009,24305,4704,15681,15681,157,549,12231,1490,15681,10663,20385,17876,627,18817,10036,15994,64290,199,36730,157,81539,25744,11604,50018,3763,5959,627,31675,14113,1882,10349,5645,18817,23521,2666,470,22649,13015,66485,51746,7527,25089,21953,9408,21953,8624,17346,8311,7840,35752,25089,24512,5018,220,13642,10663,6272,9565,10036,12544,11917,12858,26343,19757,8467,260296,392,23207,30420,392,13485,4300,19130,862,10506,40,9722,549,12074,21953,30,69502,10036,100,28600,3607,10349,15994,9879,42052,251,16621,22266,282,18817,5645,12880,19384,7213,706,13799,25089,12858,20071,6586,23414,11895,1333,18817,13642,11917,36692,10192,11133,10663,11133,33823,55638,25716,30,16719,4700,13172,3500,12544,45210,13485,9408,7527,17562,21012,20385,5300,49751,4861,14113,36235,706,16308,20071,43360,39829,5331,27598,36899,28532,5018,3058,15681,3000,15681,19444,21953,314,14279,51075,4234,8624,36065,24709,20385,27284,8311,157,37611,20297,62722,13799,14740,13328,5488,2600,15257,31361,11604,9565,392,6272,32929,23521,48547,392,8467,37633,2274,10349,392,4234,45542,2200,19278,3,23521,12544,5331,22900,32578,6429,14583,24283,19444,26108,12544,4391,10036,27294,11604,22894,7527,470,18817,627,188,25089,14740,45,13799,23521,14269,15681,1490,25591,47076,30,18503,8154,41400,13485,11917,21326,23207,3058,5018,13172,6125,32302,9722,39201,188,35808,65545,470,19444,3700,9000,73310,34340,19071,50861,7840,3763,4547,19444,27284,48610,6272,110,33243,14113,5739,7840,31361,1490,40926,6272,5959,7840,19444,2500,20005,188,17249,6586,22947,2666,862,706,3500,15681,35438,13500,5331,5959,13485,90,34497,26657,44517,13172,30417,15681,10100,9252,25089,11563,25399,188,14113,220,627,11133,1800,14113,22580,10506,21950,36065,26657,25889,25402,26030,14966,10349,2274,41632,37006,5883,14740,2038,20385,3293,11290,5488,16308,11604,17249,49751,73698,1098,15100,20385,25591,21796,7840,25089,23521,392,7683,26657,5018,48403,52373,470,9408,69935,32929,23207,52059,6000,14113,25873,16935,33870,19121,470,15530,26500,42651,18240,2117,8154,16621,3000,2195,470,13799,78403,3136,13172,29793,29793,784,49143,15681,14740,32973,42667,1019,706,23050,3763,42102,18189,23207,10976,9408,15329,39615,941,56136,15257,80,5645,16621,8386,20,20385,11290,10036,22357,19416,22266,5018,21953,15608,45210,6272,23436,8781,8938,3300,22580,6429,8467,12858,97235,188,5000,13739,8154,1019,32302,24462,17876,15053,16000,3450,2666,15035,7840,470,31211,4547,17876,22580,12858,8097,103491,157,300,314,27598,188,941,52687,784,16621,18817,16753,9565,6272,706,12541,18503,11259,14113,46101,10976,314,16151,392,72130,19444,941,50,8781,3763,8467,549,9252,48403,51746,68994,8154,5175,18503,549,19482,17158,12074,20855,47042,27924,8467,24618,6272,2901,20385,188,470,6899,26657,14113,20385,9408,1725,706,11604,10976,25889,314,7370,220,4077,55638,23521,9565,25089,8781,314,17876,9408,12388,44846,251,6899,54568,15994,15053,15681,3450,26030,1200,941,49751,157,19130,30750,9408,784,32302,784,20071,10976,40142,7527,250,27654,39499,9408,10976,7683,27174,21400,12544,10349,15000,549,470,12858,14740,25889,8311,125444,8467,45542,10663,100,11992,10976,28830,7840,392,706,17327,5018,25456,15994,43902,14113,5018,3450,11917,27284,17484,26180,68994,6586,41193,12585,12231,3136,16308,15053,10349,8500,18817,17249,11290,12231,44752,40,18346,13485,21169,627,9565,10036,2352,627,36065,29793,8781,3293,76029,14113,32578,32302,12231,9252,21326,3920,21639,9408,25716,12544,30326,17876,7527,4234,10000,10192,2666,65817,18503,20698,35617,28909,47217,6899,17249,19384,188,3450,16778,21012,25,862,15486,18817,21395,11290,4704,1490,48867,6586,6743,282,18760,14740,21796,26804,37006,549,24148,19601,15367,314,13172,3136,49864,1882,15681,1490,18189,3763,59338,8386,21768,24148,6899,6899,28532,27921,6272,3763,18189,32772,10976,17876,15681,549,23521,5802,27284,13589,6429,13799,15524,13799,8781,62095,3763,470,8006,706,1960,8781,18189,2038,13328,7840,8467,7840,31047,4000,7527,26500,6586,17249,26149,9408,5175,40142,36774,40064,11290,31361,47038,18817,13172,3450,6115,8900,549,10976,282,4391,25089,2744,150,6272,5645,314,6272,25716,3800,94,941,32302,6899,43905,65858,38574,42337,11290,314,10192,314,7527,16568,53580,5959,34497,3500,9408,1803,17719,627,8006,11917,15367,20385,42933,28225,784,18817,9408,15988,37984,25089,26657,157,14113,23521,13322,314,627,2300,13454,1725,45473,30351,43416,392,11726,19444,28225,25716,1300,10349,18817,19000,12544,36065,392,1725,36899,7213,15367,3450,16308,9565,25089,14113,14113,10663,14740,314,6429,29094,19312,44843,30,32744,150,11290,4077,8467,11604,14269,42400,11917,40142,7056,56450,23521,15681,17249,16621,1700,47,94,14113,34108,54882,941,220,45473,12544,16766,31,10036,103178,6272,15367,14583,16621,13485,22947,22580,15681,3450,9722,3293,13799,14113,16838,22580,57526,87027,20385,6586,627,18503,19676,7527,18817,6272,706,15681,470,1646,5331,12544,15681,314,20005,3293,43626,8467,549,8781,8781,31361,16725,2666,21950,10349,188,35617,21893,1646,9408,314,53872,22580,19444,13956,1176,157,3293,15530,5018,22473,20100,25089,2587,13485,5802,14740,23521,3607,21639,7919,13015,282,19707,13589,28015,1550,43905,5488,1019,47042,23207,17876,12544,314,11604,53154,17719,14426,6586,20542,49000,18660,9408,21953,14113,862,392,3,25716,17092,18817,28288,10036,53314,94,24458,5018,28225,14269,25716,16308,27858,22357,1882,20385,4704,40,862,12231,1803,4391,8781,6586,9408,44533,16621,37066,24462,1333,16546,11917,48534,10349,20005,30891,9722,5959,14740,2822,7213,3607,3607,1882,36219,2195,10976,627,188,9408,9408,25402,11447,22266,38574,9252,18817,50805,26971,7000,1568,40688,5739,24283,1176,3136,47989,4704,3293,251,16151,11604,13485,20266,15524,21950,20385,7213,5645,20385,3763,10976,8154,4861,392,16358,17249,4000,7840,470,9722,3293,21639,16308,15718,21012,28225,44875,35168,40769,35237,13877,20695,13482,7213,31361,5645,52059,392,49431,11917,7213,19444,34560,470,188,43281,23129,55932,470,22843,14426,6115,20385,26657,8781,10000,16621,17249,11133,157,3450,14740,10349,33556,7665,11000,4861,1882,10506,5802,17249,27598,20385,67483,8781,20382,15681,26343,16308,549,7213,627,11917,12544,3450,3920,6586,8781,19601,20071,17249,1490,30734,4704,12074,32302,38016,18189,15681,14113,45633,11604,25264,43905,15681,9095,21558,14426,13485,15681,28589,10976,16286,5018,9408,7840,20385,29777,64290,15367,19757,5645,20385,157,34,28225,19416,72758,25089,15681,282,1098,12231,5959,16618,11604,1646,220,5959,18519,23602,15681,15323,13172,94528,52696,10976,10697,22580,17249,14069,14113,314,5883,40045,28852,30,4704,2430,706,7840,11917,1725,6429,188,7683,627,1882,13172,18503,43278,52959,3607,45,46518,15837,61816,27425,21953,15681,11917,1490,25000,392,26030,6269,34905,13172,10192,7527,14426,941,10036,48610,23991,39201,9879,67113,45473,44790,28921,32302,314,862,9565,89103,37611,6743,18817,1333,10349,61781,18503,39201,12544,15681,52959,13015,7840,9722,30734,9565,16160,28225,36899,1646,39201,5018,29009,157,7053,23521,156805,53185,7840,470,706,11133,282,110,3800,20385,14834,10976,16935,11604,10976,13485,18503,1803,17249,65,20385,20237,13495,18817,21500,706,26971,6586,7527,1411,12544,15681,56450,12544,314,9408,19657,13172,282,16151,9408,13172,18503,188,5018,30251,16621,30,2500,27582,23239,18029,13172,29254,11099,470,1333,9408,80,5488,17249,12544,3607,6968,24000,1254,24148,38251,16148,7213,44228,25274,26657,18189,17249,7840,14583,16308,7000,13350,21953,19757,4547,282,10036,12231,27689,46728,15681,627,45210,16621,627,30734,1490,1254,23521,470,251,4704,9095,11604,282,28980,1803,21953,13485,18817,14113,18346,25597,39458,26343,13799,188,3293,10349,30734,314,7840,29479,23104,18189,9408,18189,18240,1019,7840,2117,10349,5000,11099,470,392,706,21639,39085,24085,8674,10976,83107,19444,314,251,16308,21953,16621,3136,59087,1333,31988,60994,23207,4861,22357,35846,22580,21953,3920,15367,121681,13485,14113,17562,1019,8938,21953,3136,17876,4077,20385,39226,314,49751,11704,3763,941,18817,862,11290,4077,15681,33870,4861,24462,21655,11917,3136,6586,19444,9722,13978,45025,48108,314,16621,17158,157,12388,13485,34811,157,42102,22266,10036,53185,28222,13777,18503,29489,5331,56450,21012,7683,11133,23521,2038,15367,2587,12544,56136,2500,66150,8467,40092,4547,15681,4077,62653,23722,31581,14113,18817,22894,2430,17421,8467,11290,5645,7370,34497,6600,15681,1882,16935,4077,13589,784,7213,5331,627,7370,22894,1568,31361,12849,76835,470,17876,11917,34497,16010,18500,13956,10976,16621,11604,16935,21639,941,10036,25387,10976,60,16935,49237,4704,470,17249,8154,11848,53314,15681,54568,2666,29793,7997,19444,1333,188,2700,150,4391,7213,706,12858,34497,8467,11415,12544,13172,78403,7997,45473,10976,7997,10976,10663,18503,18000,188,47120,15053,5018,9408,12231,15210,48296,23521,24462,17876,15681,17126,19444,15530,56450,15053,27000,21181,6429,15612,4077,10976,24433,14113,314,9408,22580,3450,18817,25810,6272,18000,220,22166,34240,8311,4704,13900,15200,2038,14583,11290,94,26343,32954,627,7000,14113,29793,17249,53188,106668,20385,19657,27924,4704,13877,8467,13768,220,15649,8467,23521,22502,3763,392,23505,392,20385,53314,24600,25716,7370,21639,17876,68148,6586,9879,14000,44043,14426,3700,16935,6899,13799,16766,48296,37633,50178,14740,13485,30107,36000,12544,549,26030,784,13630,188,8467,50178,13485,19707,16894,5959,16308,23521,862,706,6272,941,7213,59504,6272,20005,26949,21326,627,1568,15681,6272,58172,18450,314,23207,8781,706,5018,13172,27441,549,23521,20698,55515,13366,1882,61286,7213,11290,38251,549,10117,470,10349,16099,17876,7517,24148,40889,6586,392,19444,20385,862,8311,53154,43905,8154,10976,41710,13799,12544,10976,26657,49237,3136,392,21181,114468,27700,4391,80,10976,5175,30734,125,36567,4077,21316,4234,16621,5018,44711,25089,16621,20385,10663,1882,12858,7840,18189,18817,8781,3920,45542,10349,251,26657,15994,7840,19707,17249,47217,27889,5018,7056,36231,40092,3920,392,12143,157,10976,43548,10976,16264,7213,23521,10976,36968,3500,2666,34497,30583,26030,627,11604,27911,96749,31581,48873,12544,29793,40340,25004,44943,314,17249,23270,7840,44611,11917,22947,9500,706,7840,1882,23521,14586,30734,8154,17562,14113,220,10976,34497,38260,11604,15530,15681,9408,3136,8781,15053,18817,70,20592,13485,34497,48196,8467,8781,47042,40769,36721,18503,9722,188,314,25089,9408,12544,6000,15367,21953,10192,42965,10976,470,54458,15323,7997,392,22580,26971,5488,2195,23602,39829,30750,19707,26657,114468,12544,549,6743,31082,17876,49293,5959,24775,14426,30596,18817,37633,28608,21012,12544,8154,16894,27284,7527,392,21012,25089,19707,314,1803,8643,4704,8311,6899,12544,24462,8154,16308,122308,18688,7527,2600,33575,94083,314,17562,35752,12544,10722,6115,26030,157,12544,11604,57961,314,12231,941,30,65858,22621,19444,220,4800,23110,10036,7213,6899,37498,7840,23000,12231,2600,35309,941,941,33575,188,14113,1490,18189,10663,19444,9722,32973,22580,20,15681,7213,549,39201,2666,14500,11604,28909,24628,12600,4861,30734,15132,20071,15367,21953,20385,16935,20385,11133,21856,314,14583,1882,52263,14426,706,10976,9408,2509,2195,40092,18817,40142,43905,24148,1019,15897,2822,5331,26528,5927,3450,39750,4861,18817,11133,15367,36711,29504,8000,11000,11290,15524,16107,220,17054,18817,125,6272,20385,3450,16399,12560,18660,27435,37125,21169,4500,15681,17876,16621,28357,14856,25299,14113,31449,5331,28539,55901,10976,51373,50178,15994,6899,7213,7370,5959,38574,10976,8781,26971,18669,4547,4547,29793,58018,2200,7997,26657,20266,5175,549,50805,1725,16935,17249,18817,9500,40769,14269,39201,17249,137885,2800,17562,4861,9408,3293,2274,48998,32929,14454,10036,1019,15053,46251,6586,784,549,100,706,13172,15681,11604,6743,7213,3763,31361,17249,24462,16308,39201,30282,1411,4704,2587,157,11290,6899,30,10349,39750,28927,627,5018,10036,23834,392,52066,12858,3293,10036,21326,5959,5645,16621,784,38260,17719,30082,23521,3136,16621,16151,8781,9408,4861,47042,26500,7850,13172,13172,470,549,18817,12858,30,18817,18817,14897,314,29774,29793,34497,20385,12544,6743,6272,157,35752,17249,627,2666,18033,392,20071,14426,1019,12544,549,64290,150,392,28438,12388,16621,627,15053,100,8311,220,6500,282,9722,12231,862,7997,25889,16935,60213,2038,57990,43655,7213,23521,157,50,24386,14113,19130,18817,220,21316,8781,22000,10036,34419,8781,314,2744,7527,14113,16621,15053,31047,157,1000,7997,23433,6899,15681,18189,20385,16621,43278,11447,4077,70562,40,15994,54926,53314,13589,4500,392,41340,47669,10036,784,6,18189,2666,11917,13172,29122,29583,6272,9408,125,9095,29793,7840,18900,8467,470,706,2666,21326,14834,3136,17249,23834,15681,48610,46223,13172,15994,314,20071,3763,470,24148,17249,17249,4234,12544,13172,25089,1019,44134,12639,11917,13793,314,21639,45734,7527,39578,16599,22266,23204,1882,392,10036,28225,32302,784,627,93079,17562,23521,28852,7213,59586,58018,49864,26594,16308,27065,37633,94,4234,11604,20385,12544,23060,11604,13150,38894,7809,16308,1646,157,20385,7840,17249,2979,9095,9832,10976,20266,21012,11917,4783,8154,38737,36636,19243,80958,10036,7213,5328,15367,17710,24462,4200,11604,44219,37984,45160,12529,23207,25823,15053,470,19444,2500,22737,11604,48296,39891,10192,1411,20071,9408,314,1803,33500,20698,11290,16308,30,4077,12388,15210,2500,25299,3450,39201,7840,15612,18531,30734,9252,9879,44134,29793,14113,37633,26064,11290,282,13877,12544,5175,13485,392,3763,19,1725,18189,26030,2509,15500,27591,30006,14113,20698,1333,1176,78403,19676,7500,30420,41281,74639,3500,17942,392,9408,50178,16935,2352,27463,8000,157,18189,800,35,862,43905,21326,18045,29479,14426,8154,116036,17876,862,18189,314,43000,14426,157,19757,2744,11704,8467,7683,17249,9565,26971,10036,15681,45633,20071,784,4077,784,10192,50,150,7527,11917,32910,15500,50150,392,941,17249,20297,706,13604,10036,15681,21012,18531,941,17876,20698,7213,5331,7056,18817,11917,12858,36197,36692,15681,19130,14834,23834,11917,15132,21012,21953,9418,47217,784,16465,28225,38251,13172,19130,5018,15500,4234,36065,16308,14113,16543,92070,4000,16741,314,34497,10976,9408,19030,2038,18826,22580,11917,36834,13485,16480,15053,11917,11917,8781,11917,3136,13642,2666,11400,32578,251,36379,25089,10976,1176,44247,47,9722,18817,90,21410,200,55845,20005,627,11604,15681,16960,18817,38869,34497,45542,68994,13328,13702,9252,49864,11177,2352,16778,13230,40456,15367,40926,22843,23521,220,35344,40769,11259,2038,30734,549,19416,470,5488,18000,5331,706,44517,43278,144261,41886,16308,14113,1254,470,20385,21953,16010,36068,25591,2666,100,32929,4547,470,627,4704,7213,18817,30,30,27654,11290,60,1803,22580,18817,3763,20777,25299,40,20237,13172,2666,1019,7213,7840,21953,6899,15053,15681,282,11604,13799,15367,3763,33798,188,5968,392,9408,7840,7213,784,54568,15053,7213,3763,63663,54000,23138,470,193184,11604,89379,10500,45473,5645,80651,7213,49550,10036,627,6272,5018,23772,16308,11133,16465,7840,14768,20237,13589,14953,9879,163077,10036,314,18817,7056,45445,3293,706,5645,9408,5331,9879,58683,40569,41221,27193,3763,13172,19914,21953,42337,8467,20266,14897,6272,13297,3293,5018,549,20071,4861,470,2666,7840,470,2744,784,7056,19757,47217,16741,20266,3763,6429,22580,11604,3763,1019,15681,30,1882,9722,2979,706,4704,34497,7840,12900,12858,10976,24327,5645,5018,549,21326,21639,6586,8154,3,9261,37633,9164,8151,7840,23521,6743,15994,13341,11917,39750,1300,45473,6586,6272,392,549,13799,13172,470,16151,10036,7056,10506,16546,16621,17249,8781,1882,4700,13172,9722,21796,706,470,16308,44878,34108,29166,8624,5488,20385,21103,13172,19757,1019,125,52373,15994,1019,10976,8154,15053,18826,14834,30,11290,9408,42692,9565,21363,19121,7213,549,2038,862,16618,3763,706,1254,10663,18531,5018,10349,549,7840,14113,36692,282,14113,18189,8781,17876,31361,862,14426,2038,47669,19707,10976,80,11290,23521,7840,21953,5488,18817,4861,22580,12544,7527,6500,470,392,26657,21953,26657,4547,36065,18503,4077,35438,314,9252,71817,16151,470,7213,22580,2822,15323,18817,16894,28225,17249,282,17249,17249,48998,12544,20385,10349,3607,862,9408,549,22580,8781,157,61521,19444,19930,627,26500,10976,10976,314,627,50,10663,14113,16935,85702,10036,4500,5645,14897,54346,7213,3607,6899,37633,11760,37320,23521,13877,706,314,8154,12570,12231,11917,3293,94,9408,22580,12544,14113,67903,11000,188,61154,10663,21953,24709,13093,7997,11604,11447,18189,627,19130,6272,1400,23834,20071,18189,1803,251,28852,46022,37633,57526,17484,157,188,29793,12544,4704,19416,23101,81539,157,941,15681,12980,22934,627,18189,17876,7213,4861,16308,13172,25089,6398,14279,1019,6899,20005,7213,17249,14834,52059,26030,17405,9408,15994,37633,7056,9408,470,10663,1490,10820,14113,3293,32929,18189,11133,1725,49889,7840,16900,1000,13485,7683,44134,31,50,21953,15681,43655,11290,17264,26594,24920,54568,110,2352,392,1333,29793,1725,6272,14113,4391,10976,18660,7527,20385,51965,549,17249,14426,18817,500,25089,37006,16621,21953,35438,41710,1646,30,11967,4861,314,34497,10976,12544,14113,24462,54882,27598,1700,13178,627,8154,8311,2666,30,10036,21953,5018,12701,11133,16308,38000,19444,20071,14113,7840,48277,392,50178,8938,8624,21326,9832,39829,16308,25299,18817,9408,16621,19707,15681,4858,19757,141124,46728,13485,16935,8781,12858,7527,392,8781,1019,157,36065,14426,314,45,30734,627,13485,6272,5331,7840,14069,9095,21953,36065,549,4861,21953,6586,20385,12554,3920,25638,12544,19933,23834,12388,9408,13799,314,20385,941,14884,1098,10036,5959,470,392,16308,28532,14113,54847,784,627,12231,67934,32913,27284,18669,27598,6586,16621,11917,15994,18503,31421,3763,40142,23521,26591,7213,16308,3450,28927,6743,43062,8467,29793,11290,6743,15681,30734,19757,7527,16935,13799,76835,52059,784,3136,1000,19130,706,1646,9408,5018,15053,11886,18660,18817,549,470,14740,1019,13172,31361,43905,38016,18189,20237,5018,23521,12858,40769,17249,16308,549,27065,63,12544,862,2274,19613,21103,103491,4077,14454,9722,18503,54568,282,9722,19089,862,18817,19444,26296,39201,7527,25,21012,78403,10349,19757,12544,8000,9408,7213,17249,28225,706,706,10192,26657,12701,17562,14737,15053,67690,10036,32302,6272,42965,11604,17249,9408,10976,11917,19757,34497,23521,47217,18817,10036,12544,3450,16900,3763,42337,12544,2666,70562,3136,36899,47217,27356,3293,157,14831,15053,15988,12544,44134,17562,119009,470,5959,21012,26030,3058,11760,45,28225,7527,10000,9408,941,7997,27654,1568,77148,4861,9095,64290,11604,30906,21012,40,9722,29166,36968,6586,16935,34497,65858,21395,7213,13172,19130,9722,13987,26657,7840,862,11604,6115,627,38574,9565,68994,19914,8467,627,18817,1333,3600,41917,22894,10036,4500,21442,862,90947,31361,1725,26657,24029,17876,37564,30734,16778,8355,11290,3763,8154,9377,7683,13172,2822,21169,10036,9722,1882,3293,549,314,14113,60897,784,18817,23129,14279,14454,17249,15053,314,9722,5645,22580,14279,29489,57507,25512,14113,37633,48610,470,22894,8154,5645,470,25000,188,13799,11604,3763,941,10192,30420,16756,706,11290,12231,9722,15053,36,9722,14740,6429,6586,188,17249,13799,19130,28225,11613,15681,18500,16621,706,11133,6899,91775,4077,10036,14113,42337,27911,9252,27770,14959,14426,27284,56513,1568,18503,2200,2500,19817,31047,47669,28212,19306,19444,38894,392,157,7213,11133,1568,18240,1019,35124,7806,42171,16151,13877,314,18503,12388,2901,16004,45473,13485,26657,17249,20385,1725,22580,39389,1019,19946,314,39201,2430,9722,12000,52991,3293,9408,8781,129521,34497,9408,60,15053,12777,19130,27065,2650,3920,18817,10976,16308,14426,470,9722,16308,15577,3293,13485,47042,8154,24462,39891,20385,11133,18189,784,16621,19130,99440,11760,14740,40,706,18817,5331,188,52665,46728,17249,470,106627,18826,24123,18189,9095,784,1019,12083,15053,314,282,1960,282,12544,1960,14897,392,627,3136,23433,37799,862,13799,35570,35344,314,6115,4500,4600,10976,862,31361,34836,31675,40983,5645,50178,19757,12027,13328,15367,14021,17562,14500,1019,9565,27889,3763,21012,2117,15053,12548,27162,784,1333,6500,17484,17923,18503,31361,42337,5802,113025,28000,282,2587,45473,50,21975,2274,470,24148,69807,8781,20385,31047,18189,862,6743,19757,28000,1490,15681,29166,15530,20698,15053,706,21639,39201,10036,20385,706,53188,26657,8467,10976,627,7213,25716,31204,251,10976,10349,31361,13485,6899,15053,5018,11992,12388,22580,549,7213,5331,2666,13485,21326,4077,56136,9408,19444,26528,12858,23521,17562,2195,10976,8154,5018,39226,33908,15681,12231,627,13172,42052,10976,26657,9722,22063,784,33214,7997,3136,220,9252,5175,2000,2822,75266,5331,60,66799,23700,941,17249,2038,706,18189,9722,13015,13485,73071,15053,18760,6837,21639,8467,13485,470,6743,18189,3400,23834,24618,3293,37633,1098,2509,6899,34980,8781,8467,35,8781,157,40456,14583,78,392,2901,2274,44545,11604,21012,20,22266,45210,32302,29075,784,784,12701,3607,40889,30734,250,8154,5645,9879,11604,8781,48566,19444,20171,20385,13799,9722,2430,2509,13172,21953,24148,4500,14113,14897,17249,19416,392,21012,7527,17405,2352,22947,84675,9722,17876,10349,862,13328,549,53000,13000,19707,13485,11604,7997,2901,37580,8781,20385,13799,3607,10349,5959,10349,16411,13485,3763,4234,20341,29793,3293,15053,3800,21953,8781,16308,784,7683,17405,17562,15681,45473,42544,4077,9722,627,251,131716,22063,23207,29166,18189,27284,18679,16894,14113,10976,7213,12231,10976,6586,9095,392,23521,12849,31047,3,11604,19068,29479,4704,5331,251,7000,26657,8674,1098,15681,7213,7997,31361,10976,8781,14426,19823,12544,19130,38574,5018,15681,2666,5488,5018,188,22580,4861,157,94083,8000,2822,15053,22580,1019,10506,3763,9252,19444,9405,14113,11917,9879,15681,11807,17942,60,40456,27356,14113,3058,21012,862,27598,13000,470,14113,18208,706,21953,22825,5959,15053,48914,31361,23239,14583,25716,314,58579,19757,50,30,26657,14113,5959,15053,11604,20071,5018,15524,28830,5018,784,5959,10036,11290,12231,11604,10349,16308,17484,14426,862,20764,13799,14426,23207,58172,13485,31047,188,2038,3763,1646,100,627,26971,3136,30734,9565,470,1411,17249,392,12231,13500,16465,29479,14113,10036,27284,314,5488,4704,15524,8123,9408,15000,15053,8154,6272,392,6272,3293,11290,75266,7840,470,12980,33556,3763,48998,14113,19130,6241,2038,17562,3,28357,549,67000,1490,46728,5488,31361,3607,23207,26030,32910,19444,1411,13328,15681,21169,8781,36065,25299,157,4391,34497,20542,44457,24415,627,20266,392,10663,17876,22894,13172,50805,7840,68994,13000,69,549,12544,470,22266,21012,5331,30,25089,7997,11604,941,12388,34497,470,35438,21953,7840,12544,42024,470,57698,21953,7840,21012,13328,10036,9722,19914,2430,30671,26030,1254,22894,16621,15053,8467,62722,4391,37984,157,11500,32929,1960,24415,3136,282,13172,706,784,94,14834,31,21639,188,37984,31361,19030,28241,17876,58018,29586,14069,862,9408,6586,36065,18817,15718,1646,53314,5645,12858,83891,16465,22063,314,39829,80,37006,20385,314,19416,12880,141124,21395,10976,10349,64604,30,8311,11290,27654,13877,17562,862,10663,12720,6752,7175,11604,6272,470,11917,68994,47042,31361,17158,14740,17405,19757,2666,12231,627,4391,1803,16894,23521,392,7840,31650,36065,26030,7527,6586,20266,32104,200,12231,5331,26343,35124,392,8881,17249,39559,392,7213,11133,16308,44545,12231,17035,14269,12950,706,18826,23414,3500,15659,6743,14113,15257,8781,49459,72268,1960,392,392,3763,297930,24148,23521,11917,12858,24628,15994,2901,18503,21395,12544,3700,17249,29216,3763,16590,21000,1725,627,25089,157,30891,16935,7840,18817,21953,21326,862,8500,8467,2430,37984,81539,7213,46728,9700,3763,54568,62722,251,94,549,706,6272,1568,7527,15053,784,12544,10663,54186,4391,13799,17876,314,7840,3763,12388,40,34497,10663,23991,17562,6899,50,16894,2100,392,20382,16621,13172,10349,18503,11917,392,19121,13172,549,18817,34111,11604,15681,43134,14269,10036,10036,17942,1646,8154,20372,4234,60345,370,157,20385,18503,30577,10976,15681,7840,9408,7222,39201,862,12544,862,10976,33500,3607,314,11290,38822,1019,103491,10976,35043,706,3293,25591,17562,35403,11290,25744,9408,19444,43000,40,941,8938,12858,17562,4234,28830,35269,3136,15524,13956,34497,15994,13658,17249,16935,25089,1646,13799,16621,23533,6272,17249,25926,13328,5645,6600,37125,23521,3763,1254,314,10349,23703,53580,35000,9095,18817,16621,20698,29479,14113,470,2274,470,11290,15681,9095,314,20385,188,11290,282,27065,23207,188,32045,8311,10036,21953,1019,7840,18669,706,15681,47042,95000,6272,20297,157,1882,38737,1176,46728,23521,6899,2274,21326,46919,3136,27190,20385,14113,100355,15994,110,6899,7213,10349,19598,706,46728,392,26613,38574,12849,314,21953,19757,15681,8154,10986,20385,13454,23521,7213,9722,4547,188,18189,8624,8781,33243,18189,13799,29793,3200,21181,3607,73313,7840,8154,15681,10202,17249,25716,51191,4077,73131,16599,1725,62722,70,18817,43880,7213,5018,16900,21012,25889,21326,21326,13799,18000,27654,13946,549,784,43905,6272,314,6000,5802,15053,7213,784,29087,19121,9722,8500,22266,10036,57902,1019,18503,14113,79971,3763,14069,8311,1725,4600,17876,784,1900,6899,7840,862,14583,33243,8154,18503,12544,12858,11450,12000,8154,392,21953,26180,11290,7840,21012,1019,21012,16778,45928,15367,5645,12231,10036,17942,17249,21953,17158,12858,470,7213,627,45787,42337,20698,14113,2509,47989,19444,14113,12000,9408,10349,18503,7213,63850,14454,11133,40142,17885,16621,15367,22894,627,11917,21953,46534,46728,9252,15125,11099,17876,36827,7997,19924,16305,10976,19579,1176,13172,4704,4861,4632,5018,10349,24462,21639,3450,10976,15367,157,47989,10349,2352,25089,23521,49864,2587,20385,10663,6586,62722,30640,21442,392,23521,549,345,13485,18503,8467,784,5893,96915,15681,5645,1490,13172,44890,12388,37633,20385,5175,17876,42692,26657,29793,47757,220,24775,29793,18189,5175,11604,19130,120740,94,5893,10349,392,100,31361,15367,282,45436,15530,24462,94,12858,5645,22580,250574,24775,44843,2822,10036,1098,21326,5018,2430,14113,18647,18189,392,25,9418,8781,8781,470,2901,110,52520,40092,10820,9879,13172,17249,5015,470,84675,5645,18346,1019,18798,11604,15053,17876,11917,32302,21357,3058,50178,59313,20385,21326,44523,27284,11917,32302,27598,18189,14426,549,32929,80000,26644,15681,11604,22894,39829,19757,5018,1411,6272,549,3,12231,53314,16308,10976,470,10036,15681,9060,7840,17249,8154,18817,30,282,8781,8154,10036,41221,25089,100355,19757,6429,1646,2509,28532,14113,6743,13150,1960,59834,15367,59837,784,4704,40889,10036,5959,7213,14950,67354,35617,1600,5645,12287,5175,15681,34497,70,5331,15681,7213,2979,27065,70,18503,188,21639,68994,28852,17249,42557,5018,15681,10500,4704,153669,5802,16308,4077,61894,7317,16041,10976,51965,16300,1960,784,392,36899,14426,11917,220,8000,31361,21395,73698,32045,2509,16308,314,24543,1411,3293,16766,4704,33243,1882,10036,13799,13328,28241,14740,19757,282,549,1098,47217,7840,17876,392,10697,21796,392,1490,34811,11917,20385,4861,42152,17876,13065,52357,6300,19378,7840,13799,10976,9408,3920,52959,23521,706,29489,862,9408,392,15681,18312,90006,1568,15681,48202,13589,392,10976,470,784,7056,130148,21940,9095,6272,9408,1725,17249,5331,627,13485,5488,7840,31361,3450,5488,220,8624,627,12544,17562,17249,18826,30734,1019,9252,16308,784,30420,10192,18817,4500,16935,314,18817,549,5175,706,23521,27033,10349,4861,5959,75300,18817,18189,314,27598,25716,4547,7213,12231,5331,10349,17876,30734,22502,7150,13172,11760,24709,14113,10000,42692,22273,39829,4077,4704,15530,25089,44166,50,23408,22332,2998,220,18817,470,314,12544,55823,1098,29793,35438,21953,11290,43592,17249,157,392,25089,89379,3293,11133,19130,25591,7840,5645,13172,9879,4936,14113,18503,8781,25089,22843,9500,10976,10976,21326,34240,11604,11604,15458,17562,23521,18817,13423,200,12000,40456,9408,2274,37301,19441,37633,33243,18817,69935,14069,21937,15681,12074,30,470,220,6899,39161,2038,10036,7527,9600,11917,1568,627,20592,19761,8154,19757,26657,350,784,549,9948,1000,16400,2352,26030,3136,39201,11604,37633,34497,8154,74953,15423,314,19444,14269,188,706,47042,12544,16308,26657,282,22580,34497,314,36692,50,9722,2979,51373,8781,14884,282,6115,5959,30583,4077,15053,15053,6899,13485,15994,16308,11290,11917,16869,4861,3763,48534,21639,8938,50,22580,16308,18817,4861,25716,5018,40,8781,12544,20071,392,14834,6899,42987,20385,26971,9408,50,32340,11368,862,14113,16621,21796,21169,470,29793,15367,549,32305,12544,19130,14426,60,8154,30734,28852,25089,157,42218,188,470,17249,36068,9408,13172,21395,17876,3920,706,18817,4704,21953,26030,14583,16621,188,26030,10820,549,19914,30,706,100,14834,11604,22580,20297,29793,13328,9565,18660,68994,13799,19707,28068,27598,3763,79971,34387,28225,100,20814,11992,25716,9408,30,31361,470,15367,15367,706,1882,17249,5645,10976,24559,1176,26033,3136,22266,706,2901,17876,470,2666,5500,24462,627,29166,10036,9095,13589,25243,12720,12231,3450,470,6272,58579,61154,3136,50,26657,29793,10976,2822,11604,16308,16621,15681,66479,470,22894,62355,17035,4234,94,10976,13987,19130,14426,11133,22894,282,2666,46728,17876,56136,25264,6586,87021,251,30420,21953,47000,549,470,55845,392,3136,14900,5331,13900,11290,26971,5959,549,43592,3293,36899,51194,21768,35043,10349,14426,15681,23521,26657,9408,24148,4704,12544,282,32744,22580,13799,8151,15367,29793,314,4547,16778,6899,6586,6586,22260,14113,26343,20071,1019,4077,12544,13485,3450,470,30,43868,3763,6272,12544,35610,55638,18798,7500,1411,29793,53872,36065,2038,9500,706,23521,15524,14740,3136,9252,25716,27065,392,11604,12544,12544,9408,18100,392,19444,15367,8311,18817,34074,8154,470,9408,21796,53185,22649,627,11917,38251,33575,3500,549,15053,941,17876,7840,27911,16621,4077,10349,18189,12432,15132,4861,126322,4600,13485,549,627,314,43714,54882,12544,44517,65024,11447,13700,1646,549,17876,23304,15367,23000,4704,13172,549,282,13799,17346,17249,34497,470,19080,43278,2038,5959,23436,7213,14269,13589,3450,20005,9408,9252,18503,17249,157,14740,17876,3763,470,12074,50178,17249,6586,28830,392,94083,11917,8781,62722,1333,2587,314,14000,5488,9722,314,3293,282,23521,12858,1019,8781,2800,6272,12544,549,28225,16308,22266,2430,314,4234,1490,17634,11992,23521,3920,19757,10976,10000,13799,94,77775,10192,20071,2352,30583,9095,470,9500,6899,44247,2300,15681,29793,16894,14426,16935,1490,3763,25205,15681,2038,15677,22423,32954,862,63839,314,2822,106957,18654,10976,16766,14113,1254,19757,26030,10663,2500,25716,27889,12544,7213,12544,21953,5018,42218,5331,60684,7056,188,9063,22266,25264,20385,20071,6899,30,15900,1725,16894,25763,8778,20385,314,25089,25889,17249,16308,8097,41048,34845,862,15524,16308,282,45436,13485,13485,44247,4861,627,16480,9832,7527,5802,6272,39499,7527,15612,10036,11290,13877,16935,314,12231,29777,2822,23138,1411,8467,9252,862,7840,13172,9722,10349,12388,1803,27093,18033,13476,32274,8947,8000,2509,28225,7840,470,19444,35579,15125,16308,9095,11917,6272,13172,12544,40142,16935,16308,24920,22580,3450,16900,37633,10349,40769,26657,22549,13771,15957,157,1568,27911,4391,11133,13642,3763,40456,12544,18826,9408,31047,37580,9722,20385,9408,62161,15367,627,6899,29580,9565,15681,25089,11290,19000,11604,11917,9722,56121,11604,41193,24239,16308,9722,13956,12388,8624,12858,45044,10976,19444,706,11917,2038,45633,5645,6611,59834,18817,10976,10036,23521,43905,27598,38731,56509,30,13000,1725,4234,1646,11133,25089,13799,7840,1882,15624,6899,11290,1411,627,15000,38562,627,67480,7056,47042,251,12858,1568,9722,54568,22266,10976,25744,16621,30420,12544,10964,1882,6272,1646,21639,706,470,5987,1803,13172,4391,11290,14500,3293,22266,41259,1490,2901,32302,1254,14113,5018,35,12231,18660,220,34497,3450,10976,10976,42000,42692,2509,549,4234,627,13000,3800,314,14740,16621,9722,8781,13485,1882,65015,5331,9722,11964,100,16621,31361,220,14799,1098,21953,7200,18817,18500,9100,36827,3293,15681,12544,17346,73134,3136,15681,314,21739,784,27598,18245,18817,16621,11200,19444,10976,52373,25,8311,14740,10976,16308,23521,6586,23521,15053,7056,25,19130,8467,941,10923,21062,19547,17092,15681,9408,21395,16766,29793,12544,20071,13485,18189,13172,17876,19757,13328,40688,47042,26971,20385,3136,11704,39085,9408,706,9722,5500,12880,6800,28225,14426,6586,29636,3293,25089,392,13900,22894,50178,47042,16308,706,14113,7524,30107,17923,4077,83107,45160,17700,28532,12388,73071,19130,11290,13172,20385,20385,31361,19416,6000,16894,39458,7119,20071,8147,25,706,392,11290,4861,862,9408,16599,1725,15681,13799,13172,25889,20385,17663,23828,32045,470,15681,16151,12544,14113,43576,13328,17249,10976,8154,23521,12187,14740,251,25456,22894,21953,9252,78048,30734,87927,5018,22621,49174,7213,32929,17158,23436,16480,12388,17562,188,314,21639,33556,18503,17876,6586,2430,12388,16894,5000,10976,17876,6586,11133,43952,90,157,5645,20385,2822,30712,20,314,37580,87999,7683,9747,40092,11604,17249,89379,10036,13764,11290,7213,22580,11412,10036,27435,67426,6895,25402,18503,54882,12184,19030,26858,9722,10349,15994,27911,24462,12544,84675,5800,100,34074,12231,14831,1646,11290,29950,19757,43545,9879,29166,6899,10036,9408,125,38731,20071,1019,21639,39226,52034,5645,784,43952,15681,30,10036,21953,2744,6500,10976,7056,12717,2901,17562,23521,14113,39797,3763,23521,392,52853,5331,862,36228,12544,52959,2195,11500,40092,110,3058,6272,18817,14700,10820,549,627,17249,23521,13485,15053,3920,25716,100355,24327,6586,6586,22715,282,47,188,5225,20385,470,157,19416,12544,3763,20385,470,19130,24029,6899,15681,55343,53314,2000,941,13485,11133,3293,5642,84675,19287,51746,6125,4500,1490,16308,10976,27911,4500,470,7527,12231,14113,14269,31,11917,15524,13172,12544,22894,6586,12500,7840,141124,470,20385,11604,1490,549,862,22357,24775,15000,32973,3920,1646,784,21639,50018,12231,27463,784,13172,15323,392,13172,9095,39201,23521,18817,5645,15681,11604,48403,68053,24571,11604,20385,12544,11300,36065,4234,7527,1803,22260,9252,36808,10036,9408,25716,6899,1019,17000,10000,81539,17249,14426,29793,17876,314,29793,6586,11917,29166,627,16308,18503,33243,2117,16621,8781,45044,392,26030,15681,784,30,25729,28000,8154,3136,16308,7840,12231,470,1176,42218,18973,46728,2352,1803,28821,24775,43905,8781,392,5645,15681,3607,12858,25716,33741,6429,4077,50196,23521,12701,1803,1019,19924,6586,706,9408,29166,38217,14426,18826,19943,17249,23521,9361,39750,314,157,8154,14113,31361,25032,784,23994,36711,549,48296,36997,4861,282,14247,10036,14113,34497,3136,35438,19287,3293,62722,6899,22106,18817,13150,6586,13642,13172,30,470,3136,25089,30,11760,314,14113,10976,22000,6586,7500,2509,1019,14740,862,9800,20385,7000,31,26971,18817,53154,3763,16935,118676,9408,22693,2744,706,20385,19444,282,47957,21109,20432,68994,8467,627,42337,17876,18189,27755,10945,16599,27259,2352,7840,8467,392,10036,18817,4679,3607,3293,350,13799,94083,27441,30,28225,1803,26861,6586,34811,13485,470,90,392,7527,3293,11604,49848,17562,21012,12544,16621,10976,282,314,20855,56340,41886,6586,9565,7527,21796,9252,19757,54882,23521,314,9722,40926,862,45633,10976,706,157,35344,20698,24775,15681,10349,32311,68681,7527,13667,10976,40769,62408,14113,14113,16465,42651,7840,15323,21326,22063,5018,470,6272,15053,941,36711,31581,12388,8154,13172,392,20385,15423,4234,27065,10192,78403,33575,40142,11917,470,16778,8154,70,37984,7840,72130,392,59272,4391,392,7213,27065,18826,17876,10663,6899,157,13956,27654,10663,18817,1568,5645,470,13231,13172,8781,26307500,3293,20071,24123,2500,251,17249,2352,470,1,15718,13291,13172,157,706,36065,21953,549,23521,17249,18817,941,54568,862,470,157,12544,1254,10976,5959,6586,26657,50,35124,18189,1568,941,63976,627,15367,62992,12544,23536,37984,47,17876,30734,8154,3450,470,1725,47042,1803,1882,314,25299,20385,5959,39201,314,50,7527,13485,16932,3763,6272,20385,25889,11290,20385,7213,40456,13485,27911,32929,706,188,10932,21012,25889,39829,17876,14583,3136,9000,6899,52959,20610,15681,9408,6899,7840,39044,23521,549,170,22200,251,941,2587,18503,28909,94083,36802,470,27259,21326,9565,470,10976,5018,16308,30351,47201,20,9408,32302,14113,15681,9408,125,30784,706,15994,3136,14113,10036,26324,16935,30583,22580,8938,11604,29166,7213,23207,16320,6272,8781,9252,8500,46101,3293,4077,8938,19121,41221,784,39201,9252,24775,392,862,12544,9408,16383,314,9722,94083,14113,18033,22800,57108,18817,5018,7213,12231,4234,13956,2430,78403,15367,14740,4077,4861,21012,627,470,19130,11917,17876,28830,26657,17249,61154,15872,10000,7840,5900,51118,24148,29793,19184,9408,35124,12544,17619,26971,14454,941,10349,125,26030,7213,30,314,10976,12074,26770,11604,19444,627,25402,10976,31581,1098,11133,15367,1176,18189,12544,14113,12500,2822,7213,12388,470,110,18817,15612,23521,706,25089,52856,706,18189,22580,8147,8781,25716,549,14426,3920,20071,7840,2000,12388,13796,16621,251,28532,3607,3920,1960,56136,11917,51802,13630,17876,1803,14740,14426,16308,392,17249,12544,8075,16935,21639,188,14740,11604,392,10976,16621,67426,7500,706,31317,20385,16621,627,11604,16621,8467,20526,19121,23207,6272,12231,16308,42883,9252,7840,2587,90947,18189,5811,5000,7213,15834,11000,7213,34074,61154,45674,1882,21953,627,54882,1646,24596,18817,16308,23800,62948,13485,50,17249,14113,627,59586,40769,6899,314,18817,5800,52373,470,17249,8781,5968,26927,19444,46728,1960,80,50,30263,6500,2901,22947,8154,9095,19757,188,7200,18817,4704,6115,18817,10506,10092,2901,10976,11000,8467,17942,29166,3607,28222,22000,706,470,4000,66485,941,12544,27924,12544,42337,23521,16935,16455,18211,19444,20237,35570,4391,29793,22894,16549,100,4547,24462,10663,6586,627,42337,25889,21953,19384,78,862,30420,21953,16621,17249,10976,4391,28225,39201,6000,10349,6269,5175,8467,12000,50,10663,1019,38725,30,56136,8624,1098,15837,20385,7840,6272,12544,7900,1646,93079,549,24148,4234,17249,9722,18189,10945,15994,11604,18189,7527,10976,4077,470,32929,392,21326,6586,13172,52034,5959,11917,11290,15677,12858,12858,9095,14454,549,7000,1725,47669,4077,11447,16894,21326,10036,282,2666,12544,21900,26306,12134,3607,23207,50178,13172,30800,1019,17663,20297,1882,7840,16621,22580,16308,96263,6899,2430,41629,36485,12858,94,18189,106627,37006,2587,28225,13642,10192,7997,49751,7213,65858,4861,10036,14113,43062,13953,31988,29793,40766,35971,220,18189,29793,8781,7840,4704,13485,2195,706,19444,21326,7840,41281,188,49864,157,61154,9408,68994,22649,8386,19416,42651,29777,4861,29793,29793,4547,24148,3607,10976,15718,22894,13172,470,3450,157,68681,45210,16308,4704,627,941,25889,14113,188,13987,42337,14740,8781,10976,9095,13799,9408,10349,20500,21473,21326,392,9408,2300,11704,5802,941,1019,59583,7840,706,11290,17876,8154,8154,18189,26657,470,41977,135,9408,14426,22580,46251,11290,549,862,706,470,19444,50,15681,8467,10349,23834,4234,47757,18189,392,40769,23678,7840,42102,27463,15677,28222,392,11964,549,3,10976,13956,13485,627,14426,6586,7840,6523,12287,27911,21953,22580,17876,20071,30734,13172,37006,5940,10349,392,59586,42651,71817,18384,2509,17500,40,26657,17249,13172,3500,11604,15681,2430,862,5959,1646,15681,15994,16308,15681,35570,220,16308,15053,8467,48610,22567,18503,18189,1700,9095,15681,16308,251,3136,150,11917,314,21012,20344,23521,39201,3450,9879,23521,470,18817,941,109764,31361,25719,7840,188,5488,17249,11290,10820,37301,5237,1150,17876,38229,5331,470,470,38574,50018,15500,23129,4077,14113,17300,38888,44533,19757,31047,9095,37000,19444,8674,44542,392,20855,16935,9565,18189,9396,16308,627,37633,10192,12544,470,32340,549,17562,470,12231,14000,16621,24283,22000,28909,34811,40769,7840,3450,9879,1960,36219,97219,26510,46728,16904,15681,65996,9408,549,20814,39722,36065,1176,13172,8781,13172,12231,17000,15367,11563,24500,9408,862,3136,6272,12231,30,627,15681,50,31361,4968,12000,87811,15681,8154,43905,13300,11563,15994,10349,17249,1646,314,1803,8148,314,25512,16621,40456,10036,32929,300,12231,18503,14583,10036,12231,23521,22580,44878,8154,17249,62023,1254,3763,18817,20005,7840,31204,38063,8154,20266,7527,23207,50651,10036,10349,36065,15323,8467,24000,16452,9408,10663,10036,25004,9095,2038,6429,6272,30734,26594,862,7150,18817,21950,220,25889,14069,9252,8781,2100,7997,6611,470,314,5018,1568,18826,9095,3136,3000,14113,31349,16935,392,27284,16621,29793,18817,941,21953,30,9722,40926,627,16935,1333,5331,13485,37476,70678,392,8781,21012,19416,1882,14113,34811,18817,150533,31361,54568,314,40983,470,17562,8154,4861,784,33243,28225,470,941,2274,7213,9095,4861,3763,20071,20149,11917,22549,17249,9408,15681,20385,12544,20385,12544,706,31361,14113,10976,7000,20698,46728,4704,25716,20438,25716,5488,30326,2000,470,8781,8938,5018,9408,17249,17249,3293,36899,7527,30887,9408,7840,188,470,3000,8781,17876,54568,125,29094,17876,16621,5018,11604,21805,2666,21012,941,23521,11604,549,14426,11290,1646,392,314,4704,17305,26343,50184,18503,26030,549,16308,51517,20488,6000,15524,16599,136000,17111,12544,30950,8154,14113,14113,1300,1333,627,25440,13172,47120,392,1725,17500,2117,20005,17249,25,9722,12701,11917,16621,8311,25089,2666,38609,549,24462,21012,157,17249,1000,29166,627,7527,9408,17719,14113,2500,16308,10349,706,42337,4077,14586,15053,1803,18817,12231,50178,7840,706,17249,29156,127000,22266,9095,39066,2901,11917,20385,3607,17562,15681,9095,14113,10036,16308,7840,4547,3607,3763,16308,13328,941,15053,1019,8154,16778,4704,9879,3763,15681,15994,21326,5959,42667,2430,11447,28852,8781,35309,20266,19757,11604,14269,4861,27463,470,11290,38580,34808,2587,30420,23521,10976,14113,14426,19444,7840,15681,8386,17562,6272,11917,470,23521,21639,19601,6272,2500,240,17249,43062,24148,8624,43281,29793,8154,5500,470,14113,17876,16935,15685,314,6429,314,11604,8467,27500,5018,188,6743,21410,10349,18189,8467,17249,10976,14050,50560,30931,13338,10036,12231,51746,28780,13172,12544,4704,22260,70,6899,34340,13172,6899,15994,627,14834,22894,19757,10976,1098,23521,10349,31047,10663,75266,5175,79971,21639,20610,9408,49259,19444,28532,23521,18503,24148,13172,37633,47512,9095,6899,17249,5645,29479,3763,6429,57990,34497,3136,21953,16308,11604,12240,10036,14069,5802,3763,12544,7809,941,13764,50178,9408,13172,15681,1019,19444,8781,27000,12500,6586,23994,17562,21953,18817,18817,16621,2666,9879,314,32929,10976,34497,10349,15053,392,5959,1882,14906,27654,470,3000,3607,28852,14426,11917,17405,5488,16308,1411,15825,19130,2352,16621,5331,14426,11604,9252,39829,34572,15053,12544,10976,131716,18305,13570,2666,24775,16960,5018,3293,11917,1019,20698,10663,11290,11290,549,16041,8154,6272,11604,13642,1568,35,2500,12858,31361,12388,3058,18817,784,941,22894,251,941,9722,24000,30200,52931,2430,34497,470,17249,549,1568,31047,29793,10036,30,14113,627,20385,5500,17249,5645,5959,89379,4234,17249,15367,18817,25716,55678,15367,10976,4391,6272,14113,30734,14740,16621,314,13172,26030,220,11917,3293,17562,11917,5959,6586,7527,188,18817,627,13799,13799,16778,4391,35438,16465,15367,15524,10976,30,13172,8781,10349,10635,21953,18817,41064,94,941,19757,14113,20385,15681,80,392,36065,7213,4737,10036,8467,17249,706,20385,9252,2352,941,549,31361,13488,5018,470,627,10964,25591,40769,6272,39201,9408,314,52034,41553,10976,706,21796,11133,8311,5175,6429,549,32929,30,11917,100060,6899,12231,16500,25597,21953,40,100355,15367,31449,12544,14426,20385,79971,8500,14113,17942,22894,36065,5018,10036,4861,706,5488,72130,19444,470,21953,16621,16935,25716,15681,8154,10036,21639,27946,470,8154,7527,2901,3607,28608,18817,10349,10349,18503,10349,25763,23521,549,10036,20071,14500,3920,37006,7837,6899,18422,14113,14113,38574,6429,13172,16308,23521,81808,16935,13172,11917,11604,7840,41629,39226,53420,34836,14740,6586,10349,11447,21953,11760,10976,12861,7495,33500,20005,9095,7840,22894,22298,20266,28225,42965,37229,19757,2038,7840,26657,46991,12544,43905,10976,19287,12231,5175,13172,31414,15681,17249,4391,30420,3136,12600,2117,35752,31675,18817,30750,3763,13996,8163,36219,47217,3920,27598,15994,40983,2666,100,10976,23521,16935,15994,42692,10000,19757,21000,8467,14113,3763,9408,2500,28225,15994,9722,21326,392,10976,4704,1568,27284,29793,7527,16935,8154,157,47,22894,19444,1098,9095,18660,18826,1176,18817,94,20385,12544,6743,11967,38762,42337,18616,627,6115,38157,14740,12544,18503,1333,16935,14740,941,58018,11604,11469,3763,470,55823,10663,11604,20322,11917,157,3136,2500,28589,8154,15988,6,15367,3450,4391,5959,27654,3763,1254,17405,18189,5175,38445,862,14834,12544,13328,706,13172,43655,48998,1019,15245,29420,50178,32929,18211,42880,31047,14113,2038,13589,27654,157,15681,10036,39201,17249,18817,470,39750,23521,10036,60499,20450,11287,81539,188,31744,43868,26030,12544,45473,72130,50,26795,36065,11917,44533,44846,25500,11290,12231,28852,282,7683,111332,16960,42171,20814,38311,26971,10349,22580,3763,7840,24462,12541,39201,26149,8467,36401,12544,28391,3607,30241,11604,157,13172,27598,15053,11917,8386,5488,35124,53154,7840,67426,2509,40,17876,314,470,6272,24148,28225,1882,34074,706,3136,11290,15367,45204,3450,10036,314,862,282,40769,30906,30734,8963,29793,21326,950,7840,627,1568,80,19757,4861,4861,43655,314,18826,12544,39201,6272,6272,18817,9252,22580,11290,13808,18189,31361,86243,63349,2117,706,23521,33870,4704,706,46891,25089,16465,17876,21326,14113,1019,17249,12701,1176,9408,4077,12544,1725,34811,19130,36235,20385,72130,282,7222,32929,470,28589,36636,6200,22279,16621,22894,11290,2666,43868,1646,7527,3450,12858,24148,9722,627,470,8467,9565,15681,17158,9252,12231,21012,37232,18817,13642,25716,9408,35269,10036,12544,6586,32929,14113,7213,51523,8800,3136,7527,11290,10973,1019,19757,10976,10036,862,941,10976,29166,17249,16621,1411,16308,10976,11917,4547,3800,13799,10036,12544,43952,15681,21326,111002,282,1882,26306,12858,1646,2200,4861,7213,52520,15323,188,7310,100,9252,12858,15035,15367,40926,9500,6400,7260,29793,5645,32274,20385,24433,7056,470,20385,15994,14113,20385,34497,21326,45633,19757,24462,57077,282,31988,282,42024,9829,8467,941,4500,28391,38838,21953,6272,26196,8643,1882,2509,706,314,53154,9408,17249,549,9879,941,51746,16621,20385,147397,7840,12544,29793,54568,17405,18817,941,1490,17249,37959,120,31047,10976,10036,1725,6899,18776,27679,1490,12544,10036,941,10349,4077,7840,1725,23521,8154,30734,32302,45473,12858,8467,4234,18189,20385,5488,14269,24932,8781,9722,6272,941,3293,46258,43049,627,8781,17562,10976,3607,1176,18817,34497,40,941,42538,7300,20764,96263,21181,17092,25889,11481,39201,14113,5018,12231,3607,18189,120,392,16900,4234,784,14740,32929,12231,6272,9722,14113,33,12544,18948,13328,6241,14113,8154,13799,784,18817,30784,2352,44878,33575,1725,11666,549,45473,2195,12777,18817,11917,1019,14583,549,94,26701,7527,4704,37633,314,24543,28225,4547,18503,20266,1176,43278,7500,11200,14269,13485,6899,19444,7213,16308,8781,6115,10976,7213,1490,12231,4000,4077,51075,7683,14294,706,19121,26657,13015,39515,18817,7370,627,5488,3607,8781,14800,23339,549,16308,20385,14113,706,1725,13702,5018,3200,18503,5959,2200,6429,5018,941,14113,22894,12544,34127,24148,1176,15053,120,44843,10192,11290,10500,8311,12544,51432,18817,2900,6586,7370,7213,17415,23834,8963,784,2352,627,40424,12585,9888,2587,7997,941,18346,6429,27190,941,14113,97219,94,13642,2200,44611,549,10349,29793,6586,11290,13799,14113,7213,10117,706,392,5488,11102,30,4077,28523,5645,26657,37291,58332,4547,51118,18503,13172,13485,13485,314,1411,23834,1411,7213,88438,627,12231,11274,17042,18779,784,6743,31659,3136,29144,5488,3136,7056,22580,41811,15125,15681,30750,12544,5645,2600,29793,56814,18503,15423,26030,30,5645,3450,21953,38229,9722,10506,24000,470,3607,36065,17249,21012,64290,7840,5018,60,17634,19757,18817,21326,14113,10976,31797,11133,8781,9879,42883,14113,706,7213,28755,63886,3607,9722,11917,21326,25402,470,7213,61154,13172,24462,11290,14113,7527,500,8300,7997,13799,28225,3763,36065,549,2587,13485,18817,7500,22075,22197,34811,13808,8311,50037,6743,6586,1176,470,37633,26017,30,19444,8467,15681,10036,8781,19130,8781,7840,29793,706,50,470,5802,8467,15681,26108,5331,470],\"yaxis\":\"y\",\"type\":\"scattergl\"}],                        {\"template\":{\"data\":{\"histogram2dcontour\":[{\"type\":\"histogram2dcontour\",\"colorbar\":{\"outlinewidth\":0,\"ticks\":\"\"},\"colorscale\":[[0.0,\"#0d0887\"],[0.1111111111111111,\"#46039f\"],[0.2222222222222222,\"#7201a8\"],[0.3333333333333333,\"#9c179e\"],[0.4444444444444444,\"#bd3786\"],[0.5555555555555556,\"#d8576b\"],[0.6666666666666666,\"#ed7953\"],[0.7777777777777778,\"#fb9f3a\"],[0.8888888888888888,\"#fdca26\"],[1.0,\"#f0f921\"]]}],\"choropleth\":[{\"type\":\"choropleth\",\"colorbar\":{\"outlinewidth\":0,\"ticks\":\"\"}}],\"histogram2d\":[{\"type\":\"histogram2d\",\"colorbar\":{\"outlinewidth\":0,\"ticks\":\"\"},\"colorscale\":[[0.0,\"#0d0887\"],[0.1111111111111111,\"#46039f\"],[0.2222222222222222,\"#7201a8\"],[0.3333333333333333,\"#9c179e\"],[0.4444444444444444,\"#bd3786\"],[0.5555555555555556,\"#d8576b\"],[0.6666666666666666,\"#ed7953\"],[0.7777777777777778,\"#fb9f3a\"],[0.8888888888888888,\"#fdca26\"],[1.0,\"#f0f921\"]]}],\"heatmap\":[{\"type\":\"heatmap\",\"colorbar\":{\"outlinewidth\":0,\"ticks\":\"\"},\"colorscale\":[[0.0,\"#0d0887\"],[0.1111111111111111,\"#46039f\"],[0.2222222222222222,\"#7201a8\"],[0.3333333333333333,\"#9c179e\"],[0.4444444444444444,\"#bd3786\"],[0.5555555555555556,\"#d8576b\"],[0.6666666666666666,\"#ed7953\"],[0.7777777777777778,\"#fb9f3a\"],[0.8888888888888888,\"#fdca26\"],[1.0,\"#f0f921\"]]}],\"heatmapgl\":[{\"type\":\"heatmapgl\",\"colorbar\":{\"outlinewidth\":0,\"ticks\":\"\"},\"colorscale\":[[0.0,\"#0d0887\"],[0.1111111111111111,\"#46039f\"],[0.2222222222222222,\"#7201a8\"],[0.3333333333333333,\"#9c179e\"],[0.4444444444444444,\"#bd3786\"],[0.5555555555555556,\"#d8576b\"],[0.6666666666666666,\"#ed7953\"],[0.7777777777777778,\"#fb9f3a\"],[0.8888888888888888,\"#fdca26\"],[1.0,\"#f0f921\"]]}],\"contourcarpet\":[{\"type\":\"contourcarpet\",\"colorbar\":{\"outlinewidth\":0,\"ticks\":\"\"}}],\"contour\":[{\"type\":\"contour\",\"colorbar\":{\"outlinewidth\":0,\"ticks\":\"\"},\"colorscale\":[[0.0,\"#0d0887\"],[0.1111111111111111,\"#46039f\"],[0.2222222222222222,\"#7201a8\"],[0.3333333333333333,\"#9c179e\"],[0.4444444444444444,\"#bd3786\"],[0.5555555555555556,\"#d8576b\"],[0.6666666666666666,\"#ed7953\"],[0.7777777777777778,\"#fb9f3a\"],[0.8888888888888888,\"#fdca26\"],[1.0,\"#f0f921\"]]}],\"surface\":[{\"type\":\"surface\",\"colorbar\":{\"outlinewidth\":0,\"ticks\":\"\"},\"colorscale\":[[0.0,\"#0d0887\"],[0.1111111111111111,\"#46039f\"],[0.2222222222222222,\"#7201a8\"],[0.3333333333333333,\"#9c179e\"],[0.4444444444444444,\"#bd3786\"],[0.5555555555555556,\"#d8576b\"],[0.6666666666666666,\"#ed7953\"],[0.7777777777777778,\"#fb9f3a\"],[0.8888888888888888,\"#fdca26\"],[1.0,\"#f0f921\"]]}],\"mesh3d\":[{\"type\":\"mesh3d\",\"colorbar\":{\"outlinewidth\":0,\"ticks\":\"\"}}],\"scatter\":[{\"fillpattern\":{\"fillmode\":\"overlay\",\"size\":10,\"solidity\":0.2},\"type\":\"scatter\"}],\"parcoords\":[{\"type\":\"parcoords\",\"line\":{\"colorbar\":{\"outlinewidth\":0,\"ticks\":\"\"}}}],\"scatterpolargl\":[{\"type\":\"scatterpolargl\",\"marker\":{\"colorbar\":{\"outlinewidth\":0,\"ticks\":\"\"}}}],\"bar\":[{\"error_x\":{\"color\":\"#2a3f5f\"},\"error_y\":{\"color\":\"#2a3f5f\"},\"marker\":{\"line\":{\"color\":\"#E5ECF6\",\"width\":0.5},\"pattern\":{\"fillmode\":\"overlay\",\"size\":10,\"solidity\":0.2}},\"type\":\"bar\"}],\"scattergeo\":[{\"type\":\"scattergeo\",\"marker\":{\"colorbar\":{\"outlinewidth\":0,\"ticks\":\"\"}}}],\"scatterpolar\":[{\"type\":\"scatterpolar\",\"marker\":{\"colorbar\":{\"outlinewidth\":0,\"ticks\":\"\"}}}],\"histogram\":[{\"marker\":{\"pattern\":{\"fillmode\":\"overlay\",\"size\":10,\"solidity\":0.2}},\"type\":\"histogram\"}],\"scattergl\":[{\"type\":\"scattergl\",\"marker\":{\"colorbar\":{\"outlinewidth\":0,\"ticks\":\"\"}}}],\"scatter3d\":[{\"type\":\"scatter3d\",\"line\":{\"colorbar\":{\"outlinewidth\":0,\"ticks\":\"\"}},\"marker\":{\"colorbar\":{\"outlinewidth\":0,\"ticks\":\"\"}}}],\"scattermapbox\":[{\"type\":\"scattermapbox\",\"marker\":{\"colorbar\":{\"outlinewidth\":0,\"ticks\":\"\"}}}],\"scatterternary\":[{\"type\":\"scatterternary\",\"marker\":{\"colorbar\":{\"outlinewidth\":0,\"ticks\":\"\"}}}],\"scattercarpet\":[{\"type\":\"scattercarpet\",\"marker\":{\"colorbar\":{\"outlinewidth\":0,\"ticks\":\"\"}}}],\"carpet\":[{\"aaxis\":{\"endlinecolor\":\"#2a3f5f\",\"gridcolor\":\"white\",\"linecolor\":\"white\",\"minorgridcolor\":\"white\",\"startlinecolor\":\"#2a3f5f\"},\"baxis\":{\"endlinecolor\":\"#2a3f5f\",\"gridcolor\":\"white\",\"linecolor\":\"white\",\"minorgridcolor\":\"white\",\"startlinecolor\":\"#2a3f5f\"},\"type\":\"carpet\"}],\"table\":[{\"cells\":{\"fill\":{\"color\":\"#EBF0F8\"},\"line\":{\"color\":\"white\"}},\"header\":{\"fill\":{\"color\":\"#C8D4E3\"},\"line\":{\"color\":\"white\"}},\"type\":\"table\"}],\"barpolar\":[{\"marker\":{\"line\":{\"color\":\"#E5ECF6\",\"width\":0.5},\"pattern\":{\"fillmode\":\"overlay\",\"size\":10,\"solidity\":0.2}},\"type\":\"barpolar\"}],\"pie\":[{\"automargin\":true,\"type\":\"pie\"}]},\"layout\":{\"autotypenumbers\":\"strict\",\"colorway\":[\"#636efa\",\"#EF553B\",\"#00cc96\",\"#ab63fa\",\"#FFA15A\",\"#19d3f3\",\"#FF6692\",\"#B6E880\",\"#FF97FF\",\"#FECB52\"],\"font\":{\"color\":\"#2a3f5f\"},\"hovermode\":\"closest\",\"hoverlabel\":{\"align\":\"left\"},\"paper_bgcolor\":\"white\",\"plot_bgcolor\":\"#E5ECF6\",\"polar\":{\"bgcolor\":\"#E5ECF6\",\"angularaxis\":{\"gridcolor\":\"white\",\"linecolor\":\"white\",\"ticks\":\"\"},\"radialaxis\":{\"gridcolor\":\"white\",\"linecolor\":\"white\",\"ticks\":\"\"}},\"ternary\":{\"bgcolor\":\"#E5ECF6\",\"aaxis\":{\"gridcolor\":\"white\",\"linecolor\":\"white\",\"ticks\":\"\"},\"baxis\":{\"gridcolor\":\"white\",\"linecolor\":\"white\",\"ticks\":\"\"},\"caxis\":{\"gridcolor\":\"white\",\"linecolor\":\"white\",\"ticks\":\"\"}},\"coloraxis\":{\"colorbar\":{\"outlinewidth\":0,\"ticks\":\"\"}},\"colorscale\":{\"sequential\":[[0.0,\"#0d0887\"],[0.1111111111111111,\"#46039f\"],[0.2222222222222222,\"#7201a8\"],[0.3333333333333333,\"#9c179e\"],[0.4444444444444444,\"#bd3786\"],[0.5555555555555556,\"#d8576b\"],[0.6666666666666666,\"#ed7953\"],[0.7777777777777778,\"#fb9f3a\"],[0.8888888888888888,\"#fdca26\"],[1.0,\"#f0f921\"]],\"sequentialminus\":[[0.0,\"#0d0887\"],[0.1111111111111111,\"#46039f\"],[0.2222222222222222,\"#7201a8\"],[0.3333333333333333,\"#9c179e\"],[0.4444444444444444,\"#bd3786\"],[0.5555555555555556,\"#d8576b\"],[0.6666666666666666,\"#ed7953\"],[0.7777777777777778,\"#fb9f3a\"],[0.8888888888888888,\"#fdca26\"],[1.0,\"#f0f921\"]],\"diverging\":[[0,\"#8e0152\"],[0.1,\"#c51b7d\"],[0.2,\"#de77ae\"],[0.3,\"#f1b6da\"],[0.4,\"#fde0ef\"],[0.5,\"#f7f7f7\"],[0.6,\"#e6f5d0\"],[0.7,\"#b8e186\"],[0.8,\"#7fbc41\"],[0.9,\"#4d9221\"],[1,\"#276419\"]]},\"xaxis\":{\"gridcolor\":\"white\",\"linecolor\":\"white\",\"ticks\":\"\",\"title\":{\"standoff\":15},\"zerolinecolor\":\"white\",\"automargin\":true,\"zerolinewidth\":2},\"yaxis\":{\"gridcolor\":\"white\",\"linecolor\":\"white\",\"ticks\":\"\",\"title\":{\"standoff\":15},\"zerolinecolor\":\"white\",\"automargin\":true,\"zerolinewidth\":2},\"scene\":{\"xaxis\":{\"backgroundcolor\":\"#E5ECF6\",\"gridcolor\":\"white\",\"linecolor\":\"white\",\"showbackground\":true,\"ticks\":\"\",\"zerolinecolor\":\"white\",\"gridwidth\":2},\"yaxis\":{\"backgroundcolor\":\"#E5ECF6\",\"gridcolor\":\"white\",\"linecolor\":\"white\",\"showbackground\":true,\"ticks\":\"\",\"zerolinecolor\":\"white\",\"gridwidth\":2},\"zaxis\":{\"backgroundcolor\":\"#E5ECF6\",\"gridcolor\":\"white\",\"linecolor\":\"white\",\"showbackground\":true,\"ticks\":\"\",\"zerolinecolor\":\"white\",\"gridwidth\":2}},\"shapedefaults\":{\"line\":{\"color\":\"#2a3f5f\"}},\"annotationdefaults\":{\"arrowcolor\":\"#2a3f5f\",\"arrowhead\":0,\"arrowwidth\":1},\"geo\":{\"bgcolor\":\"white\",\"landcolor\":\"#E5ECF6\",\"subunitcolor\":\"white\",\"showland\":true,\"showlakes\":true,\"lakecolor\":\"white\"},\"title\":{\"x\":0.05},\"mapbox\":{\"style\":\"light\"}}},\"xaxis\":{\"anchor\":\"y\",\"domain\":[0.0,1.0],\"title\":{\"text\":\"index\"}},\"yaxis\":{\"anchor\":\"x\",\"domain\":[0.0,1.0],\"title\":{\"text\":\"Price\"}},\"legend\":{\"tracegroupgap\":0},\"margin\":{\"t\":60}},                        {\"responsive\": true}                    ).then(function(){\n",
       "                            \n",
       "var gd = document.getElementById('d49e3642-b37e-49fb-9715-804d66ceb3a7');\n",
       "var x = new MutationObserver(function (mutations, observer) {{\n",
       "        var display = window.getComputedStyle(gd).display;\n",
       "        if (!display || display === 'none') {{\n",
       "            console.log([gd, 'removed!']);\n",
       "            Plotly.purge(gd);\n",
       "            observer.disconnect();\n",
       "        }}\n",
       "}});\n",
       "\n",
       "// Listen for the removal of the full notebook cells\n",
       "var notebookContainer = gd.closest('#notebook-container');\n",
       "if (notebookContainer) {{\n",
       "    x.observe(notebookContainer, {childList: true});\n",
       "}}\n",
       "\n",
       "// Listen for the clearing of the current output cell\n",
       "var outputEl = gd.closest('.output');\n",
       "if (outputEl) {{\n",
       "    x.observe(outputEl, {childList: true});\n",
       "}}\n",
       "\n",
       "                        })                };                });            </script>        </div>"
      ]
     },
     "metadata": {},
     "output_type": "display_data"
    }
   ],
   "source": [
    "fig = px.line(data, y='Price')\n",
    "fig.show()"
   ]
  },
  {
   "cell_type": "markdown",
   "id": "97b30247",
   "metadata": {
    "papermill": {
     "duration": 0.020474,
     "end_time": "2022-09-19T00:29:21.285791",
     "exception": false,
     "start_time": "2022-09-19T00:29:21.265317",
     "status": "completed"
    },
    "tags": []
   },
   "source": [
    "We have 3 outliers arond index 1.2k, 8.5k and 16.9k respectively. but one is too conspicious i wonder what could have been the cause. \n",
    "we will have to normalize this three (3) data point because if we don't it will greatly affect our mean which in turn will affect the standard deviation which will affect the prediction.\n",
    "\n",
    "\n",
    "We are handling the outliers here by substituting them for the median"
   ]
  },
  {
   "cell_type": "code",
   "execution_count": 13,
   "id": "e2a3de01",
   "metadata": {
    "execution": {
     "iopub.execute_input": "2022-09-19T00:29:21.328112Z",
     "iopub.status.busy": "2022-09-19T00:29:21.327699Z",
     "iopub.status.idle": "2022-09-19T00:29:21.338022Z",
     "shell.execute_reply": "2022-09-19T00:29:21.336946Z"
    },
    "papermill": {
     "duration": 0.034517,
     "end_time": "2022-09-19T00:29:21.340638",
     "exception": false,
     "start_time": "2022-09-19T00:29:21.306121",
     "status": "completed"
    },
    "tags": []
   },
   "outputs": [],
   "source": [
    "data['Price'] = data['Price'].replace([627220, 872946,26307500], data['Price'].median())"
   ]
  },
  {
   "cell_type": "code",
   "execution_count": 14,
   "id": "e40408b2",
   "metadata": {
    "execution": {
     "iopub.execute_input": "2022-09-19T00:29:21.383416Z",
     "iopub.status.busy": "2022-09-19T00:29:21.382495Z",
     "iopub.status.idle": "2022-09-19T00:29:21.449998Z",
     "shell.execute_reply": "2022-09-19T00:29:21.448666Z"
    },
    "papermill": {
     "duration": 0.092892,
     "end_time": "2022-09-19T00:29:21.453620",
     "exception": false,
     "start_time": "2022-09-19T00:29:21.360728",
     "status": "completed"
    },
    "tags": []
   },
   "outputs": [
    {
     "data": {
      "text/html": [
       "<div>                            <div id=\"2c6ca73f-7cab-49a3-b930-ae2711d6ccc0\" class=\"plotly-graph-div\" style=\"height:525px; width:100%;\"></div>            <script type=\"text/javascript\">                require([\"plotly\"], function(Plotly) {                    window.PLOTLYENV=window.PLOTLYENV || {};                                    if (document.getElementById(\"2c6ca73f-7cab-49a3-b930-ae2711d6ccc0\")) {                    Plotly.newPlot(                        \"2c6ca73f-7cab-49a3-b930-ae2711d6ccc0\",                        [{\"hovertemplate\":\"index=%{x}<br>Price=%{y}<extra></extra>\",\"legendgroup\":\"\",\"line\":{\"color\":\"#636efa\",\"dash\":\"solid\"},\"marker\":{\"symbol\":\"circle\"},\"mode\":\"lines\",\"name\":\"\",\"showlegend\":false,\"x\":[0,1,2,3,4,5,6,7,8,9,10,11,12,13,14,15,16,17,18,19,20,21,22,23,24,25,26,27,28,29,30,31,32,33,34,35,36,37,38,39,40,41,42,43,44,45,46,47,48,49,50,51,52,53,54,55,56,57,58,59,60,61,62,63,64,65,66,67,68,69,70,71,72,73,74,75,76,77,78,79,80,81,82,83,84,85,86,87,88,89,90,91,92,93,94,95,96,97,98,99,100,101,102,103,104,105,106,107,108,109,110,111,112,113,114,115,116,117,118,119,120,121,122,123,124,125,126,127,128,129,130,131,132,133,134,135,136,137,138,139,140,141,142,143,144,145,146,147,148,149,150,151,152,153,154,155,156,157,158,159,160,161,162,163,164,165,166,167,168,169,170,171,172,173,174,175,176,177,178,179,180,181,182,183,184,185,186,187,188,189,190,191,192,193,194,195,196,197,198,199,200,201,202,203,204,205,206,207,208,209,210,211,212,213,214,215,216,217,218,219,220,221,222,223,224,225,226,227,228,229,230,231,232,233,234,235,236,237,238,239,240,241,242,243,244,245,246,247,248,249,250,251,252,253,254,255,256,257,258,259,260,261,262,263,264,265,266,267,268,269,270,271,272,273,274,275,276,277,278,279,280,281,282,283,284,285,286,287,288,289,290,291,292,293,294,295,296,297,298,299,300,301,302,303,304,305,306,307,308,309,310,311,312,313,314,315,316,317,318,319,320,321,322,323,324,325,326,327,328,329,330,331,332,333,334,335,336,337,338,339,340,341,342,343,344,345,346,347,348,349,350,351,352,353,354,355,356,357,358,359,360,361,362,363,364,365,366,367,368,369,370,371,372,373,374,375,376,377,378,379,380,381,382,383,384,385,386,387,388,389,390,391,392,393,394,395,396,397,398,399,400,401,402,403,404,405,406,407,408,409,410,411,412,413,414,415,416,417,418,419,420,421,422,423,424,425,426,427,428,429,430,431,432,433,434,435,436,437,438,439,440,441,442,443,444,445,446,447,448,449,450,451,452,453,454,455,456,457,458,459,460,461,462,463,464,465,466,467,468,469,470,471,472,473,474,475,476,477,478,479,480,481,482,483,484,485,486,487,488,489,490,491,492,493,494,495,496,497,498,499,500,501,502,503,504,505,506,507,508,509,510,511,512,513,514,515,516,517,518,519,520,521,522,523,524,525,526,527,528,529,530,531,532,533,534,535,536,537,538,539,540,541,542,543,544,545,546,547,548,549,550,551,552,553,554,555,556,557,558,559,560,561,562,563,564,565,566,567,568,569,570,571,572,573,574,575,576,577,578,579,580,581,582,583,584,585,586,587,588,589,590,591,592,593,594,595,596,597,598,599,600,601,602,603,604,605,606,607,608,609,610,611,612,613,614,615,616,617,618,619,620,621,622,623,624,625,626,627,628,629,630,631,632,633,634,635,636,637,638,639,640,641,642,643,644,645,646,647,648,649,650,651,652,653,654,655,656,657,658,659,660,661,662,663,664,665,666,667,668,669,670,671,672,673,674,675,676,677,678,679,680,681,682,683,684,685,686,687,688,689,690,691,692,693,694,695,696,697,698,699,700,701,702,703,704,705,706,707,708,709,710,711,712,713,714,715,716,717,718,719,720,721,722,723,724,725,726,727,728,729,730,731,732,733,734,735,736,737,738,739,740,741,742,743,744,745,746,747,748,749,750,751,752,753,754,755,756,757,758,759,760,761,762,763,764,765,766,767,768,769,770,771,772,773,774,775,776,777,778,779,780,781,782,783,784,785,786,787,788,789,790,791,792,793,794,795,796,797,798,799,800,801,802,803,804,805,806,807,808,809,810,811,812,813,814,815,816,817,818,819,820,821,822,823,824,825,826,827,828,829,830,831,832,833,834,835,836,837,838,839,840,841,842,843,844,845,846,847,848,849,850,851,852,853,854,855,856,857,858,859,860,861,862,863,864,865,866,867,868,869,870,871,872,873,874,875,876,877,878,879,880,881,882,883,884,885,886,887,888,889,890,891,892,893,894,895,896,897,898,899,900,901,902,903,904,905,906,907,908,909,910,911,912,913,914,915,916,917,918,919,920,921,922,923,924,925,926,927,928,929,930,931,932,933,934,935,936,937,938,939,940,941,942,943,944,945,946,947,948,949,950,951,952,953,954,955,956,957,958,959,960,961,962,963,964,965,966,967,968,969,970,971,972,973,974,975,976,977,978,979,980,981,982,983,984,985,986,987,988,989,990,991,992,993,994,995,996,997,998,999,1000,1001,1002,1003,1004,1005,1006,1007,1008,1009,1010,1011,1012,1013,1014,1015,1016,1017,1018,1019,1020,1021,1022,1023,1024,1025,1026,1027,1028,1029,1030,1031,1032,1033,1034,1035,1036,1037,1038,1039,1040,1041,1042,1043,1044,1045,1046,1047,1048,1049,1050,1051,1052,1053,1054,1055,1056,1057,1058,1059,1060,1061,1062,1063,1064,1065,1066,1067,1068,1069,1070,1071,1072,1073,1074,1075,1076,1077,1078,1079,1080,1081,1082,1083,1084,1085,1086,1087,1088,1089,1090,1091,1092,1093,1094,1095,1096,1097,1098,1099,1100,1101,1102,1103,1104,1105,1106,1107,1108,1109,1110,1111,1112,1113,1114,1115,1116,1117,1118,1119,1120,1121,1122,1123,1124,1125,1126,1127,1128,1129,1130,1131,1132,1133,1134,1135,1136,1137,1138,1139,1140,1141,1142,1143,1144,1145,1146,1147,1148,1149,1150,1151,1152,1153,1154,1155,1156,1157,1158,1159,1160,1161,1162,1163,1164,1165,1166,1167,1168,1169,1170,1171,1172,1173,1174,1175,1176,1177,1178,1179,1180,1181,1182,1183,1184,1185,1186,1187,1188,1189,1190,1191,1192,1193,1194,1195,1196,1197,1198,1199,1200,1201,1202,1203,1204,1205,1206,1207,1208,1209,1210,1211,1212,1213,1214,1215,1216,1217,1218,1219,1220,1221,1222,1223,1224,1225,1226,1227,1228,1229,1230,1231,1232,1233,1234,1235,1236,1237,1238,1239,1240,1241,1242,1243,1244,1245,1246,1247,1248,1249,1250,1251,1252,1253,1254,1255,1256,1257,1258,1259,1260,1261,1262,1263,1264,1265,1266,1267,1268,1269,1270,1271,1272,1273,1274,1275,1276,1277,1278,1279,1280,1281,1282,1283,1284,1285,1286,1287,1288,1289,1290,1291,1292,1293,1294,1295,1296,1297,1298,1299,1300,1301,1302,1303,1304,1305,1306,1307,1308,1309,1310,1311,1312,1313,1314,1315,1316,1317,1318,1319,1320,1321,1322,1323,1324,1325,1326,1327,1328,1329,1330,1331,1332,1333,1334,1335,1336,1337,1338,1339,1340,1341,1342,1343,1344,1345,1346,1347,1348,1349,1350,1351,1352,1353,1354,1355,1356,1357,1358,1359,1360,1361,1362,1363,1364,1365,1366,1367,1368,1369,1370,1371,1372,1373,1374,1375,1376,1377,1378,1379,1380,1381,1382,1383,1384,1385,1386,1387,1388,1389,1390,1391,1392,1393,1394,1395,1396,1397,1398,1399,1400,1401,1402,1403,1404,1405,1406,1407,1408,1409,1410,1411,1412,1413,1414,1415,1416,1417,1418,1419,1420,1421,1422,1423,1424,1425,1426,1427,1428,1429,1430,1431,1432,1433,1434,1435,1436,1437,1438,1439,1440,1441,1442,1443,1444,1445,1446,1447,1448,1449,1450,1451,1452,1453,1454,1455,1456,1457,1458,1459,1460,1461,1462,1463,1464,1465,1466,1467,1468,1469,1470,1471,1472,1473,1474,1475,1476,1477,1478,1479,1480,1481,1482,1483,1484,1485,1486,1487,1488,1489,1490,1491,1492,1493,1494,1495,1496,1497,1498,1499,1500,1501,1502,1503,1504,1505,1506,1507,1508,1509,1510,1511,1512,1513,1514,1515,1516,1517,1518,1519,1520,1521,1522,1523,1524,1525,1526,1527,1528,1529,1530,1531,1532,1533,1534,1535,1536,1537,1538,1539,1540,1541,1542,1543,1544,1545,1546,1547,1548,1549,1550,1551,1552,1553,1554,1555,1556,1557,1558,1559,1560,1561,1562,1563,1564,1565,1566,1567,1568,1569,1570,1571,1572,1573,1574,1575,1576,1577,1578,1579,1580,1581,1582,1583,1584,1585,1586,1587,1588,1589,1590,1591,1592,1593,1594,1595,1596,1597,1598,1599,1600,1601,1602,1603,1604,1605,1606,1607,1608,1609,1610,1611,1612,1613,1614,1615,1616,1617,1618,1619,1620,1621,1622,1623,1624,1625,1626,1627,1628,1629,1630,1631,1632,1633,1634,1635,1636,1637,1638,1639,1640,1641,1642,1643,1644,1645,1646,1647,1648,1649,1650,1651,1652,1653,1654,1655,1656,1657,1658,1659,1660,1661,1662,1663,1664,1665,1666,1667,1668,1669,1670,1671,1672,1673,1674,1675,1676,1677,1678,1679,1680,1681,1682,1683,1684,1685,1686,1687,1688,1689,1690,1691,1692,1693,1694,1695,1696,1697,1698,1699,1700,1701,1702,1703,1704,1705,1706,1707,1708,1709,1710,1711,1712,1713,1714,1715,1716,1717,1718,1719,1720,1721,1722,1723,1724,1725,1726,1727,1728,1729,1730,1731,1732,1733,1734,1735,1736,1737,1738,1739,1740,1741,1742,1743,1744,1745,1746,1747,1748,1749,1750,1751,1752,1753,1754,1755,1756,1757,1758,1759,1760,1761,1762,1763,1764,1765,1766,1767,1768,1769,1770,1771,1772,1773,1774,1775,1776,1777,1778,1779,1780,1781,1782,1783,1784,1785,1786,1787,1788,1789,1790,1791,1792,1793,1794,1795,1796,1797,1798,1799,1800,1801,1802,1803,1804,1805,1806,1807,1808,1809,1810,1811,1812,1813,1814,1815,1816,1817,1818,1819,1820,1821,1822,1823,1824,1825,1826,1827,1828,1829,1830,1831,1832,1833,1834,1835,1836,1837,1838,1839,1840,1841,1842,1843,1844,1845,1846,1847,1848,1849,1850,1851,1852,1853,1854,1855,1856,1857,1858,1859,1860,1861,1862,1863,1864,1865,1866,1867,1868,1869,1870,1871,1872,1873,1874,1875,1876,1877,1878,1879,1880,1881,1882,1883,1884,1885,1886,1887,1888,1889,1890,1891,1892,1893,1894,1895,1896,1897,1898,1899,1900,1901,1902,1903,1904,1905,1906,1907,1908,1909,1910,1911,1912,1913,1914,1915,1916,1917,1918,1919,1920,1921,1922,1923,1924,1925,1926,1927,1928,1929,1930,1931,1932,1933,1934,1935,1936,1937,1938,1939,1940,1941,1942,1943,1944,1945,1946,1947,1948,1949,1950,1951,1952,1953,1954,1955,1956,1957,1958,1959,1960,1961,1962,1963,1964,1965,1966,1967,1968,1969,1970,1971,1972,1973,1974,1975,1976,1977,1978,1979,1980,1981,1982,1983,1984,1985,1986,1987,1988,1989,1990,1991,1992,1993,1994,1995,1996,1997,1998,1999,2000,2001,2002,2003,2004,2005,2006,2007,2008,2009,2010,2011,2012,2013,2014,2015,2016,2017,2018,2019,2020,2021,2022,2023,2024,2025,2026,2027,2028,2029,2030,2031,2032,2033,2034,2035,2036,2037,2038,2039,2040,2041,2042,2043,2044,2045,2046,2047,2048,2049,2050,2051,2052,2053,2054,2055,2056,2057,2058,2059,2060,2061,2062,2063,2064,2065,2066,2067,2068,2069,2070,2071,2072,2073,2074,2075,2076,2077,2078,2079,2080,2081,2082,2083,2084,2085,2086,2087,2088,2089,2090,2091,2092,2093,2094,2095,2096,2097,2098,2099,2100,2101,2102,2103,2104,2105,2106,2107,2108,2109,2110,2111,2112,2113,2114,2115,2116,2117,2118,2119,2120,2121,2122,2123,2124,2125,2126,2127,2128,2129,2130,2131,2132,2133,2134,2135,2136,2137,2138,2139,2140,2141,2142,2143,2144,2145,2146,2147,2148,2149,2150,2151,2152,2153,2154,2155,2156,2157,2158,2159,2160,2161,2162,2163,2164,2165,2166,2167,2168,2169,2170,2171,2172,2173,2174,2175,2176,2177,2178,2179,2180,2181,2182,2183,2184,2185,2186,2187,2188,2189,2190,2191,2192,2193,2194,2195,2196,2197,2198,2199,2200,2201,2202,2203,2204,2205,2206,2207,2208,2209,2210,2211,2212,2213,2214,2215,2216,2217,2218,2219,2220,2221,2222,2223,2224,2225,2226,2227,2228,2229,2230,2231,2232,2233,2234,2235,2236,2237,2238,2239,2240,2241,2242,2243,2244,2245,2246,2247,2248,2249,2250,2251,2252,2253,2254,2255,2256,2257,2258,2259,2260,2261,2262,2263,2264,2265,2266,2267,2268,2269,2270,2271,2272,2273,2274,2275,2276,2277,2278,2279,2280,2281,2282,2283,2284,2285,2286,2287,2288,2289,2290,2291,2292,2293,2294,2295,2296,2297,2298,2299,2300,2301,2302,2303,2304,2305,2306,2307,2308,2309,2310,2311,2312,2313,2314,2315,2316,2317,2318,2319,2320,2321,2322,2323,2324,2325,2326,2327,2328,2329,2330,2331,2332,2333,2334,2335,2336,2337,2338,2339,2340,2341,2342,2343,2344,2345,2346,2347,2348,2349,2350,2351,2352,2353,2354,2355,2356,2357,2358,2359,2360,2361,2362,2363,2364,2365,2366,2367,2368,2369,2370,2371,2372,2373,2374,2375,2376,2377,2378,2379,2380,2381,2382,2383,2384,2385,2386,2387,2388,2389,2390,2391,2392,2393,2394,2395,2396,2397,2398,2399,2400,2401,2402,2403,2404,2405,2406,2407,2408,2409,2410,2411,2412,2413,2414,2415,2416,2417,2418,2419,2420,2421,2422,2423,2424,2425,2426,2427,2428,2429,2430,2431,2432,2433,2434,2435,2436,2437,2438,2439,2440,2441,2442,2443,2444,2445,2446,2447,2448,2449,2450,2451,2452,2453,2454,2455,2456,2457,2458,2459,2460,2461,2462,2463,2464,2465,2466,2467,2468,2469,2470,2471,2472,2473,2474,2475,2476,2477,2478,2479,2480,2481,2482,2483,2484,2485,2486,2487,2488,2489,2490,2491,2492,2493,2494,2495,2496,2497,2498,2499,2500,2501,2502,2503,2504,2505,2506,2507,2508,2509,2510,2511,2512,2513,2514,2515,2516,2517,2518,2519,2520,2521,2522,2523,2524,2525,2526,2527,2528,2529,2530,2531,2532,2533,2534,2535,2536,2537,2538,2539,2540,2541,2542,2543,2544,2545,2546,2547,2548,2549,2550,2551,2552,2553,2554,2555,2556,2557,2558,2559,2560,2561,2562,2563,2564,2565,2566,2567,2568,2569,2570,2571,2572,2573,2574,2575,2576,2577,2578,2579,2580,2581,2582,2583,2584,2585,2586,2587,2588,2589,2590,2591,2592,2593,2594,2595,2596,2597,2598,2599,2600,2601,2602,2603,2604,2605,2606,2607,2608,2609,2610,2611,2612,2613,2614,2615,2616,2617,2618,2619,2620,2621,2622,2623,2624,2625,2626,2627,2628,2629,2630,2631,2632,2633,2634,2635,2636,2637,2638,2639,2640,2641,2642,2643,2644,2645,2646,2647,2648,2649,2650,2651,2652,2653,2654,2655,2656,2657,2658,2659,2660,2661,2662,2663,2664,2665,2666,2667,2668,2669,2670,2671,2672,2673,2674,2675,2676,2677,2678,2679,2680,2681,2682,2683,2684,2685,2686,2687,2688,2689,2690,2691,2692,2693,2694,2695,2696,2697,2698,2699,2700,2701,2702,2703,2704,2705,2706,2707,2708,2709,2710,2711,2712,2713,2714,2715,2716,2717,2718,2719,2720,2721,2722,2723,2724,2725,2726,2727,2728,2729,2730,2731,2732,2733,2734,2735,2736,2737,2738,2739,2740,2741,2742,2743,2744,2745,2746,2747,2748,2749,2750,2751,2752,2753,2754,2755,2756,2757,2758,2759,2760,2761,2762,2763,2764,2765,2766,2767,2768,2769,2770,2771,2772,2773,2774,2775,2776,2777,2778,2779,2780,2781,2782,2783,2784,2785,2786,2787,2788,2789,2790,2791,2792,2793,2794,2795,2796,2797,2798,2799,2800,2801,2802,2803,2804,2805,2806,2807,2808,2809,2810,2811,2812,2813,2814,2815,2816,2817,2818,2819,2820,2821,2822,2823,2824,2825,2826,2827,2828,2829,2830,2831,2832,2833,2834,2835,2836,2837,2838,2839,2840,2841,2842,2843,2844,2845,2846,2847,2848,2849,2850,2851,2852,2853,2854,2855,2856,2857,2858,2859,2860,2861,2862,2863,2864,2865,2866,2867,2868,2869,2870,2871,2872,2873,2874,2875,2876,2877,2878,2879,2880,2881,2882,2883,2884,2885,2886,2887,2888,2889,2890,2891,2892,2893,2894,2895,2896,2897,2898,2899,2900,2901,2902,2903,2904,2905,2906,2907,2908,2909,2910,2911,2912,2913,2914,2915,2916,2917,2918,2919,2920,2921,2922,2923,2924,2925,2926,2927,2928,2929,2930,2931,2932,2933,2934,2935,2936,2937,2938,2939,2940,2941,2942,2943,2944,2945,2946,2947,2948,2949,2950,2951,2952,2953,2954,2955,2956,2957,2958,2959,2960,2961,2962,2963,2964,2965,2966,2967,2968,2969,2970,2971,2972,2973,2974,2975,2976,2977,2978,2979,2980,2981,2982,2983,2984,2985,2986,2987,2988,2989,2990,2991,2992,2993,2994,2995,2996,2997,2998,2999,3000,3001,3002,3003,3004,3005,3006,3007,3008,3009,3010,3011,3012,3013,3014,3015,3016,3017,3018,3019,3020,3021,3022,3023,3024,3025,3026,3027,3028,3029,3030,3031,3032,3033,3034,3035,3036,3037,3038,3039,3040,3041,3042,3043,3044,3045,3046,3047,3048,3049,3050,3051,3052,3053,3054,3055,3056,3057,3058,3059,3060,3061,3062,3063,3064,3065,3066,3067,3068,3069,3070,3071,3072,3073,3074,3075,3076,3077,3078,3079,3080,3081,3082,3083,3084,3085,3086,3087,3088,3089,3090,3091,3092,3093,3094,3095,3096,3097,3098,3099,3100,3101,3102,3103,3104,3105,3106,3107,3108,3109,3110,3111,3112,3113,3114,3115,3116,3117,3118,3119,3120,3121,3122,3123,3124,3125,3126,3127,3128,3129,3130,3131,3132,3133,3134,3135,3136,3137,3138,3139,3140,3141,3142,3143,3144,3145,3146,3147,3148,3149,3150,3151,3152,3153,3154,3155,3156,3157,3158,3159,3160,3161,3162,3163,3164,3165,3166,3167,3168,3169,3170,3171,3172,3173,3174,3175,3176,3177,3178,3179,3180,3181,3182,3183,3184,3185,3186,3187,3188,3189,3190,3191,3192,3193,3194,3195,3196,3197,3198,3199,3200,3201,3202,3203,3204,3205,3206,3207,3208,3209,3210,3211,3212,3213,3214,3215,3216,3217,3218,3219,3220,3221,3222,3223,3224,3225,3226,3227,3228,3229,3230,3231,3232,3233,3234,3235,3236,3237,3238,3239,3240,3241,3242,3243,3244,3245,3246,3247,3248,3249,3250,3251,3252,3253,3254,3255,3256,3257,3258,3259,3260,3261,3262,3263,3264,3265,3266,3267,3268,3269,3270,3271,3272,3273,3274,3275,3276,3277,3278,3279,3280,3281,3282,3283,3284,3285,3286,3287,3288,3289,3290,3291,3292,3293,3294,3295,3296,3297,3298,3299,3300,3301,3302,3303,3304,3305,3306,3307,3308,3309,3310,3311,3312,3313,3314,3315,3316,3317,3318,3319,3320,3321,3322,3323,3324,3325,3326,3327,3328,3329,3330,3331,3332,3333,3334,3335,3336,3337,3338,3339,3340,3341,3342,3343,3344,3345,3346,3347,3348,3349,3350,3351,3352,3353,3354,3355,3356,3357,3358,3359,3360,3361,3362,3363,3364,3365,3366,3367,3368,3369,3370,3371,3372,3373,3374,3375,3376,3377,3378,3379,3380,3381,3382,3383,3384,3385,3386,3387,3388,3389,3390,3391,3392,3393,3394,3395,3396,3397,3398,3399,3400,3401,3402,3403,3404,3405,3406,3407,3408,3409,3410,3411,3412,3413,3414,3415,3416,3417,3418,3419,3420,3421,3422,3423,3424,3425,3426,3427,3428,3429,3430,3431,3432,3433,3434,3435,3436,3437,3438,3439,3440,3441,3442,3443,3444,3445,3446,3447,3448,3449,3450,3451,3452,3453,3454,3455,3456,3457,3458,3459,3460,3461,3462,3463,3464,3465,3466,3467,3468,3469,3470,3471,3472,3473,3474,3475,3476,3477,3478,3479,3480,3481,3482,3483,3484,3485,3486,3487,3488,3489,3490,3491,3492,3493,3494,3495,3496,3497,3498,3499,3500,3501,3502,3503,3504,3505,3506,3507,3508,3509,3510,3511,3512,3513,3514,3515,3516,3517,3518,3519,3520,3521,3522,3523,3524,3525,3526,3527,3528,3529,3530,3531,3532,3533,3534,3535,3536,3537,3538,3539,3540,3541,3542,3543,3544,3545,3546,3547,3548,3549,3550,3551,3552,3553,3554,3555,3556,3557,3558,3559,3560,3561,3562,3563,3564,3565,3566,3567,3568,3569,3570,3571,3572,3573,3574,3575,3576,3577,3578,3579,3580,3581,3582,3583,3584,3585,3586,3587,3588,3589,3590,3591,3592,3593,3594,3595,3596,3597,3598,3599,3600,3601,3602,3603,3604,3605,3606,3607,3608,3609,3610,3611,3612,3613,3614,3615,3616,3617,3618,3619,3620,3621,3622,3623,3624,3625,3626,3627,3628,3629,3630,3631,3632,3633,3634,3635,3636,3637,3638,3639,3640,3641,3642,3643,3644,3645,3646,3647,3648,3649,3650,3651,3652,3653,3654,3655,3656,3657,3658,3659,3660,3661,3662,3663,3664,3665,3666,3667,3668,3669,3670,3671,3672,3673,3674,3675,3676,3677,3678,3679,3680,3681,3682,3683,3684,3685,3686,3687,3688,3689,3690,3691,3692,3693,3694,3695,3696,3697,3698,3699,3700,3701,3702,3703,3704,3705,3706,3707,3708,3709,3710,3711,3712,3713,3714,3715,3716,3717,3718,3719,3720,3721,3722,3723,3724,3725,3726,3727,3728,3729,3730,3731,3732,3733,3734,3735,3736,3737,3738,3739,3740,3741,3742,3743,3744,3745,3746,3747,3748,3749,3750,3751,3752,3753,3754,3755,3756,3757,3758,3759,3760,3761,3762,3763,3764,3765,3766,3767,3768,3769,3770,3771,3772,3773,3774,3775,3776,3777,3778,3779,3780,3781,3782,3783,3784,3785,3786,3787,3788,3789,3790,3791,3792,3793,3794,3795,3796,3797,3798,3799,3800,3801,3802,3803,3804,3805,3806,3807,3808,3809,3810,3811,3812,3813,3814,3815,3816,3817,3818,3819,3820,3821,3822,3823,3824,3825,3826,3827,3828,3829,3830,3831,3832,3833,3834,3835,3836,3837,3838,3839,3840,3841,3842,3843,3844,3845,3846,3847,3848,3849,3850,3851,3852,3853,3854,3855,3856,3857,3858,3859,3860,3861,3862,3863,3864,3865,3866,3867,3868,3869,3870,3871,3872,3873,3874,3875,3876,3877,3878,3879,3880,3881,3882,3883,3884,3885,3886,3887,3888,3889,3890,3891,3892,3893,3894,3895,3896,3897,3898,3899,3900,3901,3902,3903,3904,3905,3906,3907,3908,3909,3910,3911,3912,3913,3914,3915,3916,3917,3918,3919,3920,3921,3922,3923,3924,3925,3926,3927,3928,3929,3930,3931,3932,3933,3934,3935,3936,3937,3938,3939,3940,3941,3942,3943,3944,3945,3946,3947,3948,3949,3950,3951,3952,3953,3954,3955,3956,3957,3958,3959,3960,3961,3962,3963,3964,3965,3966,3967,3968,3969,3970,3971,3972,3973,3974,3975,3976,3977,3978,3979,3980,3981,3982,3983,3984,3985,3986,3987,3988,3989,3990,3991,3992,3993,3994,3995,3996,3997,3998,3999,4000,4001,4002,4003,4004,4005,4006,4007,4008,4009,4010,4011,4012,4013,4014,4015,4016,4017,4018,4019,4020,4021,4022,4023,4024,4025,4026,4027,4028,4029,4030,4031,4032,4033,4034,4035,4036,4037,4038,4039,4040,4041,4042,4043,4044,4045,4046,4047,4048,4049,4050,4051,4052,4053,4054,4055,4056,4057,4058,4059,4060,4061,4062,4063,4064,4065,4066,4067,4068,4069,4070,4071,4072,4073,4074,4075,4076,4077,4078,4079,4080,4081,4082,4083,4084,4085,4086,4087,4088,4089,4090,4091,4092,4093,4094,4095,4096,4097,4098,4099,4100,4101,4102,4103,4104,4105,4106,4107,4108,4109,4110,4111,4112,4113,4114,4115,4116,4117,4118,4119,4120,4121,4122,4123,4124,4125,4126,4127,4128,4129,4130,4131,4132,4133,4134,4135,4136,4137,4138,4139,4140,4141,4142,4143,4144,4145,4146,4147,4148,4149,4150,4151,4152,4153,4154,4155,4156,4157,4158,4159,4160,4161,4162,4163,4164,4165,4166,4167,4168,4169,4170,4171,4172,4173,4174,4175,4176,4177,4178,4179,4180,4181,4182,4183,4184,4185,4186,4187,4188,4189,4190,4191,4192,4193,4194,4195,4196,4197,4198,4199,4200,4201,4202,4203,4204,4205,4206,4207,4208,4209,4210,4211,4212,4213,4214,4215,4216,4217,4218,4219,4220,4221,4222,4223,4224,4225,4226,4227,4228,4229,4230,4231,4232,4233,4234,4235,4236,4237,4238,4239,4240,4241,4242,4243,4244,4245,4246,4247,4248,4249,4250,4251,4252,4253,4254,4255,4256,4257,4258,4259,4260,4261,4262,4263,4264,4265,4266,4267,4268,4269,4270,4271,4272,4273,4274,4275,4276,4277,4278,4279,4280,4281,4282,4283,4284,4285,4286,4287,4288,4289,4290,4291,4292,4293,4294,4295,4296,4297,4298,4299,4300,4301,4302,4303,4304,4305,4306,4307,4308,4309,4310,4311,4312,4313,4314,4315,4316,4317,4318,4319,4320,4321,4322,4323,4324,4325,4326,4327,4328,4329,4330,4331,4332,4333,4334,4335,4336,4337,4338,4339,4340,4341,4342,4343,4344,4345,4346,4347,4348,4349,4350,4351,4352,4353,4354,4355,4356,4357,4358,4359,4360,4361,4362,4363,4364,4365,4366,4367,4368,4369,4370,4371,4372,4373,4374,4375,4376,4377,4378,4379,4380,4381,4382,4383,4384,4385,4386,4387,4388,4389,4390,4391,4392,4393,4394,4395,4396,4397,4398,4399,4400,4401,4402,4403,4404,4405,4406,4407,4408,4409,4410,4411,4412,4413,4414,4415,4416,4417,4418,4419,4420,4421,4422,4423,4424,4425,4426,4427,4428,4429,4430,4431,4432,4433,4434,4435,4436,4437,4438,4439,4440,4441,4442,4443,4444,4445,4446,4447,4448,4449,4450,4451,4452,4453,4454,4455,4456,4457,4458,4459,4460,4461,4462,4463,4464,4465,4466,4467,4468,4469,4470,4471,4472,4473,4474,4475,4476,4477,4478,4479,4480,4481,4482,4483,4484,4485,4486,4487,4488,4489,4490,4491,4492,4493,4494,4495,4496,4497,4498,4499,4500,4501,4502,4503,4504,4505,4506,4507,4508,4509,4510,4511,4512,4513,4514,4515,4516,4517,4518,4519,4520,4521,4522,4523,4524,4525,4526,4527,4528,4529,4530,4531,4532,4533,4534,4535,4536,4537,4538,4539,4540,4541,4542,4543,4544,4545,4546,4547,4548,4549,4550,4551,4552,4553,4554,4555,4556,4557,4558,4559,4560,4561,4562,4563,4564,4565,4566,4567,4568,4569,4570,4571,4572,4573,4574,4575,4576,4577,4578,4579,4580,4581,4582,4583,4584,4585,4586,4587,4588,4589,4590,4591,4592,4593,4594,4595,4596,4597,4598,4599,4600,4601,4602,4603,4604,4605,4606,4607,4608,4609,4610,4611,4612,4613,4614,4615,4616,4617,4618,4619,4620,4621,4622,4623,4624,4625,4626,4627,4628,4629,4630,4631,4632,4633,4634,4635,4636,4637,4638,4639,4640,4641,4642,4643,4644,4645,4646,4647,4648,4649,4650,4651,4652,4653,4654,4655,4656,4657,4658,4659,4660,4661,4662,4663,4664,4665,4666,4667,4668,4669,4670,4671,4672,4673,4674,4675,4676,4677,4678,4679,4680,4681,4682,4683,4684,4685,4686,4687,4688,4689,4690,4691,4692,4693,4694,4695,4696,4697,4698,4699,4700,4701,4702,4703,4704,4705,4706,4707,4708,4709,4710,4711,4712,4713,4714,4715,4716,4717,4718,4719,4720,4721,4722,4723,4724,4725,4726,4727,4728,4729,4730,4731,4732,4733,4734,4735,4736,4737,4738,4739,4740,4741,4742,4743,4744,4745,4746,4747,4748,4749,4750,4751,4752,4753,4754,4755,4756,4757,4758,4759,4760,4761,4762,4763,4764,4765,4766,4767,4768,4769,4770,4771,4772,4773,4774,4775,4776,4777,4778,4779,4780,4781,4782,4783,4784,4785,4786,4787,4788,4789,4790,4791,4792,4793,4794,4795,4796,4797,4798,4799,4800,4801,4802,4803,4804,4805,4806,4807,4808,4809,4810,4811,4812,4813,4814,4815,4816,4817,4818,4819,4820,4821,4822,4823,4824,4825,4826,4827,4828,4829,4830,4831,4832,4833,4834,4835,4836,4837,4838,4839,4840,4841,4842,4843,4844,4845,4846,4847,4848,4849,4850,4851,4852,4853,4854,4855,4856,4857,4858,4859,4860,4861,4862,4863,4864,4865,4866,4867,4868,4869,4870,4871,4872,4873,4874,4875,4876,4877,4878,4879,4880,4881,4882,4883,4884,4885,4886,4887,4888,4889,4890,4891,4892,4893,4894,4895,4896,4897,4898,4899,4900,4901,4902,4903,4904,4905,4906,4907,4908,4909,4910,4911,4912,4913,4914,4915,4916,4917,4918,4919,4920,4921,4922,4923,4924,4925,4926,4927,4928,4929,4930,4931,4932,4933,4934,4935,4936,4937,4938,4939,4940,4941,4942,4943,4944,4945,4946,4947,4948,4949,4950,4951,4952,4953,4954,4955,4956,4957,4958,4959,4960,4961,4962,4963,4964,4965,4966,4967,4968,4969,4970,4971,4972,4973,4974,4975,4976,4977,4978,4979,4980,4981,4982,4983,4984,4985,4986,4987,4988,4989,4990,4991,4992,4993,4994,4995,4996,4997,4998,4999,5000,5001,5002,5003,5004,5005,5006,5007,5008,5009,5010,5011,5012,5013,5014,5015,5016,5017,5018,5019,5020,5021,5022,5023,5024,5025,5026,5027,5028,5029,5030,5031,5032,5033,5034,5035,5036,5037,5038,5039,5040,5041,5042,5043,5044,5045,5046,5047,5048,5049,5050,5051,5052,5053,5054,5055,5056,5057,5058,5059,5060,5061,5062,5063,5064,5065,5066,5067,5068,5069,5070,5071,5072,5073,5074,5075,5076,5077,5078,5079,5080,5081,5082,5083,5084,5085,5086,5087,5088,5089,5090,5091,5092,5093,5094,5095,5096,5097,5098,5099,5100,5101,5102,5103,5104,5105,5106,5107,5108,5109,5110,5111,5112,5113,5114,5115,5116,5117,5118,5119,5120,5121,5122,5123,5124,5125,5126,5127,5128,5129,5130,5131,5132,5133,5134,5135,5136,5137,5138,5139,5140,5141,5142,5143,5144,5145,5146,5147,5148,5149,5150,5151,5152,5153,5154,5155,5156,5157,5158,5159,5160,5161,5162,5163,5164,5165,5166,5167,5168,5169,5170,5171,5172,5173,5174,5175,5176,5177,5178,5179,5180,5181,5182,5183,5184,5185,5186,5187,5188,5189,5190,5191,5192,5193,5194,5195,5196,5197,5198,5199,5200,5201,5202,5203,5204,5205,5206,5207,5208,5209,5210,5211,5212,5213,5214,5215,5216,5217,5218,5219,5220,5221,5222,5223,5224,5225,5226,5227,5228,5229,5230,5231,5232,5233,5234,5235,5236,5237,5238,5239,5240,5241,5242,5243,5244,5245,5246,5247,5248,5249,5250,5251,5252,5253,5254,5255,5256,5257,5258,5259,5260,5261,5262,5263,5264,5265,5266,5267,5268,5269,5270,5271,5272,5273,5274,5275,5276,5277,5278,5279,5280,5281,5282,5283,5284,5285,5286,5287,5288,5289,5290,5291,5292,5293,5294,5295,5296,5297,5298,5299,5300,5301,5302,5303,5304,5305,5306,5307,5308,5309,5310,5311,5312,5313,5314,5315,5316,5317,5318,5319,5320,5321,5322,5323,5324,5325,5326,5327,5328,5329,5330,5331,5332,5333,5334,5335,5336,5337,5338,5339,5340,5341,5342,5343,5344,5345,5346,5347,5348,5349,5350,5351,5352,5353,5354,5355,5356,5357,5358,5359,5360,5361,5362,5363,5364,5365,5366,5367,5368,5369,5370,5371,5372,5373,5374,5375,5376,5377,5378,5379,5380,5381,5382,5383,5384,5385,5386,5387,5388,5389,5390,5391,5392,5393,5394,5395,5396,5397,5398,5399,5400,5401,5402,5403,5404,5405,5406,5407,5408,5409,5410,5411,5412,5413,5414,5415,5416,5417,5418,5419,5420,5421,5422,5423,5424,5425,5426,5427,5428,5429,5430,5431,5432,5433,5434,5435,5436,5437,5438,5439,5440,5441,5442,5443,5444,5445,5446,5447,5448,5449,5450,5451,5452,5453,5454,5455,5456,5457,5458,5459,5460,5461,5462,5463,5464,5465,5466,5467,5468,5469,5470,5471,5472,5473,5474,5475,5476,5477,5478,5479,5480,5481,5482,5483,5484,5485,5486,5487,5488,5489,5490,5491,5492,5493,5494,5495,5496,5497,5498,5499,5500,5501,5502,5503,5504,5505,5506,5507,5508,5509,5510,5511,5512,5513,5514,5515,5516,5517,5518,5519,5520,5521,5522,5523,5524,5525,5526,5527,5528,5529,5530,5531,5532,5533,5534,5535,5536,5537,5538,5539,5540,5541,5542,5543,5544,5545,5546,5547,5548,5549,5550,5551,5552,5553,5554,5555,5556,5557,5558,5559,5560,5561,5562,5563,5564,5565,5566,5567,5568,5569,5570,5571,5572,5573,5574,5575,5576,5577,5578,5579,5580,5581,5582,5583,5584,5585,5586,5587,5588,5589,5590,5591,5592,5593,5594,5595,5596,5597,5598,5599,5600,5601,5602,5603,5604,5605,5606,5607,5608,5609,5610,5611,5612,5613,5614,5615,5616,5617,5618,5619,5620,5621,5622,5623,5624,5625,5626,5627,5628,5629,5630,5631,5632,5633,5634,5635,5636,5637,5638,5639,5640,5641,5642,5643,5644,5645,5646,5647,5648,5649,5650,5651,5652,5653,5654,5655,5656,5657,5658,5659,5660,5661,5662,5663,5664,5665,5666,5667,5668,5669,5670,5671,5672,5673,5674,5675,5676,5677,5678,5679,5680,5681,5682,5683,5684,5685,5686,5687,5688,5689,5690,5691,5692,5693,5694,5695,5696,5697,5698,5699,5700,5701,5702,5703,5704,5705,5706,5707,5708,5709,5710,5711,5712,5713,5714,5715,5716,5717,5718,5719,5720,5721,5722,5723,5724,5725,5726,5727,5728,5729,5730,5731,5732,5733,5734,5735,5736,5737,5738,5739,5740,5741,5742,5743,5744,5745,5746,5747,5748,5749,5750,5751,5752,5753,5754,5755,5756,5757,5758,5759,5760,5761,5762,5763,5764,5765,5766,5767,5768,5769,5770,5771,5772,5773,5774,5775,5776,5777,5778,5779,5780,5781,5782,5783,5784,5785,5786,5787,5788,5789,5790,5791,5792,5793,5794,5795,5796,5797,5798,5799,5800,5801,5802,5803,5804,5805,5806,5807,5808,5809,5810,5811,5812,5813,5814,5815,5816,5817,5818,5819,5820,5821,5822,5823,5824,5825,5826,5827,5828,5829,5830,5831,5832,5833,5834,5835,5836,5837,5838,5839,5840,5841,5842,5843,5844,5845,5846,5847,5848,5849,5850,5851,5852,5853,5854,5855,5856,5857,5858,5859,5860,5861,5862,5863,5864,5865,5866,5867,5868,5869,5870,5871,5872,5873,5874,5875,5876,5877,5878,5879,5880,5881,5882,5883,5884,5885,5886,5887,5888,5889,5890,5891,5892,5893,5894,5895,5896,5897,5898,5899,5900,5901,5902,5903,5904,5905,5906,5907,5908,5909,5910,5911,5912,5913,5914,5915,5916,5917,5918,5919,5920,5921,5922,5923,5924,5925,5926,5927,5928,5929,5930,5931,5932,5933,5934,5935,5936,5937,5938,5939,5940,5941,5942,5943,5944,5945,5946,5947,5948,5949,5950,5951,5952,5953,5954,5955,5956,5957,5958,5959,5960,5961,5962,5963,5964,5965,5966,5967,5968,5969,5970,5971,5972,5973,5974,5975,5976,5977,5978,5979,5980,5981,5982,5983,5984,5985,5986,5987,5988,5989,5990,5991,5992,5993,5994,5995,5996,5997,5998,5999,6000,6001,6002,6003,6004,6005,6006,6007,6008,6009,6010,6011,6012,6013,6014,6015,6016,6017,6018,6019,6020,6021,6022,6023,6024,6025,6026,6027,6028,6029,6030,6031,6032,6033,6034,6035,6036,6037,6038,6039,6040,6041,6042,6043,6044,6045,6046,6047,6048,6049,6050,6051,6052,6053,6054,6055,6056,6057,6058,6059,6060,6061,6062,6063,6064,6065,6066,6067,6068,6069,6070,6071,6072,6073,6074,6075,6076,6077,6078,6079,6080,6081,6082,6083,6084,6085,6086,6087,6088,6089,6090,6091,6092,6093,6094,6095,6096,6097,6098,6099,6100,6101,6102,6103,6104,6105,6106,6107,6108,6109,6110,6111,6112,6113,6114,6115,6116,6117,6118,6119,6120,6121,6122,6123,6124,6125,6126,6127,6128,6129,6130,6131,6132,6133,6134,6135,6136,6137,6138,6139,6140,6141,6142,6143,6144,6145,6146,6147,6148,6149,6150,6151,6152,6153,6154,6155,6156,6157,6158,6159,6160,6161,6162,6163,6164,6165,6166,6167,6168,6169,6170,6171,6172,6173,6174,6175,6176,6177,6178,6179,6180,6181,6182,6183,6184,6185,6186,6187,6188,6189,6190,6191,6192,6193,6194,6195,6196,6197,6198,6199,6200,6201,6202,6203,6204,6205,6206,6207,6208,6209,6210,6211,6212,6213,6214,6215,6216,6217,6218,6219,6220,6221,6222,6223,6224,6225,6226,6227,6228,6229,6230,6231,6232,6233,6234,6235,6236,6237,6238,6239,6240,6241,6242,6243,6244,6245,6246,6247,6248,6249,6250,6251,6252,6253,6254,6255,6256,6257,6258,6259,6260,6261,6262,6263,6264,6265,6266,6267,6268,6269,6270,6271,6272,6273,6274,6275,6276,6277,6278,6279,6280,6281,6282,6283,6284,6285,6286,6287,6288,6289,6290,6291,6292,6293,6294,6295,6296,6297,6298,6299,6300,6301,6302,6303,6304,6305,6306,6307,6308,6309,6310,6311,6312,6313,6314,6315,6316,6317,6318,6319,6320,6321,6322,6323,6324,6325,6326,6327,6328,6329,6330,6331,6332,6333,6334,6335,6336,6337,6338,6339,6340,6341,6342,6343,6344,6345,6346,6347,6348,6349,6350,6351,6352,6353,6354,6355,6356,6357,6358,6359,6360,6361,6362,6363,6364,6365,6366,6367,6368,6369,6370,6371,6372,6373,6374,6375,6376,6377,6378,6379,6380,6381,6382,6383,6384,6385,6386,6387,6388,6389,6390,6391,6392,6393,6394,6395,6396,6397,6398,6399,6400,6401,6402,6403,6404,6405,6406,6407,6408,6409,6410,6411,6412,6413,6414,6415,6416,6417,6418,6419,6420,6421,6422,6423,6424,6425,6426,6427,6428,6429,6430,6431,6432,6433,6434,6435,6436,6437,6438,6439,6440,6441,6442,6443,6444,6445,6446,6447,6448,6449,6450,6451,6452,6453,6454,6455,6456,6457,6458,6459,6460,6461,6462,6463,6464,6465,6466,6467,6468,6469,6470,6471,6472,6473,6474,6475,6476,6477,6478,6479,6480,6481,6482,6483,6484,6485,6486,6487,6488,6489,6490,6491,6492,6493,6494,6495,6496,6497,6498,6499,6500,6501,6502,6503,6504,6505,6506,6507,6508,6509,6510,6511,6512,6513,6514,6515,6516,6517,6518,6519,6520,6521,6522,6523,6524,6525,6526,6527,6528,6529,6530,6531,6532,6533,6534,6535,6536,6537,6538,6539,6540,6541,6542,6543,6544,6545,6546,6547,6548,6549,6550,6551,6552,6553,6554,6555,6556,6557,6558,6559,6560,6561,6562,6563,6564,6565,6566,6567,6568,6569,6570,6571,6572,6573,6574,6575,6576,6577,6578,6579,6580,6581,6582,6583,6584,6585,6586,6587,6588,6589,6590,6591,6592,6593,6594,6595,6596,6597,6598,6599,6600,6601,6602,6603,6604,6605,6606,6607,6608,6609,6610,6611,6612,6613,6614,6615,6616,6617,6618,6619,6620,6621,6622,6623,6624,6625,6626,6627,6628,6629,6630,6631,6632,6633,6634,6635,6636,6637,6638,6639,6640,6641,6642,6643,6644,6645,6646,6647,6648,6649,6650,6651,6652,6653,6654,6655,6656,6657,6658,6659,6660,6661,6662,6663,6664,6665,6666,6667,6668,6669,6670,6671,6672,6673,6674,6675,6676,6677,6678,6679,6680,6681,6682,6683,6684,6685,6686,6687,6688,6689,6690,6691,6692,6693,6694,6695,6696,6697,6698,6699,6700,6701,6702,6703,6704,6705,6706,6707,6708,6709,6710,6711,6712,6713,6714,6715,6716,6717,6718,6719,6720,6721,6722,6723,6724,6725,6726,6727,6728,6729,6730,6731,6732,6733,6734,6735,6736,6737,6738,6739,6740,6741,6742,6743,6744,6745,6746,6747,6748,6749,6750,6751,6752,6753,6754,6755,6756,6757,6758,6759,6760,6761,6762,6763,6764,6765,6766,6767,6768,6769,6770,6771,6772,6773,6774,6775,6776,6777,6778,6779,6780,6781,6782,6783,6784,6785,6786,6787,6788,6789,6790,6791,6792,6793,6794,6795,6796,6797,6798,6799,6800,6801,6802,6803,6804,6805,6806,6807,6808,6809,6810,6811,6812,6813,6814,6815,6816,6817,6818,6819,6820,6821,6822,6823,6824,6825,6826,6827,6828,6829,6830,6831,6832,6833,6834,6835,6836,6837,6838,6839,6840,6841,6842,6843,6844,6845,6846,6847,6848,6849,6850,6851,6852,6853,6854,6855,6856,6857,6858,6859,6860,6861,6862,6863,6864,6865,6866,6867,6868,6869,6870,6871,6872,6873,6874,6875,6876,6877,6878,6879,6880,6881,6882,6883,6884,6885,6886,6887,6888,6889,6890,6891,6892,6893,6894,6895,6896,6897,6898,6899,6900,6901,6902,6903,6904,6905,6906,6907,6908,6909,6910,6911,6912,6913,6914,6915,6916,6917,6918,6919,6920,6921,6922,6923,6924,6925,6926,6927,6928,6929,6930,6931,6932,6933,6934,6935,6936,6937,6938,6939,6940,6941,6942,6943,6944,6945,6946,6947,6948,6949,6950,6951,6952,6953,6954,6955,6956,6957,6958,6959,6960,6961,6962,6963,6964,6965,6966,6967,6968,6969,6970,6971,6972,6973,6974,6975,6976,6977,6978,6979,6980,6981,6982,6983,6984,6985,6986,6987,6988,6989,6990,6991,6992,6993,6994,6995,6996,6997,6998,6999,7000,7001,7002,7003,7004,7005,7006,7007,7008,7009,7010,7011,7012,7013,7014,7015,7016,7017,7018,7019,7020,7021,7022,7023,7024,7025,7026,7027,7028,7029,7030,7031,7032,7033,7034,7035,7036,7037,7038,7039,7040,7041,7042,7043,7044,7045,7046,7047,7048,7049,7050,7051,7052,7053,7054,7055,7056,7057,7058,7059,7060,7061,7062,7063,7064,7065,7066,7067,7068,7069,7070,7071,7072,7073,7074,7075,7076,7077,7078,7079,7080,7081,7082,7083,7084,7085,7086,7087,7088,7089,7090,7091,7092,7093,7094,7095,7096,7097,7098,7099,7100,7101,7102,7103,7104,7105,7106,7107,7108,7109,7110,7111,7112,7113,7114,7115,7116,7117,7118,7119,7120,7121,7122,7123,7124,7125,7126,7127,7128,7129,7130,7131,7132,7133,7134,7135,7136,7137,7138,7139,7140,7141,7142,7143,7144,7145,7146,7147,7148,7149,7150,7151,7152,7153,7154,7155,7156,7157,7158,7159,7160,7161,7162,7163,7164,7165,7166,7167,7168,7169,7170,7171,7172,7173,7174,7175,7176,7177,7178,7179,7180,7181,7182,7183,7184,7185,7186,7187,7188,7189,7190,7191,7192,7193,7194,7195,7196,7197,7198,7199,7200,7201,7202,7203,7204,7205,7206,7207,7208,7209,7210,7211,7212,7213,7214,7215,7216,7217,7218,7219,7220,7221,7222,7223,7224,7225,7226,7227,7228,7229,7230,7231,7232,7233,7234,7235,7236,7237,7238,7239,7240,7241,7242,7243,7244,7245,7246,7247,7248,7249,7250,7251,7252,7253,7254,7255,7256,7257,7258,7259,7260,7261,7262,7263,7264,7265,7266,7267,7268,7269,7270,7271,7272,7273,7274,7275,7276,7277,7278,7279,7280,7281,7282,7283,7284,7285,7286,7287,7288,7289,7290,7291,7292,7293,7294,7295,7296,7297,7298,7299,7300,7301,7302,7303,7304,7305,7306,7307,7308,7309,7310,7311,7312,7313,7314,7315,7316,7317,7318,7319,7320,7321,7322,7323,7324,7325,7326,7327,7328,7329,7330,7331,7332,7333,7334,7335,7336,7337,7338,7339,7340,7341,7342,7343,7344,7345,7346,7347,7348,7349,7350,7351,7352,7353,7354,7355,7356,7357,7358,7359,7360,7361,7362,7363,7364,7365,7366,7367,7368,7369,7370,7371,7372,7373,7374,7375,7376,7377,7378,7379,7380,7381,7382,7383,7384,7385,7386,7387,7388,7389,7390,7391,7392,7393,7394,7395,7396,7397,7398,7399,7400,7401,7402,7403,7404,7405,7406,7407,7408,7409,7410,7411,7412,7413,7414,7415,7416,7417,7418,7419,7420,7421,7422,7423,7424,7425,7426,7427,7428,7429,7430,7431,7432,7433,7434,7435,7436,7437,7438,7439,7440,7441,7442,7443,7444,7445,7446,7447,7448,7449,7450,7451,7452,7453,7454,7455,7456,7457,7458,7459,7460,7461,7462,7463,7464,7465,7466,7467,7468,7469,7470,7471,7472,7473,7474,7475,7476,7477,7478,7479,7480,7481,7482,7483,7484,7485,7486,7487,7488,7489,7490,7491,7492,7493,7494,7495,7496,7497,7498,7499,7500,7501,7502,7503,7504,7505,7506,7507,7508,7509,7510,7511,7512,7513,7514,7515,7516,7517,7518,7519,7520,7521,7522,7523,7524,7525,7526,7527,7528,7529,7530,7531,7532,7533,7534,7535,7536,7537,7538,7539,7540,7541,7542,7543,7544,7545,7546,7547,7548,7549,7550,7551,7552,7553,7554,7555,7556,7557,7558,7559,7560,7561,7562,7563,7564,7565,7566,7567,7568,7569,7570,7571,7572,7573,7574,7575,7576,7577,7578,7579,7580,7581,7582,7583,7584,7585,7586,7587,7588,7589,7590,7591,7592,7593,7594,7595,7596,7597,7598,7599,7600,7601,7602,7603,7604,7605,7606,7607,7608,7609,7610,7611,7612,7613,7614,7615,7616,7617,7618,7619,7620,7621,7622,7623,7624,7625,7626,7627,7628,7629,7630,7631,7632,7633,7634,7635,7636,7637,7638,7639,7640,7641,7642,7643,7644,7645,7646,7647,7648,7649,7650,7651,7652,7653,7654,7655,7656,7657,7658,7659,7660,7661,7662,7663,7664,7665,7666,7667,7668,7669,7670,7671,7672,7673,7674,7675,7676,7677,7678,7679,7680,7681,7682,7683,7684,7685,7686,7687,7688,7689,7690,7691,7692,7693,7694,7695,7696,7697,7698,7699,7700,7701,7702,7703,7704,7705,7706,7707,7708,7709,7710,7711,7712,7713,7714,7715,7716,7717,7718,7719,7720,7721,7722,7723,7724,7725,7726,7727,7728,7729,7730,7731,7732,7733,7734,7735,7736,7737,7738,7739,7740,7741,7742,7743,7744,7745,7746,7747,7748,7749,7750,7751,7752,7753,7754,7755,7756,7757,7758,7759,7760,7761,7762,7763,7764,7765,7766,7767,7768,7769,7770,7771,7772,7773,7774,7775,7776,7777,7778,7779,7780,7781,7782,7783,7784,7785,7786,7787,7788,7789,7790,7791,7792,7793,7794,7795,7796,7797,7798,7799,7800,7801,7802,7803,7804,7805,7806,7807,7808,7809,7810,7811,7812,7813,7814,7815,7816,7817,7818,7819,7820,7821,7822,7823,7824,7825,7826,7827,7828,7829,7830,7831,7832,7833,7834,7835,7836,7837,7838,7839,7840,7841,7842,7843,7844,7845,7846,7847,7848,7849,7850,7851,7852,7853,7854,7855,7856,7857,7858,7859,7860,7861,7862,7863,7864,7865,7866,7867,7868,7869,7870,7871,7872,7873,7874,7875,7876,7877,7878,7879,7880,7881,7882,7883,7884,7885,7886,7887,7888,7889,7890,7891,7892,7893,7894,7895,7896,7897,7898,7899,7900,7901,7902,7903,7904,7905,7906,7907,7908,7909,7910,7911,7912,7913,7914,7915,7916,7917,7918,7919,7920,7921,7922,7923,7924,7925,7926,7927,7928,7929,7930,7931,7932,7933,7934,7935,7936,7937,7938,7939,7940,7941,7942,7943,7944,7945,7946,7947,7948,7949,7950,7951,7952,7953,7954,7955,7956,7957,7958,7959,7960,7961,7962,7963,7964,7965,7966,7967,7968,7969,7970,7971,7972,7973,7974,7975,7976,7977,7978,7979,7980,7981,7982,7983,7984,7985,7986,7987,7988,7989,7990,7991,7992,7993,7994,7995,7996,7997,7998,7999,8000,8001,8002,8003,8004,8005,8006,8007,8008,8009,8010,8011,8012,8013,8014,8015,8016,8017,8018,8019,8020,8021,8022,8023,8024,8025,8026,8027,8028,8029,8030,8031,8032,8033,8034,8035,8036,8037,8038,8039,8040,8041,8042,8043,8044,8045,8046,8047,8048,8049,8050,8051,8052,8053,8054,8055,8056,8057,8058,8059,8060,8061,8062,8063,8064,8065,8066,8067,8068,8069,8070,8071,8072,8073,8074,8075,8076,8077,8078,8079,8080,8081,8082,8083,8084,8085,8086,8087,8088,8089,8090,8091,8092,8093,8094,8095,8096,8097,8098,8099,8100,8101,8102,8103,8104,8105,8106,8107,8108,8109,8110,8111,8112,8113,8114,8115,8116,8117,8118,8119,8120,8121,8122,8123,8124,8125,8126,8127,8128,8129,8130,8131,8132,8133,8134,8135,8136,8137,8138,8139,8140,8141,8142,8143,8144,8145,8146,8147,8148,8149,8150,8151,8152,8153,8154,8155,8156,8157,8158,8159,8160,8161,8162,8163,8164,8165,8166,8167,8168,8169,8170,8171,8172,8173,8174,8175,8176,8177,8178,8179,8180,8181,8182,8183,8184,8185,8186,8187,8188,8189,8190,8191,8192,8193,8194,8195,8196,8197,8198,8199,8200,8201,8202,8203,8204,8205,8206,8207,8208,8209,8210,8211,8212,8213,8214,8215,8216,8217,8218,8219,8220,8221,8222,8223,8224,8225,8226,8227,8228,8229,8230,8231,8232,8233,8234,8235,8236,8237,8238,8239,8240,8241,8242,8243,8244,8245,8246,8247,8248,8249,8250,8251,8252,8253,8254,8255,8256,8257,8258,8259,8260,8261,8262,8263,8264,8265,8266,8267,8268,8269,8270,8271,8272,8273,8274,8275,8276,8277,8278,8279,8280,8281,8282,8283,8284,8285,8286,8287,8288,8289,8290,8291,8292,8293,8294,8295,8296,8297,8298,8299,8300,8301,8302,8303,8304,8305,8306,8307,8308,8309,8310,8311,8312,8313,8314,8315,8316,8317,8318,8319,8320,8321,8322,8323,8324,8325,8326,8327,8328,8329,8330,8331,8332,8333,8334,8335,8336,8337,8338,8339,8340,8341,8342,8343,8344,8345,8346,8347,8348,8349,8350,8351,8352,8353,8354,8355,8356,8357,8358,8359,8360,8361,8362,8363,8364,8365,8366,8367,8368,8369,8370,8371,8372,8373,8374,8375,8376,8377,8378,8379,8380,8381,8382,8383,8384,8385,8386,8387,8388,8389,8390,8391,8392,8393,8394,8395,8396,8397,8398,8399,8400,8401,8402,8403,8404,8405,8406,8407,8408,8409,8410,8411,8412,8413,8414,8415,8416,8417,8418,8419,8420,8421,8422,8423,8424,8425,8426,8427,8428,8429,8430,8431,8432,8433,8434,8435,8436,8437,8438,8439,8440,8441,8442,8443,8444,8445,8446,8447,8448,8449,8450,8451,8452,8453,8454,8455,8456,8457,8458,8459,8460,8461,8462,8463,8464,8465,8466,8467,8468,8469,8470,8471,8472,8473,8474,8475,8476,8477,8478,8479,8480,8481,8482,8483,8484,8485,8486,8487,8488,8489,8490,8491,8492,8493,8494,8495,8496,8497,8498,8499,8500,8501,8502,8503,8504,8505,8506,8507,8508,8509,8510,8511,8512,8513,8514,8515,8516,8517,8518,8519,8520,8521,8522,8523,8524,8525,8526,8527,8528,8529,8530,8531,8532,8533,8534,8535,8536,8537,8538,8539,8540,8541,8542,8543,8544,8545,8546,8547,8548,8549,8550,8551,8552,8553,8554,8555,8556,8557,8558,8559,8560,8561,8562,8563,8564,8565,8566,8567,8568,8569,8570,8571,8572,8573,8574,8575,8576,8577,8578,8579,8580,8581,8582,8583,8584,8585,8586,8587,8588,8589,8590,8591,8592,8593,8594,8595,8596,8597,8598,8599,8600,8601,8602,8603,8604,8605,8606,8607,8608,8609,8610,8611,8612,8613,8614,8615,8616,8617,8618,8619,8620,8621,8622,8623,8624,8625,8626,8627,8628,8629,8630,8631,8632,8633,8634,8635,8636,8637,8638,8639,8640,8641,8642,8643,8644,8645,8646,8647,8648,8649,8650,8651,8652,8653,8654,8655,8656,8657,8658,8659,8660,8661,8662,8663,8664,8665,8666,8667,8668,8669,8670,8671,8672,8673,8674,8675,8676,8677,8678,8679,8680,8681,8682,8683,8684,8685,8686,8687,8688,8689,8690,8691,8692,8693,8694,8695,8696,8697,8698,8699,8700,8701,8702,8703,8704,8705,8706,8707,8708,8709,8710,8711,8712,8713,8714,8715,8716,8717,8718,8719,8720,8721,8722,8723,8724,8725,8726,8727,8728,8729,8730,8731,8732,8733,8734,8735,8736,8737,8738,8739,8740,8741,8742,8743,8744,8745,8746,8747,8748,8749,8750,8751,8752,8753,8754,8755,8756,8757,8758,8759,8760,8761,8762,8763,8764,8765,8766,8767,8768,8769,8770,8771,8772,8773,8774,8775,8776,8777,8778,8779,8780,8781,8782,8783,8784,8785,8786,8787,8788,8789,8790,8791,8792,8793,8794,8795,8796,8797,8798,8799,8800,8801,8802,8803,8804,8805,8806,8807,8808,8809,8810,8811,8812,8813,8814,8815,8816,8817,8818,8819,8820,8821,8822,8823,8824,8825,8826,8827,8828,8829,8830,8831,8832,8833,8834,8835,8836,8837,8838,8839,8840,8841,8842,8843,8844,8845,8846,8847,8848,8849,8850,8851,8852,8853,8854,8855,8856,8857,8858,8859,8860,8861,8862,8863,8864,8865,8866,8867,8868,8869,8870,8871,8872,8873,8874,8875,8876,8877,8878,8879,8880,8881,8882,8883,8884,8885,8886,8887,8888,8889,8890,8891,8892,8893,8894,8895,8896,8897,8898,8899,8900,8901,8902,8903,8904,8905,8906,8907,8908,8909,8910,8911,8912,8913,8914,8915,8916,8917,8918,8919,8920,8921,8922,8923,8924,8925,8926,8927,8928,8929,8930,8931,8932,8933,8934,8935,8936,8937,8938,8939,8940,8941,8942,8943,8944,8945,8946,8947,8948,8949,8950,8951,8952,8953,8954,8955,8956,8957,8958,8959,8960,8961,8962,8963,8964,8965,8966,8967,8968,8969,8970,8971,8972,8973,8974,8975,8976,8977,8978,8979,8980,8981,8982,8983,8984,8985,8986,8987,8988,8989,8990,8991,8992,8993,8994,8995,8996,8997,8998,8999,9000,9001,9002,9003,9004,9005,9006,9007,9008,9009,9010,9011,9012,9013,9014,9015,9016,9017,9018,9019,9020,9021,9022,9023,9024,9025,9026,9027,9028,9029,9030,9031,9032,9033,9034,9035,9036,9037,9038,9039,9040,9041,9042,9043,9044,9045,9046,9047,9048,9049,9050,9051,9052,9053,9054,9055,9056,9057,9058,9059,9060,9061,9062,9063,9064,9065,9066,9067,9068,9069,9070,9071,9072,9073,9074,9075,9076,9077,9078,9079,9080,9081,9082,9083,9084,9085,9086,9087,9088,9089,9090,9091,9092,9093,9094,9095,9096,9097,9098,9099,9100,9101,9102,9103,9104,9105,9106,9107,9108,9109,9110,9111,9112,9113,9114,9115,9116,9117,9118,9119,9120,9121,9122,9123,9124,9125,9126,9127,9128,9129,9130,9131,9132,9133,9134,9135,9136,9137,9138,9139,9140,9141,9142,9143,9144,9145,9146,9147,9148,9149,9150,9151,9152,9153,9154,9155,9156,9157,9158,9159,9160,9161,9162,9163,9164,9165,9166,9167,9168,9169,9170,9171,9172,9173,9174,9175,9176,9177,9178,9179,9180,9181,9182,9183,9184,9185,9186,9187,9188,9189,9190,9191,9192,9193,9194,9195,9196,9197,9198,9199,9200,9201,9202,9203,9204,9205,9206,9207,9208,9209,9210,9211,9212,9213,9214,9215,9216,9217,9218,9219,9220,9221,9222,9223,9224,9225,9226,9227,9228,9229,9230,9231,9232,9233,9234,9235,9236,9237,9238,9239,9240,9241,9242,9243,9244,9245,9246,9247,9248,9249,9250,9251,9252,9253,9254,9255,9256,9257,9258,9259,9260,9261,9262,9263,9264,9265,9266,9267,9268,9269,9270,9271,9272,9273,9274,9275,9276,9277,9278,9279,9280,9281,9282,9283,9284,9285,9286,9287,9288,9289,9290,9291,9292,9293,9294,9295,9296,9297,9298,9299,9300,9301,9302,9303,9304,9305,9306,9307,9308,9309,9310,9311,9312,9313,9314,9315,9316,9317,9318,9319,9320,9321,9322,9323,9324,9325,9326,9327,9328,9329,9330,9331,9332,9333,9334,9335,9336,9337,9338,9339,9340,9341,9342,9343,9344,9345,9346,9347,9348,9349,9350,9351,9352,9353,9354,9355,9356,9357,9358,9359,9360,9361,9362,9363,9364,9365,9366,9367,9368,9369,9370,9371,9372,9373,9374,9375,9376,9377,9378,9379,9380,9381,9382,9383,9384,9385,9386,9387,9388,9389,9390,9391,9392,9393,9394,9395,9396,9397,9398,9399,9400,9401,9402,9403,9404,9405,9406,9407,9408,9409,9410,9411,9412,9413,9414,9415,9416,9417,9418,9419,9420,9421,9422,9423,9424,9425,9426,9427,9428,9429,9430,9431,9432,9433,9434,9435,9436,9437,9438,9439,9440,9441,9442,9443,9444,9445,9446,9447,9448,9449,9450,9451,9452,9453,9454,9455,9456,9457,9458,9459,9460,9461,9462,9463,9464,9465,9466,9467,9468,9469,9470,9471,9472,9473,9474,9475,9476,9477,9478,9479,9480,9481,9482,9483,9484,9485,9486,9487,9488,9489,9490,9491,9492,9493,9494,9495,9496,9497,9498,9499,9500,9501,9502,9503,9504,9505,9506,9507,9508,9509,9510,9511,9512,9513,9514,9515,9516,9517,9518,9519,9520,9521,9522,9523,9524,9525,9526,9527,9528,9529,9530,9531,9532,9533,9534,9535,9536,9537,9538,9539,9540,9541,9542,9543,9544,9545,9546,9547,9548,9549,9550,9551,9552,9553,9554,9555,9556,9557,9558,9559,9560,9561,9562,9563,9564,9565,9566,9567,9568,9569,9570,9571,9572,9573,9574,9575,9576,9577,9578,9579,9580,9581,9582,9583,9584,9585,9586,9587,9588,9589,9590,9591,9592,9593,9594,9595,9596,9597,9598,9599,9600,9601,9602,9603,9604,9605,9606,9607,9608,9609,9610,9611,9612,9613,9614,9615,9616,9617,9618,9619,9620,9621,9622,9623,9624,9625,9626,9627,9628,9629,9630,9631,9632,9633,9634,9635,9636,9637,9638,9639,9640,9641,9642,9643,9644,9645,9646,9647,9648,9649,9650,9651,9652,9653,9654,9655,9656,9657,9658,9659,9660,9661,9662,9663,9664,9665,9666,9667,9668,9669,9670,9671,9672,9673,9674,9675,9676,9677,9678,9679,9680,9681,9682,9683,9684,9685,9686,9687,9688,9689,9690,9691,9692,9693,9694,9695,9696,9697,9698,9699,9700,9701,9702,9703,9704,9705,9706,9707,9708,9709,9710,9711,9712,9713,9714,9715,9716,9717,9718,9719,9720,9721,9722,9723,9724,9725,9726,9727,9728,9729,9730,9731,9732,9733,9734,9735,9736,9737,9738,9739,9740,9741,9742,9743,9744,9745,9746,9747,9748,9749,9750,9751,9752,9753,9754,9755,9756,9757,9758,9759,9760,9761,9762,9763,9764,9765,9766,9767,9768,9769,9770,9771,9772,9773,9774,9775,9776,9777,9778,9779,9780,9781,9782,9783,9784,9785,9786,9787,9788,9789,9790,9791,9792,9793,9794,9795,9796,9797,9798,9799,9800,9801,9802,9803,9804,9805,9806,9807,9808,9809,9810,9811,9812,9813,9814,9815,9816,9817,9818,9819,9820,9821,9822,9823,9824,9825,9826,9827,9828,9829,9830,9831,9832,9833,9834,9835,9836,9837,9838,9839,9840,9841,9842,9843,9844,9845,9846,9847,9848,9849,9850,9851,9852,9853,9854,9855,9856,9857,9858,9859,9860,9861,9862,9863,9864,9865,9866,9867,9868,9869,9870,9871,9872,9873,9874,9875,9876,9877,9878,9879,9880,9881,9882,9883,9884,9885,9886,9887,9888,9889,9890,9891,9892,9893,9894,9895,9896,9897,9898,9899,9900,9901,9902,9903,9904,9905,9906,9907,9908,9909,9910,9911,9912,9913,9914,9915,9916,9917,9918,9919,9920,9921,9922,9923,9924,9925,9926,9927,9928,9929,9930,9931,9932,9933,9934,9935,9936,9937,9938,9939,9940,9941,9942,9943,9944,9945,9946,9947,9948,9949,9950,9951,9952,9953,9954,9955,9956,9957,9958,9959,9960,9961,9962,9963,9964,9965,9966,9967,9968,9969,9970,9971,9972,9973,9974,9975,9976,9977,9978,9979,9980,9981,9982,9983,9984,9985,9986,9987,9988,9989,9990,9991,9992,9993,9994,9995,9996,9997,9998,9999,10000,10001,10002,10003,10004,10005,10006,10007,10008,10009,10010,10011,10012,10013,10014,10015,10016,10017,10018,10019,10020,10021,10022,10023,10024,10025,10026,10027,10028,10029,10030,10031,10032,10033,10034,10035,10036,10037,10038,10039,10040,10041,10042,10043,10044,10045,10046,10047,10048,10049,10050,10051,10052,10053,10054,10055,10056,10057,10058,10059,10060,10061,10062,10063,10064,10065,10066,10067,10068,10069,10070,10071,10072,10073,10074,10075,10076,10077,10078,10079,10080,10081,10082,10083,10084,10085,10086,10087,10088,10089,10090,10091,10092,10093,10094,10095,10096,10097,10098,10099,10100,10101,10102,10103,10104,10105,10106,10107,10108,10109,10110,10111,10112,10113,10114,10115,10116,10117,10118,10119,10120,10121,10122,10123,10124,10125,10126,10127,10128,10129,10130,10131,10132,10133,10134,10135,10136,10137,10138,10139,10140,10141,10142,10143,10144,10145,10146,10147,10148,10149,10150,10151,10152,10153,10154,10155,10156,10157,10158,10159,10160,10161,10162,10163,10164,10165,10166,10167,10168,10169,10170,10171,10172,10173,10174,10175,10176,10177,10178,10179,10180,10181,10182,10183,10184,10185,10186,10187,10188,10189,10190,10191,10192,10193,10194,10195,10196,10197,10198,10199,10200,10201,10202,10203,10204,10205,10206,10207,10208,10209,10210,10211,10212,10213,10214,10215,10216,10217,10218,10219,10220,10221,10222,10223,10224,10225,10226,10227,10228,10229,10230,10231,10232,10233,10234,10235,10236,10237,10238,10239,10240,10241,10242,10243,10244,10245,10246,10247,10248,10249,10250,10251,10252,10253,10254,10255,10256,10257,10258,10259,10260,10261,10262,10263,10264,10265,10266,10267,10268,10269,10270,10271,10272,10273,10274,10275,10276,10277,10278,10279,10280,10281,10282,10283,10284,10285,10286,10287,10288,10289,10290,10291,10292,10293,10294,10295,10296,10297,10298,10299,10300,10301,10302,10303,10304,10305,10306,10307,10308,10309,10310,10311,10312,10313,10314,10315,10316,10317,10318,10319,10320,10321,10322,10323,10324,10325,10326,10327,10328,10329,10330,10331,10332,10333,10334,10335,10336,10337,10338,10339,10340,10341,10342,10343,10344,10345,10346,10347,10348,10349,10350,10351,10352,10353,10354,10355,10356,10357,10358,10359,10360,10361,10362,10363,10364,10365,10366,10367,10368,10369,10370,10371,10372,10373,10374,10375,10376,10377,10378,10379,10380,10381,10382,10383,10384,10385,10386,10387,10388,10389,10390,10391,10392,10393,10394,10395,10396,10397,10398,10399,10400,10401,10402,10403,10404,10405,10406,10407,10408,10409,10410,10411,10412,10413,10414,10415,10416,10417,10418,10419,10420,10421,10422,10423,10424,10425,10426,10427,10428,10429,10430,10431,10432,10433,10434,10435,10436,10437,10438,10439,10440,10441,10442,10443,10444,10445,10446,10447,10448,10449,10450,10451,10452,10453,10454,10455,10456,10457,10458,10459,10460,10461,10462,10463,10464,10465,10466,10467,10468,10469,10470,10471,10472,10473,10474,10475,10476,10477,10478,10479,10480,10481,10482,10483,10484,10485,10486,10487,10488,10489,10490,10491,10492,10493,10494,10495,10496,10497,10498,10499,10500,10501,10502,10503,10504,10505,10506,10507,10508,10509,10510,10511,10512,10513,10514,10515,10516,10517,10518,10519,10520,10521,10522,10523,10524,10525,10526,10527,10528,10529,10530,10531,10532,10533,10534,10535,10536,10537,10538,10539,10540,10541,10542,10543,10544,10545,10546,10547,10548,10549,10550,10551,10552,10553,10554,10555,10556,10557,10558,10559,10560,10561,10562,10563,10564,10565,10566,10567,10568,10569,10570,10571,10572,10573,10574,10575,10576,10577,10578,10579,10580,10581,10582,10583,10584,10585,10586,10587,10588,10589,10590,10591,10592,10593,10594,10595,10596,10597,10598,10599,10600,10601,10602,10603,10604,10605,10606,10607,10608,10609,10610,10611,10612,10613,10614,10615,10616,10617,10618,10619,10620,10621,10622,10623,10624,10625,10626,10627,10628,10629,10630,10631,10632,10633,10634,10635,10636,10637,10638,10639,10640,10641,10642,10643,10644,10645,10646,10647,10648,10649,10650,10651,10652,10653,10654,10655,10656,10657,10658,10659,10660,10661,10662,10663,10664,10665,10666,10667,10668,10669,10670,10671,10672,10673,10674,10675,10676,10677,10678,10679,10680,10681,10682,10683,10684,10685,10686,10687,10688,10689,10690,10691,10692,10693,10694,10695,10696,10697,10698,10699,10700,10701,10702,10703,10704,10705,10706,10707,10708,10709,10710,10711,10712,10713,10714,10715,10716,10717,10718,10719,10720,10721,10722,10723,10724,10725,10726,10727,10728,10729,10730,10731,10732,10733,10734,10735,10736,10737,10738,10739,10740,10741,10742,10743,10744,10745,10746,10747,10748,10749,10750,10751,10752,10753,10754,10755,10756,10757,10758,10759,10760,10761,10762,10763,10764,10765,10766,10767,10768,10769,10770,10771,10772,10773,10774,10775,10776,10777,10778,10779,10780,10781,10782,10783,10784,10785,10786,10787,10788,10789,10790,10791,10792,10793,10794,10795,10796,10797,10798,10799,10800,10801,10802,10803,10804,10805,10806,10807,10808,10809,10810,10811,10812,10813,10814,10815,10816,10817,10818,10819,10820,10821,10822,10823,10824,10825,10826,10827,10828,10829,10830,10831,10832,10833,10834,10835,10836,10837,10838,10839,10840,10841,10842,10843,10844,10845,10846,10847,10848,10849,10850,10851,10852,10853,10854,10855,10856,10857,10858,10859,10860,10861,10862,10863,10864,10865,10866,10867,10868,10869,10870,10871,10872,10873,10874,10875,10876,10877,10878,10879,10880,10881,10882,10883,10884,10885,10886,10887,10888,10889,10890,10891,10892,10893,10894,10895,10896,10897,10898,10899,10900,10901,10902,10903,10904,10905,10906,10907,10908,10909,10910,10911,10912,10913,10914,10915,10916,10917,10918,10919,10920,10921,10922,10923,10924,10925,10926,10927,10928,10929,10930,10931,10932,10933,10934,10935,10936,10937,10938,10939,10940,10941,10942,10943,10944,10945,10946,10947,10948,10949,10950,10951,10952,10953,10954,10955,10956,10957,10958,10959,10960,10961,10962,10963,10964,10965,10966,10967,10968,10969,10970,10971,10972,10973,10974,10975,10976,10977,10978,10979,10980,10981,10982,10983,10984,10985,10986,10987,10988,10989,10990,10991,10992,10993,10994,10995,10996,10997,10998,10999,11000,11001,11002,11003,11004,11005,11006,11007,11008,11009,11010,11011,11012,11013,11014,11015,11016,11017,11018,11019,11020,11021,11022,11023,11024,11025,11026,11027,11028,11029,11030,11031,11032,11033,11034,11035,11036,11037,11038,11039,11040,11041,11042,11043,11044,11045,11046,11047,11048,11049,11050,11051,11052,11053,11054,11055,11056,11057,11058,11059,11060,11061,11062,11063,11064,11065,11066,11067,11068,11069,11070,11071,11072,11073,11074,11075,11076,11077,11078,11079,11080,11081,11082,11083,11084,11085,11086,11087,11088,11089,11090,11091,11092,11093,11094,11095,11096,11097,11098,11099,11100,11101,11102,11103,11104,11105,11106,11107,11108,11109,11110,11111,11112,11113,11114,11115,11116,11117,11118,11119,11120,11121,11122,11123,11124,11125,11126,11127,11128,11129,11130,11131,11132,11133,11134,11135,11136,11137,11138,11139,11140,11141,11142,11143,11144,11145,11146,11147,11148,11149,11150,11151,11152,11153,11154,11155,11156,11157,11158,11159,11160,11161,11162,11163,11164,11165,11166,11167,11168,11169,11170,11171,11172,11173,11174,11175,11176,11177,11178,11179,11180,11181,11182,11183,11184,11185,11186,11187,11188,11189,11190,11191,11192,11193,11194,11195,11196,11197,11198,11199,11200,11201,11202,11203,11204,11205,11206,11207,11208,11209,11210,11211,11212,11213,11214,11215,11216,11217,11218,11219,11220,11221,11222,11223,11224,11225,11226,11227,11228,11229,11230,11231,11232,11233,11234,11235,11236,11237,11238,11239,11240,11241,11242,11243,11244,11245,11246,11247,11248,11249,11250,11251,11252,11253,11254,11255,11256,11257,11258,11259,11260,11261,11262,11263,11264,11265,11266,11267,11268,11269,11270,11271,11272,11273,11274,11275,11276,11277,11278,11279,11280,11281,11282,11283,11284,11285,11286,11287,11288,11289,11290,11291,11292,11293,11294,11295,11296,11297,11298,11299,11300,11301,11302,11303,11304,11305,11306,11307,11308,11309,11310,11311,11312,11313,11314,11315,11316,11317,11318,11319,11320,11321,11322,11323,11324,11325,11326,11327,11328,11329,11330,11331,11332,11333,11334,11335,11336,11337,11338,11339,11340,11341,11342,11343,11344,11345,11346,11347,11348,11349,11350,11351,11352,11353,11354,11355,11356,11357,11358,11359,11360,11361,11362,11363,11364,11365,11366,11367,11368,11369,11370,11371,11372,11373,11374,11375,11376,11377,11378,11379,11380,11381,11382,11383,11384,11385,11386,11387,11388,11389,11390,11391,11392,11393,11394,11395,11396,11397,11398,11399,11400,11401,11402,11403,11404,11405,11406,11407,11408,11409,11410,11411,11412,11413,11414,11415,11416,11417,11418,11419,11420,11421,11422,11423,11424,11425,11426,11427,11428,11429,11430,11431,11432,11433,11434,11435,11436,11437,11438,11439,11440,11441,11442,11443,11444,11445,11446,11447,11448,11449,11450,11451,11452,11453,11454,11455,11456,11457,11458,11459,11460,11461,11462,11463,11464,11465,11466,11467,11468,11469,11470,11471,11472,11473,11474,11475,11476,11477,11478,11479,11480,11481,11482,11483,11484,11485,11486,11487,11488,11489,11490,11491,11492,11493,11494,11495,11496,11497,11498,11499,11500,11501,11502,11503,11504,11505,11506,11507,11508,11509,11510,11511,11512,11513,11514,11515,11516,11517,11518,11519,11520,11521,11522,11523,11524,11525,11526,11527,11528,11529,11530,11531,11532,11533,11534,11535,11536,11537,11538,11539,11540,11541,11542,11543,11544,11545,11546,11547,11548,11549,11550,11551,11552,11553,11554,11555,11556,11557,11558,11559,11560,11561,11562,11563,11564,11565,11566,11567,11568,11569,11570,11571,11572,11573,11574,11575,11576,11577,11578,11579,11580,11581,11582,11583,11584,11585,11586,11587,11588,11589,11590,11591,11592,11593,11594,11595,11596,11597,11598,11599,11600,11601,11602,11603,11604,11605,11606,11607,11608,11609,11610,11611,11612,11613,11614,11615,11616,11617,11618,11619,11620,11621,11622,11623,11624,11625,11626,11627,11628,11629,11630,11631,11632,11633,11634,11635,11636,11637,11638,11639,11640,11641,11642,11643,11644,11645,11646,11647,11648,11649,11650,11651,11652,11653,11654,11655,11656,11657,11658,11659,11660,11661,11662,11663,11664,11665,11666,11667,11668,11669,11670,11671,11672,11673,11674,11675,11676,11677,11678,11679,11680,11681,11682,11683,11684,11685,11686,11687,11688,11689,11690,11691,11692,11693,11694,11695,11696,11697,11698,11699,11700,11701,11702,11703,11704,11705,11706,11707,11708,11709,11710,11711,11712,11713,11714,11715,11716,11717,11718,11719,11720,11721,11722,11723,11724,11725,11726,11727,11728,11729,11730,11731,11732,11733,11734,11735,11736,11737,11738,11739,11740,11741,11742,11743,11744,11745,11746,11747,11748,11749,11750,11751,11752,11753,11754,11755,11756,11757,11758,11759,11760,11761,11762,11763,11764,11765,11766,11767,11768,11769,11770,11771,11772,11773,11774,11775,11776,11777,11778,11779,11780,11781,11782,11783,11784,11785,11786,11787,11788,11789,11790,11791,11792,11793,11794,11795,11796,11797,11798,11799,11800,11801,11802,11803,11804,11805,11806,11807,11808,11809,11810,11811,11812,11813,11814,11815,11816,11817,11818,11819,11820,11821,11822,11823,11824,11825,11826,11827,11828,11829,11830,11831,11832,11833,11834,11835,11836,11837,11838,11839,11840,11841,11842,11843,11844,11845,11846,11847,11848,11849,11850,11851,11852,11853,11854,11855,11856,11857,11858,11859,11860,11861,11862,11863,11864,11865,11866,11867,11868,11869,11870,11871,11872,11873,11874,11875,11876,11877,11878,11879,11880,11881,11882,11883,11884,11885,11886,11887,11888,11889,11890,11891,11892,11893,11894,11895,11896,11897,11898,11899,11900,11901,11902,11903,11904,11905,11906,11907,11908,11909,11910,11911,11912,11913,11914,11915,11916,11917,11918,11919,11920,11921,11922,11923,11924,11925,11926,11927,11928,11929,11930,11931,11932,11933,11934,11935,11936,11937,11938,11939,11940,11941,11942,11943,11944,11945,11946,11947,11948,11949,11950,11951,11952,11953,11954,11955,11956,11957,11958,11959,11960,11961,11962,11963,11964,11965,11966,11967,11968,11969,11970,11971,11972,11973,11974,11975,11976,11977,11978,11979,11980,11981,11982,11983,11984,11985,11986,11987,11988,11989,11990,11991,11992,11993,11994,11995,11996,11997,11998,11999,12000,12001,12002,12003,12004,12005,12006,12007,12008,12009,12010,12011,12012,12013,12014,12015,12016,12017,12018,12019,12020,12021,12022,12023,12024,12025,12026,12027,12028,12029,12030,12031,12032,12033,12034,12035,12036,12037,12038,12039,12040,12041,12042,12043,12044,12045,12046,12047,12048,12049,12050,12051,12052,12053,12054,12055,12056,12057,12058,12059,12060,12061,12062,12063,12064,12065,12066,12067,12068,12069,12070,12071,12072,12073,12074,12075,12076,12077,12078,12079,12080,12081,12082,12083,12084,12085,12086,12087,12088,12089,12090,12091,12092,12093,12094,12095,12096,12097,12098,12099,12100,12101,12102,12103,12104,12105,12106,12107,12108,12109,12110,12111,12112,12113,12114,12115,12116,12117,12118,12119,12120,12121,12122,12123,12124,12125,12126,12127,12128,12129,12130,12131,12132,12133,12134,12135,12136,12137,12138,12139,12140,12141,12142,12143,12144,12145,12146,12147,12148,12149,12150,12151,12152,12153,12154,12155,12156,12157,12158,12159,12160,12161,12162,12163,12164,12165,12166,12167,12168,12169,12170,12171,12172,12173,12174,12175,12176,12177,12178,12179,12180,12181,12182,12183,12184,12185,12186,12187,12188,12189,12190,12191,12192,12193,12194,12195,12196,12197,12198,12199,12200,12201,12202,12203,12204,12205,12206,12207,12208,12209,12210,12211,12212,12213,12214,12215,12216,12217,12218,12219,12220,12221,12222,12223,12224,12225,12226,12227,12228,12229,12230,12231,12232,12233,12234,12235,12236,12237,12238,12239,12240,12241,12242,12243,12244,12245,12246,12247,12248,12249,12250,12251,12252,12253,12254,12255,12256,12257,12258,12259,12260,12261,12262,12263,12264,12265,12266,12267,12268,12269,12270,12271,12272,12273,12274,12275,12276,12277,12278,12279,12280,12281,12282,12283,12284,12285,12286,12287,12288,12289,12290,12291,12292,12293,12294,12295,12296,12297,12298,12299,12300,12301,12302,12303,12304,12305,12306,12307,12308,12309,12310,12311,12312,12313,12314,12315,12316,12317,12318,12319,12320,12321,12322,12323,12324,12325,12326,12327,12328,12329,12330,12331,12332,12333,12334,12335,12336,12337,12338,12339,12340,12341,12342,12343,12344,12345,12346,12347,12348,12349,12350,12351,12352,12353,12354,12355,12356,12357,12358,12359,12360,12361,12362,12363,12364,12365,12366,12367,12368,12369,12370,12371,12372,12373,12374,12375,12376,12377,12378,12379,12380,12381,12382,12383,12384,12385,12386,12387,12388,12389,12390,12391,12392,12393,12394,12395,12396,12397,12398,12399,12400,12401,12402,12403,12404,12405,12406,12407,12408,12409,12410,12411,12412,12413,12414,12415,12416,12417,12418,12419,12420,12421,12422,12423,12424,12425,12426,12427,12428,12429,12430,12431,12432,12433,12434,12435,12436,12437,12438,12439,12440,12441,12442,12443,12444,12445,12446,12447,12448,12449,12450,12451,12452,12453,12454,12455,12456,12457,12458,12459,12460,12461,12462,12463,12464,12465,12466,12467,12468,12469,12470,12471,12472,12473,12474,12475,12476,12477,12478,12479,12480,12481,12482,12483,12484,12485,12486,12487,12488,12489,12490,12491,12492,12493,12494,12495,12496,12497,12498,12499,12500,12501,12502,12503,12504,12505,12506,12507,12508,12509,12510,12511,12512,12513,12514,12515,12516,12517,12518,12519,12520,12521,12522,12523,12524,12525,12526,12527,12528,12529,12530,12531,12532,12533,12534,12535,12536,12537,12538,12539,12540,12541,12542,12543,12544,12545,12546,12547,12548,12549,12550,12551,12552,12553,12554,12555,12556,12557,12558,12559,12560,12561,12562,12563,12564,12565,12566,12567,12568,12569,12570,12571,12572,12573,12574,12575,12576,12577,12578,12579,12580,12581,12582,12583,12584,12585,12586,12587,12588,12589,12590,12591,12592,12593,12594,12595,12596,12597,12598,12599,12600,12601,12602,12603,12604,12605,12606,12607,12608,12609,12610,12611,12612,12613,12614,12615,12616,12617,12618,12619,12620,12621,12622,12623,12624,12625,12626,12627,12628,12629,12630,12631,12632,12633,12634,12635,12636,12637,12638,12639,12640,12641,12642,12643,12644,12645,12646,12647,12648,12649,12650,12651,12652,12653,12654,12655,12656,12657,12658,12659,12660,12661,12662,12663,12664,12665,12666,12667,12668,12669,12670,12671,12672,12673,12674,12675,12676,12677,12678,12679,12680,12681,12682,12683,12684,12685,12686,12687,12688,12689,12690,12691,12692,12693,12694,12695,12696,12697,12698,12699,12700,12701,12702,12703,12704,12705,12706,12707,12708,12709,12710,12711,12712,12713,12714,12715,12716,12717,12718,12719,12720,12721,12722,12723,12724,12725,12726,12727,12728,12729,12730,12731,12732,12733,12734,12735,12736,12737,12738,12739,12740,12741,12742,12743,12744,12745,12746,12747,12748,12749,12750,12751,12752,12753,12754,12755,12756,12757,12758,12759,12760,12761,12762,12763,12764,12765,12766,12767,12768,12769,12770,12771,12772,12773,12774,12775,12776,12777,12778,12779,12780,12781,12782,12783,12784,12785,12786,12787,12788,12789,12790,12791,12792,12793,12794,12795,12796,12797,12798,12799,12800,12801,12802,12803,12804,12805,12806,12807,12808,12809,12810,12811,12812,12813,12814,12815,12816,12817,12818,12819,12820,12821,12822,12823,12824,12825,12826,12827,12828,12829,12830,12831,12832,12833,12834,12835,12836,12837,12838,12839,12840,12841,12842,12843,12844,12845,12846,12847,12848,12849,12850,12851,12852,12853,12854,12855,12856,12857,12858,12859,12860,12861,12862,12863,12864,12865,12866,12867,12868,12869,12870,12871,12872,12873,12874,12875,12876,12877,12878,12879,12880,12881,12882,12883,12884,12885,12886,12887,12888,12889,12890,12891,12892,12893,12894,12895,12896,12897,12898,12899,12900,12901,12902,12903,12904,12905,12906,12907,12908,12909,12910,12911,12912,12913,12914,12915,12916,12917,12918,12919,12920,12921,12922,12923,12924,12925,12926,12927,12928,12929,12930,12931,12932,12933,12934,12935,12936,12937,12938,12939,12940,12941,12942,12943,12944,12945,12946,12947,12948,12949,12950,12951,12952,12953,12954,12955,12956,12957,12958,12959,12960,12961,12962,12963,12964,12965,12966,12967,12968,12969,12970,12971,12972,12973,12974,12975,12976,12977,12978,12979,12980,12981,12982,12983,12984,12985,12986,12987,12988,12989,12990,12991,12992,12993,12994,12995,12996,12997,12998,12999,13000,13001,13002,13003,13004,13005,13006,13007,13008,13009,13010,13011,13012,13013,13014,13015,13016,13017,13018,13019,13020,13021,13022,13023,13024,13025,13026,13027,13028,13029,13030,13031,13032,13033,13034,13035,13036,13037,13038,13039,13040,13041,13042,13043,13044,13045,13046,13047,13048,13049,13050,13051,13052,13053,13054,13055,13056,13057,13058,13059,13060,13061,13062,13063,13064,13065,13066,13067,13068,13069,13070,13071,13072,13073,13074,13075,13076,13077,13078,13079,13080,13081,13082,13083,13084,13085,13086,13087,13088,13089,13090,13091,13092,13093,13094,13095,13096,13097,13098,13099,13100,13101,13102,13103,13104,13105,13106,13107,13108,13109,13110,13111,13112,13113,13114,13115,13116,13117,13118,13119,13120,13121,13122,13123,13124,13125,13126,13127,13128,13129,13130,13131,13132,13133,13134,13135,13136,13137,13138,13139,13140,13141,13142,13143,13144,13145,13146,13147,13148,13149,13150,13151,13152,13153,13154,13155,13156,13157,13158,13159,13160,13161,13162,13163,13164,13165,13166,13167,13168,13169,13170,13171,13172,13173,13174,13175,13176,13177,13178,13179,13180,13181,13182,13183,13184,13185,13186,13187,13188,13189,13190,13191,13192,13193,13194,13195,13196,13197,13198,13199,13200,13201,13202,13203,13204,13205,13206,13207,13208,13209,13210,13211,13212,13213,13214,13215,13216,13217,13218,13219,13220,13221,13222,13223,13224,13225,13226,13227,13228,13229,13230,13231,13232,13233,13234,13235,13236,13237,13238,13239,13240,13241,13242,13243,13244,13245,13246,13247,13248,13249,13250,13251,13252,13253,13254,13255,13256,13257,13258,13259,13260,13261,13262,13263,13264,13265,13266,13267,13268,13269,13270,13271,13272,13273,13274,13275,13276,13277,13278,13279,13280,13281,13282,13283,13284,13285,13286,13287,13288,13289,13290,13291,13292,13293,13294,13295,13296,13297,13298,13299,13300,13301,13302,13303,13304,13305,13306,13307,13308,13309,13310,13311,13312,13313,13314,13315,13316,13317,13318,13319,13320,13321,13322,13323,13324,13325,13326,13327,13328,13329,13330,13331,13332,13333,13334,13335,13336,13337,13338,13339,13340,13341,13342,13343,13344,13345,13346,13347,13348,13349,13350,13351,13352,13353,13354,13355,13356,13357,13358,13359,13360,13361,13362,13363,13364,13365,13366,13367,13368,13369,13370,13371,13372,13373,13374,13375,13376,13377,13378,13379,13380,13381,13382,13383,13384,13385,13386,13387,13388,13389,13390,13391,13392,13393,13394,13395,13396,13397,13398,13399,13400,13401,13402,13403,13404,13405,13406,13407,13408,13409,13410,13411,13412,13413,13414,13415,13416,13417,13418,13419,13420,13421,13422,13423,13424,13425,13426,13427,13428,13429,13430,13431,13432,13433,13434,13435,13436,13437,13438,13439,13440,13441,13442,13443,13444,13445,13446,13447,13448,13449,13450,13451,13452,13453,13454,13455,13456,13457,13458,13459,13460,13461,13462,13463,13464,13465,13466,13467,13468,13469,13470,13471,13472,13473,13474,13475,13476,13477,13478,13479,13480,13481,13482,13483,13484,13485,13486,13487,13488,13489,13490,13491,13492,13493,13494,13495,13496,13497,13498,13499,13500,13501,13502,13503,13504,13505,13506,13507,13508,13509,13510,13511,13512,13513,13514,13515,13516,13517,13518,13519,13520,13521,13522,13523,13524,13525,13526,13527,13528,13529,13530,13531,13532,13533,13534,13535,13536,13537,13538,13539,13540,13541,13542,13543,13544,13545,13546,13547,13548,13549,13550,13551,13552,13553,13554,13555,13556,13557,13558,13559,13560,13561,13562,13563,13564,13565,13566,13567,13568,13569,13570,13571,13572,13573,13574,13575,13576,13577,13578,13579,13580,13581,13582,13583,13584,13585,13586,13587,13588,13589,13590,13591,13592,13593,13594,13595,13596,13597,13598,13599,13600,13601,13602,13603,13604,13605,13606,13607,13608,13609,13610,13611,13612,13613,13614,13615,13616,13617,13618,13619,13620,13621,13622,13623,13624,13625,13626,13627,13628,13629,13630,13631,13632,13633,13634,13635,13636,13637,13638,13639,13640,13641,13642,13643,13644,13645,13646,13647,13648,13649,13650,13651,13652,13653,13654,13655,13656,13657,13658,13659,13660,13661,13662,13663,13664,13665,13666,13667,13668,13669,13670,13671,13672,13673,13674,13675,13676,13677,13678,13679,13680,13681,13682,13683,13684,13685,13686,13687,13688,13689,13690,13691,13692,13693,13694,13695,13696,13697,13698,13699,13700,13701,13702,13703,13704,13705,13706,13707,13708,13709,13710,13711,13712,13713,13714,13715,13716,13717,13718,13719,13720,13721,13722,13723,13724,13725,13726,13727,13728,13729,13730,13731,13732,13733,13734,13735,13736,13737,13738,13739,13740,13741,13742,13743,13744,13745,13746,13747,13748,13749,13750,13751,13752,13753,13754,13755,13756,13757,13758,13759,13760,13761,13762,13763,13764,13765,13766,13767,13768,13769,13770,13771,13772,13773,13774,13775,13776,13777,13778,13779,13780,13781,13782,13783,13784,13785,13786,13787,13788,13789,13790,13791,13792,13793,13794,13795,13796,13797,13798,13799,13800,13801,13802,13803,13804,13805,13806,13807,13808,13809,13810,13811,13812,13813,13814,13815,13816,13817,13818,13819,13820,13821,13822,13823,13824,13825,13826,13827,13828,13829,13830,13831,13832,13833,13834,13835,13836,13837,13838,13839,13840,13841,13842,13843,13844,13845,13846,13847,13848,13849,13850,13851,13852,13853,13854,13855,13856,13857,13858,13859,13860,13861,13862,13863,13864,13865,13866,13867,13868,13869,13870,13871,13872,13873,13874,13875,13876,13877,13878,13879,13880,13881,13882,13883,13884,13885,13886,13887,13888,13889,13890,13891,13892,13893,13894,13895,13896,13897,13898,13899,13900,13901,13902,13903,13904,13905,13906,13907,13908,13909,13910,13911,13912,13913,13914,13915,13916,13917,13918,13919,13920,13921,13922,13923,13924,13925,13926,13927,13928,13929,13930,13931,13932,13933,13934,13935,13936,13937,13938,13939,13940,13941,13942,13943,13944,13945,13946,13947,13948,13949,13950,13951,13952,13953,13954,13955,13956,13957,13958,13959,13960,13961,13962,13963,13964,13965,13966,13967,13968,13969,13970,13971,13972,13973,13974,13975,13976,13977,13978,13979,13980,13981,13982,13983,13984,13985,13986,13987,13988,13989,13990,13991,13992,13993,13994,13995,13996,13997,13998,13999,14000,14001,14002,14003,14004,14005,14006,14007,14008,14009,14010,14011,14012,14013,14014,14015,14016,14017,14018,14019,14020,14021,14022,14023,14024,14025,14026,14027,14028,14029,14030,14031,14032,14033,14034,14035,14036,14037,14038,14039,14040,14041,14042,14043,14044,14045,14046,14047,14048,14049,14050,14051,14052,14053,14054,14055,14056,14057,14058,14059,14060,14061,14062,14063,14064,14065,14066,14067,14068,14069,14070,14071,14072,14073,14074,14075,14076,14077,14078,14079,14080,14081,14082,14083,14084,14085,14086,14087,14088,14089,14090,14091,14092,14093,14094,14095,14096,14097,14098,14099,14100,14101,14102,14103,14104,14105,14106,14107,14108,14109,14110,14111,14112,14113,14114,14115,14116,14117,14118,14119,14120,14121,14122,14123,14124,14125,14126,14127,14128,14129,14130,14131,14132,14133,14134,14135,14136,14137,14138,14139,14140,14141,14142,14143,14144,14145,14146,14147,14148,14149,14150,14151,14152,14153,14154,14155,14156,14157,14158,14159,14160,14161,14162,14163,14164,14165,14166,14167,14168,14169,14170,14171,14172,14173,14174,14175,14176,14177,14178,14179,14180,14181,14182,14183,14184,14185,14186,14187,14188,14189,14190,14191,14192,14193,14194,14195,14196,14197,14198,14199,14200,14201,14202,14203,14204,14205,14206,14207,14208,14209,14210,14211,14212,14213,14214,14215,14216,14217,14218,14219,14220,14221,14222,14223,14224,14225,14226,14227,14228,14229,14230,14231,14232,14233,14234,14235,14236,14237,14238,14239,14240,14241,14242,14243,14244,14245,14246,14247,14248,14249,14250,14251,14252,14253,14254,14255,14256,14257,14258,14259,14260,14261,14262,14263,14264,14265,14266,14267,14268,14269,14270,14271,14272,14273,14274,14275,14276,14277,14278,14279,14280,14281,14282,14283,14284,14285,14286,14287,14288,14289,14290,14291,14292,14293,14294,14295,14296,14297,14298,14299,14300,14301,14302,14303,14304,14305,14306,14307,14308,14309,14310,14311,14312,14313,14314,14315,14316,14317,14318,14319,14320,14321,14322,14323,14324,14325,14326,14327,14328,14329,14330,14331,14332,14333,14334,14335,14336,14337,14338,14339,14340,14341,14342,14343,14344,14345,14346,14347,14348,14349,14350,14351,14352,14353,14354,14355,14356,14357,14358,14359,14360,14361,14362,14363,14364,14365,14366,14367,14368,14369,14370,14371,14372,14373,14374,14375,14376,14377,14378,14379,14380,14381,14382,14383,14384,14385,14386,14387,14388,14389,14390,14391,14392,14393,14394,14395,14396,14397,14398,14399,14400,14401,14402,14403,14404,14405,14406,14407,14408,14409,14410,14411,14412,14413,14414,14415,14416,14417,14418,14419,14420,14421,14422,14423,14424,14425,14426,14427,14428,14429,14430,14431,14432,14433,14434,14435,14436,14437,14438,14439,14440,14441,14442,14443,14444,14445,14446,14447,14448,14449,14450,14451,14452,14453,14454,14455,14456,14457,14458,14459,14460,14461,14462,14463,14464,14465,14466,14467,14468,14469,14470,14471,14472,14473,14474,14475,14476,14477,14478,14479,14480,14481,14482,14483,14484,14485,14486,14487,14488,14489,14490,14491,14492,14493,14494,14495,14496,14497,14498,14499,14500,14501,14502,14503,14504,14505,14506,14507,14508,14509,14510,14511,14512,14513,14514,14515,14516,14517,14518,14519,14520,14521,14522,14523,14524,14525,14526,14527,14528,14529,14530,14531,14532,14533,14534,14535,14536,14537,14538,14539,14540,14541,14542,14543,14544,14545,14546,14547,14548,14549,14550,14551,14552,14553,14554,14555,14556,14557,14558,14559,14560,14561,14562,14563,14564,14565,14566,14567,14568,14569,14570,14571,14572,14573,14574,14575,14576,14577,14578,14579,14580,14581,14582,14583,14584,14585,14586,14587,14588,14589,14590,14591,14592,14593,14594,14595,14596,14597,14598,14599,14600,14601,14602,14603,14604,14605,14606,14607,14608,14609,14610,14611,14612,14613,14614,14615,14616,14617,14618,14619,14620,14621,14622,14623,14624,14625,14626,14627,14628,14629,14630,14631,14632,14633,14634,14635,14636,14637,14638,14639,14640,14641,14642,14643,14644,14645,14646,14647,14648,14649,14650,14651,14652,14653,14654,14655,14656,14657,14658,14659,14660,14661,14662,14663,14664,14665,14666,14667,14668,14669,14670,14671,14672,14673,14674,14675,14676,14677,14678,14679,14680,14681,14682,14683,14684,14685,14686,14687,14688,14689,14690,14691,14692,14693,14694,14695,14696,14697,14698,14699,14700,14701,14702,14703,14704,14705,14706,14707,14708,14709,14710,14711,14712,14713,14714,14715,14716,14717,14718,14719,14720,14721,14722,14723,14724,14725,14726,14727,14728,14729,14730,14731,14732,14733,14734,14735,14736,14737,14738,14739,14740,14741,14742,14743,14744,14745,14746,14747,14748,14749,14750,14751,14752,14753,14754,14755,14756,14757,14758,14759,14760,14761,14762,14763,14764,14765,14766,14767,14768,14769,14770,14771,14772,14773,14774,14775,14776,14777,14778,14779,14780,14781,14782,14783,14784,14785,14786,14787,14788,14789,14790,14791,14792,14793,14794,14795,14796,14797,14798,14799,14800,14801,14802,14803,14804,14805,14806,14807,14808,14809,14810,14811,14812,14813,14814,14815,14816,14817,14818,14819,14820,14821,14822,14823,14824,14825,14826,14827,14828,14829,14830,14831,14832,14833,14834,14835,14836,14837,14838,14839,14840,14841,14842,14843,14844,14845,14846,14847,14848,14849,14850,14851,14852,14853,14854,14855,14856,14857,14858,14859,14860,14861,14862,14863,14864,14865,14866,14867,14868,14869,14870,14871,14872,14873,14874,14875,14876,14877,14878,14879,14880,14881,14882,14883,14884,14885,14886,14887,14888,14889,14890,14891,14892,14893,14894,14895,14896,14897,14898,14899,14900,14901,14902,14903,14904,14905,14906,14907,14908,14909,14910,14911,14912,14913,14914,14915,14916,14917,14918,14919,14920,14921,14922,14923,14924,14925,14926,14927,14928,14929,14930,14931,14932,14933,14934,14935,14936,14937,14938,14939,14940,14941,14942,14943,14944,14945,14946,14947,14948,14949,14950,14951,14952,14953,14954,14955,14956,14957,14958,14959,14960,14961,14962,14963,14964,14965,14966,14967,14968,14969,14970,14971,14972,14973,14974,14975,14976,14977,14978,14979,14980,14981,14982,14983,14984,14985,14986,14987,14988,14989,14990,14991,14992,14993,14994,14995,14996,14997,14998,14999,15000,15001,15002,15003,15004,15005,15006,15007,15008,15009,15010,15011,15012,15013,15014,15015,15016,15017,15018,15019,15020,15021,15022,15023,15024,15025,15026,15027,15028,15029,15030,15031,15032,15033,15034,15035,15036,15037,15038,15039,15040,15041,15042,15043,15044,15045,15046,15047,15048,15049,15050,15051,15052,15053,15054,15055,15056,15057,15058,15059,15060,15061,15062,15063,15064,15065,15066,15067,15068,15069,15070,15071,15072,15073,15074,15075,15076,15077,15078,15079,15080,15081,15082,15083,15084,15085,15086,15087,15088,15089,15090,15091,15092,15093,15094,15095,15096,15097,15098,15099,15100,15101,15102,15103,15104,15105,15106,15107,15108,15109,15110,15111,15112,15113,15114,15115,15116,15117,15118,15119,15120,15121,15122,15123,15124,15125,15126,15127,15128,15129,15130,15131,15132,15133,15134,15135,15136,15137,15138,15139,15140,15141,15142,15143,15144,15145,15146,15147,15148,15149,15150,15151,15152,15153,15154,15155,15156,15157,15158,15159,15160,15161,15162,15163,15164,15165,15166,15167,15168,15169,15170,15171,15172,15173,15174,15175,15176,15177,15178,15179,15180,15181,15182,15183,15184,15185,15186,15187,15188,15189,15190,15191,15192,15193,15194,15195,15196,15197,15198,15199,15200,15201,15202,15203,15204,15205,15206,15207,15208,15209,15210,15211,15212,15213,15214,15215,15216,15217,15218,15219,15220,15221,15222,15223,15224,15225,15226,15227,15228,15229,15230,15231,15232,15233,15234,15235,15236,15237,15238,15239,15240,15241,15242,15243,15244,15245,15246,15247,15248,15249,15250,15251,15252,15253,15254,15255,15256,15257,15258,15259,15260,15261,15262,15263,15264,15265,15266,15267,15268,15269,15270,15271,15272,15273,15274,15275,15276,15277,15278,15279,15280,15281,15282,15283,15284,15285,15286,15287,15288,15289,15290,15291,15292,15293,15294,15295,15296,15297,15298,15299,15300,15301,15302,15303,15304,15305,15306,15307,15308,15309,15310,15311,15312,15313,15314,15315,15316,15317,15318,15319,15320,15321,15322,15323,15324,15325,15326,15327,15328,15329,15330,15331,15332,15333,15334,15335,15336,15337,15338,15339,15340,15341,15342,15343,15344,15345,15346,15347,15348,15349,15350,15351,15352,15353,15354,15355,15356,15357,15358,15359,15360,15361,15362,15363,15364,15365,15366,15367,15368,15369,15370,15371,15372,15373,15374,15375,15376,15377,15378,15379,15380,15381,15382,15383,15384,15385,15386,15387,15388,15389,15390,15391,15392,15393,15394,15395,15396,15397,15398,15399,15400,15401,15402,15403,15404,15405,15406,15407,15408,15409,15410,15411,15412,15413,15414,15415,15416,15417,15418,15419,15420,15421,15422,15423,15424,15425,15426,15427,15428,15429,15430,15431,15432,15433,15434,15435,15436,15437,15438,15439,15440,15441,15442,15443,15444,15445,15446,15447,15448,15449,15450,15451,15452,15453,15454,15455,15456,15457,15458,15459,15460,15461,15462,15463,15464,15465,15466,15467,15468,15469,15470,15471,15472,15473,15474,15475,15476,15477,15478,15479,15480,15481,15482,15483,15484,15485,15486,15487,15488,15489,15490,15491,15492,15493,15494,15495,15496,15497,15498,15499,15500,15501,15502,15503,15504,15505,15506,15507,15508,15509,15510,15511,15512,15513,15514,15515,15516,15517,15518,15519,15520,15521,15522,15523,15524,15525,15526,15527,15528,15529,15530,15531,15532,15533,15534,15535,15536,15537,15538,15539,15540,15541,15542,15543,15544,15545,15546,15547,15548,15549,15550,15551,15552,15553,15554,15555,15556,15557,15558,15559,15560,15561,15562,15563,15564,15565,15566,15567,15568,15569,15570,15571,15572,15573,15574,15575,15576,15577,15578,15579,15580,15581,15582,15583,15584,15585,15586,15587,15588,15589,15590,15591,15592,15593,15594,15595,15596,15597,15598,15599,15600,15601,15602,15603,15604,15605,15606,15607,15608,15609,15610,15611,15612,15613,15614,15615,15616,15617,15618,15619,15620,15621,15622,15623,15624,15625,15626,15627,15628,15629,15630,15631,15632,15633,15634,15635,15636,15637,15638,15639,15640,15641,15642,15643,15644,15645,15646,15647,15648,15649,15650,15651,15652,15653,15654,15655,15656,15657,15658,15659,15660,15661,15662,15663,15664,15665,15666,15667,15668,15669,15670,15671,15672,15673,15674,15675,15676,15677,15678,15679,15680,15681,15682,15683,15684,15685,15686,15687,15688,15689,15690,15691,15692,15693,15694,15695,15696,15697,15698,15699,15700,15701,15702,15703,15704,15705,15706,15707,15708,15709,15710,15711,15712,15713,15714,15715,15716,15717,15718,15719,15720,15721,15722,15723,15724,15725,15726,15727,15728,15729,15730,15731,15732,15733,15734,15735,15736,15737,15738,15739,15740,15741,15742,15743,15744,15745,15746,15747,15748,15749,15750,15751,15752,15753,15754,15755,15756,15757,15758,15759,15760,15761,15762,15763,15764,15765,15766,15767,15768,15769,15770,15771,15772,15773,15774,15775,15776,15777,15778,15779,15780,15781,15782,15783,15784,15785,15786,15787,15788,15789,15790,15791,15792,15793,15794,15795,15796,15797,15798,15799,15800,15801,15802,15803,15804,15805,15806,15807,15808,15809,15810,15811,15812,15813,15814,15815,15816,15817,15818,15819,15820,15821,15822,15823,15824,15825,15826,15827,15828,15829,15830,15831,15832,15833,15834,15835,15836,15837,15838,15839,15840,15841,15842,15843,15844,15845,15846,15847,15848,15849,15850,15851,15852,15853,15854,15855,15856,15857,15858,15859,15860,15861,15862,15863,15864,15865,15866,15867,15868,15869,15870,15871,15872,15873,15874,15875,15876,15877,15878,15879,15880,15881,15882,15883,15884,15885,15886,15887,15888,15889,15890,15891,15892,15893,15894,15895,15896,15897,15898,15899,15900,15901,15902,15903,15904,15905,15906,15907,15908,15909,15910,15911,15912,15913,15914,15915,15916,15917,15918,15919,15920,15921,15922,15923,15924,15925,15926,15927,15928,15929,15930,15931,15932,15933,15934,15935,15936,15937,15938,15939,15940,15941,15942,15943,15944,15945,15946,15947,15948,15949,15950,15951,15952,15953,15954,15955,15956,15957,15958,15959,15960,15961,15962,15963,15964,15965,15966,15967,15968,15969,15970,15971,15972,15973,15974,15975,15976,15977,15978,15979,15980,15981,15982,15983,15984,15985,15986,15987,15988,15989,15990,15991,15992,15993,15994,15995,15996,15997,15998,15999,16000,16001,16002,16003,16004,16005,16006,16007,16008,16009,16010,16011,16012,16013,16014,16015,16016,16017,16018,16019,16020,16021,16022,16023,16024,16025,16026,16027,16028,16029,16030,16031,16032,16033,16034,16035,16036,16037,16038,16039,16040,16041,16042,16043,16044,16045,16046,16047,16048,16049,16050,16051,16052,16053,16054,16055,16056,16057,16058,16059,16060,16061,16062,16063,16064,16065,16066,16067,16068,16069,16070,16071,16072,16073,16074,16075,16076,16077,16078,16079,16080,16081,16082,16083,16084,16085,16086,16087,16088,16089,16090,16091,16092,16093,16094,16095,16096,16097,16098,16099,16100,16101,16102,16103,16104,16105,16106,16107,16108,16109,16110,16111,16112,16113,16114,16115,16116,16117,16118,16119,16120,16121,16122,16123,16124,16125,16126,16127,16128,16129,16130,16131,16132,16133,16134,16135,16136,16137,16138,16139,16140,16141,16142,16143,16144,16145,16146,16147,16148,16149,16150,16151,16152,16153,16154,16155,16156,16157,16158,16159,16160,16161,16162,16163,16164,16165,16166,16167,16168,16169,16170,16171,16172,16173,16174,16175,16176,16177,16178,16179,16180,16181,16182,16183,16184,16185,16186,16187,16188,16189,16190,16191,16192,16193,16194,16195,16196,16197,16198,16199,16200,16201,16202,16203,16204,16205,16206,16207,16208,16209,16210,16211,16212,16213,16214,16215,16216,16217,16218,16219,16220,16221,16222,16223,16224,16225,16226,16227,16228,16229,16230,16231,16232,16233,16234,16235,16236,16237,16238,16239,16240,16241,16242,16243,16244,16245,16246,16247,16248,16249,16250,16251,16252,16253,16254,16255,16256,16257,16258,16259,16260,16261,16262,16263,16264,16265,16266,16267,16268,16269,16270,16271,16272,16273,16274,16275,16276,16277,16278,16279,16280,16281,16282,16283,16284,16285,16286,16287,16288,16289,16290,16291,16292,16293,16294,16295,16296,16297,16298,16299,16300,16301,16302,16303,16304,16305,16306,16307,16308,16309,16310,16311,16312,16313,16314,16315,16316,16317,16318,16319,16320,16321,16322,16323,16324,16325,16326,16327,16328,16329,16330,16331,16332,16333,16334,16335,16336,16337,16338,16339,16340,16341,16342,16343,16344,16345,16346,16347,16348,16349,16350,16351,16352,16353,16354,16355,16356,16357,16358,16359,16360,16361,16362,16363,16364,16365,16366,16367,16368,16369,16370,16371,16372,16373,16374,16375,16376,16377,16378,16379,16380,16381,16382,16383,16384,16385,16386,16387,16388,16389,16390,16391,16392,16393,16394,16395,16396,16397,16398,16399,16400,16401,16402,16403,16404,16405,16406,16407,16408,16409,16410,16411,16412,16413,16414,16415,16416,16417,16418,16419,16420,16421,16422,16423,16424,16425,16426,16427,16428,16429,16430,16431,16432,16433,16434,16435,16436,16437,16438,16439,16440,16441,16442,16443,16444,16445,16446,16447,16448,16449,16450,16451,16452,16453,16454,16455,16456,16457,16458,16459,16460,16461,16462,16463,16464,16465,16466,16467,16468,16469,16470,16471,16472,16473,16474,16475,16476,16477,16478,16479,16480,16481,16482,16483,16484,16485,16486,16487,16488,16489,16490,16491,16492,16493,16494,16495,16496,16497,16498,16499,16500,16501,16502,16503,16504,16505,16506,16507,16508,16509,16510,16511,16512,16513,16514,16515,16516,16517,16518,16519,16520,16521,16522,16523,16524,16525,16526,16527,16528,16529,16530,16531,16532,16533,16534,16535,16536,16537,16538,16539,16540,16541,16542,16543,16544,16545,16546,16547,16548,16549,16550,16551,16552,16553,16554,16555,16556,16557,16558,16559,16560,16561,16562,16563,16564,16565,16566,16567,16568,16569,16570,16571,16572,16573,16574,16575,16576,16577,16578,16579,16580,16581,16582,16583,16584,16585,16586,16587,16588,16589,16590,16591,16592,16593,16594,16595,16596,16597,16598,16599,16600,16601,16602,16603,16604,16605,16606,16607,16608,16609,16610,16611,16612,16613,16614,16615,16616,16617,16618,16619,16620,16621,16622,16623,16624,16625,16626,16627,16628,16629,16630,16631,16632,16633,16634,16635,16636,16637,16638,16639,16640,16641,16642,16643,16644,16645,16646,16647,16648,16649,16650,16651,16652,16653,16654,16655,16656,16657,16658,16659,16660,16661,16662,16663,16664,16665,16666,16667,16668,16669,16670,16671,16672,16673,16674,16675,16676,16677,16678,16679,16680,16681,16682,16683,16684,16685,16686,16687,16688,16689,16690,16691,16692,16693,16694,16695,16696,16697,16698,16699,16700,16701,16702,16703,16704,16705,16706,16707,16708,16709,16710,16711,16712,16713,16714,16715,16716,16717,16718,16719,16720,16721,16722,16723,16724,16725,16726,16727,16728,16729,16730,16731,16732,16733,16734,16735,16736,16737,16738,16739,16740,16741,16742,16743,16744,16745,16746,16747,16748,16749,16750,16751,16752,16753,16754,16755,16756,16757,16758,16759,16760,16761,16762,16763,16764,16765,16766,16767,16768,16769,16770,16771,16772,16773,16774,16775,16776,16777,16778,16779,16780,16781,16782,16783,16784,16785,16786,16787,16788,16789,16790,16791,16792,16793,16794,16795,16796,16797,16798,16799,16800,16801,16802,16803,16804,16805,16806,16807,16808,16809,16810,16811,16812,16813,16814,16815,16816,16817,16818,16819,16820,16821,16822,16823,16824,16825,16826,16827,16828,16829,16830,16831,16832,16833,16834,16835,16836,16837,16838,16839,16840,16841,16842,16843,16844,16845,16846,16847,16848,16849,16850,16851,16852,16853,16854,16855,16856,16857,16858,16859,16860,16861,16862,16863,16864,16865,16866,16867,16868,16869,16870,16871,16872,16873,16874,16875,16876,16877,16878,16879,16880,16881,16882,16883,16884,16885,16886,16887,16888,16889,16890,16891,16892,16893,16894,16895,16896,16897,16898,16899,16900,16901,16902,16903,16904,16905,16906,16907,16908,16909,16910,16911,16912,16913,16914,16915,16916,16917,16918,16919,16920,16921,16922,16923,16924,16925,16926,16927,16928,16929,16930,16931,16932,16933,16934,16935,16936,16937,16938,16939,16940,16941,16942,16943,16944,16945,16946,16947,16948,16949,16950,16951,16952,16953,16954,16955,16956,16957,16958,16959,16960,16961,16962,16963,16964,16965,16966,16967,16968,16969,16970,16971,16972,16973,16974,16975,16976,16977,16978,16979,16980,16981,16982,16983,16984,16985,16986,16987,16988,16989,16990,16991,16992,16993,16994,16995,16996,16997,16998,16999,17000,17001,17002,17003,17004,17005,17006,17007,17008,17009,17010,17011,17012,17013,17014,17015,17016,17017,17018,17019,17020,17021,17022,17023,17024,17025,17026,17027,17028,17029,17030,17031,17032,17033,17034,17035,17036,17037,17038,17039,17040,17041,17042,17043,17044,17045,17046,17047,17048,17049,17050,17051,17052,17053,17054,17055,17056,17057,17058,17059,17060,17061,17062,17063,17064,17065,17066,17067,17068,17069,17070,17071,17072,17073,17074,17075,17076,17077,17078,17079,17080,17081,17082,17083,17084,17085,17086,17087,17088,17089,17090,17091,17092,17093,17094,17095,17096,17097,17098,17099,17100,17101,17102,17103,17104,17105,17106,17107,17108,17109,17110,17111,17112,17113,17114,17115,17116,17117,17118,17119,17120,17121,17122,17123,17124,17125,17126,17127,17128,17129,17130,17131,17132,17133,17134,17135,17136,17137,17138,17139,17140,17141,17142,17143,17144,17145,17146,17147,17148,17149,17150,17151,17152,17153,17154,17155,17156,17157,17158,17159,17160,17161,17162,17163,17164,17165,17166,17167,17168,17169,17170,17171,17172,17173,17174,17175,17176,17177,17178,17179,17180,17181,17182,17183,17184,17185,17186,17187,17188,17189,17190,17191,17192,17193,17194,17195,17196,17197,17198,17199,17200,17201,17202,17203,17204,17205,17206,17207,17208,17209,17210,17211,17212,17213,17214,17215,17216,17217,17218,17219,17220,17221,17222,17223,17224,17225,17226,17227,17228,17229,17230,17231,17232,17233,17234,17235,17236,17237,17238,17239,17240,17241,17242,17243,17244,17245,17246,17247,17248,17249,17250,17251,17252,17253,17254,17255,17256,17257,17258,17259,17260,17261,17262,17263,17264,17265,17266,17267,17268,17269,17270,17271,17272,17273,17274,17275,17276,17277,17278,17279,17280,17281,17282,17283,17284,17285,17286,17287,17288,17289,17290,17291,17292,17293,17294,17295,17296,17297,17298,17299,17300,17301,17302,17303,17304,17305,17306,17307,17308,17309,17310,17311,17312,17313,17314,17315,17316,17317,17318,17319,17320,17321,17322,17323,17324,17325,17326,17327,17328,17329,17330,17331,17332,17333,17334,17335,17336,17337,17338,17339,17340,17341,17342,17343,17344,17345,17346,17347,17348,17349,17350,17351,17352,17353,17354,17355,17356,17357,17358,17359,17360,17361,17362,17363,17364,17365,17366,17367,17368,17369,17370,17371,17372,17373,17374,17375,17376,17377,17378,17379,17380,17381,17382,17383,17384,17385,17386,17387,17388,17389,17390,17391,17392,17393,17394,17395,17396,17397,17398,17399,17400,17401,17402,17403,17404,17405,17406,17407,17408,17409,17410,17411,17412,17413,17414,17415,17416,17417,17418,17419,17420,17421,17422,17423,17424,17425,17426,17427,17428,17429,17430,17431,17432,17433,17434,17435,17436,17437,17438,17439,17440,17441,17442,17443,17444,17445,17446,17447,17448,17449,17450,17451,17452,17453,17454,17455,17456,17457,17458,17459,17460,17461,17462,17463,17464,17465,17466,17467,17468,17469,17470,17471,17472,17473,17474,17475,17476,17477,17478,17479,17480,17481,17482,17483,17484,17485,17486,17487,17488,17489,17490,17491,17492,17493,17494,17495,17496,17497,17498,17499,17500,17501,17502,17503,17504,17505,17506,17507,17508,17509,17510,17511,17512,17513,17514,17515,17516,17517,17518,17519,17520,17521,17522,17523,17524,17525,17526,17527,17528,17529,17530,17531,17532,17533,17534,17535,17536,17537,17538,17539,17540,17541,17542,17543,17544,17545,17546,17547,17548,17549,17550,17551,17552,17553,17554,17555,17556,17557,17558,17559,17560,17561,17562,17563,17564,17565,17566,17567,17568,17569,17570,17571,17572,17573,17574,17575,17576,17577,17578,17579,17580,17581,17582,17583,17584,17585,17586,17587,17588,17589,17590,17591,17592,17593,17594,17595,17596,17597,17598,17599,17600,17601,17602,17603,17604,17605,17606,17607,17608,17609,17610,17611,17612,17613,17614,17615,17616,17617,17618,17619,17620,17621,17622,17623,17624,17625,17626,17627,17628,17629,17630,17631,17632,17633,17634,17635,17636,17637,17638,17639,17640,17641,17642,17643,17644,17645,17646,17647,17648,17649,17650,17651,17652,17653,17654,17655,17656,17657,17658,17659,17660,17661,17662,17663,17664,17665,17666,17667,17668,17669,17670,17671,17672,17673,17674,17675,17676,17677,17678,17679,17680,17681,17682,17683,17684,17685,17686,17687,17688,17689,17690,17691,17692,17693,17694,17695,17696,17697,17698,17699,17700,17701,17702,17703,17704,17705,17706,17707,17708,17709,17710,17711,17712,17713,17714,17715,17716,17717,17718,17719,17720,17721,17722,17723,17724,17725,17726,17727,17728,17729,17730,17731,17732,17733,17734,17735,17736,17737,17738,17739,17740,17741,17742,17743,17744,17745,17746,17747,17748,17749,17750,17751,17752,17753,17754,17755,17756,17757,17758,17759,17760,17761,17762,17763,17764,17765,17766,17767,17768,17769,17770,17771,17772,17773,17774,17775,17776,17777,17778,17779,17780,17781,17782,17783,17784,17785,17786,17787,17788,17789,17790,17791,17792,17793,17794,17795,17796,17797,17798,17799,17800,17801,17802,17803,17804,17805,17806,17807,17808,17809,17810,17811,17812,17813,17814,17815,17816,17817,17818,17819,17820,17821,17822,17823,17824,17825,17826,17827,17828,17829,17830,17831,17832,17833,17834,17835,17836,17837,17838,17839,17840,17841,17842,17843,17844,17845,17846,17847,17848,17849,17850,17851,17852,17853,17854,17855,17856,17857,17858,17859,17860,17861,17862,17863,17864,17865,17866,17867,17868,17869,17870,17871,17872,17873,17874,17875,17876,17877,17878,17879,17880,17881,17882,17883,17884,17885,17886,17887,17888,17889,17890,17891,17892,17893,17894,17895,17896,17897,17898,17899,17900,17901,17902,17903,17904,17905,17906,17907,17908,17909,17910,17911,17912,17913,17914,17915,17916,17917,17918,17919,17920,17921,17922,17923,17924,17925,17926,17927,17928,17929,17930,17931,17932,17933,17934,17935,17936,17937,17938,17939,17940,17941,17942,17943,17944,17945,17946,17947,17948,17949,17950,17951,17952,17953,17954,17955,17956,17957,17958,17959,17960,17961,17962,17963,17964,17965,17966,17967,17968,17969,17970,17971,17972,17973,17974,17975,17976,17977,17978,17979,17980,17981,17982,17983,17984,17985,17986,17987,17988,17989,17990,17991,17992,17993,17994,17995,17996,17997,17998,17999,18000,18001,18002,18003,18004,18005,18006,18007,18008,18009,18010,18011,18012,18013,18014,18015,18016,18017,18018,18019,18020,18021,18022,18023,18024,18025,18026,18027,18028,18029,18030,18031,18032,18033,18034,18035,18036,18037,18038,18039,18040,18041,18042,18043,18044,18045,18046,18047,18048,18049,18050,18051,18052,18053,18054,18055,18056,18057,18058,18059,18060,18061,18062,18063,18064,18065,18066,18067,18068,18069,18070,18071,18072,18073,18074,18075,18076,18077,18078,18079,18080,18081,18082,18083,18084,18085,18086,18087,18088,18089,18090,18091,18092,18093,18094,18095,18096,18097,18098,18099,18100,18101,18102,18103,18104,18105,18106,18107,18108,18109,18110,18111,18112,18113,18114,18115,18116,18117,18118,18119,18120,18121,18122,18123,18124,18125,18126,18127,18128,18129,18130,18131,18132,18133,18134,18135,18136,18137,18138,18139,18140,18141,18142,18143,18144,18145,18146,18147,18148,18149,18150,18151,18152,18153,18154,18155,18156,18157,18158,18159,18160,18161,18162,18163,18164,18165,18166,18167,18168,18169,18170,18171,18172,18173,18174,18175,18176,18177,18178,18179,18180,18181,18182,18183,18184,18185,18186,18187,18188,18189,18190,18191,18192,18193,18194,18195,18196,18197,18198,18199,18200,18201,18202,18203,18204,18205,18206,18207,18208,18209,18210,18211,18212,18213,18214,18215,18216,18217,18218,18219,18220,18221,18222,18223,18224,18225,18226,18227,18228,18229,18230,18231,18232,18233,18234,18235,18236,18237,18238,18239,18240,18241,18242,18243,18244,18245,18246,18247,18248,18249,18250,18251,18252,18253,18254,18255,18256,18257,18258,18259,18260,18261,18262,18263,18264,18265,18266,18267,18268,18269,18270,18271,18272,18273,18274,18275,18276,18277,18278,18279,18280,18281,18282,18283,18284,18285,18286,18287,18288,18289,18290,18291,18292,18293,18294,18295,18296,18297,18298,18299,18300,18301,18302,18303,18304,18305,18306,18307,18308,18309,18310,18311,18312,18313,18314,18315,18316,18317,18318,18319,18320,18321,18322,18323,18324,18325,18326,18327,18328,18329,18330,18331,18332,18333,18334,18335,18336,18337,18338,18339,18340,18341,18342,18343,18344,18345,18346,18347,18348,18349,18350,18351,18352,18353,18354,18355,18356,18357,18358,18359,18360,18361,18362,18363,18364,18365,18366,18367,18368,18369,18370,18371,18372,18373,18374,18375,18376,18377,18378,18379,18380,18381,18382,18383,18384,18385,18386,18387,18388,18389,18390,18391,18392,18393,18394,18395,18396,18397,18398,18399,18400,18401,18402,18403,18404,18405,18406,18407,18408,18409,18410,18411,18412,18413,18414,18415,18416,18417,18418,18419,18420,18421,18422,18423,18424,18425,18426,18427,18428,18429,18430,18431,18432,18433,18434,18435,18436,18437,18438,18439,18440,18441,18442,18443,18444,18445,18446,18447,18448,18449,18450,18451,18452,18453,18454,18455,18456,18457,18458,18459,18460,18461,18462,18463,18464,18465,18466,18467,18468,18469,18470,18471,18472,18473,18474,18475,18476,18477,18478,18479,18480,18481,18482,18483,18484,18485,18486,18487,18488,18489,18490,18491,18492,18493,18494,18495,18496,18497,18498,18499,18500,18501,18502,18503,18504,18505,18506,18507,18508,18509,18510,18511,18512,18513,18514,18515,18516,18517,18518,18519,18520,18521,18522,18523,18524,18525,18526,18527,18528,18529,18530,18531,18532,18533,18534,18535,18536,18537,18538,18539,18540,18541,18542,18543,18544,18545,18546,18547,18548,18549,18550,18551,18552,18553,18554,18555,18556,18557,18558,18559,18560,18561,18562,18563,18564,18565,18566,18567,18568,18569,18570,18571,18572,18573,18574,18575,18576,18577,18578,18579,18580,18581,18582,18583,18584,18585,18586,18587,18588,18589,18590,18591,18592,18593,18594,18595,18596,18597,18598,18599,18600,18601,18602,18603,18604,18605,18606,18607,18608,18609,18610,18611,18612,18613,18614,18615,18616,18617,18618,18619,18620,18621,18622,18623,18624,18625,18626,18627,18628,18629,18630,18631,18632,18633,18634,18635,18636,18637,18638,18639,18640,18641,18642,18643,18644,18645,18646,18647,18648,18649,18650,18651,18652,18653,18654,18655,18656,18657,18658,18659,18660,18661,18662,18663,18664,18665,18666,18667,18668,18669,18670,18671,18672,18673,18674,18675,18676,18677,18678,18679,18680,18681,18682,18683,18684,18685,18686,18687,18688,18689,18690,18691,18692,18693,18694,18695,18696,18697,18698,18699,18700,18701,18702,18703,18704,18705,18706,18707,18708,18709,18710,18711,18712,18713,18714,18715,18716,18717,18718,18719,18720,18721,18722,18723,18724,18725,18726,18727,18728,18729,18730,18731,18732,18733,18734,18735,18736,18737,18738,18739,18740,18741,18742,18743,18744,18745,18746,18747,18748,18749,18750,18751,18752,18753,18754,18755,18756,18757,18758,18759,18760,18761,18762,18763,18764,18765,18766,18767,18768,18769,18770,18771,18772,18773,18774,18775,18776,18777,18778,18779,18780,18781,18782,18783,18784,18785,18786,18787,18788,18789,18790,18791,18792,18793,18794,18795,18796,18797,18798,18799,18800,18801,18802,18803,18804,18805,18806,18807,18808,18809,18810,18811,18812,18813,18814,18815,18816,18817,18818,18819,18820,18821,18822,18823,18824,18825,18826,18827,18828,18829,18830,18831,18832,18833,18834,18835,18836,18837,18838,18839,18840,18841,18842,18843,18844,18845,18846,18847,18848,18849,18850,18851,18852,18853,18854,18855,18856,18857,18858,18859,18860,18861,18862,18863,18864,18865,18866,18867,18868,18869,18870,18871,18872,18873,18874,18875,18876,18877,18878,18879,18880,18881,18882,18883,18884,18885,18886,18887,18888,18889,18890,18891,18892,18893,18894,18895,18896,18897,18898,18899,18900,18901,18902,18903,18904,18905,18906,18907,18908,18909,18910,18911,18912,18913,18914,18915,18916,18917,18918,18919,18920,18921,18922,18923,18924,18925,18926,18927,18928,18929,18930,18931,18932,18933,18934,18935,18936,18937,18938,18939,18940,18941,18942,18943,18944,18945,18946,18947,18948,18949,18950,18951,18952,18953,18954,18955,18956,18957,18958,18959,18960,18961,18962,18963,18964,18965,18966,18967,18968,18969,18970,18971,18972,18973,18974,18975,18976,18977,18978,18979,18980,18981,18982,18983,18984,18985,18986,18987,18988,18989,18990,18991,18992,18993,18994,18995,18996,18997,18998,18999,19000,19001,19002,19003,19004,19005,19006,19007,19008,19009,19010,19011,19012,19013,19014,19015,19016,19017,19018,19019,19020,19021,19022,19023,19024,19025,19026,19027,19028,19029,19030,19031,19032,19033,19034,19035,19036,19037,19038,19039,19040,19041,19042,19043,19044,19045,19046,19047,19048,19049,19050,19051,19052,19053,19054,19055,19056,19057,19058,19059,19060,19061,19062,19063,19064,19065,19066,19067,19068,19069,19070,19071,19072,19073,19074,19075,19076,19077,19078,19079,19080,19081,19082,19083,19084,19085,19086,19087,19088,19089,19090,19091,19092,19093,19094,19095,19096,19097,19098,19099,19100,19101,19102,19103,19104,19105,19106,19107,19108,19109,19110,19111,19112,19113,19114,19115,19116,19117,19118,19119,19120,19121,19122,19123,19124,19125,19126,19127,19128,19129,19130,19131,19132,19133,19134,19135,19136,19137,19138,19139,19140,19141,19142,19143,19144,19145,19146,19147,19148,19149,19150,19151,19152,19153,19154,19155,19156,19157,19158,19159,19160,19161,19162,19163,19164,19165,19166,19167,19168,19169,19170,19171,19172,19173,19174,19175,19176,19177,19178,19179,19180,19181,19182,19183,19184,19185,19186,19187,19188,19189,19190,19191,19192,19193,19194,19195,19196,19197,19198,19199,19200,19201,19202,19203,19204,19205,19206,19207,19208,19209,19210,19211,19212,19213,19214,19215,19216,19217,19218,19219,19220,19221,19222,19223,19224,19225,19226,19227,19228,19229,19230,19231,19232,19233,19234,19235,19236],\"xaxis\":\"x\",\"y\":[13328.0,16621.0,8467.0,3607.0,11726.0,39493.0,1803.0,549.0,1098.0,26657.0,941.0,8781.0,3000.0,1019.0,59464.0,549.0,7683.0,28382.0,549.0,941.0,18826.0,20698.0,17562.0,7840.0,4704.0,20385.0,549.0,30.0,14454.0,12074.0,15681.0,19444.0,6899.0,125.0,24462.0,23235.0,51746.0,7527.0,19121.0,314.0,24462.0,45734.0,20165.0,21326.0,549.0,220.0,15681.0,55390.0,12544.0,17249.0,34889.0,862.0,14583.0,392.0,38500.0,8781.0,87112.0,1411.0,392.0,23521.0,16935.0,10349.0,7213.0,5331.0,20526.0,9722.0,34657.0,36564.0,314.0,5488.0,30063.0,15800.0,43952.0,53154.0,14740.0,42337.0,3763.0,18189.0,862.0,220.0,5645.0,7527.0,21953.0,8154.0,21953.0,19121.0,36065.0,8781.0,6247.0,16289.0,77775.0,2822.0,549.0,6981.0,27284.0,32929.0,18817.0,4234.0,15053.0,15458.0,2901.0,706.0,314.0,15681.0,26657.0,10663.0,12858.0,1019.0,549.0,12858.0,15000.0,85553.0,44752.0,17158.0,12231.0,11917.0,1254.0,94.0,25591.0,14897.0,23521.0,3450.0,706.0,1019.0,16935.0,19444.0,11604.0,51965.0,706.0,9408.0,13328.0,17876.0,549.0,20071.0,22894.0,2901.0,15681.0,39829.0,706.0,18660.0,22580.0,11604.0,314.0,5488.0,4300.0,18817.0,21169.0,9095.0,1568.0,3136.0,17876.0,11290.0,36065.0,862.0,21395.0,15681.0,627.0,40070.0,11917.0,72130.0,35927.0,21012.0,21012.0,13172.0,15624.0,4547.0,5488.0,20005.0,36110.0,7840.0,470.0,1300.0,43880.0,29479.0,17249.0,9408.0,44213.0,8467.0,627.0,21950.0,706.0,3136.0,3450.0,9408.0,31500.0,20385.0,314.0,2300.0,7840.0,56450.0,1490.0,627.0,314.0,13172.0,19757.0,4704.0,706.0,5802.0,25716.0,14426.0,10820.0,45436.0,11917.0,41281.0,4391.0,3058.0,3700.0,15681.0,6586.0,12544.0,30063.0,72130.0,21639.0,36692.0,30.0,12231.0,3136.0,10663.0,5620.0,19130.0,9408.0,3.0,15367.0,5959.0,26594.0,36065.0,26343.0,549.0,6000.0,40142.0,14000.0,17923.0,54518.0,10349.0,8154.0,282.0,7527.0,3450.0,22063.0,2901.0,4704.0,5331.0,941.0,16900.0,18189.0,5331.0,42651.0,15524.0,17249.0,73071.0,862.0,28909.0,8467.0,50.0,14426.0,9000.0,30734.0,22580.0,862.0,7464.0,1333.0,59865.0,49237.0,68223.0,392.0,7683.0,22266.0,2430.0,282.0,392.0,33556.0,39161.0,16308.0,17719.0,43278.0,470.0,20385.0,941.0,49858.0,8781.0,220.0,9722.0,21326.0,51075.0,15241.0,2587.0,15524.0,27911.0,4861.0,29793.0,18208.0,549.0,30.0,34497.0,6272.0,4924.0,4704.0,43576.0,7840.0,28225.0,700.0,2352.0,18817.0,4861.0,13172.0,37320.0,706.0,39201.0,36426.0,8467.0,7840.0,12701.0,8154.0,46414.0,45160.0,100.0,100355.0,1176.0,12231.0,5802.0,2901.0,1882.0,22894.0,11290.0,6586.0,14426.0,36065.0,27284.0,21639.0,7840.0,7840.0,282.0,1646.0,24198.0,25365.0,1725.0,314.0,17249.0,470.0,31361.0,4704.0,12720.0,26372.0,13485.0,25591.0,6429.0,251.0,39829.0,13172.0,627.0,8097.0,12388.0,18503.0,12231.0,40.0,17054.0,5300.0,9565.0,24302.0,18817.0,1960.0,17249.0,15530.0,11290.0,24148.0,10036.0,18817.0,10349.0,549.0,9252.0,55823.0,25089.0,18669.0,941.0,15053.0,10660.0,37000.0,18826.0,14583.0,21012.0,5645.0,18826.0,22649.0,16590.0,31988.0,8624.0,21012.0,10663.0,220.0,13485.0,5331.0,7370.0,11900.0,17249.0,4391.0,17876.0,11604.0,13799.0,40769.0,7997.0,7840.0,14113.0,11917.0,12777.0,18817.0,23521.0,22580.0,392.0,12544.0,9722.0,3450.0,1882.0,15991.0,11133.0,94.0,34184.0,21169.0,7495.0,4861.0,13485.0,81539.0,20005.0,3000.0,11917.0,84675.0,7840.0,627.0,12570.0,17249.0,2800.0,6899.0,14009.0,392.0,8311.0,23521.0,25716.0,21730.0,80911.0,19369.0,12544.0,25299.0,7213.0,6899.0,8154.0,18817.0,61499.0,17249.0,9879.0,4000.0,17249.0,51225.0,49798.0,17249.0,29166.0,188.0,79971.0,11604.0,15681.0,2500.0,392.0,627.0,2274.0,19444.0,43592.0,15367.0,4861.0,14113.0,13564.0,17876.0,10349.0,15000.0,12544.0,5600.0,14583.0,36827.0,21639.0,9.0,14113.0,40340.0,10976.0,25089.0,300.0,18688.0,69935.0,28830.0,42337.0,23834.0,16621.0,314.0,16000.0,11917.0,13485.0,862.0,15994.0,5175.0,15367.0,15994.0,11917.0,18817.0,1568.0,21953.0,13808.0,392.0,16151.0,3300.0,22947.0,40769.0,7840.0,9408.0,25089.0,282.0,10976.0,5488.0,5000.0,9722.0,16621.0,13956.0,9418.0,24415.0,3763.0,470.0,10036.0,1725.0,549.0,314.0,5645.0,10976.0,4547.0,21285.0,29793.0,706.0,862.0,314.0,19130.0,1900.0,35570.0,8781.0,12544.0,24148.0,706.0,22580.0,4861.0,12858.0,8154.0,1800.0,4861.0,36065.0,282.0,17876.0,18189.0,24775.0,15257.0,16900.0,14740.0,10976.0,22825.0,12544.0,16935.0,20385.0,10976.0,38213.0,44134.0,8467.0,392.0,4391.0,7213.0,9565.0,348.0,12544.0,24148.0,6272.0,100.0,18817.0,119172.0,10663.0,44247.0,9408.0,19444.0,11917.0,75266.0,54157.0,49889.0,9408.0,23834.0,22894.0,10976.0,5604.0,17876.0,18189.0,70.0,10976.0,27911.0,6429.0,470.0,40769.0,7840.0,25089.0,10976.0,7213.0,22894.0,7840.0,784.0,12231.0,11917.0,51746.0,17035.0,3100.0,188.0,27654.0,17719.0,94.0,14081.0,706.0,282.0,2666.0,23994.0,13172.0,14740.0,59586.0,18817.0,11563.0,45376.0,15681.0,33707.0,12544.0,11604.0,6800.0,17876.0,188.0,18189.0,28225.0,2509.0,44247.0,71503.0,7213.0,4077.0,6586.0,15681.0,3763.0,157.0,13172.0,6586.0,47042.0,5865.0,20883.0,10976.0,23521.0,25402.0,9095.0,2666.0,87497.0,5018.0,12231.0,11604.0,20005.0,5018.0,13799.0,13068.0,14113.0,314.0,1019.0,16465.0,7300.0,6899.0,3293.0,17249.0,10192.0,39201.0,36235.0,22843.0,21699.0,25299.0,2300.0,392.0,2500.0,40142.0,19124.0,11604.0,7213.0,11917.0,17249.0,23521.0,784.0,11604.0,18503.0,14113.0,5959.0,92502.0,1019.0,32035.0,14376.0,220.0,25089.0,6899.0,5488.0,18817.0,3450.0,25.0,7997.0,38888.0,1882.0,35438.0,1019.0,23207.0,17092.0,7150.0,188.0,8154.0,34497.0,9408.0,24148.0,59272.0,11604.0,20385.0,14426.0,6144.0,45473.0,15994.0,11133.0,18189.0,1333.0,1960.0,26030.0,48000.0,81539.0,8781.0,627.0,5802.0,8624.0,21953.0,15681.0,8154.0,53000.0,21181.0,15681.0,862.0,27284.0,39458.0,18189.0,31581.0,117290.0,7840.0,20385.0,12287.0,20266.0,2822.0,16283.0,71503.0,8467.0,27654.0,2509.0,13172.0,16123.0,3.0,9408.0,11917.0,9565.0,9408.0,17876.0,1411.0,13485.0,3763.0,19864.0,15053.0,15000.0,7527.0,7683.0,19444.0,15681.0,13642.0,706.0,17249.0,25.0,11604.0,10663.0,13172.0,20278.0,15367.0,25083.0,5500.0,2430.0,38574.0,15524.0,34607.0,18817.0,14113.0,10506.0,470.0,18189.0,13172.0,314.0,16308.0,44558.0,21326.0,30596.0,7213.0,28241.0,1019.0,14426.0,6899.0,8311.0,627.0,13485.0,38445.0,9722.0,157.0,9722.0,43905.0,27356.0,15173.0,25089.0,14426.0,15681.0,11917.0,25669.0,314.0,862.0,9565.0,314.0,14740.0,7997.0,16308.0,37580.0,31361.0,6429.0,42369.0,15681.0,16308.0,3293.0,30000.0,5331.0,3293.0,31913.0,2587.0,19757.0,15681.0,12858.0,4861.0,5900.0,57030.0,14009.0,14113.0,35269.0,50297.0,19369.0,2195.0,12544.0,4800.0,14740.0,48575.0,9418.0,15367.0,7056.0,17249.0,9300.0,68994.0,21953.0,52696.0,2901.0,3763.0,12544.0,18817.0,47042.0,15367.0,20665.0,16935.0,4180.0,14426.0,4704.0,10349.0,19757.0,12858.0,11290.0,44711.0,50178.0,30734.0,862.0,10349.0,2666.0,13172.0,13328.0,5331.0,19610.0,35234.0,15053.0,32929.0,21326.0,80.0,14740.0,41387.0,251.0,7840.0,19444.0,470.0,14113.0,10036.0,15210.0,16621.0,10663.0,13172.0,7840.0,9408.0,54882.0,12544.0,862.0,8467.0,58507.0,53317.0,1646.0,3293.0,42987.0,706.0,17876.0,24462.0,251.0,9722.0,20266.0,7840.0,10036.0,8781.0,470.0,8467.0,10192.0,13000.0,7213.0,33243.0,8781.0,31831.0,40340.0,56509.0,282.0,17923.0,8938.0,29793.0,3450.0,6586.0,10349.0,10663.0,15210.0,46101.0,14113.0,9722.0,14426.0,9252.0,10036.0,10976.0,17249.0,34811.0,470.0,8467.0,7840.0,25810.0,60.0,5175.0,3136.0,15053.0,12074.0,24462.0,4500.0,40471.0,9418.0,36065.0,31361.0,470.0,9252.0,3136.0,10036.0,14269.0,5018.0,19601.0,4704.0,17876.0,16766.0,30.0,30734.0,7056.0,5018.0,54458.0,23521.0,39829.0,12513.0,9408.0,11290.0,17249.0,15053.0,2700.0,5959.0,5488.0,11274.0,21000.0,28532.0,18189.0,10976.0,4704.0,94.0,12607.0,9095.0,3058.0,6899.0,36065.0,392.0,10036.0,549.0,10986.0,6272.0,941.0,39829.0,392.0,3920.0,9879.0,3450.0,15681.0,29087.0,3607.0,10349.0,22357.0,31988.0,188.0,15470.0,97219.0,19974.0,15681.0,3000.0,14113.0,18776.0,4861.0,6272.0,131716.0,19121.0,43576.0,33243.0,12544.0,300.0,7213.0,13799.0,19874.0,21953.0,188.0,18503.0,6586.0,627.0,1333.0,12544.0,45473.0,13000.0,9722.0,17249.0,627.0,14113.0,13015.0,627.0,470.0,18503.0,10036.0,3607.0,18531.0,45473.0,18503.0,45473.0,26657.0,4547.0,11290.0,10349.0,14113.0,14740.0,14113.0,9722.0,12541.0,14500.0,29166.0,11604.0,2901.0,70.0,10506.0,36379.0,14113.0,37633.0,26196.0,392.0,18503.0,5802.0,5370.0,36065.0,65858.0,549.0,5488.0,1019.0,11133.0,14821.0,7066.0,66482.0,10976.0,8154.0,10036.0,15681.0,25264.0,90.0,6586.0,8154.0,19444.0,15053.0,11000.0,251.0,16621.0,549.0,24932.0,48697.0,19726.0,470.0,28225.0,3000.0,50.0,17562.0,470.0,42764.0,627.0,7840.0,16778.0,10192.0,24709.0,784.0,784.0,5645.0,39829.0,392.0,9565.0,17405.0,21953.0,54255.0,16621.0,45473.0,31047.0,49864.0,20385.0,6429.0,6586.0,15677.0,13956.0,15693.0,470.0,21012.0,251.0,23521.0,54048.0,470.0,194438.0,13485.0,7840.0,2500.0,2430.0,15053.0,2500.0,19444.0,8500.0,314.0,314.0,314.0,627.0,4547.0,38822.0,31.0,9408.0,75160.0,3763.0,6.0,20385.0,6429.0,17249.0,17876.0,24709.0,15053.0,49237.0,392.0,16621.0,941.0,706.0,39201.0,21410.0,24029.0,133284.0,26657.0,41867.0,44608.0,37066.0,7683.0,21953.0,1803.0,3763.0,14113.0,19416.0,26657.0,11917.0,34184.0,13799.0,2195.0,5758.0,4547.0,11149.0,20228.0,11133.0,29793.0,43868.0,4704.0,9418.0,8467.0,314.0,13485.0,7683.0,10976.0,22894.0,7840.0,5739.0,10515.0,8154.0,14113.0,35902.0,14115.0,5331.0,73620.0,38445.0,26657.0,15210.0,51746.0,43592.0,314.0,13172.0,44134.0,549.0,50.0,21953.0,4391.0,21953.0,29793.0,941.0,10820.0,2352.0,6899.0,19444.0,20385.0,4861.0,5927.0,27911.0,7840.0,10663.0,5488.0,13485.0,21326.0,12544.0,188.0,9408.0,10820.0,34406.0,188.0,35140.0,14113.0,392.0,22502.0,4234.0,40769.0,47042.0,10976.0,50767.0,15649.0,2901.0,30107.0,106627.0,18240.0,9722.0,10036.0,16935.0,50.0,10976.0,53314.0,7997.0,16621.0,314.0,18124.0,6269.0,51746.0,3763.0,14740.0,16621.0,20846.0,3763.0,12143.0,8781.0,14113.0,17249.0,706.0,30740.0,15132.0,9565.0,3763.0,470.0,3136.0,17876.0,9832.0,52696.0,314.0,67404.0,28225.0,29479.0,150.0,1882.0,10663.0,36065.0,23521.0,314.0,3763.0,5331.0,2274.0,2038.0,4234.0,13328.0,35752.0,19444.0,74796.0,16151.0,45210.0,14294.0,14166.0,9408.0,7840.0,157.0,784.0,48873.0,470.0,10976.0,9252.0,17249.0,20385.0,12231.0,24462.0,19757.0,1490.0,314.0,33823.0,470.0,627.0,13589.0,900.0,24462.0,53941.0,706.0,470.0,34905.0,11917.0,17249.0,40.0,314.0,11290.0,50.0,15681.0,5018.0,30750.0,15681.0,12140.0,3700.0,44533.0,392.0,6272.0,20698.0,784.0,8154.0,81539.0,24462.0,8467.0,18189.0,7527.0,19444.0,47.0,7683.0,706.0,1098.0,20005.0,10381.0,15681.0,11917.0,20071.0,19416.0,20385.0,20071.0,13962.0,61471.0,17844.0,7527.0,1098.0,43905.0,20244.0,9408.0,10958.0,470.0,21181.0,39829.0,15994.0,14269.0,3763.0,3000.0,31581.0,23207.0,6500.0,131308.0,470.0,470.0,9095.0,16935.0,3136.0,15681.0,20636.0,25402.0,19914.0,21953.0,18817.0,10976.0,16621.0,14740.0,17876.0,47.0,11604.0,10036.0,10506.0,9346.0,7213.0,40092.0,25089.0,5331.0,5645.0,14113.0,51526.0,22266.0,9095.0,627.0,862.0,941.0,5331.0,6272.0,9656.0,392.0,4547.0,1568.0,392.0,1700.0,941.0,5209.0,14113.0,12544.0,12231.0,549.0,70562.0,14113.0,20789.0,10349.0,14113.0,5175.0,1254.0,549.0,18503.0,26657.0,20500.0,52059.0,19281.0,627.0,18503.0,3136.0,32412.0,16621.0,22577.0,42692.0,25716.0,392.0,9095.0,3450.0,7213.0,11604.0,282.0,2979.0,15681.0,12544.0,52853.0,18189.0,33556.0,9408.0,20385.0,34635.0,17942.0,12074.0,14269.0,78403.0,19757.0,392.0,52687.0,706.0,8781.0,7056.0,41578.0,10036.0,10663.0,12256.0,8000.0,314.0,11604.0,14000.0,40076.0,7840.0,157.0,17249.0,21639.0,7683.0,13178.0,81539.0,49550.0,549.0,11133.0,1882.0,10976.0,34572.0,23521.0,17249.0,4200.0,28225.0,3607.0,18033.0,125.0,10672.0,43905.0,9408.0,18660.0,549.0,18817.0,470.0,6899.0,1960.0,20005.0,11290.0,13799.0,2979.0,4861.0,58172.0,7840.0,53154.0,6272.0,31581.0,42337.0,251.0,9252.0,8467.0,12388.0,627.0,45734.0,19757.0,11299.0,862.0,1725.0,10976.0,251.0,1568.0,11177.0,81225.0,23138.0,10976.0,470.0,19757.0,81539.0,314.0,14113.0,5959.0,25089.0,16308.0,6429.0,12544.0,549.0,7840.0,4800.0,87497.0,862.0,282.0,16599.0,15367.0,11604.0,23207.0,42651.0,8781.0,64463.0,40.0,18503.0,1333.0,35736.0,25638.0,7213.0,15681.0,5331.0,11917.0,8154.0,7527.0,18826.0,3293.0,24462.0,392.0,7840.0,15053.0,17562.0,40889.0,11133.0,392.0,17000.0,18503.0,7683.0,862.0,188.0,112900.0,120.0,15053.0,51746.0,37633.0,18817.0,39559.0,35046.0,13172.0,1568.0,11290.0,627.0,21953.0,35.0,26613.0,34889.0,40142.0,96915.0,2195.0,14113.0,5331.0,627.0,43278.0,9408.0,15681.0,8947.0,8467.0,16621.0,18817.0,314.0,3450.0,12858.0,2509.0,10406.0,9095.0,7840.0,9593.0,12388.0,94.0,17562.0,9722.0,627.0,30.0,7840.0,392.0,12600.0,4861.0,42601.0,49864.0,17942.0,23408.0,18817.0,330.0,69935.0,20385.0,15063.0,627.0,24462.0,13485.0,627.0,13877.0,29793.0,1176.0,59464.0,56136.0,46728.0,37633.0,27284.0,130.0,21953.0,16741.0,13485.0,2700.0,22248.0,5645.0,5645.0,2509.0,23521.0,21492.0,16308.0,3136.0,470.0,204.0,470.0,11917.0,11604.0,24148.0,392.0,18503.0,8781.0,10349.0,12231.0,549.0,41281.0,10515.0,51432.0,13485.0,16308.0,29094.0,28225.0,30734.0,1500.0,27284.0,5331.0,157.0,4391.0,30906.0,18826.0,28357.0,15100.0,6899.0,549.0,3607.0,188.0,10349.0,16894.0,157.0,53031.0,627.0,16621.0,35902.0,5645.0,23521.0,11917.0,12544.0,12074.0,8467.0,13328.0,59586.0,45.0,17249.0,96071.0,9000.0,5849.0,1700.0,12858.0,5645.0,4234.0,14113.0,9408.0,15681.0,16621.0,18240.0,15681.0,157.0,2117.0,549.0,10506.0,19757.0,7527.0,32615.0,20698.0,7840.0,31358.0,29793.0,23364.0,14113.0,50049.0,1019.0,37633.0,10349.0,20700.0,21639.0,12544.0,2666.0,157.0,10669.0,5893.0,7778.0,11604.0,11760.0,6429.0,51454.0,43868.0,3763.0,27889.0,47.0,17249.0,47042.0,8467.0,19757.0,7840.0,7370.0,6272.0,22580.0,19444.0,13485.0,15367.0,17355.0,17876.0,392.0,2509.0,26149.0,314.0,62722.0,25716.0,64290.0,6272.0,10641.0,3293.0,19444.0,20162.0,15367.0,627.0,15681.0,4234.0,10036.0,18817.0,40769.0,30.0,3763.0,77775.0,16308.0,314.0,52059.0,4704.0,26030.0,5959.0,17000.0,3500.0,18189.0,28222.0,2117.0,53759.0,16308.0,42667.0,6899.0,9408.0,8467.0,15530.0,7840.0,20385.0,29950.0,8154.0,9408.0,10976.0,18189.0,314.0,14426.0,16308.0,549.0,5331.0,220.0,10663.0,10349.0,17249.0,549.0,8781.0,2274.0,28225.0,3607.0,28225.0,17249.0,6899.0,17249.0,6899.0,7700.0,22580.0,37564.0,4180.0,15063.0,3763.0,220.0,46919.0,6586.0,5331.0,18400.0,1333.0,5645.0,18817.0,20250.0,17249.0,9252.0,4234.0,32615.0,45473.0,14113.0,4704.0,12544.0,600.0,14113.0,36567.0,28225.0,7213.0,10349.0,31581.0,9722.0,392.0,18189.0,14426.0,1568.0,1254.0,11604.0,18503.0,36197.0,19757.0,10349.0,15994.0,21953.0,11290.0,38260.0,9722.0,6272.0,21639.0,38574.0,20526.0,26657.0,53314.0,7000.0,37633.0,9095.0,12074.0,21395.0,19757.0,11290.0,15681.0,15367.0,3607.0,15053.0,12544.0,15994.0,14583.0,14740.0,21953.0,6272.0,7527.0,11447.0,14069.0,549.0,78.0,784.0,14113.0,5802.0,6868.0,862.0,1882.0,4861.0,20266.0,11604.0,5645.0,12858.0,9408.0,21326.0,16327.0,9408.0,19444.0,862.0,69502.0,38737.0,11760.0,8154.0,9500.0,30420.0,7213.0,470.0,40.0,1411.0,13328.0,18346.0,8467.0,5018.0,114468.0,13454.0,20385.0,1646.0,4547.0,3293.0,20266.0,35043.0,13000.0,4701.0,3450.0,19444.0,314.0,8154.0,17249.0,14113.0,7840.0,18660.0,10976.0,9565.0,15681.0,18531.0,5018.0,75266.0,549.0,11604.0,3450.0,5959.0,10976.0,33000.0,1411.0,10349.0,627.0,8781.0,4500.0,10036.0,40057.0,4359.0,19444.0,3136.0,53941.0,39750.0,392.0,10349.0,32929.0,26255.0,14740.0,21012.0,27654.0,25089.0,8938.0,10349.0,20698.0,392.0,7213.0,20005.0,21326.0,627.0,2901.0,32929.0,17942.0,10663.0,7056.0,7840.0,1646.0,5802.0,4077.0,62722.0,5018.0,18503.0,7806.0,12231.0,14269.0,18440.0,21326.0,23521.0,10036.0,2038.0,11604.0,17249.0,15681.0,314.0,28852.0,19130.0,54568.0,51746.0,14113.0,15681.0,50184.0,18817.0,706.0,5645.0,1019.0,4234.0,16500.0,282.0,13485.0,2979.0,16289.0,12544.0,60.0,50805.0,8781.0,627.0,28225.0,30800.0,23239.0,12544.0,15624.0,1568.0,7392.0,15053.0,784.0,8947.0,20698.0,58495.0,15053.0,31988.0,19444.0,17562.0,220.0,24283.0,188.0,28852.0,21805.0,11290.0,16766.0,19444.0,37633.0,1176.0,15681.0,11917.0,26657.0,8154.0,2195.0,9252.0,3450.0,30931.0,36401.0,54393.0,44166.0,314.0,15681.0,47042.0,19416.0,10349.0,23207.0,627.0,12544.0,4077.0,200.0,2430.0,6115.0,7997.0,25591.0,314.0,9252.0,8467.0,6272.0,16850.0,19130.0,8781.0,20071.0,8311.0,28225.0,15681.0,14113.0,3293.0,16308.0,6500.0,15367.0,314.0,41886.0,7840.0,1568.0,3293.0,23734.0,12676.0,17249.0,220.0,1333.0,47042.0,23436.0,24775.0,9095.0,21012.0,17876.0,23521.0,7840.0,10349.0,4861.0,42651.0,12858.0,470.0,14269.0,14426.0,19130.0,16935.0,20698.0,18500.0,3136.0,862.0,4000.0,470.0,18189.0,784.0,549.0,15053.0,549.0,28300.0,750.0,16935.0,78917.0,19416.0,49858.0,27284.0,23129.0,4704.0,13172.0,188.0,19130.0,28852.0,83107.0,37897.0,10036.0,17939.0,157.0,13736.0,4704.0,800.0,22197.0,12858.0,94.0,8500.0,282.0,4547.0,8781.0,19444.0,27284.0,10349.0,17249.0,392.0,5802.0,7840.0,10349.0,23521.0,1019.0,37000.0,4704.0,29166.0,862.0,7260.0,18189.0,706.0,862.0,19757.0,21608.0,47042.0,15681.0,12544.0,220.0,33870.0,25500.0,43278.0,10349.0,37633.0,15681.0,314.0,14113.0,13485.0,7527.0,32412.0,12720.0,7997.0,39085.0,3293.0,17405.0,5018.0,28225.0,32929.0,7527.0,19676.0,2666.0,706.0,33556.0,16308.0,18503.0,862.0,14834.0,6429.0,1254.0,26425.0,12858.0,9879.0,17092.0,9346.0,2195.0,41886.0,8154.0,13000.0,14426.0,6523.0,25716.0,24775.0,10036.0,15681.0,1725.0,5018.0,6899.0,2038.0,28059.0,50.0,15624.0,219527.0,282.0,30.0,3763.0,27598.0,470.0,42024.0,20071.0,33908.0,17035.0,11864.0,42337.0,45473.0,30.0,3293.0,15367.0,36137.0,470.0,941.0,20385.0,22580.0,4077.0,220.0,7840.0,392.0,13799.0,7524.0,16894.0,36567.0,25089.0,15681.0,8154.0,25089.0,36065.0,1490.0,18503.0,941.0,20385.0,17876.0,21482.0,3150.0,27284.0,47408.0,470.0,21012.0,10663.0,6586.0,84675.0,15994.0,14113.0,18346.0,18503.0,13626.0,9565.0,5645.0,549.0,4547.0,188.0,36899.0,1019.0,15681.0,12544.0,27911.0,17876.0,14113.0,8000.0,8781.0,14269.0,220.0,5200.0,116036.0,6586.0,10349.0,26657.0,10036.0,25089.0,19130.0,21500.0,3450.0,26657.0,14426.0,1254.0,97219.0,61154.0,18817.0,21012.0,11290.0,627.0,24775.0,83107.0,70562.0,706.0,45445.0,3136.0,25716.0,282.0,11102.0,8311.0,7840.0,706.0,13485.0,11604.0,12544.0,14950.0,28852.0,14113.0,1500.0,5959.0,33908.0,13172.0,549.0,9722.0,12544.0,2500.0,1568.0,627.0,392.0,9565.0,21285.0,11290.0,30734.0,10381.0,8938.0,4704.0,16151.0,7056.0,22580.0,941.0,55528.0,392.0,9408.0,9565.0,18503.0,59586.0,25716.0,5331.0,13485.0,22900.0,14454.0,22894.0,31650.0,6899.0,10663.0,8000.0,5175.0,7000.0,14426.0,220.0,17876.0,45633.0,9722.0,24123.0,18817.0,6586.0,70562.0,53154.0,22266.0,1646.0,29323.0,7840.0,10036.0,26096.0,23521.0,10000.0,18503.0,251.0,392.0,11604.0,19823.0,35899.0,16935.0,35438.0,1333.0,21012.0,470.0,16778.0,19914.0,12544.0,27284.0,43905.0,22269.0,9722.0,3607.0,13987.0,282.0,549.0,470.0,23521.0,1646.0,13998.0,12544.0,16766.0,22840.0,32302.0,10976.0,784.0,7840.0,35846.0,16935.0,4234.0,41083.0,12231.0,25559.0,6743.0,35309.0,12858.0,2038.0,12074.0,5802.0,157.0,3136.0,19444.0,282.0,15053.0,16621.0,392.0,100.0,6272.0,8467.0,45.0,5000.0,54932.0,26971.0,9722.0,314.0,40142.0,5950.0,15994.0,8154.0,15681.0,34074.0,12858.0,3136.0,110.0,28423.0,1411.0,3763.0,21000.0,15681.0,35005.0,10381.0,314.0,12544.0,21326.0,9408.0,6272.0,470.0,3763.0,10976.0,31220.0,23521.0,58338.0,76835.0,47042.0,21805.0,941.0,1500.0,14113.0,13799.0,20814.0,9408.0,10663.0,20385.0,9377.0,30517.0,8500.0,12544.0,52687.0,13000.0,8200.0,28789.0,188.0,94.0,11917.0,549.0,12231.0,8311.0,57607.0,13799.0,25089.0,392.0,6272.0,157.0,29793.0,31988.0,549.0,48575.0,157.0,10036.0,4704.0,17719.0,15681.0,18814.0,21500.0,392.0,36065.0,392.0,35.0,12544.0,14113.0,28225.0,15053.0,20071.0,17249.0,24239.0,5645.0,13172.0,5209.0,2979.0,17249.0,19757.0,28.0,7527.0,41811.0,40340.0,7213.0,408.0,15681.0,5018.0,14740.0,13485.0,51166.0,2430.0,8467.0,24123.0,9408.0,16308.0,4547.0,25000.0,392.0,25089.0,470.0,48610.0,3293.0,27911.0,59831.0,13172.0,80.0,627.0,21940.0,20698.0,13172.0,5331.0,22843.0,17876.0,25716.0,4861.0,15681.0,314.0,11447.0,37320.0,4077.0,1960.0,27946.0,2600.0,13172.0,23138.0,46728.0,42337.0,13485.0,14113.0,29793.0,31047.0,1725.0,220.0,13500.0,470.0,627.0,94.0,21395.0,4234.0,3607.0,3293.0,10663.0,26475.0,10663.0,37320.0,15994.0,3607.0,9408.0,10117.0,28830.0,24891.0,3000.0,50.0,30891.0,282.0,24148.0,46207.0,5200.0,43952.0,2430.0,55515.0,94083.0,23521.0,27435.0,10506.0,22433.0,9095.0,11604.0,28241.0,627.0,34419.0,25089.0,282.0,10820.0,282.0,18503.0,78403.0,10036.0,470.0,29793.0,9722.0,27924.0,14113.0,1646.0,12074.0,470.0,21953.0,7200.0,16621.0,6272.0,17562.0,1411.0,18117.0,19130.0,15612.0,20.0,12544.0,15994.0,4077.0,1646.0,314.0,35124.0,12858.0,4704.0,19130.0,2430.0,30351.0,11290.0,6272.0,706.0,35839.0,73071.0,16308.0,98282.0,21953.0,600.0,627.0,8467.0,47042.0,35902.0,20698.0,8781.0,13485.0,4077.0,188.0,6272.0,5175.0,49165.0,18817.0,7840.0,35736.0,16480.0,30.0,16778.0,19121.0,941.0,14715.0,18117.0,862.0,23521.0,28589.0,11917.0,2979.0,10349.0,21796.0,12544.0,20385.0,21012.0,16935.0,17876.0,24618.0,22947.0,7213.0,172486.0,21012.0,8000.0,6586.0,14426.0,18000.0,37229.0,18240.0,251.0,11133.0,15994.0,19456.0,37633.0,47042.0,17876.0,18503.0,7840.0,16935.0,14269.0,6272.0,627.0,26657.0,14113.0,8781.0,13184.0,5018.0,49058.0,15681.0,470.0,3200.0,18817.0,61154.0,37066.0,5959.0,15053.0,11917.0,18422.0,28852.0,3000.0,10697.0,16935.0,7213.0,14740.0,20171.0,26149.0,14113.0,18189.0,21031.0,31.0,21169.0,16308.0,29793.0,314.0,13877.0,25086.0,5959.0,24462.0,392.0,14740.0,941.0,40769.0,42692.0,51746.0,1333.0,1333.0,14269.0,42808.0,44517.0,6586.0,8154.0,41811.0,8467.0,5300.0,470.0,11917.0,21639.0,5645.0,392.0,26657.0,5018.0,3136.0,38260.0,10663.0,31.0,26475.0,19707.0,9565.0,23521.0,8000.0,21639.0,6586.0,76835.0,5645.0,38894.0,35043.0,1568.0,220.0,13485.0,17876.0,23521.0,16935.0,44752.0,8781.0,34811.0,5488.0,19200.0,7527.0,18817.0,2587.0,627.0,7840.0,7213.0,13485.0,41387.0,3000.0,11704.0,10976.0,18124.0,46919.0,1568.0,14900.0,22545.0,32929.0,862.0,26343.0,941.0,348.0,15053.0,314.0,5645.0,4077.0,10036.0,180.0,16621.0,7840.0,10976.0,314.0,16041.0,7840.0,862.0,35.0,8000.0,10300.0,314.0,172486.0,4861.0,17405.0,3763.0,16891.0,32910.0,20071.0,21169.0,6899.0,25716.0,109764.0,8154.0,51272.0,16621.0,13771.0,21639.0,17562.0,1019.0,10192.0,15994.0,64290.0,2901.0,549.0,17562.0,8467.0,10036.0,14113.0,24462.0,11760.0,87811.0,54568.0,18189.0,27174.0,17240.0,22649.0,14113.0,22894.0,11290.0,4704.0,38445.0,19757.0,2800.0,13799.0,8938.0,470.0,15053.0,18817.0,157.0,12000.0,9722.0,8900.0,9408.0,9408.0,83251.0,1803.0,29793.0,40769.0,22266.0,9408.0,23678.0,20698.0,5331.0,11704.0,1960.0,20385.0,14113.0,3607.0,24239.0,20491.0,28532.0,1490.0,22197.0,10976.0,37580.0,5018.0,10663.0,50184.0,10976.0,19613.0,45473.0,15367.0,25729.0,6586.0,18660.0,57842.0,3450.0,17694.0,15053.0,11290.0,627.0,4861.0,10017.0,31988.0,34406.0,141124.0,392.0,8154.0,29793.0,14113.0,29633.0,392.0,11447.0,20071.0,784.0,8624.0,13328.0,17562.0,36068.0,7840.0,47217.0,37000.0,16621.0,6523.0,12231.0,27946.0,23239.0,119172.0,12544.0,17245.0,2352.0,79902.0,26343.0,549.0,8624.0,21639.0,70.0,39201.0,17249.0,25089.0,9565.0,12281.0,9938.0,470.0,17540.0,470.0,1098.0,37580.0,14269.0,18000.0,1725.0,23521.0,13485.0,25089.0,29777.0,22580.0,7840.0,36166.0,34497.0,17186.0,17158.0,5018.0,42337.0,49858.0,19757.0,16621.0,30038.0,16308.0,29793.0,862.0,12858.0,16618.0,392.0,18817.0,34406.0,45044.0,1490.0,8938.0,627.0,282.0,8467.0,3136.0,8467.0,5018.0,251.0,84675.0,10663.0,20.0,11917.0,14740.0,6899.0,15624.0,10349.0,1568.0,14740.0,549.0,10976.0,6586.0,46101.0,22580.0,111332.0,14113.0,16621.0,19130.0,2430.0,21639.0,17249.0,19757.0,1000.0,11604.0,51746.0,32302.0,40390.0,9879.0,15681.0,16621.0,17719.0,7527.0,18245.0,14113.0,16800.0,18817.0,13485.0,26343.0,6899.0,16091.0,52263.0,23834.0,15367.0,2666.0,27598.0,49751.0,16000.0,9408.0,22000.0,20297.0,58579.0,17562.0,3900.0,8467.0,23521.0,157.0,17249.0,26971.0,14583.0,10976.0,6586.0,12701.0,58018.0,18531.0,10976.0,3607.0,9408.0,10036.0,21953.0,11604.0,28222.0,17249.0,61154.0,4861.0,41720.0,21326.0,13172.0,15292.0,25.0,10976.0,48873.0,8154.0,11917.0,282.0,21326.0,22580.0,4861.0,17562.0,26594.0,15994.0,27911.0,706.0,39515.0,220.0,17562.0,14113.0,17249.0,14113.0,314.0,19306.0,188.0,10663.0,90.0,4391.0,25089.0,22649.0,10515.0,20266.0,31248.0,6272.0,8781.0,24148.0,10672.0,188.0,4000.0,314.0,24273.0,26657.0,4704.0,39829.0,23935.0,8467.0,14113.0,18531.0,19757.0,15681.0,20385.0,20385.0,39559.0,124989.0,19601.0,10000.0,13328.0,392.0,16621.0,15681.0,19679.0,9879.0,27654.0,32929.0,17663.0,52959.0,18189.0,706.0,862.0,14740.0,5018.0,27924.0,5488.0,28225.0,16621.0,10400.0,1960.0,24283.0,3920.0,9364.0,23110.0,4391.0,314.0,9722.0,5645.0,36068.0,251.0,140.0,392.0,10036.0,7527.0,8781.0,50178.0,4704.0,15681.0,35344.0,8154.0,15925.0,23521.0,314.0,15681.0,21953.0,11290.0,5959.0,2274.0,11000.0,4547.0,11604.0,12544.0,17249.0,28059.0,18826.0,31361.0,13485.0,9408.0,19130.0,21326.0,34074.0,11099.0,314.0,18817.0,29793.0,31675.0,21012.0,15367.0,941.0,470.0,53154.0,12544.0,16308.0,18503.0,11368.0,6899.0,43435.0,11133.0,20385.0,4234.0,3450.0,43868.0,28225.0,39201.0,22266.0,125.0,6429.0,9252.0,25889.0,7370.0,17249.0,16151.0,24860.0,22894.0,10349.0,17000.0,314.0,15681.0,7100.0,55932.0,9252.0,37633.0,251.0,14113.0,8154.0,3293.0,12544.0,24123.0,3800.0,188.0,37633.0,14113.0,157.0,1882.0,39559.0,470.0,12544.0,7840.0,12500.0,220.0,45633.0,1725.0,14426.0,15681.0,39797.0,80.0,13297.0,12231.0,1098.0,35908.0,140.0,2038.0,9722.0,26475.0,16935.0,8467.0,16935.0,10036.0,15850.0,7683.0,45473.0,10976.0,35.0,4077.0,14069.0,55823.0,38975.0,706.0,17249.0,19444.0,40390.0,70.0,18817.0,1019.0,941.0,29166.0,9408.0,30.0,42337.0,5645.0,7997.0,3607.0,10976.0,19444.0,3293.0,6272.0,56450.0,220.0,4234.0,3920.0,18500.0,19500.0,28852.0,8781.0,23207.0,17346.0,13172.0,1568.0,29793.0,30906.0,10820.0,10900.0,9408.0,4077.0,42987.0,15681.0,30712.0,19914.0,9722.0,33076.0,18503.0,7527.0,12858.0,549.0,12544.0,470.0,314.0,9408.0,2979.0,35902.0,15053.0,11676.0,13172.0,43592.0,706.0,18189.0,10036.0,48566.0,25089.0,16621.0,12544.0,8154.0,31361.0,34635.0,18503.0,16308.0,21012.0,7213.0,13485.0,6586.0,15132.0,12231.0,15850.0,6269.0,20266.0,282.0,54346.0,1019.0,4077.0,18817.0,549.0,40769.0,12388.0,14454.0,6611.0,7527.0,392.0,47042.0,25089.0,10663.0,20385.0,6899.0,8154.0,21012.0,5645.0,16000.0,21009.0,64917.0,30734.0,19757.0,39026.0,6272.0,24462.0,13172.0,17562.0,188.0,4077.0,50526.0,48610.0,4077.0,627.0,2117.0,19444.0,15681.0,1176.0,7527.0,5175.0,52059.0,16621.0,470.0,52106.0,18503.0,40.0,9000.0,21326.0,30.0,19444.0,1411.0,2500.0,11604.0,14113.0,251.0,8311.0,15994.0,7213.0,13172.0,15994.0,27174.0,314.0,14113.0,22580.0,8311.0,20918.0,4077.0,16308.0,1725.0,27356.0,470.0,470.0,82166.0,10976.0,18519.0,9408.0,1098.0,13877.0,3293.0,23521.0,7056.0,21790.0,7840.0,65858.0,13476.0,25089.0,22266.0,6743.0,6272.0,4077.0,392.0,5645.0,7840.0,1646.0,12544.0,15681.0,10349.0,941.0,549.0,42987.0,862.0,10976.0,5645.0,27093.0,17719.0,19757.0,4704.0,282.0,23678.0,250.0,40983.0,13463.0,5018.0,941.0,1098.0,13485.0,392.0,37633.0,39615.0,5018.0,157.0,9252.0,21953.0,132971.0,188.0,10349.0,19130.0,21326.0,40456.0,10349.0,13799.0,50.0,22894.0,31361.0,7213.0,4547.0,1882.0,41811.0,39201.0,37000.0,11000.0,10349.0,29793.0,6586.0,10036.0,22894.0,15053.0,7056.0,25889.0,16621.0,20005.0,22894.0,19130.0,4359.0,14740.0,43868.0,47000.0,15994.0,3450.0,17562.0,784.0,2195.0,7527.0,8781.0,21012.0,22649.0,40983.0,19416.0,549.0,16935.0,15681.0,9408.0,16621.0,2979.0,23207.0,12858.0,17249.0,7997.0,60.0,12541.0,14113.0,59006.0,8467.0,10349.0,7527.0,20005.0,12388.0,392.0,15053.0,862.0,25264.0,21012.0,14113.0,4077.0,96749.0,42337.0,130.0,10976.0,16621.0,23734.0,1725.0,1019.0,15681.0,157.0,24433.0,9722.0,3000.0,1646.0,627.0,34419.0,784.0,16935.0,4704.0,9879.0,29793.0,17249.0,10349.0,23932.0,1098.0,13172.0,25089.0,6272.0,5959.0,28539.0,3058.0,470.0,26657.0,1490.0,9722.0,18660.0,19444.0,1568.0,12306.0,41281.0,28830.0,18817.0,21326.0,62722.0,16308.0,49550.0,23521.0,11290.0,7683.0,23834.0,3000.0,10036.0,14426.0,16308.0,10976.0,9408.0,20385.0,11290.0,28852.0,1725.0,24932.0,17249.0,627.0,51373.0,100355.0,12544.0,52059.0,7997.0,4547.0,17562.0,15994.0,12720.0,8781.0,42692.0,9252.0,24709.0,2430.0,9565.0,16308.0,45044.0,10036.0,32929.0,28225.0,8467.0,15850.0,4547.0,5018.0,53540.0,11917.0,1176.0,8938.0,20005.0,15681.0,7840.0,7300.0,8154.0,25089.0,3450.0,3136.0,10506.0,9095.0,10976.0,9095.0,470.0,392.0,157.0,6429.0,28225.0,941.0,22580.0,26657.0,9408.0,8467.0,14454.0,392.0,4077.0,65858.0,9408.0,3450.0,15423.0,10349.0,15681.0,16308.0,16308.0,54568.0,27598.0,20814.0,314.0,15681.0,941.0,8467.0,9722.0,706.0,8781.0,5959.0,16308.0,45436.0,8781.0,15285.0,314.0,9408.0,26343.0,37633.0,32935.0,25763.0,19429.0,9408.0,10036.0,470.0,7213.0,25089.0,10349.0,39201.0,31361.0,18000.0,12074.0,13495.0,18189.0,36065.0,19933.0,34497.0,8097.0,18817.0,160.0,7997.0,10349.0,16894.0,8781.0,11760.0,6743.0,18189.0,11917.0,54850.0,20071.0,6899.0,1803.0,6272.0,67981.0,32929.0,9408.0,1000.0,21103.0,27284.0,110.0,3607.0,36137.0,862.0,6900.0,47201.0,1490.0,13485.0,2850.0,941.0,54882.0,20071.0,47694.0,15681.0,31.0,22423.0,10349.0,1254.0,18240.0,20542.0,7840.0,27284.0,4391.0,9095.0,21953.0,32302.0,9252.0,80.0,10976.0,5018.0,28100.0,15681.0,14897.0,10976.0,10349.0,11917.0,14113.0,11000.0,2195.0,1019.0,8590.0,11917.0,20385.0,33538.0,16292.0,19306.0,7527.0,19601.0,21953.0,12231.0,10349.0,10036.0,17249.0,13799.0,18817.0,9722.0,15524.0,34406.0,13768.0,5018.0,30107.0,40769.0,9408.0,549.0,11604.0,18817.0,14113.0,8467.0,10976.0,10036.0,38574.0,13172.0,21953.0,470.0,470.0,8467.0,36065.0,23521.0,10976.0,16308.0,18817.0,58018.0,49751.0,1411.0,12858.0,44542.0,220.0,37633.0,5300.0,19369.0,45.0,15994.0,15367.0,21357.0,51523.0,14113.0,15053.0,941.0,7527.0,64002.0,20266.0,9756.0,6899.0,28068.0,3293.0,17876.0,16465.0,470.0,220.0,46414.0,9000.0,15245.0,392.0,627.0,784.0,42965.0,56513.0,7997.0,27259.0,392.0,14113.0,23521.0,470.0,22063.0,26657.0,31082.0,53314.0,8781.0,16778.0,4547.0,12585.0,15681.0,6272.0,28482.0,63.0,26017.0,3607.0,17500.0,15053.0,29711.0,32035.0,36827.0,2430.0,34102.0,314.0,6272.0,57372.0,26372.0,19130.0,314.0,26657.0,16894.0,1019.0,2509.0,21395.0,17468.0,10976.0,13642.0,25559.0,2587.0,17405.0,9252.0,17562.0,706.0,4547.0,10036.0,30734.0,3920.0,21326.0,21652.0,13172.0,6837.0,470.0,97401.0,17509.0,6272.0,22266.0,25716.0,18817.0,7683.0,4600.0,9722.0,5488.0,9900.0,220.0,12544.0,15053.0,23521.0,9408.0,10349.0,314.0,36065.0,33550.0,18189.0,12858.0,13172.0,19130.0,11917.0,1800.0,21639.0,20005.0,13799.0,11917.0,784.0,2300.0,23592.0,34607.0,11917.0,12544.0,45210.0,10349.0,13172.0,627.0,10914.0,14583.0,7517.0,8467.0,25089.0,1725.0,36065.0,156805.0,23678.0,23521.0,15681.0,2038.0,31675.0,6899.0,66902.0,1019.0,14900.0,13328.0,24148.0,392.0,21012.0,24462.0,13184.0,37837.0,4391.0,2600.0,5018.0,8154.0,21636.0,23207.0,3450.0,72758.0,10000.0,1098.0,1568.0,9408.0,31424.0,13764.0,12544.0,27911.0,90919.0,32973.0,12544.0,627.0,14746.0,21012.0,157.0,84675.0,8467.0,157.0,2000.0,17562.0,39201.0,7840.0,13523.0,2117.0,13172.0,3763.0,16621.0,7997.0,27911.0,7828.0,14740.0,24462.0,15681.0,941.0,24775.0,27284.0,862.0,25032.0,470.0,19757.0,4391.0,10349.0,33230.0,15681.0,2038.0,18660.0,20385.0,549.0,29479.0,13328.0,250.0,19657.0,10986.0,7213.0,157.0,27911.0,23521.0,2979.0,3607.0,4391.0,941.0,12425.0,49237.0,21012.0,56513.0,17876.0,282.0,38260.0,45.0,10349.0,392.0,48048.0,12544.0,10036.0,23204.0,21796.0,20209.0,7056.0,862.0,12544.0,5488.0,470.0,15681.0,17054.0,392.0,10349.0,40224.0,23000.0,27911.0,16308.0,6115.0,7527.0,10349.0,20385.0,3136.0,26030.0,4200.0,25716.0,9252.0,42717.0,31797.0,10036.0,7188.0,8800.0,14426.0,4077.0,157.0,17346.0,80.0,314.0,31988.0,12500.0,67426.0,15681.0,125500.0,4861.0,784.0,30.0,5175.0,941.0,62722.0,31361.0,6272.0,25456.0,10349.0,6899.0,36065.0,15847.0,24709.0,24267.0,3607.0,4704.0,7370.0,16621.0,32929.0,20005.0,15053.0,10976.0,7213.0,66197.0,16308.0,7840.0,92515.0,392.0,61521.0,41811.0,11704.0,28241.0,470.0,12544.0,12388.0,470.0,3700.0,26475.0,19309.0,6899.0,20237.0,8634.0,24462.0,941.0,13946.0,5018.0,10976.0,9408.0,14740.0,37633.0,3920.0,11604.0,54568.0,20005.0,2117.0,5959.0,8154.0,12544.0,18814.0,25716.0,25089.0,9565.0,20005.0,862.0,25089.0,47042.0,18503.0,5175.0,392.0,8311.0,60000.0,34811.0,12544.0,549.0,14113.0,15524.0,22894.0,392.0,627.0,26343.0,43394.0,18817.0,27284.0,25889.0,17227.0,22580.0,25810.0,18817.0,549.0,3136.0,300.0,157.0,39458.0,3293.0,627.0,18817.0,392.0,1254.0,24625.0,34811.0,157.0,39603.0,20385.0,11917.0,282.0,8500.0,45473.0,32744.0,6595.0,62408.0,15866.0,37633.0,12231.0,32929.0,1411.0,46809.0,82097.0,14113.0,14897.0,392.0,15257.0,204.0,13485.0,40.0,7527.0,14113.0,25089.0,29793.0,40456.0,22580.0,12777.0,21326.0,3800.0,14740.0,17876.0,1725.0,13172.0,15718.0,32929.0,21987.0,41720.0,24148.0,8467.0,7840.0,392.0,12544.0,5018.0,7840.0,18817.0,20000.0,7700.0,17249.0,22580.0,549.0,16621.0,10036.0,18189.0,706.0,10349.0,20000.0,29087.0,282.0,470.0,784.0,549.0,27174.0,52059.0,7527.0,20883.0,549.0,25299.0,23521.0,4300.0,43868.0,549.0,251.0,14426.0,1176.0,18826.0,23521.0,7370.0,30.0,5331.0,7840.0,251.0,13485.0,7213.0,15000.0,13485.0,8311.0,46728.0,8467.0,18817.0,18817.0,470.0,35124.0,15053.0,48610.0,862.0,10349.0,400.0,11917.0,15367.0,9408.0,11290.0,8467.0,20385.0,34500.0,23521.0,9252.0,19121.0,9095.0,31361.0,11917.0,21012.0,16571.0,16308.0,13485.0,6586.0,10663.0,14113.0,188.0,1882.0,110.0,1490.0,17249.0,4704.0,706.0,28100.0,16621.0,8938.0,862.0,784.0,110.0,11604.0,17249.0,9722.0,9095.0,15053.0,13172.0,9408.0,15681.0,14113.0,14113.0,392.0,54458.0,4704.0,9722.0,8467.0,12388.0,18817.0,10976.0,13485.0,11604.0,20071.0,47042.0,470.0,37947.0,34673.0,19736.0,12074.0,15681.0,941.0,1646.0,4704.0,17876.0,7840.0,17562.0,16559.0,47989.0,8624.0,45376.0,6800.0,392.0,4077.0,21326.0,12585.0,12544.0,15994.0,14426.0,81539.0,14500.0,32929.0,41867.0,5000.0,15612.0,8154.0,18503.0,43360.0,42337.0,8938.0,941.0,706.0,706.0,31361.0,25889.0,47042.0,21012.0,38737.0,9252.0,14113.0,28852.0,2200.0,15367.0,3293.0,12231.0,14081.0,21953.0,14686.0,15053.0,21357.0,18826.0,51432.0,23834.0,49459.0,251.0,9722.0,42538.0,40983.0,18240.0,50.0,9408.0,1725.0,11133.0,18660.0,19287.0,4077.0,30828.0,549.0,14113.0,549.0,157.0,6429.0,11259.0,6586.0,73714.0,18817.0,11290.0,25716.0,35071.0,7683.0,9722.0,37947.0,20385.0,13900.0,38016.0,251.0,11133.0,6586.0,51746.0,5018.0,15053.0,24148.0,11917.0,17876.0,27375.0,8154.0,784.0,7840.0,3500.0,188.0,7997.0,12544.0,5331.0,8467.0,23659.0,470.0,19914.0,188.0,19416.0,35309.0,1700.0,8467.0,314.0,6429.0,1725.0,32910.0,65.0,11992.0,7840.0,9408.0,30734.0,13956.0,34692.0,627.0,10976.0,16308.0,10976.0,6272.0,20385.0,784.0,3763.0,10986.0,49237.0,21012.0,80.0,250.0,17249.0,14426.0,27422.0,8154.0,125.0,17562.0,392.0,26971.0,88438.0,18817.0,15612.0,9408.0,282.0,6429.0,40346.0,22843.0,16935.0,5331.0,12522.0,23207.0,3763.0,45.0,11290.0,13485.0,12858.0,300.0,39201.0,46236.0,392.0,13485.0,11133.0,23521.0,10976.0,11917.0,392.0,28078.0,11447.0,9722.0,18189.0,43905.0,13172.0,10036.0,26814.0,5645.0,12231.0,9000.0,26030.0,94083.0,15132.0,24148.0,10976.0,3607.0,41710.0,6272.0,17876.0,11917.0,10036.0,11917.0,30455.0,60.0,6272.0,11011.0,12540.0,12544.0,784.0,7840.0,14426.0,73071.0,14269.0,12544.0,4861.0,2430.0,51517.0,30420.0,32772.0,5645.0,9252.0,15681.0,8467.0,73071.0,58959.0,33575.0,5645.0,47.0,11368.0,5018.0,4077.0,1176.0,5488.0,7213.0,15000.0,11917.0,23521.0,21012.0,37611.0,15681.0,7213.0,4077.0,470.0,1019.0,9512.0,6429.0,14897.0,9252.0,16443.0,13485.0,73034.0,8500.0,12388.0,15991.0,25591.0,6272.0,470.0,6700.0,470.0,17249.0,1098.0,7527.0,14454.0,17876.0,29793.0,11274.0,16621.0,61154.0,16935.0,13956.0,10349.0,75266.0,18817.0,11290.0,188.0,8154.0,9879.0,7213.0,10976.0,9408.0,25086.0,19444.0,1568.0,8154.0,175622.0,11262.0,12544.0,11133.0,10036.0,24029.0,38445.0,31988.0,21953.0,14454.0,6899.0,3293.0,47408.0,45.0,7840.0,17249.0,6272.0,23104.0,27889.0,5645.0,13172.0,5551.0,53314.0,32929.0,10349.0,392.0,11133.0,784.0,784.0,470.0,72130.0,14113.0,16308.0,15681.0,6586.0,15994.0,47042.0,2822.0,31772.0,5959.0,13172.0,50767.0,30750.0,8500.0,26030.0,28539.0,14583.0,19444.0,26657.0,4547.0,549.0,32393.0,29793.0,62722.0,3.0,24462.0,1568.0,8311.0,392.0,17245.0,10976.0,16308.0,12231.0,17249.0,2100.0,15681.0,10036.0,56450.0,18660.0,20071.0,9408.0,8467.0,1568.0,941.0,13172.0,22947.0,470.0,29793.0,4391.0,5018.0,9408.0,706.0,10036.0,1333.0,20149.0,18189.0,941.0,3450.0,13953.0,22649.0,17249.0,4077.0,17663.0,11917.0,10976.0,392.0,627.0,18503.0,188.0,16621.0,29777.0,3000.0,50.0,3300.0,22110.0,15681.0,6899.0,17249.0,6429.0,16408.0,23521.0,42786.0,1568.0,8154.0,4861.0,2195.0,6272.0,23521.0,20005.0,10381.0,14113.0,13485.0,30.0,1333.0,15530.0,6586.0,18531.0,3763.0,7495.0,5331.0,470.0,9000.0,24775.0,16308.0,13799.0,17249.0,5959.0,24327.0,16935.0,36219.0,17876.0,32929.0,27924.0,627.0,7840.0,13485.0,6272.0,941.0,6272.0,31361.0,24775.0,23834.0,14583.0,11604.0,15681.0,8467.0,20855.0,7000.0,8154.0,549.0,6899.0,17249.0,44843.0,17876.0,470.0,27946.0,1254.0,251.0,25716.0,17876.0,9722.0,1019.0,10036.0,8500.0,40224.0,7840.0,7056.0,19130.0,63826.0,10976.0,549.0,80.0,7683.0,3450.0,251.0,11604.0,21253.0,18033.0,35908.0,470.0,13172.0,17876.0,21652.0,8467.0,3293.0,14740.0,78403.0,121524.0,38445.0,3293.0,16621.0,24920.0,15053.0,13799.0,9408.0,16621.0,11917.0,14740.0,34497.0,706.0,862.0,11604.0,19416.0,37633.0,26030.0,9000.0,2509.0,13739.0,40769.0,5331.0,9095.0,30.0,14454.0,10349.0,784.0,18362.0,21181.0,8000.0,42337.0,26814.0,10349.0,52696.0,35269.0,15367.0,25089.0,14113.0,3.0,45000.0,14740.0,3763.0,8781.0,14426.0,12074.0,7840.0,16308.0,12570.0,470.0,392.0,19757.0,1882.0,43278.0,24458.0,20385.0,10976.0,16308.0,14426.0,14113.0,46414.0,10976.0,18189.0,13172.0,7213.0,784.0,10663.0,48261.0,32954.0,6899.0,16621.0,13328.0,54697.0,10349.0,549.0,40769.0,11368.0,12858.0,43905.0,10663.0,39201.0,3500.0,11886.0,10641.0,14269.0,13328.0,17562.0,3607.0,17249.0,308906.0,21953.0,100.0,16935.0,100.0,15053.0,5331.0,392.0,11604.0,5018.0,48575.0,5331.0,20005.0,53154.0,1333.0,7213.0,31361.0,15053.0,251.0,19757.0,7213.0,21953.0,20385.0,16308.0,15681.0,8781.0,4077.0,15681.0,20385.0,15367.0,25089.0,15053.0,4704.0,7213.0,45473.0,19130.0,4328.0,15053.0,6586.0,3450.0,11447.0,42337.0,314.0,10976.0,28909.0,20385.0,627.0,6115.0,25000.0,627.0,5000.0,18503.0,29793.0,26491.0,28225.0,5175.0,2822.0,50184.0,1646.0,15681.0,549.0,44533.0,6899.0,17249.0,6899.0,8311.0,15323.0,25089.0,188.0,15681.0,5800.0,24148.0,17562.0,3900.0,5018.0,10976.0,45473.0,9252.0,14583.0,251.0,12231.0,1350.0,941.0,27654.0,20385.0,706.0,18817.0,20385.0,61816.0,4234.0,706.0,2430.0,45342.0,14113.0,37633.0,2038.0,57428.0,61521.0,8781.0,18817.0,26720.0,36733.0,11917.0,125.0,627.0,17562.0,4391.0,12544.0,549.0,11604.0,12858.0,470.0,25089.0,6899.0,43278.0,23521.0,314.0,21953.0,13172.0,26657.0,9408.0,16935.0,13172.0,314.0,10976.0,27065.0,11500.0,20200.0,8500.0,39201.0,12858.0,37633.0,18346.0,36065.0,4704.0,8781.0,8154.0,5488.0,22580.0,7213.0,12231.0,157.0,470.0,9565.0,6272.0,20385.0,100.0,13799.0,14740.0,12544.0,12980.0,32929.0,11290.0,19444.0,24775.0,220.0,20266.0,37163.0,8467.0,15053.0,19444.0,3763.0,16465.0,75793.0,21639.0,18817.0,19444.0,30238.0,3763.0,3763.0,24775.0,4391.0,7056.0,21950.0,29087.0,6586.0,12112.0,15681.0,1568.0,15681.0,2509.0,11851.0,5175.0,5896.0,39750.0,31361.0,6899.0,34811.0,25402.0,3763.0,3763.0,9408.0,27284.0,37633.0,16621.0,11760.0,23521.0,392.0,549.0,30734.0,24148.0,8311.0,29144.0,470.0,7000.0,22266.0,24148.0,392.0,15053.0,3293.0,41629.0,2195.0,11917.0,3293.0,2000.0,3000.0,9722.0,19384.0,4704.0,13172.0,5018.0,784.0,19757.0,20385.0,157.0,35438.0,941.0,31047.0,4234.0,1176.0,20300.0,8154.0,2800.0,37633.0,49858.0,100.0,42987.0,42692.0,11917.0,4861.0,37476.0,13485.0,47537.0,7997.0,3293.0,15681.0,10976.0,27654.0,392.0,14166.0,188.0,73071.0,14426.0,12231.0,157.0,3450.0,3136.0,18817.0,10349.0,2195.0,46414.0,1019.0,4704.0,3763.0,19757.0,1725.0,11760.0,627.0,20883.0,8938.0,29793.0,18817.0,6272.0,11917.0,28225.0,32302.0,53282.0,15994.0,29075.0,22894.0,5802.0,9408.0,3700.0,81445.0,14740.0,14583.0,41553.0,2744.0,3763.0,34497.0,20385.0,7213.0,30420.0,56845.0,22580.0,6743.0,2901.0,784.0,3000.0,7527.0,30602.0,39201.0,3763.0,44134.0,6272.0,7840.0,27827.0,16000.0,35237.0,470.0,11604.0,32929.0,19657.0,16954.0,118519.0,1098.0,16333.0,41654.0,19441.0,9879.0,15681.0,13485.0,11290.0,627.0,392.0,11800.0,7527.0,4704.0,1098.0,941.0,2195.0,314.0,13799.0,16280.0,30326.0,7840.0,6.0,11447.0,21012.0,16308.0,2430.0,53188.0,24283.0,3000.0,6272.0,7840.0,706.0,26657.0,392.0,282.0,10036.0,1098.0,9722.0,7840.0,21326.0,23521.0,17054.0,5018.0,706.0,7840.0,784.0,2117.0,10036.0,8311.0,4200.0,32929.0,8320.0,12544.0,45825.0,17249.0,94.0,21169.0,9252.0,31047.0,4077.0,282.0,7840.0,17876.0,6899.0,314.0,549.0,16935.0,16621.0,29793.0,1000.0,8781.0,314.0,18189.0,16960.0,28830.0,627.0,3763.0,11917.0,9722.0,40769.0,20385.0,14301.0,2587.0,706.0,19400.0,13799.0,30517.0,18647.0,3000.0,86243.0,549.0,14897.0,20385.0,37125.0,19384.0,20532.0,68994.0,14740.0,15530.0,42337.0,20000.0,3000.0,25089.0,5645.0,470.0,125.0,2509.0,46866.0,26262.0,22894.0,18503.0,16308.0,3607.0,5372.0,10036.0,5331.0,470.0,46728.0,17249.0,8097.0,627.0,32929.0,25089.0,6743.0,10663.0,18817.0,16621.0,6241.0,21012.0,19757.0,23521.0,282.0,25591.0,12544.0,21326.0,6272.0,22357.0,14113.0,16750.0,549.0,5018.0,13485.0,1176.0,6899.0,45473.0,2195.0,20266.0,30734.0,15053.0,17249.0,1098.0,12000.0,17249.0,17562.0,27598.0,1568.0,26030.0,28780.0,220.0,14700.0,392.0,19444.0,54568.0,21953.0,1411.0,5331.0,314.0,13642.0,17562.0,13485.0,10036.0,29636.0,13953.0,42337.0,31361.0,7840.0,30.0,188.0,4391.0,20385.0,220.0,36692.0,10349.0,8781.0,5000.0,17249.0,25089.0,314.0,34497.0,862.0,13172.0,61154.0,16308.0,37232.0,23207.0,17158.0,9408.0,37574.0,6209.0,10036.0,5488.0,19914.0,24775.0,470.0,9095.0,1882.0,5645.0,33870.0,22580.0,35344.0,8154.0,18817.0,11133.0,18500.0,12231.0,21330.0,16308.0,627.0,52059.0,34877.0,10506.0,20385.0,8467.0,47042.0,1646.0,6586.0,9408.0,10976.0,32311.0,25139.0,5645.0,11917.0,8154.0,19444.0,9408.0,4704.0,11604.0,50178.0,8467.0,58018.0,941.0,11290.0,4234.0,24462.0,18500.0,13172.0,10036.0,314.0,31581.0,30351.0,2038.0,57108.0,12544.0,7683.0,7213.0,8154.0,862.0,12858.0,12544.0,19309.0,32035.0,40769.0,17562.0,11290.0,7527.0,51746.0,24775.0,18817.0,40.0,5959.0,2509.0,16308.0,14740.0,42717.0,8311.0,19444.0,50178.0,24462.0,11917.0,9408.0,8154.0,19444.0,37066.0,2509.0,1176.0,11604.0,4391.0,15125.0,22549.0,25089.0,42337.0,1882.0,3293.0,15681.0,1000.0,9408.0,157.0,3136.0,32311.0,10663.0,46414.0,11447.0,65040.0,157.0,627.0,40000.0,17158.0,38311.0,6899.0,25512.0,15524.0,14269.0,19679.0,3293.0,32302.0,3136.0,392.0,13172.0,48610.0,28617.0,2430.0,9722.0,470.0,37000.0,706.0,35610.0,7213.0,16308.0,44247.0,11917.0,8154.0,470.0,15681.0,784.0,11133.0,17249.0,13000.0,36834.0,2500.0,7997.0,14113.0,9095.0,50341.0,26657.0,68681.0,21326.0,9092.0,30.0,29793.0,1019.0,21395.0,26030.0,39891.0,25089.0,14113.0,7370.0,7056.0,21012.0,11917.0,20005.0,54167.0,10663.0,47205.0,470.0,8467.0,17876.0,38060.0,32104.0,25089.0,2038.0,4391.0,470.0,19309.0,2437.0,30.0,94.0,15000.0,40092.0,706.0,15681.0,14740.0,17249.0,16358.0,43868.0,19444.0,17249.0,95651.0,20385.0,14740.0,16308.0,470.0,11917.0,23521.0,784.0,80.0,81539.0,20071.0,12083.0,4980.0,18240.0,7683.0,549.0,16308.0,8624.0,16766.0,706.0,6272.0,7997.0,54568.0,23521.0,30.0,15367.0,15210.0,6586.0,50178.0,220.0,11290.0,12000.0,8643.0,11133.0,706.0,157.0,10976.0,627.0,9722.0,9722.0,47042.0,20469.0,18616.0,2038.0,21326.0,7840.0,10000.0,40556.0,11447.0,17562.0,28015.0,17249.0,19369.0,7840.0,20385.0,2195.0,10349.0,19000.0,5959.0,282.0,79971.0,9408.0,15681.0,21953.0,10976.0,34673.0,549.0,22580.0,314.0,10349.0,784.0,40.0,37062.0,15681.0,10036.0,18189.0,23834.0,22894.0,4704.0,4704.0,47042.0,37633.0,18503.0,34500.0,17876.0,12858.0,27755.0,5488.0,10036.0,8154.0,10192.0,8467.0,14113.0,16756.0,20385.0,706.0,1568.0,16621.0,314.0,22063.0,8938.0,16621.0,15053.0,7840.0,24775.0,17249.0,12544.0,34494.0,13172.0,18422.0,10036.0,18817.0,18503.0,10036.0,2430.0,13172.0,18503.0,3450.0,15273.0,18189.0,6000.0,18817.0,10663.0,5018.0,29094.0,11604.0,125.0,2979.0,706.0,11917.0,21103.0,254024.0,34811.0,1098.0,17249.0,12858.0,1254.0,29793.0,13485.0,26657.0,18189.0,8781.0,31047.0,2587.0,39201.0,8311.0,13172.0,21953.0,7700.0,25089.0,10349.0,27598.0,43548.0,28225.0,10036.0,220.0,21796.0,19757.0,29793.0,11604.0,8467.0,16160.0,34497.0,282.0,6899.0,14834.0,20385.0,18189.0,15053.0,36808.0,4704.0,7527.0,22580.0,8467.0,9252.0,470.0,29793.0,6893.0,9879.0,862.0,10349.0,3.0,18189.0,26657.0,4547.0,19416.0,24148.0,18817.0,2352.0,1646.0,4077.0,22433.0,1176.0,25716.0,11917.0,20385.0,52696.0,47042.0,12231.0,60.0,14113.0,56509.0,3450.0,784.0,7213.0,282.0,706.0,7527.0,59087.0,15681.0,70562.0,66815.0,64463.0,6272.0,9095.0,10349.0,16621.0,66482.0,23207.0,1700.0,220.0,862.0,27598.0,627.0,1254.0,5959.0,43655.0,20542.0,14113.0,1725.0,15053.0,54882.0,49858.0,12544.0,17562.0,392.0,6272.0,7213.0,46728.0,45633.0,9565.0,282.0,20817.0,941.0,1882.0,392.0,46728.0,12544.0,24738.0,49293.0,10976.0,7500.0,26149.0,54255.0,17249.0,15681.0,11604.0,6000.0,15681.0,706.0,314.0,10036.0,40769.0,15950.0,18826.0,45210.0,20000.0,6899.0,125.0,37354.0,40443.0,38737.0,18503.0,2352.0,19444.0,14113.0,15289.0,24148.0,117604.0,22423.0,470.0,18503.0,549.0,23994.0,15994.0,27284.0,35438.0,47042.0,5645.0,2117.0,18817.0,706.0,10036.0,8781.0,10349.0,50018.0,5331.0,5018.0,314.0,4200.0,19914.0,16621.0,157.0,11917.0,7213.0,24148.0,26030.0,21639.0,157.0,31988.0,30.0,9408.0,34184.0,16160.0,549.0,10976.0,14897.0,36235.0,19002.0,9252.0,21326.0,784.0,1500.0,11290.0,17876.0,1019.0,3450.0,19416.0,8781.0,22894.0,627.0,21953.0,9095.0,1490.0,3763.0,34497.0,30.0,14113.0,22291.0,15524.0,35328.0,8778.0,6899.0,12858.0,15681.0,25.0,1098.0,18189.0,941.0,10976.0,46621.0,11290.0,17923.0,13297.0,22502.0,14385.0,4704.0,392.0,15367.0,30107.0,16308.0,17249.0,23521.0,14113.0,20385.0,9252.0,29965.0,34811.0,21326.0,2038.0,784.0,10349.0,51746.0,1960.0,32035.0,48202.0,47042.0,470.0,47989.0,36137.0,17249.0,6837.0,11290.0,10349.0,54167.0,16894.0,706.0,109764.0,12858.0,19613.0,21012.0,15677.0,22894.0,188.0,29166.0,14426.0,3293.0,5645.0,12544.0,42845.0,17249.0,18817.0,21639.0,32929.0,188.0,16879.0,10976.0,22947.0,22840.0,36733.0,22580.0,19444.0,17249.0,21181.0,1646.0,1725.0,11133.0,9888.0,6899.0,25591.0,1568.0,25089.0,1333.0,12980.0,10976.0,42400.0,42171.0,392.0,50.0,31361.0,25089.0,1333.0,1098.0,2509.0,10036.0,19121.0,14113.0,13485.0,8154.0,21326.0,27093.0,15053.0,4704.0,100355.0,3920.0,9408.0,18240.0,9095.0,5959.0,33908.0,10036.0,16308.0,19579.0,17500.0,470.0,46414.0,33378.0,27770.0,15053.0,27105.0,14269.0,30.0,42692.0,9722.0,4391.0,16500.0,8311.0,12000.0,12544.0,3607.0,1000.0,5959.0,11917.0,38888.0,392.0,18240.0,15053.0,4547.0,20385.0,17876.0,17249.0,11604.0,10976.0,30.0,15367.0,6272.0,4861.0,549.0,12074.0,13642.0,15336.0,706.0,49751.0,64290.0,392.0,44542.0,18817.0,10976.0,251.0,21796.0,784.0,43905.0,11290.0,61154.0,36834.0,24775.0,51517.0,1411.0,12231.0,16788.0,10036.0,15053.0,22894.0,627.0,9879.0,14113.0,13172.0,22693.0,5645.0,20385.0,21326.0,28225.0,4234.0,43880.0,12861.0,25.0,1725.0,11760.0,37238.0,30.0,7840.0,314.0,9722.0,784.0,10381.0,9405.0,4391.0,100.0,314.0,48610.0,23207.0,1098.0,15681.0,20385.0,16935.0,3607.0,11917.0,5018.0,17405.0,25089.0,2038.0,4400.0,50.0,28852.0,6275.0,7056.0,862.0,125.0,8500.0,17249.0,314.0,17249.0,1568.0,7213.0,549.0,549.0,1568.0,125.0,16383.0,6586.0,8467.0,23521.0,21473.0,33409.0,14113.0,26030.0,7527.0,8154.0,27065.0,36564.0,9722.0,13172.0,12585.0,941.0,15681.0,24148.0,17719.0,23602.0,470.0,5645.0,55195.0,11917.0,27755.0,80074.0,6899.0,28225.0,11992.0,8467.0,392.0,6899.0,862.0,188.0,13172.0,25089.0,45.0,11604.0,19444.0,10663.0,19823.0,5802.0,2822.0,17562.0,7840.0,7683.0,5331.0,282.0,65858.0,16091.0,73698.0,11447.0,62697.0,188.0,627.0,9095.0,33556.0,6272.0,58018.0,23521.0,8154.0,17449.0,22580.0,392.0,10349.0,21000.0,7997.0,6429.0,8781.0,188.0,7119.0,12231.0,15367.0,18817.0,19444.0,39226.0,5802.0,24932.0,627.0,16621.0,37564.0,7527.0,12544.0,627.0,21395.0,784.0,45342.0,4077.0,9722.0,12074.0,12544.0,10192.0,32929.0,5331.0,251.0,14426.0,21639.0,862.0,17562.0,13328.0,6272.0,45473.0,65052.0,7840.0,4861.0,7213.0,49143.0,21953.0,2509.0,15681.0,8467.0,627.0,1019.0,24148.0,15053.0,8154.0,19444.0,10506.0,5018.0,8624.0,17948.0,13172.0,7840.0,12544.0,25.0,8154.0,9095.0,9408.0,80000.0,6900.0,21482.0,15053.0,21326.0,23834.0,16621.0,6272.0,3293.0,35005.0,3293.0,11604.0,10036.0,188.0,24148.0,2195.0,6899.0,4077.0,22894.0,51746.0,10349.0,21953.0,19130.0,45160.0,10663.0,5018.0,10000.0,28225.0,4077.0,10249.0,9095.0,21950.0,5331.0,10036.0,19444.0,29793.0,706.0,5018.0,941.0,8000.0,10976.0,7213.0,18817.0,15681.0,9252.0,8311.0,78829.0,9252.0,9879.0,12544.0,10349.0,13015.0,136420.0,2352.0,75266.0,22894.0,2666.0,8000.0,7527.0,941.0,9000.0,54458.0,16621.0,172486.0,21326.0,15053.0,37066.0,19800.0,22400.0,36567.0,2195.0,23301.0,5018.0,27654.0,46919.0,5134.0,627.0,40142.0,7840.0,10036.0,21953.0,32615.0,27911.0,17038.0,392.0,19130.0,8154.0,15524.0,2430.0,627.0,25089.0,6586.0,3400.0,31361.0,17092.0,6899.0,8963.0,30577.0,706.0,600.0,392.0,13877.0,12544.0,7527.0,37006.0,46728.0,220.0,18679.0,27284.0,24462.0,11227.0,8467.0,220.0,15367.0,13485.0,125.0,314.0,392.0,3763.0,16400.0,3293.0,9252.0,16308.0,1019.0,10092.0,36068.0,13000.0,4077.0,24709.0,5018.0,10036.0,10976.0,44047.0,15681.0,7840.0,1568.0,20382.0,12074.0,9722.0,42717.0,10036.0,5645.0,2901.0,706.0,18817.0,27598.0,8154.0,10663.0,549.0,941.0,18189.0,470.0,50.0,32409.0,15423.0,39829.0,11290.0,26927.0,13172.0,17249.0,8781.0,6272.0,7683.0,6272.0,549.0,21639.0,47042.0,14583.0,22947.0,24148.0,13642.0,26343.0,24415.0,2600.0,28225.0,17484.0,40769.0,314.0,10663.0,17346.0,392.0,45009.0,5018.0,220.0,5175.0,6115.0,3700.0,27654.0,5488.0,549.0,11604.0,8781.0,25591.0,6115.0,392.0,9879.0,14426.0,1882.0,220.0,9408.0,22894.0,35902.0,119172.0,15850.0,125.0,10976.0,3920.0,706.0,14113.0,30.0,5331.0,4300.0,39201.0,2500.0,11917.0,26030.0,11917.0,47042.0,4700.0,13799.0,51689.0,36065.0,15132.0,22894.0,58391.0,31988.0,12231.0,941.0,21326.0,10976.0,25763.0,65858.0,8781.0,10976.0,19130.0,9252.0,22580.0,8154.0,14740.0,21639.0,50178.0,10976.0,7840.0,4547.0,18503.0,28909.0,30.0,93371.0,8467.0,12388.0,2509.0,4391.0,16935.0,20385.0,157.0,11290.0,22580.0,30185.0,33236.0,11604.0,16741.0,2822.0,20347.0,10663.0,38737.0,12544.0,392.0,24183.0,26306.0,7527.0,5959.0,5645.0,15367.0,14426.0,3293.0,10036.0,10976.0,1490.0,23521.0,3136.0,10036.0,49751.0,2352.0,18660.0,21953.0,2300.0,3450.0,1646.0,14113.0,10036.0,6272.0,20698.0,470.0,862.0,5018.0,4861.0,21639.0,392.0,15681.0,4077.0,12544.0,1254.0,12544.0,15681.0,3450.0,1019.0,47.0,43576.0,22580.0,13172.0,26657.0,42337.0,5883.0,1725.0,6272.0,53000.0,627.0,314.0,37947.0,41547.0,16549.0,18814.0,1725.0,32412.0,6800.0,23521.0,13799.0,19726.0,18189.0,470.0,8467.0,27654.0,9095.0,24092.0,8938.0,18817.0,13485.0,2666.0,25889.0,18519.0,392.0,15500.0,10000.0,131716.0,94.0,28539.0,2500.0,8154.0,11604.0,10349.0,16308.0,9722.0,8467.0,10036.0,862.0,24775.0,40769.0,12544.0,1500.0,14113.0,26017.0,18826.0,57698.0,54568.0,706.0,28592.0,1568.0,5018.0,9700.0,314.0,17249.0,47.0,40.0,5018.0,392.0,26971.0,314.0,32973.0,20385.0,18189.0,11917.0,470.0,1098.0,46101.0,784.0,20385.0,44134.0,13485.0,26657.0,11290.0,9252.0,7213.0,20698.0,39201.0,3763.0,7527.0,706.0,26343.0,21012.0,13485.0,10976.0,39201.0,862.0,3450.0,10500.0,20071.0,5645.0,37633.0,30.0,6272.0,19444.0,34811.0,14426.0,29479.0,26657.0,784.0,6899.0,627.0,44166.0,3450.0,107841.0,61154.0,15681.0,32245.0,21683.0,17876.0,12544.0,9408.0,34419.0,25716.0,8781.0,5645.0,34108.0,3450.0,3763.0,6586.0,2822.0,43905.0,21953.0,35438.0,24000.0,4547.0,21699.0,20228.0,627.0,2195.0,69502.0,9722.0,15994.0,470.0,40769.0,13796.0,14426.0,53154.0,33086.0,14426.0,14583.0,8467.0,21953.0,6272.0,470.0,40183.0,22567.0,5959.0,13310.0,7213.0,14113.0,4391.0,49550.0,40000.0,25086.0,12544.0,25597.0,23521.0,33230.0,18503.0,10349.0,6272.0,12544.0,1882.0,6272.0,29075.0,52059.0,10100.0,12544.0,314.0,8154.0,9095.0,470.0,4500.0,35124.0,29166.0,29793.0,11447.0,59827.0,13799.0,26343.0,15681.0,251.0,549.0,8154.0,220.0,3293.0,21012.0,4861.0,18503.0,4704.0,16308.0,22580.0,12231.0,549.0,7840.0,627.0,8467.0,23414.0,7840.0,862.0,17500.0,31361.0,17249.0,31988.0,20266.0,4077.0,9252.0,23772.0,15053.0,11917.0,40901.0,941.0,706.0,21012.0,4701.0,12701.0,80.0,11917.0,24123.0,32302.0,4000.0,13485.0,7213.0,14113.0,12570.0,18817.0,30734.0,26262.0,101923.0,20385.0,28241.0,114468.0,31819.0,7840.0,14583.0,4234.0,12074.0,13589.0,21169.0,16621.0,26030.0,22947.0,16935.0,1960.0,7514.0,43216.0,9095.0,7370.0,19800.0,18189.0,22580.0,23207.0,5959.0,37633.0,30734.0,3763.0,39750.0,41547.0,41547.0,20228.0,6899.0,11604.0,5488.0,9722.0,5331.0,13485.0,18189.0,19914.0,80.0,14069.0,13172.0,16543.0,1200.0,30085.0,33243.0,706.0,15991.0,12231.0,15053.0,40688.0,1254.0,21953.0,29479.0,28225.0,27065.0,784.0,22894.0,12334.0,117604.0,23521.0,14426.0,42337.0,30326.0,12544.0,15053.0,10036.0,20385.0,941.0,18033.0,9722.0,17663.0,20385.0,20610.0,22580.0,28523.0,8700.0,15053.0,25089.0,2587.0,141124.0,15053.0,3607.0,63152.0,15681.0,18817.0,11290.0,68994.0,54186.0,30734.0,17249.0,9879.0,392.0,21012.0,20385.0,15060.0,314.0,17876.0,18817.0,1019.0,7527.0,862.0,4234.0,16443.0,17249.0,54807.0,16308.0,15681.0,314.0,8781.0,31361.0,17249.0,13454.0,8450.0,392.0,1568.0,37633.0,30906.0,7840.0,38060.0,55.0,21953.0,5300.0,5331.0,17876.0,7840.0,1882.0,33494.0,15524.0,10976.0,5645.0,7213.0,314.0,22580.0,38260.0,19130.0,157.0,3136.0,627.0,627.0,29950.0,12855.0,10976.0,61154.0,19121.0,12231.0,10976.0,21639.0,10976.0,67404.0,10349.0,3000.0,16935.0,11290.0,33870.0,188.0,549.0,23533.0,627.0,6272.0,1176.0,16935.0,11000.0,13172.0,314.0,40.0,35570.0,21181.0,392.0,862.0,5802.0,314.0,10349.0,36065.0,23521.0,706.0,45473.0,14740.0,314.0,14740.0,30085.0,188.0,6899.0,15681.0,15053.0,13172.0,40092.0,7840.0,34497.0,10976.0,29793.0,3136.0,68223.0,41710.0,42102.0,470.0,51746.0,600.0,24775.0,314.0,16621.0,53154.0,15681.0,14740.0,15470.0,80.0,3058.0,16308.0,18189.0,38182.0,5488.0,13172.0,31.0,470.0,78403.0,18189.0,47042.0,470.0,32973.0,34692.0,7997.0,7213.0,21953.0,10400.0,23521.0,157.0,4704.0,23521.0,1019.0,13956.0,9095.0,13799.0,9879.0,3450.0,55823.0,3500.0,71647.0,4391.0,10036.0,12858.0,9565.0,13500.0,392.0,58971.0,8781.0,34406.0,50.0,8467.0,13397.0,18240.0,392.0,9400.0,22110.0,11604.0,11650.0,392.0,35269.0,18669.0,314.0,39201.0,21652.0,44533.0,15681.0,19306.0,470.0,7997.0,17876.0,22894.0,32311.0,39201.0,9252.0,6429.0,16480.0,12544.0,3136.0,27284.0,392.0,41547.0,2666.0,4704.0,29711.0,13172.0,31988.0,706.0,314.0,2822.0,34657.0,20385.0,23659.0,40954.0,15681.0,33243.0,16308.0,470.0,19736.0,7370.0,54568.0,1098.0,22894.0,19601.0,20071.0,7213.0,15053.0,51746.0,21326.0,9164.0,31361.0,22894.0,5331.0,70.0,54822.0,15555.0,13360.0,30.0,28423.0,9408.0,18817.0,12544.0,7840.0,26770.0,31653.0,35438.0,35846.0,20385.0,29793.0,3.0,20165.0,549.0,27924.0,941.0,46728.0,21639.0,228935.0,15681.0,12388.0,25089.0,20385.0,17249.0,15500.0,470.0,36065.0,2509.0,706.0,3000.0,26491.0,10663.0,10569.0,7527.0,25089.0,38894.0,8154.0,12858.0,7840.0,2500.0,392.0,10349.0,14113.0,549.0,24462.0,26186.0,13015.0,41161.0,25716.0,8467.0,23207.0,6272.0,1333.0,69935.0,19757.0,17562.0,14800.0,26657.0,2195.0,11133.0,4077.0,19121.0,18817.0,26657.0,14062.0,13172.0,47694.0,13172.0,862.0,80.0,10349.0,20385.0,12858.0,59464.0,83107.0,16935.0,8154.0,15210.0,43592.0,1411.0,6586.0,22894.0,19444.0,22947.0,12074.0,9722.0,188.0,9408.0,216391.0,23207.0,784.0,13297.0,12544.0,21953.0,6.0,941.0,7840.0,42218.0,17000.0,15053.0,7213.0,470.0,17876.0,3136.0,28830.0,32929.0,39201.0,94080.0,282.0,10349.0,23521.0,10976.0,23834.0,30420.0,50.0,549.0,41055.0,11604.0,2666.0,15994.0,8154.0,23521.0,4800.0,314.0,7840.0,31675.0,5018.0,14269.0,16935.0,6899.0,5378.0,41538.0,25716.0,4077.0,549.0,19444.0,20385.0,8467.0,23521.0,44843.0,43815.0,16151.0,25396.0,3293.0,44545.0,28225.0,784.0,24123.0,30596.0,17562.0,6586.0,48610.0,24148.0,17876.0,13799.0,44000.0,100.0,1098.0,20068.0,21953.0,21639.0,8781.0,4500.0,32615.0,6272.0,73698.0,15681.0,4704.0,941.0,941.0,6586.0,2038.0,392.0,157.0,22580.0,5700.0,18817.0,9408.0,23207.0,7213.0,627.0,17559.0,2666.0,19914.0,20385.0,15681.0,5018.0,10976.0,5645.0,1900.0,35567.0,3136.0,17876.0,13350.0,10036.0,9252.0,87497.0,16741.0,11290.0,12522.0,13172.0,30.0,14113.0,6272.0,25089.0,40.0,5488.0,55343.0,14740.0,16621.0,21012.0,37633.0,3607.0,9408.0,19444.0,1098.0,7527.0,10036.0,24239.0,470.0,20385.0,6899.0,42337.0,39891.0,13485.0,1490.0,8300.0,21639.0,17876.0,49550.0,6115.0,251.0,38229.0,10349.0,16621.0,470.0,16088.0,90.0,47042.0,31361.0,627.0,40769.0,250.0,18817.0,188.0,13000.0,470.0,4077.0,17249.0,21326.0,16621.0,35850.0,18826.0,32904.0,18503.0,7213.0,28423.0,18817.0,6899.0,6272.0,706.0,4704.0,16621.0,34497.0,7840.0,7840.0,30734.0,9408.0,11290.0,13485.0,470.0,8467.0,17249.0,13172.0,8781.0,18817.0,15681.0,862.0,7527.0,3293.0,43868.0,17249.0,1568.0,8154.0,5959.0,24302.0,6500.0,1725.0,9408.0,5018.0,4861.0,6272.0,13589.0,12231.0,16621.0,7840.0,4704.0,11099.0,862.0,7840.0,54882.0,32311.0,7683.0,22580.0,24148.0,21012.0,37476.0,2195.0,21953.0,6586.0,21953.0,706.0,9408.0,392.0,157.0,10036.0,549.0,3900.0,17562.0,392.0,22266.0,10349.0,9800.0,15681.0,6429.0,89482.0,46101.0,6429.0,282.0,392.0,45787.0,150.0,12231.0,6115.0,7840.0,24148.0,29586.0,6899.0,48108.0,10663.0,12544.0,125.0,1019.0,392.0,31248.0,24176.0,8154.0,21326.0,9095.0,15500.0,2822.0,188.0,1019.0,15994.0,10349.0,26030.0,50178.0,627.0,19757.0,47042.0,18817.0,17700.0,18817.0,251.0,784.0,14454.0,40142.0,53580.0,18826.0,14500.0,14426.0,67699.0,15063.0,28225.0,15367.0,34184.0,65817.0,392.0,27755.0,7500.0,7370.0,29445.0,1176.0,15681.0,11563.0,28225.0,627.0,10036.0,22580.0,21326.0,470.0,784.0,220.0,37633.0,8624.0,13328.0,1646.0,11447.0,40.0,3136.0,23500.0,37984.0,65858.0,1568.0,1646.0,3400.0,13956.0,39201.0,25816.0,16465.0,64290.0,28241.0,2587.0,3058.0,13438.0,28328.0,10663.0,21953.0,40983.0,26814.0,47076.0,62722.0,24000.0,24462.0,20071.0,31988.0,23935.0,10976.0,9408.0,10349.0,706.0,25387.0,1960.0,8154.0,14113.0,627.0,36400.0,71983.0,9095.0,1882.0,11917.0,392.0,11920.0,6899.0,9314.0,5488.0,3450.0,30420.0,1176.0,24462.0,9408.0,17562.0,12544.0,167781.0,2195.0,2509.0,10506.0,48610.0,106627.0,4800.0,25889.0,4704.0,5959.0,13485.0,9400.0,5000.0,16894.0,392.0,17227.0,3300.0,10036.0,6115.0,22580.0,11143.0,17876.0,43576.0,5488.0,11422.0,34108.0,37006.0,10820.0,10036.0,55509.0,3600.0,288521.0,11290.0,470.0,2822.0,16621.0,2430.0,6586.0,12720.0,23521.0,7840.0,9095.0,101923.0,15718.0,6272.0,10976.0,188.0,470.0,43134.0,18531.0,21395.0,16894.0,5488.0,549.0,15994.0,21953.0,30.0,19757.0,15837.0,19089.0,65858.0,8778.0,39201.0,784.0,9600.0,35344.0,21639.0,32377.0,20786.0,1646.0,50.0,22894.0,41397.0,12607.0,1882.0,12074.0,12231.0,12617.0,7840.0,17876.0,17249.0,8781.0,38894.0,7840.0,18503.0,627.0,157.0,6272.0,3136.0,8154.0,314.0,1725.0,16935.0,5018.0,11917.0,44134.0,6899.0,1.0,42171.0,9408.0,10349.0,28225.0,32302.0,15681.0,2587.0,4704.0,47537.0,14740.0,18240.0,706.0,19444.0,19121.0,36692.0,1411.0,16308.0,21181.0,7840.0,15060.0,20385.0,27000.0,11604.0,7840.0,15681.0,627.0,314.0,30.0,6241.0,39201.0,15681.0,4861.0,3920.0,20814.0,2979.0,47989.0,37006.0,6115.0,392.0,3293.0,36065.0,14269.0,3920.0,21012.0,16308.0,13956.0,40.0,16308.0,10036.0,31361.0,16621.0,5802.0,7840.0,7000.0,17249.0,10349.0,15825.0,7997.0,1568.0,5466.0,34419.0,24123.0,3763.0,39201.0,1725.0,1411.0,627.0,15681.0,27504.0,17117.0,20071.0,549.0,47.0,1568.0,42102.0,7997.0,157.0,18500.0,17719.0,37633.0,14740.0,24148.0,220.0,157.0,1646.0,37633.0,53518.0,5645.0,1882.0,9565.0,6272.0,7527.0,19914.0,2744.0,17876.0,10349.0,251.0,4704.0,20385.0,61951.0,3607.0,17249.0,54458.0,29793.0,3763.0,9095.0,2274.0,18240.0,2195.0,36065.0,2500.0,39559.0,3293.0,34980.0,157.0,18189.0,1000.0,4704.0,7370.0,6272.0,470.0,17249.0,36401.0,15681.0,14113.0,83107.0,3136.0,15367.0,8781.0,16308.0,21639.0,27541.0,3450.0,8938.0,6272.0,7213.0,11917.0,10349.0,8000.0,14542.0,13485.0,56431.0,6586.0,8781.0,110.0,23207.0,314.0,21326.0,549.0,44865.0,18503.0,1803.0,16621.0,18817.0,61154.0,30734.0,1568.0,17092.0,26306.0,314.0,10976.0,11133.0,282.0,52696.0,251.0,188.0,13485.0,31361.0,17249.0,25089.0,70562.0,60840.0,10349.0,450.0,18189.0,627.0,18500.0,16935.0,16621.0,23364.0,862.0,147397.0,14740.0,282.0,6272.0,4391.0,31047.0,23408.0,11290.0,8000.0,7840.0,12231.0,42171.0,34340.0,13956.0,18817.0,862.0,15681.0,16621.0,21953.0,68994.0,11604.0,188.0,15060.0,17500.0,17562.0,50529.0,4704.0,44545.0,39201.0,90.0,36068.0,10036.0,32929.0,5000.0,11541.0,16308.0,549.0,392.0,64171.0,72130.0,13956.0,3293.0,392.0,9408.0,24283.0,24148.0,45160.0,38229.0,16621.0,46414.0,22894.0,1646.0,13172.0,11917.0,25716.0,7056.0,14740.0,150.0,6115.0,19130.0,81808.0,25716.0,3600.0,29793.0,1176.0,41701.0,30734.0,15053.0,17876.0,3763.0,7840.0,15994.0,18500.0,8500.0,39201.0,8781.0,16508.0,57698.0,549.0,15681.0,34387.0,4701.0,10036.0,6899.0,24709.0,10976.0,3136.0,21181.0,8467.0,12231.0,39559.0,28852.0,7527.0,10976.0,20266.0,220.0,4234.0,15681.0,17876.0,8000.0,24775.0,13328.0,32302.0,36567.0,16960.0,2038.0,7213.0,15524.0,7840.0,784.0,25089.0,314.0,14113.0,20900.0,6272.0,51815.0,13600.0,12300.0,39226.0,18826.0,26343.0,13476.0,23521.0,69810.0,16913.0,282.0,1176.0,549.0,13485.0,9418.0,13642.0,10976.0,8781.0,19287.0,6899.0,4704.0,19444.0,24148.0,18346.0,6586.0,17249.0,23521.0,12544.0,3450.0,6272.0,12541.0,21639.0,38229.0,188.0,1019.0,73071.0,14113.0,13877.0,19444.0,3136.0,10036.0,20385.0,1333.0,11917.0,12231.0,40026.0,15367.0,314.0,12544.0,18503.0,1019.0,10976.0,114154.0,25089.0,30.0,25089.0,188.0,22580.0,14269.0,31581.0,42337.0,24775.0,31988.0,13799.0,51526.0,32929.0,40.0,8781.0,15681.0,35800.0,8467.0,37476.0,25500.0,30.0,220.0,14113.0,10976.0,23521.0,56848.0,11290.0,39201.0,9095.0,3450.0,10036.0,13642.0,7527.0,9408.0,20005.0,1019.0,24462.0,36366.0,8467.0,17876.0,2430.0,314.0,7683.0,5018.0,17249.0,22000.0,7840.0,9700.0,15994.0,20385.0,5500.0,10406.0,20385.0,13013.0,17813.0,9543.0,42337.0,18973.0,5018.0,5500.0,5018.0,25299.0,16323.0,80.0,8006.0,5331.0,941.0,5184.0,18189.0,4547.0,28539.0,6899.0,6272.0,26343.0,8154.0,6899.0,16621.0,7213.0,314.0,17562.0,8985.0,54568.0,7213.0,12121.0,392.0,470.0,22894.0,10976.0,39201.0,2509.0,18817.0,18826.0,6272.0,21103.0,9565.0,14583.0,32615.0,7370.0,18092.0,15367.0,25889.0,16327.0,11604.0,2979.0,5341.0,2000.0,8467.0,37633.0,49459.0,862.0,26657.0,157.0,37633.0,14740.0,20385.0,10663.0,8781.0,392.0,6272.0,17562.0,15053.0,1490.0,25089.0,24462.0,34184.0,12858.0,94.0,35046.0,44862.0,392.0,5802.0,33230.0,3450.0,32979.0,13500.0,21040.0,28423.0,79782.0,251.0,706.0,15053.0,3500.0,706.0,15681.0,4077.0,17876.0,14426.0,627.0,21639.0,706.0,17249.0,2274.0,23521.0,392.0,17562.0,56450.0,9832.0,3763.0,18826.0,1646.0,1568.0,11290.0,29793.0,17346.0,44724.0,17923.0,77775.0,282.0,11604.0,19416.0,1725.0,20071.0,45.0,11917.0,15053.0,28852.0,48998.0,35962.0,17876.0,13269.0,33575.0,8467.0,31747.0,23521.0,11133.0,24148.0,59834.0,8467.0,10349.0,15994.0,78.0,36865.0,15053.0,15681.0,18817.0,36231.0,1646.0,23207.0,31047.0,6899.0,21768.0,60213.0,34419.0,157.0,31047.0,314.0,23207.0,29793.0,21395.0,60502.0,6899.0,46490.0,5959.0,14122.0,8154.0,1490.0,19130.0,8000.0,8467.0,11917.0,24148.0,470.0,21953.0,15367.0,7213.0,21012.0,15681.0,25089.0,51373.0,10663.0,16766.0,40634.0,16308.0,28391.0,19500.0,5331.0,220.0,13799.0,6899.0,23828.0,50.0,62493.0,70.0,21326.0,7840.0,11604.0,13485.0,16618.0,1882.0,470.0,54954.0,11290.0,22433.0,549.0,54349.0,149.0,157.0,1176.0,37291.0,9722.0,14426.0,4200.0,13172.0,9722.0,15681.0,549.0,15681.0,8154.0,12858.0,15367.0,17876.0,22580.0,96071.0,9261.0,39829.0,19757.0,11604.0,17249.0,10000.0,314.0,31248.0,6586.0,10663.0,7840.0,14113.0,11133.0,36426.0,18817.0,11133.0,6.0,18500.0,314.0,10820.0,18503.0,251.0,314.0,706.0,39201.0,78.0,94.0,470.0,4000.0,45674.0,4300.0,19601.0,549.0,17562.0,470.0,14959.0,282.0,13172.0,17876.0,7840.0,13956.0,11604.0,4077.0,31361.0,16935.0,11604.0,13485.0,9252.0,40.0,6272.0,19579.0,22825.0,27591.0,32302.0,34811.0,35902.0,13172.0,24327.0,188.0,6895.0,34406.0,16480.0,19384.0,1568.0,29793.0,25089.0,3763.0,32145.0,10036.0,18983.0,48610.0,3293.0,28225.0,15483.0,10349.0,31.0,7997.0,120.0,7683.0,8467.0,21953.0,6586.0,42334.0,49798.0,18817.0,51965.0,627.0,6429.0,5175.0,7840.0,13172.0,11917.0,31047.0,24004.0,1490.0,24327.0,12544.0,30891.0,6500.0,38574.0,50008.0,10036.0,18503.0,13172.0,10349.0,4704.0,470.0,50341.0,7056.0,49864.0,6272.0,42171.0,39559.0,21012.0,32744.0,43278.0,44752.0,29793.0,5802.0,11604.0,549.0,6899.0,62722.0,7840.0,29166.0,40092.0,1568.0,20005.0,52687.0,6586.0,706.0,314.0,14831.0,23436.0,20385.0,24148.0,3450.0,1333.0,18189.0,784.0,9408.0,22649.0,12231.0,14740.0,42692.0,15053.0,17900.0,157.0,125.0,9722.0,862.0,5018.0,2437.0,627.0,9408.0,21012.0,9879.0,27284.0,23521.0,1882.0,9408.0,6586.0,9095.0,47.0,862.0,392.0,10036.0,14113.0,5645.0,5018.0,45872.0,10032.0,1490.0,70.0,13808.0,9400.0,7213.0,21953.0,15994.0,84675.0,1803.0,23521.0,83107.0,11290.0,9722.0,14740.0,10976.0,15053.0,6115.0,32302.0,862.0,123330.0,10349.0,282.0,5175.0,8781.0,21326.0,15464.0,10976.0,25889.0,392.0,23389.0,19757.0,26657.0,12858.0,6272.0,69935.0,45473.0,220.0,21326.0,8467.0,40.0,2430.0,18189.0,25810.0,40926.0,314.0,8467.0,4234.0,282.0,7213.0,14583.0,58579.0,12858.0,17249.0,19757.0,50037.0,22894.0,15681.0,14834.0,7213.0,16621.0,13495.0,23207.0,14740.0,16935.0,10349.0,13172.0,29323.0,627.0,37984.0,2038.0,8781.0,3136.0,941.0,32929.0,9095.0,21953.0,30734.0,13172.0,45210.0,9408.0,5000.0,6586.0,41397.0,10349.0,22580.0,941.0,15200.0,14740.0,11604.0,23834.0,39201.0,9095.0,12388.0,5865.0,10349.0,862.0,86243.0,37633.0,14740.0,16308.0,15367.0,10349.0,15994.0,5802.0,18503.0,4861.0,314.0,12544.0,21639.0,12074.0,15053.0,3000.0,28225.0,13700.0,3763.0,13485.0,13485.0,40976.0,6272.0,8154.0,49237.0,30420.0,6743.0,8154.0,25089.0,1568.0,549.0,15681.0,2700.0,150.0,86142.0,8154.0,549.0,11604.0,1500.0,19757.0,10032.0,282.0,18240.0,39829.0,470.0,2000.0,15053.0,55230.0,1333.0,69621.0,4077.0,10663.0,12544.0,10036.0,26657.0,314.0,23207.0,14426.0,21326.0,18503.0,188.0,11604.0,19130.0,43880.0,10349.0,14113.0,17876.0,3763.0,94.0,392.0,62722.0,862.0,3763.0,10000.0,21326.0,4234.0,3293.0,19080.0,48610.0,15677.0,3763.0,10506.0,24148.0,47038.0,941.0,130.0,18817.0,1568.0,19601.0,37633.0,1725.0,16935.0,13799.0,10663.0,16621.0,627.0,10663.0,11290.0,23521.0,47408.0,17249.0,8467.0,15994.0,7840.0,37633.0,1019.0,24327.0,627.0,941.0,35000.0,23521.0,45436.0,6272.0,5802.0,20266.0,48697.0,15681.0,18817.0,5018.0,51965.0,12074.0,941.0,3763.0,46518.0,5018.0,20385.0,40142.0,4234.0,14113.0,43868.0,13799.0,42218.0,314.0,12858.0,20071.0,11447.0,62722.0,73131.0,15900.0,627.0,1019.0,44846.0,19130.0,706.0,16308.0,15000.0,1882.0,26971.0,17249.0,25.0,17249.0,10976.0,5500.0,2587.0,25274.0,5331.0,45633.0,8781.0,29793.0,33575.0,392.0,14426.0,6899.0,10976.0,49723.0,47076.0,9722.0,19444.0,15000.0,314.0,10976.0,25716.0,12100.0,4077.0,65858.0,549.0,3763.0,12544.0,35438.0,7056.0,314.0,10000.0,4547.0,3600.0,13877.0,58018.0,21326.0,23521.0,5802.0,314.0,251.0,9500.0,8500.0,7279.0,11760.0,11290.0,29122.0,11290.0,627.0,2352.0,27654.0,392.0,26657.0,8154.0,103491.0,40387.0,1019.0,20385.0,66197.0,15060.0,14113.0,2509.0,30734.0,22894.0,11133.0,6900.0,15210.0,157.0,43655.0,5018.0,7997.0,56450.0,17245.0,21500.0,58018.0,14113.0,17562.0,10663.0,1646.0,12074.0,7683.0,13626.0,15681.0,32929.0,44213.0,7527.0,400.0,15367.0,22580.0,23521.0,50178.0,23521.0,3763.0,24302.0,6272.0,9408.0,9252.0,12858.0,15681.0,15053.0,17876.0,56136.0,47531.0,43548.0,15681.0,16621.0,18726.0,10976.0,392.0,16443.0,3136.0,11604.0,7995.0,8467.0,24029.0,65858.0,32945.0,15035.0,9000.0,17249.0,45138.0,27479.0,24775.0,188.0,17876.0,43545.0,94.0,17249.0,12231.0,16621.0,120.0,27174.0,7840.0,18189.0,23521.0,3607.0,1568.0,3.0,17562.0,60.0,17876.0,26657.0,29163.0,15577.0,8515.0,18189.0,6272.0,2430.0,4547.0,25716.0,16621.0,23207.0,11604.0,7840.0,4547.0,28830.0,25089.0,111332.0,12281.0,90.0,8781.0,6899.0,3500.0,4077.0,18503.0,4861.0,47810.0,12544.0,16621.0,16481.0,314.0,3500.0,18817.0,18422.0,2666.0,26030.0,18800.0,706.0,23521.0,21953.0,11604.0,18817.0,13658.0,24239.0,10349.0,10976.0,10976.0,19296.0,17876.0,14113.0,157.0,16621.0,16107.0,5645.0,46251.0,941.0,13485.0,18503.0,20005.0,31317.0,26180.0,6743.0,7200.0,8154.0,10515.0,17000.0,15367.0,14113.0,14113.0,7527.0,14166.0,5500.0,20209.0,38894.0,7840.0,1098.0,10976.0,21953.0,22266.0,4234.0,627.0,9095.0,18189.0,19757.0,13000.0,3763.0,941.0,14113.0,20385.0,2666.0,1098.0,9938.0,1568.0,706.0,23521.0,13172.0,12544.0,25763.0,11290.0,29793.0,9252.0,9408.0,13015.0,36065.0,14113.0,47982.0,26030.0,10032.0,21012.0,23138.0,4265.0,27504.0,941.0,7213.0,6429.0,12544.0,20071.0,26999.0,31988.0,4547.0,14113.0,251.0,2901.0,5645.0,131716.0,188.0,12231.0,12858.0,220.0,3763.0,18422.0,706.0,26030.0,220.0,43868.0,10976.0,314.0,22894.0,40769.0,42764.0,79971.0,1700.0,101923.0,24462.0,4234.0,10976.0,251.0,22567.0,1098.0,5959.0,6909.0,15530.0,862.0,40556.0,5331.0,18817.0,6586.0,22894.0,20005.0,16778.0,26657.0,21953.0,22357.0,1568.0,1568.0,19933.0,2509.0,17000.0,20385.0,392.0,95739.0,45872.0,941.0,39201.0,251.0,59586.0,48610.0,47107.0,1333.0,7213.0,3607.0,26971.0,14834.0,14454.0,706.0,11604.0,314.0,34811.0,18817.0,34497.0,9565.0,706.0,19444.0,3293.0,784.0,12858.0,2700.0,28043.0,13328.0,6899.0,4704.0,56177.0,45473.0,12231.0,141124.0,22580.0,17876.0,1568.0,5959.0,4200.0,14834.0,9408.0,16151.0,23239.0,4861.0,14113.0,68994.0,9565.0,3450.0,6269.0,24775.0,784.0,25591.0,18817.0,15681.0,627.0,627.0,6429.0,4391.0,3136.0,23389.0,24462.0,5018.0,5018.0,8154.0,6899.0,470.0,69935.0,7213.0,4077.0,17249.0,12544.0,28592.0,36065.0,12544.0,24920.0,5645.0,15681.0,8154.0,627.0,1650.0,106627.0,172486.0,16308.0,22266.0,5959.0,13642.0,16621.0,26030.0,627.0,12858.0,12231.0,20385.0,56450.0,29762.0,31675.0,22580.0,35610.0,31988.0,17023.0,36231.0,1700.0,470.0,7840.0,36539.0,30.0,7527.0,3763.0,40769.0,15367.0,15681.0,12758.0,25512.0,627.0,15060.0,2038.0,2500.0,31047.0,15053.0,6743.0,2587.0,20698.0,9408.0,4704.0,42218.0,21639.0,15681.0,59837.0,23521.0,3763.0,3450.0,35557.0,5175.0,38229.0,23521.0,12544.0,7809.0,8467.0,4861.0,31.0,23207.0,470.0,10500.0,41629.0,941.0,15681.0,14113.0,18817.0,8000.0,31988.0,10663.0,13485.0,13485.0,4077.0,16308.0,862.0,16778.0,12074.0,26657.0,25440.0,1176.0,81539.0,627.0,1098.0,1568.0,17562.0,37000.0,5000.0,6115.0,21953.0,220.0,18189.0,10036.0,7840.0,16621.0,10349.0,470.0,5959.0,13172.0,5645.0,157.0,314.0,2509.0,42337.0,7213.0,8938.0,15035.0,3763.0,15994.0,11604.0,18817.0,19613.0,22266.0,1111.0,22580.0,16935.0,19444.0,10000.0,18033.0,470.0,627.0,297930.0,5645.0,11917.0,31211.0,9095.0,11864.0,392.0,2352.0,15681.0,9879.0,5802.0,15681.0,3607.0,12544.0,49751.0,13172.0,27598.0,9408.0,8467.0,11290.0,16308.0,25089.0,941.0,14740.0,9095.0,1568.0,17249.0,40769.0,392.0,10506.0,9198.0,3293.0,20385.0,29552.0,24148.0,19287.0,41720.0,17562.0,98787.0,23687.0,15718.0,784.0,25.0,18503.0,15367.0,25889.0,16621.0,34240.0,13485.0,470.0,941.0,20385.0,37125.0,13485.0,392.0,30966.0,49751.0,13172.0,15681.0,6899.0,15053.0,627.0,627.0,5331.0,11290.0,549.0,5645.0,20698.0,1254.0,12432.0,10976.0,25889.0,3136.0,10945.0,51746.0,25089.0,14113.0,6583.0,392.0,22580.0,24775.0,51746.0,392.0,18211.0,8311.0,54568.0,251.0,29479.0,10976.0,10663.0,3293.0,627.0,26030.0,251.0,6899.0,14113.0,627.0,15681.0,7840.0,15681.0,5488.0,59586.0,6586.0,21482.0,16621.0,10349.0,4704.0,250.0,14909.0,3763.0,21326.0,20266.0,57108.0,27598.0,2744.0,10036.0,5018.0,11604.0,78.0,6429.0,16621.0,17634.0,17562.0,7840.0,9252.0,5331.0,7527.0,627.0,8467.0,706.0,28225.0,13771.0,1490.0,120.0,7213.0,17876.0,2979.0,6899.0,20385.0,282.0,38445.0,26030.0,5018.0,43360.0,43278.0,125.0,45044.0,24775.0,46919.0,627.0,19707.0,19130.0,33556.0,18503.0,42692.0,44849.0,6586.0,50.0,34497.0,41055.0,1019.0,8154.0,220.0,23521.0,25873.0,17249.0,19416.0,22567.0,10349.0,22580.0,15850.0,31245.0,18500.0,10036.0,11604.0,8467.0,314.0,40.0,20385.0,3450.0,392.0,45204.0,22894.0,1333.0,59827.0,8938.0,7527.0,18189.0,26657.0,1333.0,18826.0,31047.0,18817.0,5802.0,11290.0,6115.0,5331.0,16308.0,5331.0,19444.0,12544.0,12858.0,314.0,19657.0,2195.0,1568.0,11917.0,7056.0,50178.0,706.0,18481.0,25089.0,314.0,92070.0,25089.0,17249.0,39201.0,18817.0,9377.0,627.0,941.0,7213.0,41883.0,24462.0,15681.0,13485.0,7840.0,20385.0,19130.0,10036.0,314.0,470.0,39201.0,46919.0,9095.0,58971.0,14113.0,7683.0,314.0,470.0,19089.0,27356.0,40362.0,784.0,35570.0,14426.0,18817.0,5959.0,13485.0,16308.0,16778.0,19757.0,251.0,862.0,8624.0,14269.0,10036.0,5802.0,7527.0,22567.0,20005.0,6617.0,11604.0,17405.0,34811.0,8963.0,11290.0,7840.0,392.0,15681.0,3450.0,282.0,706.0,19130.0,2038.0,39201.0,19444.0,8467.0,10349.0,20228.0,200.0,8154.0,9722.0,13485.0,19757.0,5018.0,19914.0,470.0,6586.0,43576.0,13172.0,9722.0,7213.0,62057.0,16308.0,16590.0,31675.0,10663.0,2200.0,5488.0,29793.0,23521.0,13485.0,941.0,7200.0,23521.0,5645.0,10000.0,12544.0,12544.0,33378.0,40142.0,32929.0,24148.0,14636.0,19444.0,2666.0,45633.0,4077.0,39559.0,37633.0,89379.0,9252.0,1490.0,49858.0,220.0,1803.0,8006.0,6586.0,56450.0,5331.0,282.0,62719.0,19757.0,15681.0,32929.0,14454.0,19823.0,26770.0,54405.0,392.0,12700.0,251.0,78403.0,1882.0,28852.0,21953.0,11133.0,12544.0,42965.0,53314.0,7840.0,706.0,20500.0,12544.0,1646.0,11604.0,15681.0,19500.0,12544.0,3136.0,19707.0,34240.0,3.0,15400.0,10976.0,10000.0,17562.0,15681.0,47377.0,5645.0,7213.0,68994.0,81539.0,16621.0,5802.0,9095.0,5500.0,7840.0,13495.0,24571.0,20814.0,15524.0,188.0,1646.0,627.0,15496.0,51746.0,9700.0,7997.0,24283.0,5331.0,3607.0,17054.0,1803.0,5959.0,549.0,29169.0,35.0,13799.0,7213.0,20228.0,32929.0,18092.0,12231.0,14113.0,3607.0,2700.0,6272.0,43868.0,38574.0,17876.0,7213.0,1725.0,1411.0,3500.0,8467.0,157.0,27598.0,17249.0,29793.0,17249.0,36065.0,30367.0,470.0,3763.0,21297.0,39593.0,314.0,68144.0,15994.0,1803.0,6899.0,470.0,4704.0,23518.0,251.0,10036.0,14113.0,20005.0,8938.0,14229.0,8781.0,15289.0,13485.0,50030.0,7527.0,17249.0,9565.0,21953.0,8311.0,3850.0,7213.0,10976.0,21953.0,16935.0,6586.0,17876.0,7840.0,200.0,7370.0,29075.0,43880.0,392.0,31659.0,8311.0,11917.0,314.0,28909.0,2430.0,8467.0,15681.0,10697.0,27911.0,19444.0,19883.0,31361.0,2587.0,9722.0,13015.0,7213.0,5018.0,1882.0,7213.0,15681.0,7840.0,26096.0,46728.0,4391.0,11604.0,78403.0,5500.0,10669.0,18817.0,15681.0,7370.0,34497.0,26657.0,8781.0,13495.0,13172.0,41397.0,5018.0,32302.0,1803.0,15681.0,34400.0,31988.0,15367.0,5645.0,37006.0,50.0,21639.0,6586.0,44752.0,7997.0,6272.0,21950.0,18660.0,15681.0,1725.0,18817.0,8467.0,784.0,706.0,30.0,38229.0,9722.0,19444.0,6500.0,11917.0,23521.0,3450.0,20071.0,13799.0,10506.0,470.0,34905.0,9722.0,4200.0,20800.0,38163.0,188.0,314.0,10000.0,68148.0,3607.0,13500.0,470.0,6586.0,56450.0,6899.0,34240.0,1411.0,15681.0,941.0,18817.0,13771.0,5018.0,3058.0,25089.0,14113.0,12272.0,3293.0,10450.0,38400.0,8154.0,17305.0,3293.0,38809.0,30405.0,19444.0,28225.0,27284.0,18817.0,40224.0,18983.0,20385.0,1568.0,16138.0,10349.0,39750.0,1568.0,58507.0,20385.0,18189.0,5959.0,10349.0,2900.0,15681.0,19444.0,706.0,94.0,392.0,94.0,11290.0,7527.0,17562.0,7840.0,32929.0,14113.0,862.0,13015.0,44500.0,18240.0,68681.0,56136.0,43868.0,24462.0,470.0,10349.0,21012.0,11604.0,7840.0,470.0,19757.0,10506.0,706.0,8467.0,941.0,392.0,17249.0,8781.0,11917.0,23414.0,1411.0,10976.0,9408.0,12858.0,15681.0,31047.0,21326.0,44517.0,35900.0,27654.0,20005.0,16935.0,220.0,9408.0,3763.0,125.0,16308.0,26657.0,22580.0,1568.0,26971.0,15681.0,16308.0,49864.0,13172.0,15053.0,9252.0,2430.0,9408.0,14166.0,9408.0,36231.0,15367.0,31.0,19444.0,32973.0,282.0,57391.0,2979.0,32615.0,1490.0,39189.0,12388.0,1646.0,7683.0,9408.0,14113.0,314.0,24681.0,5865.0,26594.0,6000.0,1019.0,11290.0,9832.0,11917.0,1882.0,15681.0,18817.0,14897.0,28222.0,20385.0,1411.0,16621.0,8467.0,3920.0,16621.0,30.0,37125.0,14740.0,20005.0,35.0,43143.0,22580.0,1098.0,49237.0,18503.0,26030.0,9722.0,27190.0,13962.0,1098.0,24415.0,31988.0,7213.0,6300.0,470.0,26657.0,42024.0,392.0,54568.0,470.0,5645.0,54568.0,8377.0,11851.0,15063.0,18817.0,51028.0,14426.0,11133.0,10349.0,2901.0,11604.0,31361.0,10976.0,73698.0,13956.0,9565.0,10000.0,8467.0,23521.0,11917.0,35570.0,3136.0,43576.0,42000.0,941.0,19121.0,4077.0,24775.0,15367.0,14113.0,6743.0,5645.0,26971.0,25089.0,15289.0,16308.0,549.0,10976.0,941.0,18817.0,94083.0,22357.0,13203.0,33870.0,17553.0,10036.0,2038.0,18033.0,20385.0,7213.0,7997.0,21953.0,49174.0,53941.0,25889.0,53521.0,4391.0,6586.0,70562.0,30784.0,10663.0,4861.0,10873.0,18654.0,53185.0,9408.0,14740.0,63152.0,1254.0,15681.0,21103.0,10663.0,28225.0,13485.0,14740.0,3800.0,53872.0,87811.0,22580.0,15367.0,39201.0,282.0,6586.0,549.0,11917.0,14069.0,941.0,20855.0,18817.0,21972.0,10349.0,21918.0,9565.0,9879.0,1882.0,157.0,44003.0,7997.0,862.0,17249.0,627.0,862.0,17562.0,10036.0,11290.0,15367.0,15035.0,9500.0,188.0,21639.0,25365.0,8154.0,14113.0,7213.0,10349.0,10036.0,12544.0,15035.0,35338.0,29777.0,44247.0,7997.0,3763.0,15681.0,2509.0,23521.0,125.0,1176.0,549.0,27284.0,17813.0,10663.0,314.0,11447.0,10976.0,93769.0,43278.0,6586.0,5331.0,1568.0,41553.0,862.0,24123.0,11992.0,21953.0,99440.0,392.0,18817.0,314.0,7056.0,32302.0,42551.0,20266.0,103491.0,6899.0,16778.0,20385.0,17562.0,100.0,35124.0,26591.0,2430.0,19707.0,90.0,3450.0,16500.0,314.0,21953.0,131716.0,10349.0,32929.0,11604.0,8467.0,7840.0,26030.0,13877.0,22000.0,470.0,549.0,47.0,157.0,627.0,10000.0,16308.0,39829.0,6899.0,399.0,2979.0,549.0,1803.0,3800.0,16621.0,19444.0,10036.0,314.0,13328.0,5331.0,18817.0,22843.0,11290.0,1882.0,54255.0,470.0,8700.0,23521.0,9095.0,12544.0,18669.0,19757.0,11604.0,83107.0,11917.0,2822.0,16935.0,4234.0,314.0,15681.0,10976.0,3607.0,55515.0,24148.0,3000.0,12800.0,39161.0,23521.0,10506.0,392.0,56340.0,36567.0,4861.0,12074.0,14113.0,53787.0,12800.0,11290.0,392.0,13172.0,73633.0,7213.0,392.0,45473.0,8781.0,6272.0,13962.0,251.0,549.0,53314.0,220.0,56450.0,10635.0,8154.0,15053.0,11917.0,7840.0,25716.0,19883.0,45473.0,8500.0,16621.0,4391.0,43905.0,9879.0,28755.0,15053.0,43592.0,2000.0,39954.0,4391.0,15681.0,23521.0,14426.0,21953.0,21326.0,4861.0,46728.0,12544.0,1882.0,13485.0,2000.0,8154.0,14740.0,21326.0,37125.0,2901.0,470.0,31358.0,12858.0,98066.0,14856.0,188.0,21326.0,13015.0,5959.0,13962.0,19008.0,30000.0,40634.0,79616.0,282.0,1098.0,6899.0,4704.0,24462.0,6272.0,15521.0,104216.0,9879.0,8467.0,21639.0,251.0,6272.0,60831.0,38063.0,14740.0,14113.0,46414.0,43905.0,627.0,11563.0,7527.0,14113.0,9252.0,7997.0,1019.0,51589.0,17562.0,21012.0,30906.0,12388.0,3700.0,6586.0,43592.0,15994.0,5018.0,21075.0,6269.0,18801.0,9095.0,150533.0,41281.0,15681.0,22894.0,22433.0,45542.0,784.0,10036.0,21639.0,17249.0,34497.0,10976.0,2800.0,10192.0,1882.0,1254.0,16621.0,11917.0,39201.0,23521.0,5645.0,4861.0,44843.0,26657.0,12544.0,9543.0,7840.0,5425.0,34184.0,11917.0,37730.0,26657.0,2822.0,18817.0,11290.0,17249.0,4077.0,10349.0,30.0,12858.0,16778.0,6896.0,10976.0,16935.0,37633.0,56450.0,20385.0,56371.0,10349.0,24775.0,29479.0,1490.0,3500.0,7840.0,10349.0,3450.0,22894.0,23408.0,29006.0,11770.0,470.0,862.0,12544.0,9252.0,188.0,26149.0,11300.0,10506.0,8467.0,2352.0,19416.0,1411.0,862.0,1725.0,14897.0,43592.0,4500.0,3136.0,6899.0,12544.0,11604.0,706.0,13485.0,22580.0,16621.0,392.0,3293.0,10036.0,14113.0,36899.0,784.0,15994.0,30517.0,7840.0,470.0,16935.0,6272.0,69935.0,17876.0,13877.0,4077.0,2666.0,13172.0,14454.0,15681.0,14113.0,43905.0,24709.0,47042.0,10663.0,21953.0,14113.0,14113.0,61471.0,862.0,19601.0,24327.0,18158.0,16621.0,13172.0,1254.0,43128.0,18817.0,64823.0,4077.0,11200.0,39201.0,48610.0,282.0,23082.0,20171.0,392.0,10663.0,6500.0,5645.0,14113.0,78403.0,15994.0,26017.0,2430.0,38609.0,10349.0,21940.0,17844.0,1646.0,24462.0,97219.0,40.0,10492.0,40769.0,10976.0,6586.0,9408.0,10036.0,108371.0,17562.0,18033.0,1725.0,9408.0,30856.0,18817.0,53314.0,26657.0,15822.0,22715.0,25.0,15681.0,1333.0,19707.0,16480.0,5488.0,2509.0,15053.0,56136.0,1646.0,941.0,21326.0,31047.0,7809.0,7213.0,12231.0,470.0,42337.0,21768.0,19130.0,4200.0,15681.0,314.0,13172.0,40.0,21012.0,9722.0,51746.0,7370.0,18817.0,5645.0,103491.0,13799.0,627.0,21326.0,10192.0,31524.0,18000.0,13987.0,13172.0,23521.0,21739.0,862.0,3058.0,9095.0,7700.0,22649.0,18660.0,10663.0,314.0,5175.0,7213.0,16308.0,20071.0,48955.0,16465.0,12287.0,40556.0,14113.0,34406.0,52959.0,17747.0,470.0,17249.0,39829.0,7840.0,8320.0,11917.0,48610.0,7119.0,4000.0,20005.0,5331.0,13000.0,24283.0,17484.0,7213.0,3800.0,15681.0,6476.0,4077.0,1176.0,157.0,5018.0,47042.0,15053.0,22580.0,13172.0,25089.0,100.0,6272.0,16894.0,30151.0,53154.0,7840.0,941.0,15800.0,1568.0,220.0,1411.0,30564.0,21953.0,88595.0,1960.0,16621.0,21009.0,24305.0,4704.0,15681.0,15681.0,157.0,549.0,12231.0,1490.0,15681.0,10663.0,20385.0,17876.0,627.0,18817.0,10036.0,15994.0,64290.0,199.0,36730.0,157.0,81539.0,25744.0,11604.0,50018.0,3763.0,5959.0,627.0,31675.0,14113.0,1882.0,10349.0,5645.0,18817.0,23521.0,2666.0,470.0,22649.0,13015.0,66485.0,51746.0,7527.0,25089.0,21953.0,9408.0,21953.0,8624.0,17346.0,8311.0,7840.0,35752.0,25089.0,24512.0,5018.0,220.0,13642.0,10663.0,6272.0,9565.0,10036.0,12544.0,11917.0,12858.0,26343.0,19757.0,8467.0,260296.0,392.0,23207.0,30420.0,392.0,13485.0,4300.0,19130.0,862.0,10506.0,40.0,9722.0,549.0,12074.0,21953.0,30.0,69502.0,10036.0,100.0,28600.0,3607.0,10349.0,15994.0,9879.0,42052.0,251.0,16621.0,22266.0,282.0,18817.0,5645.0,12880.0,19384.0,7213.0,706.0,13799.0,25089.0,12858.0,20071.0,6586.0,23414.0,11895.0,1333.0,18817.0,13642.0,11917.0,36692.0,10192.0,11133.0,10663.0,11133.0,33823.0,55638.0,25716.0,30.0,16719.0,4700.0,13172.0,3500.0,12544.0,45210.0,13485.0,9408.0,7527.0,17562.0,21012.0,20385.0,5300.0,49751.0,4861.0,14113.0,36235.0,706.0,16308.0,20071.0,43360.0,39829.0,5331.0,27598.0,36899.0,28532.0,5018.0,3058.0,15681.0,3000.0,15681.0,19444.0,21953.0,314.0,14279.0,51075.0,4234.0,8624.0,36065.0,24709.0,20385.0,27284.0,8311.0,157.0,37611.0,20297.0,62722.0,13799.0,14740.0,13328.0,5488.0,2600.0,15257.0,31361.0,11604.0,9565.0,392.0,6272.0,32929.0,23521.0,48547.0,392.0,8467.0,37633.0,2274.0,10349.0,392.0,4234.0,45542.0,2200.0,19278.0,3.0,23521.0,12544.0,5331.0,22900.0,32578.0,6429.0,14583.0,24283.0,19444.0,26108.0,12544.0,4391.0,10036.0,27294.0,11604.0,22894.0,7527.0,470.0,18817.0,627.0,188.0,25089.0,14740.0,45.0,13799.0,23521.0,14269.0,15681.0,1490.0,25591.0,47076.0,30.0,18503.0,8154.0,41400.0,13485.0,11917.0,21326.0,23207.0,3058.0,5018.0,13172.0,6125.0,32302.0,9722.0,39201.0,188.0,35808.0,65545.0,470.0,19444.0,3700.0,9000.0,73310.0,34340.0,19071.0,50861.0,7840.0,3763.0,4547.0,19444.0,27284.0,48610.0,6272.0,110.0,33243.0,14113.0,5739.0,7840.0,31361.0,1490.0,40926.0,6272.0,5959.0,7840.0,19444.0,2500.0,20005.0,188.0,17249.0,6586.0,22947.0,2666.0,862.0,706.0,3500.0,15681.0,35438.0,13500.0,5331.0,5959.0,13485.0,90.0,34497.0,26657.0,44517.0,13172.0,30417.0,15681.0,10100.0,9252.0,25089.0,11563.0,25399.0,188.0,14113.0,220.0,627.0,11133.0,1800.0,14113.0,22580.0,10506.0,21950.0,36065.0,26657.0,25889.0,25402.0,26030.0,14966.0,10349.0,2274.0,41632.0,37006.0,5883.0,14740.0,2038.0,20385.0,3293.0,11290.0,5488.0,16308.0,11604.0,17249.0,49751.0,73698.0,1098.0,15100.0,20385.0,25591.0,21796.0,7840.0,25089.0,23521.0,392.0,7683.0,26657.0,5018.0,48403.0,52373.0,470.0,9408.0,69935.0,32929.0,23207.0,52059.0,6000.0,14113.0,25873.0,16935.0,33870.0,19121.0,470.0,15530.0,26500.0,42651.0,18240.0,2117.0,8154.0,16621.0,3000.0,2195.0,470.0,13799.0,78403.0,3136.0,13172.0,29793.0,29793.0,784.0,49143.0,15681.0,14740.0,32973.0,42667.0,1019.0,706.0,23050.0,3763.0,42102.0,18189.0,23207.0,10976.0,9408.0,15329.0,39615.0,941.0,56136.0,15257.0,80.0,5645.0,16621.0,8386.0,20.0,20385.0,11290.0,10036.0,22357.0,19416.0,22266.0,5018.0,21953.0,15608.0,45210.0,6272.0,23436.0,8781.0,8938.0,3300.0,22580.0,6429.0,8467.0,12858.0,97235.0,188.0,5000.0,13739.0,8154.0,1019.0,32302.0,24462.0,17876.0,15053.0,16000.0,3450.0,2666.0,15035.0,7840.0,470.0,31211.0,4547.0,17876.0,22580.0,12858.0,8097.0,103491.0,157.0,300.0,314.0,27598.0,188.0,941.0,52687.0,784.0,16621.0,18817.0,16753.0,9565.0,6272.0,706.0,12541.0,18503.0,11259.0,14113.0,46101.0,10976.0,314.0,16151.0,392.0,72130.0,19444.0,941.0,50.0,8781.0,3763.0,8467.0,549.0,9252.0,48403.0,51746.0,68994.0,8154.0,5175.0,18503.0,549.0,19482.0,17158.0,12074.0,20855.0,47042.0,27924.0,8467.0,24618.0,6272.0,2901.0,20385.0,188.0,470.0,6899.0,26657.0,14113.0,20385.0,9408.0,1725.0,706.0,11604.0,10976.0,25889.0,314.0,7370.0,220.0,4077.0,55638.0,23521.0,9565.0,25089.0,8781.0,314.0,17876.0,9408.0,12388.0,44846.0,251.0,6899.0,54568.0,15994.0,15053.0,15681.0,3450.0,26030.0,1200.0,941.0,49751.0,157.0,19130.0,30750.0,9408.0,784.0,32302.0,784.0,20071.0,10976.0,40142.0,7527.0,250.0,27654.0,39499.0,9408.0,10976.0,7683.0,27174.0,21400.0,12544.0,10349.0,15000.0,549.0,470.0,12858.0,14740.0,25889.0,8311.0,125444.0,8467.0,45542.0,10663.0,100.0,11992.0,10976.0,28830.0,7840.0,392.0,706.0,17327.0,5018.0,25456.0,15994.0,43902.0,14113.0,5018.0,3450.0,11917.0,27284.0,17484.0,26180.0,68994.0,6586.0,41193.0,12585.0,12231.0,3136.0,16308.0,15053.0,10349.0,8500.0,18817.0,17249.0,11290.0,12231.0,44752.0,40.0,18346.0,13485.0,21169.0,627.0,9565.0,10036.0,2352.0,627.0,36065.0,29793.0,8781.0,3293.0,76029.0,14113.0,32578.0,32302.0,12231.0,9252.0,21326.0,3920.0,21639.0,9408.0,25716.0,12544.0,30326.0,17876.0,7527.0,4234.0,10000.0,10192.0,2666.0,65817.0,18503.0,20698.0,35617.0,28909.0,47217.0,6899.0,17249.0,19384.0,188.0,3450.0,16778.0,21012.0,25.0,862.0,15486.0,18817.0,21395.0,11290.0,4704.0,1490.0,48867.0,6586.0,6743.0,282.0,18760.0,14740.0,21796.0,26804.0,37006.0,549.0,24148.0,19601.0,15367.0,314.0,13172.0,3136.0,49864.0,1882.0,15681.0,1490.0,18189.0,3763.0,59338.0,8386.0,21768.0,24148.0,6899.0,6899.0,28532.0,27921.0,6272.0,3763.0,18189.0,32772.0,10976.0,17876.0,15681.0,549.0,23521.0,5802.0,27284.0,13589.0,6429.0,13799.0,15524.0,13799.0,8781.0,62095.0,3763.0,470.0,8006.0,706.0,1960.0,8781.0,18189.0,2038.0,13328.0,7840.0,8467.0,7840.0,31047.0,4000.0,7527.0,26500.0,6586.0,17249.0,26149.0,9408.0,5175.0,40142.0,36774.0,40064.0,11290.0,31361.0,47038.0,18817.0,13172.0,3450.0,6115.0,8900.0,549.0,10976.0,282.0,4391.0,25089.0,2744.0,150.0,6272.0,5645.0,314.0,6272.0,25716.0,3800.0,94.0,941.0,32302.0,6899.0,43905.0,65858.0,38574.0,42337.0,11290.0,314.0,10192.0,314.0,7527.0,16568.0,53580.0,5959.0,34497.0,3500.0,9408.0,1803.0,17719.0,627.0,8006.0,11917.0,15367.0,20385.0,42933.0,28225.0,784.0,18817.0,9408.0,15988.0,37984.0,25089.0,26657.0,157.0,14113.0,23521.0,13322.0,314.0,627.0,2300.0,13454.0,1725.0,45473.0,30351.0,43416.0,392.0,11726.0,19444.0,28225.0,25716.0,1300.0,10349.0,18817.0,19000.0,12544.0,36065.0,392.0,1725.0,36899.0,7213.0,15367.0,3450.0,16308.0,9565.0,25089.0,14113.0,14113.0,10663.0,14740.0,314.0,6429.0,29094.0,19312.0,44843.0,30.0,32744.0,150.0,11290.0,4077.0,8467.0,11604.0,14269.0,42400.0,11917.0,40142.0,7056.0,56450.0,23521.0,15681.0,17249.0,16621.0,1700.0,47.0,94.0,14113.0,34108.0,54882.0,941.0,220.0,45473.0,12544.0,16766.0,31.0,10036.0,103178.0,6272.0,15367.0,14583.0,16621.0,13485.0,22947.0,22580.0,15681.0,3450.0,9722.0,3293.0,13799.0,14113.0,16838.0,22580.0,57526.0,87027.0,20385.0,6586.0,627.0,18503.0,19676.0,7527.0,18817.0,6272.0,706.0,15681.0,470.0,1646.0,5331.0,12544.0,15681.0,314.0,20005.0,3293.0,43626.0,8467.0,549.0,8781.0,8781.0,31361.0,16725.0,2666.0,21950.0,10349.0,188.0,35617.0,21893.0,1646.0,9408.0,314.0,53872.0,22580.0,19444.0,13956.0,1176.0,157.0,3293.0,15530.0,5018.0,22473.0,20100.0,25089.0,2587.0,13485.0,5802.0,14740.0,23521.0,3607.0,21639.0,7919.0,13015.0,282.0,19707.0,13589.0,28015.0,1550.0,43905.0,5488.0,1019.0,47042.0,23207.0,17876.0,12544.0,314.0,11604.0,53154.0,17719.0,14426.0,6586.0,20542.0,49000.0,18660.0,9408.0,21953.0,14113.0,862.0,392.0,3.0,25716.0,17092.0,18817.0,28288.0,10036.0,53314.0,94.0,24458.0,5018.0,28225.0,14269.0,25716.0,16308.0,27858.0,22357.0,1882.0,20385.0,4704.0,40.0,862.0,12231.0,1803.0,4391.0,8781.0,6586.0,9408.0,44533.0,16621.0,37066.0,24462.0,1333.0,16546.0,11917.0,48534.0,10349.0,20005.0,30891.0,9722.0,5959.0,14740.0,2822.0,7213.0,3607.0,3607.0,1882.0,36219.0,2195.0,10976.0,627.0,188.0,9408.0,9408.0,25402.0,11447.0,22266.0,38574.0,9252.0,18817.0,50805.0,26971.0,7000.0,1568.0,40688.0,5739.0,24283.0,1176.0,3136.0,47989.0,4704.0,3293.0,251.0,16151.0,11604.0,13485.0,20266.0,15524.0,21950.0,20385.0,7213.0,5645.0,20385.0,3763.0,10976.0,8154.0,4861.0,392.0,16358.0,17249.0,4000.0,7840.0,470.0,9722.0,3293.0,21639.0,16308.0,15718.0,21012.0,28225.0,44875.0,35168.0,40769.0,35237.0,13877.0,20695.0,13482.0,7213.0,31361.0,5645.0,52059.0,392.0,49431.0,11917.0,7213.0,19444.0,34560.0,470.0,188.0,43281.0,23129.0,55932.0,470.0,22843.0,14426.0,6115.0,20385.0,26657.0,8781.0,10000.0,16621.0,17249.0,11133.0,157.0,3450.0,14740.0,10349.0,33556.0,7665.0,11000.0,4861.0,1882.0,10506.0,5802.0,17249.0,27598.0,20385.0,67483.0,8781.0,20382.0,15681.0,26343.0,16308.0,549.0,7213.0,627.0,11917.0,12544.0,3450.0,3920.0,6586.0,8781.0,19601.0,20071.0,17249.0,1490.0,30734.0,4704.0,12074.0,32302.0,38016.0,18189.0,15681.0,14113.0,45633.0,11604.0,25264.0,43905.0,15681.0,9095.0,21558.0,14426.0,13485.0,15681.0,28589.0,10976.0,16286.0,5018.0,9408.0,7840.0,20385.0,29777.0,64290.0,15367.0,19757.0,5645.0,20385.0,157.0,34.0,28225.0,19416.0,72758.0,25089.0,15681.0,282.0,1098.0,12231.0,5959.0,16618.0,11604.0,1646.0,220.0,5959.0,18519.0,23602.0,15681.0,15323.0,13172.0,94528.0,52696.0,10976.0,10697.0,22580.0,17249.0,14069.0,14113.0,314.0,5883.0,40045.0,28852.0,30.0,4704.0,2430.0,706.0,7840.0,11917.0,1725.0,6429.0,188.0,7683.0,627.0,1882.0,13172.0,18503.0,43278.0,52959.0,3607.0,45.0,46518.0,15837.0,61816.0,27425.0,21953.0,15681.0,11917.0,1490.0,25000.0,392.0,26030.0,6269.0,34905.0,13172.0,10192.0,7527.0,14426.0,941.0,10036.0,48610.0,23991.0,39201.0,9879.0,67113.0,45473.0,44790.0,28921.0,32302.0,314.0,862.0,9565.0,89103.0,37611.0,6743.0,18817.0,1333.0,10349.0,61781.0,18503.0,39201.0,12544.0,15681.0,52959.0,13015.0,7840.0,9722.0,30734.0,9565.0,16160.0,28225.0,36899.0,1646.0,39201.0,5018.0,29009.0,157.0,7053.0,23521.0,156805.0,53185.0,7840.0,470.0,706.0,11133.0,282.0,110.0,3800.0,20385.0,14834.0,10976.0,16935.0,11604.0,10976.0,13485.0,18503.0,1803.0,17249.0,65.0,20385.0,20237.0,13495.0,18817.0,21500.0,706.0,26971.0,6586.0,7527.0,1411.0,12544.0,15681.0,56450.0,12544.0,314.0,9408.0,19657.0,13172.0,282.0,16151.0,9408.0,13172.0,18503.0,188.0,5018.0,30251.0,16621.0,30.0,2500.0,27582.0,23239.0,18029.0,13172.0,29254.0,11099.0,470.0,1333.0,9408.0,80.0,5488.0,17249.0,12544.0,3607.0,6968.0,24000.0,1254.0,24148.0,38251.0,16148.0,7213.0,44228.0,25274.0,26657.0,18189.0,17249.0,7840.0,14583.0,16308.0,7000.0,13350.0,21953.0,19757.0,4547.0,282.0,10036.0,12231.0,27689.0,46728.0,15681.0,627.0,45210.0,16621.0,627.0,30734.0,1490.0,1254.0,23521.0,470.0,251.0,4704.0,9095.0,11604.0,282.0,28980.0,1803.0,21953.0,13485.0,18817.0,14113.0,18346.0,25597.0,39458.0,26343.0,13799.0,188.0,3293.0,10349.0,30734.0,314.0,7840.0,29479.0,23104.0,18189.0,9408.0,18189.0,18240.0,1019.0,7840.0,2117.0,10349.0,5000.0,11099.0,470.0,392.0,706.0,21639.0,39085.0,24085.0,8674.0,10976.0,83107.0,19444.0,314.0,251.0,16308.0,21953.0,16621.0,3136.0,59087.0,1333.0,31988.0,60994.0,23207.0,4861.0,22357.0,35846.0,22580.0,21953.0,3920.0,15367.0,121681.0,13485.0,14113.0,17562.0,1019.0,8938.0,21953.0,3136.0,17876.0,4077.0,20385.0,39226.0,314.0,49751.0,11704.0,3763.0,941.0,18817.0,862.0,11290.0,4077.0,15681.0,33870.0,4861.0,24462.0,21655.0,11917.0,3136.0,6586.0,19444.0,9722.0,13978.0,45025.0,48108.0,314.0,16621.0,17158.0,157.0,12388.0,13485.0,34811.0,157.0,42102.0,22266.0,10036.0,53185.0,28222.0,13777.0,18503.0,29489.0,5331.0,56450.0,21012.0,7683.0,11133.0,23521.0,2038.0,15367.0,2587.0,12544.0,56136.0,2500.0,66150.0,8467.0,40092.0,4547.0,15681.0,4077.0,62653.0,23722.0,31581.0,14113.0,18817.0,22894.0,2430.0,17421.0,8467.0,11290.0,5645.0,7370.0,34497.0,6600.0,15681.0,1882.0,16935.0,4077.0,13589.0,784.0,7213.0,5331.0,627.0,7370.0,22894.0,1568.0,31361.0,12849.0,76835.0,470.0,17876.0,11917.0,34497.0,16010.0,18500.0,13956.0,10976.0,16621.0,11604.0,16935.0,21639.0,941.0,10036.0,25387.0,10976.0,60.0,16935.0,49237.0,4704.0,470.0,17249.0,8154.0,11848.0,53314.0,15681.0,54568.0,2666.0,29793.0,7997.0,19444.0,1333.0,188.0,2700.0,150.0,4391.0,7213.0,706.0,12858.0,34497.0,8467.0,11415.0,12544.0,13172.0,78403.0,7997.0,45473.0,10976.0,7997.0,10976.0,10663.0,18503.0,18000.0,188.0,47120.0,15053.0,5018.0,9408.0,12231.0,15210.0,48296.0,23521.0,24462.0,17876.0,15681.0,17126.0,19444.0,15530.0,56450.0,15053.0,27000.0,21181.0,6429.0,15612.0,4077.0,10976.0,24433.0,14113.0,314.0,9408.0,22580.0,3450.0,18817.0,25810.0,6272.0,18000.0,220.0,22166.0,34240.0,8311.0,4704.0,13900.0,15200.0,2038.0,14583.0,11290.0,94.0,26343.0,32954.0,627.0,7000.0,14113.0,29793.0,17249.0,53188.0,106668.0,20385.0,19657.0,27924.0,4704.0,13877.0,8467.0,13768.0,220.0,15649.0,8467.0,23521.0,22502.0,3763.0,392.0,23505.0,392.0,20385.0,53314.0,24600.0,25716.0,7370.0,21639.0,17876.0,68148.0,6586.0,9879.0,14000.0,44043.0,14426.0,3700.0,16935.0,6899.0,13799.0,16766.0,48296.0,37633.0,50178.0,14740.0,13485.0,30107.0,36000.0,12544.0,549.0,26030.0,784.0,13630.0,188.0,8467.0,50178.0,13485.0,19707.0,16894.0,5959.0,16308.0,23521.0,862.0,706.0,6272.0,941.0,7213.0,59504.0,6272.0,20005.0,26949.0,21326.0,627.0,1568.0,15681.0,6272.0,58172.0,18450.0,314.0,23207.0,8781.0,706.0,5018.0,13172.0,27441.0,549.0,23521.0,20698.0,55515.0,13366.0,1882.0,61286.0,7213.0,11290.0,38251.0,549.0,10117.0,470.0,10349.0,16099.0,17876.0,7517.0,24148.0,40889.0,6586.0,392.0,19444.0,20385.0,862.0,8311.0,53154.0,43905.0,8154.0,10976.0,41710.0,13799.0,12544.0,10976.0,26657.0,49237.0,3136.0,392.0,21181.0,114468.0,27700.0,4391.0,80.0,10976.0,5175.0,30734.0,125.0,36567.0,4077.0,21316.0,4234.0,16621.0,5018.0,44711.0,25089.0,16621.0,20385.0,10663.0,1882.0,12858.0,7840.0,18189.0,18817.0,8781.0,3920.0,45542.0,10349.0,251.0,26657.0,15994.0,7840.0,19707.0,17249.0,47217.0,27889.0,5018.0,7056.0,36231.0,40092.0,3920.0,392.0,12143.0,157.0,10976.0,43548.0,10976.0,16264.0,7213.0,23521.0,10976.0,36968.0,3500.0,2666.0,34497.0,30583.0,26030.0,627.0,11604.0,27911.0,96749.0,31581.0,48873.0,12544.0,29793.0,40340.0,25004.0,44943.0,314.0,17249.0,23270.0,7840.0,44611.0,11917.0,22947.0,9500.0,706.0,7840.0,1882.0,23521.0,14586.0,30734.0,8154.0,17562.0,14113.0,220.0,10976.0,34497.0,38260.0,11604.0,15530.0,15681.0,9408.0,3136.0,8781.0,15053.0,18817.0,70.0,20592.0,13485.0,34497.0,48196.0,8467.0,8781.0,47042.0,40769.0,36721.0,18503.0,9722.0,188.0,314.0,25089.0,9408.0,12544.0,6000.0,15367.0,21953.0,10192.0,42965.0,10976.0,470.0,54458.0,15323.0,7997.0,392.0,22580.0,26971.0,5488.0,2195.0,23602.0,39829.0,30750.0,19707.0,26657.0,114468.0,12544.0,549.0,6743.0,31082.0,17876.0,49293.0,5959.0,24775.0,14426.0,30596.0,18817.0,37633.0,28608.0,21012.0,12544.0,8154.0,16894.0,27284.0,7527.0,392.0,21012.0,25089.0,19707.0,314.0,1803.0,8643.0,4704.0,8311.0,6899.0,12544.0,24462.0,8154.0,16308.0,122308.0,18688.0,7527.0,2600.0,33575.0,94083.0,314.0,17562.0,35752.0,12544.0,10722.0,6115.0,26030.0,157.0,12544.0,11604.0,57961.0,314.0,12231.0,941.0,30.0,65858.0,22621.0,19444.0,220.0,4800.0,23110.0,10036.0,7213.0,6899.0,37498.0,7840.0,23000.0,12231.0,2600.0,35309.0,941.0,941.0,33575.0,188.0,14113.0,1490.0,18189.0,10663.0,19444.0,9722.0,32973.0,22580.0,20.0,15681.0,7213.0,549.0,39201.0,2666.0,14500.0,11604.0,28909.0,24628.0,12600.0,4861.0,30734.0,15132.0,20071.0,15367.0,21953.0,20385.0,16935.0,20385.0,11133.0,21856.0,314.0,14583.0,1882.0,52263.0,14426.0,706.0,10976.0,9408.0,2509.0,2195.0,40092.0,18817.0,40142.0,43905.0,24148.0,1019.0,15897.0,2822.0,5331.0,26528.0,5927.0,3450.0,39750.0,4861.0,18817.0,11133.0,15367.0,36711.0,29504.0,8000.0,11000.0,11290.0,15524.0,16107.0,220.0,17054.0,18817.0,125.0,6272.0,20385.0,3450.0,16399.0,12560.0,18660.0,27435.0,37125.0,21169.0,4500.0,15681.0,17876.0,16621.0,28357.0,14856.0,25299.0,14113.0,31449.0,5331.0,28539.0,55901.0,10976.0,51373.0,50178.0,15994.0,6899.0,7213.0,7370.0,5959.0,38574.0,10976.0,8781.0,26971.0,18669.0,4547.0,4547.0,29793.0,58018.0,2200.0,7997.0,26657.0,20266.0,5175.0,549.0,50805.0,1725.0,16935.0,17249.0,18817.0,9500.0,40769.0,14269.0,39201.0,17249.0,137885.0,2800.0,17562.0,4861.0,9408.0,3293.0,2274.0,48998.0,32929.0,14454.0,10036.0,1019.0,15053.0,46251.0,6586.0,784.0,549.0,100.0,706.0,13172.0,15681.0,11604.0,6743.0,7213.0,3763.0,31361.0,17249.0,24462.0,16308.0,39201.0,30282.0,1411.0,4704.0,2587.0,157.0,11290.0,6899.0,30.0,10349.0,39750.0,28927.0,627.0,5018.0,10036.0,23834.0,392.0,52066.0,12858.0,3293.0,10036.0,21326.0,5959.0,5645.0,16621.0,784.0,38260.0,17719.0,30082.0,23521.0,3136.0,16621.0,16151.0,8781.0,9408.0,4861.0,47042.0,26500.0,7850.0,13172.0,13172.0,470.0,549.0,18817.0,12858.0,30.0,18817.0,18817.0,14897.0,314.0,29774.0,29793.0,34497.0,20385.0,12544.0,6743.0,6272.0,157.0,35752.0,17249.0,627.0,2666.0,18033.0,392.0,20071.0,14426.0,1019.0,12544.0,549.0,64290.0,150.0,392.0,28438.0,12388.0,16621.0,627.0,15053.0,100.0,8311.0,220.0,6500.0,282.0,9722.0,12231.0,862.0,7997.0,25889.0,16935.0,60213.0,2038.0,57990.0,43655.0,7213.0,23521.0,157.0,50.0,24386.0,14113.0,19130.0,18817.0,220.0,21316.0,8781.0,22000.0,10036.0,34419.0,8781.0,314.0,2744.0,7527.0,14113.0,16621.0,15053.0,31047.0,157.0,1000.0,7997.0,23433.0,6899.0,15681.0,18189.0,20385.0,16621.0,43278.0,11447.0,4077.0,70562.0,40.0,15994.0,54926.0,53314.0,13589.0,4500.0,392.0,41340.0,47669.0,10036.0,784.0,6.0,18189.0,2666.0,11917.0,13172.0,29122.0,29583.0,6272.0,9408.0,125.0,9095.0,29793.0,7840.0,18900.0,8467.0,470.0,706.0,2666.0,21326.0,14834.0,3136.0,17249.0,23834.0,15681.0,48610.0,46223.0,13172.0,15994.0,314.0,20071.0,3763.0,470.0,24148.0,17249.0,17249.0,4234.0,12544.0,13172.0,25089.0,1019.0,44134.0,12639.0,11917.0,13793.0,314.0,21639.0,45734.0,7527.0,39578.0,16599.0,22266.0,23204.0,1882.0,392.0,10036.0,28225.0,32302.0,784.0,627.0,93079.0,17562.0,23521.0,28852.0,7213.0,59586.0,58018.0,49864.0,26594.0,16308.0,27065.0,37633.0,94.0,4234.0,11604.0,20385.0,12544.0,23060.0,11604.0,13150.0,38894.0,7809.0,16308.0,1646.0,157.0,20385.0,7840.0,17249.0,2979.0,9095.0,9832.0,10976.0,20266.0,21012.0,11917.0,4783.0,8154.0,38737.0,36636.0,19243.0,80958.0,10036.0,7213.0,5328.0,15367.0,17710.0,24462.0,4200.0,11604.0,44219.0,37984.0,45160.0,12529.0,23207.0,25823.0,15053.0,470.0,19444.0,2500.0,22737.0,11604.0,48296.0,39891.0,10192.0,1411.0,20071.0,9408.0,314.0,1803.0,33500.0,20698.0,11290.0,16308.0,30.0,4077.0,12388.0,15210.0,2500.0,25299.0,3450.0,39201.0,7840.0,15612.0,18531.0,30734.0,9252.0,9879.0,44134.0,29793.0,14113.0,37633.0,26064.0,11290.0,282.0,13877.0,12544.0,5175.0,13485.0,392.0,3763.0,19.0,1725.0,18189.0,26030.0,2509.0,15500.0,27591.0,30006.0,14113.0,20698.0,1333.0,1176.0,78403.0,19676.0,7500.0,30420.0,41281.0,74639.0,3500.0,17942.0,392.0,9408.0,50178.0,16935.0,2352.0,27463.0,8000.0,157.0,18189.0,800.0,35.0,862.0,43905.0,21326.0,18045.0,29479.0,14426.0,8154.0,116036.0,17876.0,862.0,18189.0,314.0,43000.0,14426.0,157.0,19757.0,2744.0,11704.0,8467.0,7683.0,17249.0,9565.0,26971.0,10036.0,15681.0,45633.0,20071.0,784.0,4077.0,784.0,10192.0,50.0,150.0,7527.0,11917.0,32910.0,15500.0,50150.0,392.0,941.0,17249.0,20297.0,706.0,13604.0,10036.0,15681.0,21012.0,18531.0,941.0,17876.0,20698.0,7213.0,5331.0,7056.0,18817.0,11917.0,12858.0,36197.0,36692.0,15681.0,19130.0,14834.0,23834.0,11917.0,15132.0,21012.0,21953.0,9418.0,47217.0,784.0,16465.0,28225.0,38251.0,13172.0,19130.0,5018.0,15500.0,4234.0,36065.0,16308.0,14113.0,16543.0,92070.0,4000.0,16741.0,314.0,34497.0,10976.0,9408.0,19030.0,2038.0,18826.0,22580.0,11917.0,36834.0,13485.0,16480.0,15053.0,11917.0,11917.0,8781.0,11917.0,3136.0,13642.0,2666.0,11400.0,32578.0,251.0,36379.0,25089.0,10976.0,1176.0,44247.0,47.0,9722.0,18817.0,90.0,21410.0,200.0,55845.0,20005.0,627.0,11604.0,15681.0,16960.0,18817.0,38869.0,34497.0,45542.0,68994.0,13328.0,13702.0,9252.0,49864.0,11177.0,2352.0,16778.0,13230.0,40456.0,15367.0,40926.0,22843.0,23521.0,220.0,35344.0,40769.0,11259.0,2038.0,30734.0,549.0,19416.0,470.0,5488.0,18000.0,5331.0,706.0,44517.0,43278.0,144261.0,41886.0,16308.0,14113.0,1254.0,470.0,20385.0,21953.0,16010.0,36068.0,25591.0,2666.0,100.0,32929.0,4547.0,470.0,627.0,4704.0,7213.0,18817.0,30.0,30.0,27654.0,11290.0,60.0,1803.0,22580.0,18817.0,3763.0,20777.0,25299.0,40.0,20237.0,13172.0,2666.0,1019.0,7213.0,7840.0,21953.0,6899.0,15053.0,15681.0,282.0,11604.0,13799.0,15367.0,3763.0,33798.0,188.0,5968.0,392.0,9408.0,7840.0,7213.0,784.0,54568.0,15053.0,7213.0,3763.0,63663.0,54000.0,23138.0,470.0,193184.0,11604.0,89379.0,10500.0,45473.0,5645.0,80651.0,7213.0,49550.0,10036.0,627.0,6272.0,5018.0,23772.0,16308.0,11133.0,16465.0,7840.0,14768.0,20237.0,13589.0,14953.0,9879.0,163077.0,10036.0,314.0,18817.0,7056.0,45445.0,3293.0,706.0,5645.0,9408.0,5331.0,9879.0,58683.0,40569.0,41221.0,27193.0,3763.0,13172.0,19914.0,21953.0,42337.0,8467.0,20266.0,14897.0,6272.0,13297.0,3293.0,5018.0,549.0,20071.0,4861.0,470.0,2666.0,7840.0,470.0,2744.0,784.0,7056.0,19757.0,47217.0,16741.0,20266.0,3763.0,6429.0,22580.0,11604.0,3763.0,1019.0,15681.0,30.0,1882.0,9722.0,2979.0,706.0,4704.0,34497.0,7840.0,12900.0,12858.0,10976.0,24327.0,5645.0,5018.0,549.0,21326.0,21639.0,6586.0,8154.0,3.0,9261.0,37633.0,9164.0,8151.0,7840.0,23521.0,6743.0,15994.0,13341.0,11917.0,39750.0,1300.0,45473.0,6586.0,6272.0,392.0,549.0,13799.0,13172.0,470.0,16151.0,10036.0,7056.0,10506.0,16546.0,16621.0,17249.0,8781.0,1882.0,4700.0,13172.0,9722.0,21796.0,706.0,470.0,16308.0,44878.0,34108.0,29166.0,8624.0,5488.0,20385.0,21103.0,13172.0,19757.0,1019.0,125.0,52373.0,15994.0,1019.0,10976.0,8154.0,15053.0,18826.0,14834.0,30.0,11290.0,9408.0,42692.0,9565.0,21363.0,19121.0,7213.0,549.0,2038.0,862.0,16618.0,3763.0,706.0,1254.0,10663.0,18531.0,5018.0,10349.0,549.0,7840.0,14113.0,36692.0,282.0,14113.0,18189.0,8781.0,17876.0,31361.0,862.0,14426.0,2038.0,47669.0,19707.0,10976.0,80.0,11290.0,23521.0,7840.0,21953.0,5488.0,18817.0,4861.0,22580.0,12544.0,7527.0,6500.0,470.0,392.0,26657.0,21953.0,26657.0,4547.0,36065.0,18503.0,4077.0,35438.0,314.0,9252.0,71817.0,16151.0,470.0,7213.0,22580.0,2822.0,15323.0,18817.0,16894.0,28225.0,17249.0,282.0,17249.0,17249.0,48998.0,12544.0,20385.0,10349.0,3607.0,862.0,9408.0,549.0,22580.0,8781.0,157.0,61521.0,19444.0,19930.0,627.0,26500.0,10976.0,10976.0,314.0,627.0,50.0,10663.0,14113.0,16935.0,85702.0,10036.0,4500.0,5645.0,14897.0,54346.0,7213.0,3607.0,6899.0,37633.0,11760.0,37320.0,23521.0,13877.0,706.0,314.0,8154.0,12570.0,12231.0,11917.0,3293.0,94.0,9408.0,22580.0,12544.0,14113.0,67903.0,11000.0,188.0,61154.0,10663.0,21953.0,24709.0,13093.0,7997.0,11604.0,11447.0,18189.0,627.0,19130.0,6272.0,1400.0,23834.0,20071.0,18189.0,1803.0,251.0,28852.0,46022.0,37633.0,57526.0,17484.0,157.0,188.0,29793.0,12544.0,4704.0,19416.0,23101.0,81539.0,157.0,941.0,15681.0,12980.0,22934.0,627.0,18189.0,17876.0,7213.0,4861.0,16308.0,13172.0,25089.0,6398.0,14279.0,1019.0,6899.0,20005.0,7213.0,17249.0,14834.0,52059.0,26030.0,17405.0,9408.0,15994.0,37633.0,7056.0,9408.0,470.0,10663.0,1490.0,10820.0,14113.0,3293.0,32929.0,18189.0,11133.0,1725.0,49889.0,7840.0,16900.0,1000.0,13485.0,7683.0,44134.0,31.0,50.0,21953.0,15681.0,43655.0,11290.0,17264.0,26594.0,24920.0,54568.0,110.0,2352.0,392.0,1333.0,29793.0,1725.0,6272.0,14113.0,4391.0,10976.0,18660.0,7527.0,20385.0,51965.0,549.0,17249.0,14426.0,18817.0,500.0,25089.0,37006.0,16621.0,21953.0,35438.0,41710.0,1646.0,30.0,11967.0,4861.0,314.0,34497.0,10976.0,12544.0,14113.0,24462.0,54882.0,27598.0,1700.0,13178.0,627.0,8154.0,8311.0,2666.0,30.0,10036.0,21953.0,5018.0,12701.0,11133.0,16308.0,38000.0,19444.0,20071.0,14113.0,7840.0,48277.0,392.0,50178.0,8938.0,8624.0,21326.0,9832.0,39829.0,16308.0,25299.0,18817.0,9408.0,16621.0,19707.0,15681.0,4858.0,19757.0,141124.0,46728.0,13485.0,16935.0,8781.0,12858.0,7527.0,392.0,8781.0,1019.0,157.0,36065.0,14426.0,314.0,45.0,30734.0,627.0,13485.0,6272.0,5331.0,7840.0,14069.0,9095.0,21953.0,36065.0,549.0,4861.0,21953.0,6586.0,20385.0,12554.0,3920.0,25638.0,12544.0,19933.0,23834.0,12388.0,9408.0,13799.0,314.0,20385.0,941.0,14884.0,1098.0,10036.0,5959.0,470.0,392.0,16308.0,28532.0,14113.0,54847.0,784.0,627.0,12231.0,67934.0,32913.0,27284.0,18669.0,27598.0,6586.0,16621.0,11917.0,15994.0,18503.0,31421.0,3763.0,40142.0,23521.0,26591.0,7213.0,16308.0,3450.0,28927.0,6743.0,43062.0,8467.0,29793.0,11290.0,6743.0,15681.0,30734.0,19757.0,7527.0,16935.0,13799.0,76835.0,52059.0,784.0,3136.0,1000.0,19130.0,706.0,1646.0,9408.0,5018.0,15053.0,11886.0,18660.0,18817.0,549.0,470.0,14740.0,1019.0,13172.0,31361.0,43905.0,38016.0,18189.0,20237.0,5018.0,23521.0,12858.0,40769.0,17249.0,16308.0,549.0,27065.0,63.0,12544.0,862.0,2274.0,19613.0,21103.0,103491.0,4077.0,14454.0,9722.0,18503.0,54568.0,282.0,9722.0,19089.0,862.0,18817.0,19444.0,26296.0,39201.0,7527.0,25.0,21012.0,78403.0,10349.0,19757.0,12544.0,8000.0,9408.0,7213.0,17249.0,28225.0,706.0,706.0,10192.0,26657.0,12701.0,17562.0,14737.0,15053.0,67690.0,10036.0,32302.0,6272.0,42965.0,11604.0,17249.0,9408.0,10976.0,11917.0,19757.0,34497.0,23521.0,47217.0,18817.0,10036.0,12544.0,3450.0,16900.0,3763.0,42337.0,12544.0,2666.0,70562.0,3136.0,36899.0,47217.0,27356.0,3293.0,157.0,14831.0,15053.0,15988.0,12544.0,44134.0,17562.0,119009.0,470.0,5959.0,21012.0,26030.0,3058.0,11760.0,45.0,28225.0,7527.0,10000.0,9408.0,941.0,7997.0,27654.0,1568.0,77148.0,4861.0,9095.0,64290.0,11604.0,30906.0,21012.0,40.0,9722.0,29166.0,36968.0,6586.0,16935.0,34497.0,65858.0,21395.0,7213.0,13172.0,19130.0,9722.0,13987.0,26657.0,7840.0,862.0,11604.0,6115.0,627.0,38574.0,9565.0,68994.0,19914.0,8467.0,627.0,18817.0,1333.0,3600.0,41917.0,22894.0,10036.0,4500.0,21442.0,862.0,90947.0,31361.0,1725.0,26657.0,24029.0,17876.0,37564.0,30734.0,16778.0,8355.0,11290.0,3763.0,8154.0,9377.0,7683.0,13172.0,2822.0,21169.0,10036.0,9722.0,1882.0,3293.0,549.0,314.0,14113.0,60897.0,784.0,18817.0,23129.0,14279.0,14454.0,17249.0,15053.0,314.0,9722.0,5645.0,22580.0,14279.0,29489.0,57507.0,25512.0,14113.0,37633.0,48610.0,470.0,22894.0,8154.0,5645.0,470.0,25000.0,188.0,13799.0,11604.0,3763.0,941.0,10192.0,30420.0,16756.0,706.0,11290.0,12231.0,9722.0,15053.0,36.0,9722.0,14740.0,6429.0,6586.0,188.0,17249.0,13799.0,19130.0,28225.0,11613.0,15681.0,18500.0,16621.0,706.0,11133.0,6899.0,91775.0,4077.0,10036.0,14113.0,42337.0,27911.0,9252.0,27770.0,14959.0,14426.0,27284.0,56513.0,1568.0,18503.0,2200.0,2500.0,19817.0,31047.0,47669.0,28212.0,19306.0,19444.0,38894.0,392.0,157.0,7213.0,11133.0,1568.0,18240.0,1019.0,35124.0,7806.0,42171.0,16151.0,13877.0,314.0,18503.0,12388.0,2901.0,16004.0,45473.0,13485.0,26657.0,17249.0,20385.0,1725.0,22580.0,39389.0,1019.0,19946.0,314.0,39201.0,2430.0,9722.0,12000.0,52991.0,3293.0,9408.0,8781.0,129521.0,34497.0,9408.0,60.0,15053.0,12777.0,19130.0,27065.0,2650.0,3920.0,18817.0,10976.0,16308.0,14426.0,470.0,9722.0,16308.0,15577.0,3293.0,13485.0,47042.0,8154.0,24462.0,39891.0,20385.0,11133.0,18189.0,784.0,16621.0,19130.0,99440.0,11760.0,14740.0,40.0,706.0,18817.0,5331.0,188.0,52665.0,46728.0,17249.0,470.0,106627.0,18826.0,24123.0,18189.0,9095.0,784.0,1019.0,12083.0,15053.0,314.0,282.0,1960.0,282.0,12544.0,1960.0,14897.0,392.0,627.0,3136.0,23433.0,37799.0,862.0,13799.0,35570.0,35344.0,314.0,6115.0,4500.0,4600.0,10976.0,862.0,31361.0,34836.0,31675.0,40983.0,5645.0,50178.0,19757.0,12027.0,13328.0,15367.0,14021.0,17562.0,14500.0,1019.0,9565.0,27889.0,3763.0,21012.0,2117.0,15053.0,12548.0,27162.0,784.0,1333.0,6500.0,17484.0,17923.0,18503.0,31361.0,42337.0,5802.0,113025.0,28000.0,282.0,2587.0,45473.0,50.0,21975.0,2274.0,470.0,24148.0,69807.0,8781.0,20385.0,31047.0,18189.0,862.0,6743.0,19757.0,28000.0,1490.0,15681.0,29166.0,15530.0,20698.0,15053.0,706.0,21639.0,39201.0,10036.0,20385.0,706.0,53188.0,26657.0,8467.0,10976.0,627.0,7213.0,25716.0,31204.0,251.0,10976.0,10349.0,31361.0,13485.0,6899.0,15053.0,5018.0,11992.0,12388.0,22580.0,549.0,7213.0,5331.0,2666.0,13485.0,21326.0,4077.0,56136.0,9408.0,19444.0,26528.0,12858.0,23521.0,17562.0,2195.0,10976.0,8154.0,5018.0,39226.0,33908.0,15681.0,12231.0,627.0,13172.0,42052.0,10976.0,26657.0,9722.0,22063.0,784.0,33214.0,7997.0,3136.0,220.0,9252.0,5175.0,2000.0,2822.0,75266.0,5331.0,60.0,66799.0,23700.0,941.0,17249.0,2038.0,706.0,18189.0,9722.0,13015.0,13485.0,73071.0,15053.0,18760.0,6837.0,21639.0,8467.0,13485.0,470.0,6743.0,18189.0,3400.0,23834.0,24618.0,3293.0,37633.0,1098.0,2509.0,6899.0,34980.0,8781.0,8467.0,35.0,8781.0,157.0,40456.0,14583.0,78.0,392.0,2901.0,2274.0,44545.0,11604.0,21012.0,20.0,22266.0,45210.0,32302.0,29075.0,784.0,784.0,12701.0,3607.0,40889.0,30734.0,250.0,8154.0,5645.0,9879.0,11604.0,8781.0,48566.0,19444.0,20171.0,20385.0,13799.0,9722.0,2430.0,2509.0,13172.0,21953.0,24148.0,4500.0,14113.0,14897.0,17249.0,19416.0,392.0,21012.0,7527.0,17405.0,2352.0,22947.0,84675.0,9722.0,17876.0,10349.0,862.0,13328.0,549.0,53000.0,13000.0,19707.0,13485.0,11604.0,7997.0,2901.0,37580.0,8781.0,20385.0,13799.0,3607.0,10349.0,5959.0,10349.0,16411.0,13485.0,3763.0,4234.0,20341.0,29793.0,3293.0,15053.0,3800.0,21953.0,8781.0,16308.0,784.0,7683.0,17405.0,17562.0,15681.0,45473.0,42544.0,4077.0,9722.0,627.0,251.0,131716.0,22063.0,23207.0,29166.0,18189.0,27284.0,18679.0,16894.0,14113.0,10976.0,7213.0,12231.0,10976.0,6586.0,9095.0,392.0,23521.0,12849.0,31047.0,3.0,11604.0,19068.0,29479.0,4704.0,5331.0,251.0,7000.0,26657.0,8674.0,1098.0,15681.0,7213.0,7997.0,31361.0,10976.0,8781.0,14426.0,19823.0,12544.0,19130.0,38574.0,5018.0,15681.0,2666.0,5488.0,5018.0,188.0,22580.0,4861.0,157.0,94083.0,8000.0,2822.0,15053.0,22580.0,1019.0,10506.0,3763.0,9252.0,19444.0,9405.0,14113.0,11917.0,9879.0,15681.0,11807.0,17942.0,60.0,40456.0,27356.0,14113.0,3058.0,21012.0,862.0,27598.0,13000.0,470.0,14113.0,18208.0,706.0,21953.0,22825.0,5959.0,15053.0,48914.0,31361.0,23239.0,14583.0,25716.0,314.0,58579.0,19757.0,50.0,30.0,26657.0,14113.0,5959.0,15053.0,11604.0,20071.0,5018.0,15524.0,28830.0,5018.0,784.0,5959.0,10036.0,11290.0,12231.0,11604.0,10349.0,16308.0,17484.0,14426.0,862.0,20764.0,13799.0,14426.0,23207.0,58172.0,13485.0,31047.0,188.0,2038.0,3763.0,1646.0,100.0,627.0,26971.0,3136.0,30734.0,9565.0,470.0,1411.0,17249.0,392.0,12231.0,13500.0,16465.0,29479.0,14113.0,10036.0,27284.0,314.0,5488.0,4704.0,15524.0,8123.0,9408.0,15000.0,15053.0,8154.0,6272.0,392.0,6272.0,3293.0,11290.0,75266.0,7840.0,470.0,12980.0,33556.0,3763.0,48998.0,14113.0,19130.0,6241.0,2038.0,17562.0,3.0,28357.0,549.0,67000.0,1490.0,46728.0,5488.0,31361.0,3607.0,23207.0,26030.0,32910.0,19444.0,1411.0,13328.0,15681.0,21169.0,8781.0,36065.0,25299.0,157.0,4391.0,34497.0,20542.0,44457.0,24415.0,627.0,20266.0,392.0,10663.0,17876.0,22894.0,13172.0,50805.0,7840.0,68994.0,13000.0,69.0,549.0,12544.0,470.0,22266.0,21012.0,5331.0,30.0,25089.0,7997.0,11604.0,941.0,12388.0,34497.0,470.0,35438.0,21953.0,7840.0,12544.0,42024.0,470.0,57698.0,21953.0,7840.0,21012.0,13328.0,10036.0,9722.0,19914.0,2430.0,30671.0,26030.0,1254.0,22894.0,16621.0,15053.0,8467.0,62722.0,4391.0,37984.0,157.0,11500.0,32929.0,1960.0,24415.0,3136.0,282.0,13172.0,706.0,784.0,94.0,14834.0,31.0,21639.0,188.0,37984.0,31361.0,19030.0,28241.0,17876.0,58018.0,29586.0,14069.0,862.0,9408.0,6586.0,36065.0,18817.0,15718.0,1646.0,53314.0,5645.0,12858.0,83891.0,16465.0,22063.0,314.0,39829.0,80.0,37006.0,20385.0,314.0,19416.0,12880.0,141124.0,21395.0,10976.0,10349.0,64604.0,30.0,8311.0,11290.0,27654.0,13877.0,17562.0,862.0,10663.0,12720.0,6752.0,7175.0,11604.0,6272.0,470.0,11917.0,68994.0,47042.0,31361.0,17158.0,14740.0,17405.0,19757.0,2666.0,12231.0,627.0,4391.0,1803.0,16894.0,23521.0,392.0,7840.0,31650.0,36065.0,26030.0,7527.0,6586.0,20266.0,32104.0,200.0,12231.0,5331.0,26343.0,35124.0,392.0,8881.0,17249.0,39559.0,392.0,7213.0,11133.0,16308.0,44545.0,12231.0,17035.0,14269.0,12950.0,706.0,18826.0,23414.0,3500.0,15659.0,6743.0,14113.0,15257.0,8781.0,49459.0,72268.0,1960.0,392.0,392.0,3763.0,297930.0,24148.0,23521.0,11917.0,12858.0,24628.0,15994.0,2901.0,18503.0,21395.0,12544.0,3700.0,17249.0,29216.0,3763.0,16590.0,21000.0,1725.0,627.0,25089.0,157.0,30891.0,16935.0,7840.0,18817.0,21953.0,21326.0,862.0,8500.0,8467.0,2430.0,37984.0,81539.0,7213.0,46728.0,9700.0,3763.0,54568.0,62722.0,251.0,94.0,549.0,706.0,6272.0,1568.0,7527.0,15053.0,784.0,12544.0,10663.0,54186.0,4391.0,13799.0,17876.0,314.0,7840.0,3763.0,12388.0,40.0,34497.0,10663.0,23991.0,17562.0,6899.0,50.0,16894.0,2100.0,392.0,20382.0,16621.0,13172.0,10349.0,18503.0,11917.0,392.0,19121.0,13172.0,549.0,18817.0,34111.0,11604.0,15681.0,43134.0,14269.0,10036.0,10036.0,17942.0,1646.0,8154.0,20372.0,4234.0,60345.0,370.0,157.0,20385.0,18503.0,30577.0,10976.0,15681.0,7840.0,9408.0,7222.0,39201.0,862.0,12544.0,862.0,10976.0,33500.0,3607.0,314.0,11290.0,38822.0,1019.0,103491.0,10976.0,35043.0,706.0,3293.0,25591.0,17562.0,35403.0,11290.0,25744.0,9408.0,19444.0,43000.0,40.0,941.0,8938.0,12858.0,17562.0,4234.0,28830.0,35269.0,3136.0,15524.0,13956.0,34497.0,15994.0,13658.0,17249.0,16935.0,25089.0,1646.0,13799.0,16621.0,23533.0,6272.0,17249.0,25926.0,13328.0,5645.0,6600.0,37125.0,23521.0,3763.0,1254.0,314.0,10349.0,23703.0,53580.0,35000.0,9095.0,18817.0,16621.0,20698.0,29479.0,14113.0,470.0,2274.0,470.0,11290.0,15681.0,9095.0,314.0,20385.0,188.0,11290.0,282.0,27065.0,23207.0,188.0,32045.0,8311.0,10036.0,21953.0,1019.0,7840.0,18669.0,706.0,15681.0,47042.0,95000.0,6272.0,20297.0,157.0,1882.0,38737.0,1176.0,46728.0,23521.0,6899.0,2274.0,21326.0,46919.0,3136.0,27190.0,20385.0,14113.0,100355.0,15994.0,110.0,6899.0,7213.0,10349.0,19598.0,706.0,46728.0,392.0,26613.0,38574.0,12849.0,314.0,21953.0,19757.0,15681.0,8154.0,10986.0,20385.0,13454.0,23521.0,7213.0,9722.0,4547.0,188.0,18189.0,8624.0,8781.0,33243.0,18189.0,13799.0,29793.0,3200.0,21181.0,3607.0,73313.0,7840.0,8154.0,15681.0,10202.0,17249.0,25716.0,51191.0,4077.0,73131.0,16599.0,1725.0,62722.0,70.0,18817.0,43880.0,7213.0,5018.0,16900.0,21012.0,25889.0,21326.0,21326.0,13799.0,18000.0,27654.0,13946.0,549.0,784.0,43905.0,6272.0,314.0,6000.0,5802.0,15053.0,7213.0,784.0,29087.0,19121.0,9722.0,8500.0,22266.0,10036.0,57902.0,1019.0,18503.0,14113.0,79971.0,3763.0,14069.0,8311.0,1725.0,4600.0,17876.0,784.0,1900.0,6899.0,7840.0,862.0,14583.0,33243.0,8154.0,18503.0,12544.0,12858.0,11450.0,12000.0,8154.0,392.0,21953.0,26180.0,11290.0,7840.0,21012.0,1019.0,21012.0,16778.0,45928.0,15367.0,5645.0,12231.0,10036.0,17942.0,17249.0,21953.0,17158.0,12858.0,470.0,7213.0,627.0,45787.0,42337.0,20698.0,14113.0,2509.0,47989.0,19444.0,14113.0,12000.0,9408.0,10349.0,18503.0,7213.0,63850.0,14454.0,11133.0,40142.0,17885.0,16621.0,15367.0,22894.0,627.0,11917.0,21953.0,46534.0,46728.0,9252.0,15125.0,11099.0,17876.0,36827.0,7997.0,19924.0,16305.0,10976.0,19579.0,1176.0,13172.0,4704.0,4861.0,4632.0,5018.0,10349.0,24462.0,21639.0,3450.0,10976.0,15367.0,157.0,47989.0,10349.0,2352.0,25089.0,23521.0,49864.0,2587.0,20385.0,10663.0,6586.0,62722.0,30640.0,21442.0,392.0,23521.0,549.0,345.0,13485.0,18503.0,8467.0,784.0,5893.0,96915.0,15681.0,5645.0,1490.0,13172.0,44890.0,12388.0,37633.0,20385.0,5175.0,17876.0,42692.0,26657.0,29793.0,47757.0,220.0,24775.0,29793.0,18189.0,5175.0,11604.0,19130.0,120740.0,94.0,5893.0,10349.0,392.0,100.0,31361.0,15367.0,282.0,45436.0,15530.0,24462.0,94.0,12858.0,5645.0,22580.0,250574.0,24775.0,44843.0,2822.0,10036.0,1098.0,21326.0,5018.0,2430.0,14113.0,18647.0,18189.0,392.0,25.0,9418.0,8781.0,8781.0,470.0,2901.0,110.0,52520.0,40092.0,10820.0,9879.0,13172.0,17249.0,5015.0,470.0,84675.0,5645.0,18346.0,1019.0,18798.0,11604.0,15053.0,17876.0,11917.0,32302.0,21357.0,3058.0,50178.0,59313.0,20385.0,21326.0,44523.0,27284.0,11917.0,32302.0,27598.0,18189.0,14426.0,549.0,32929.0,80000.0,26644.0,15681.0,11604.0,22894.0,39829.0,19757.0,5018.0,1411.0,6272.0,549.0,3.0,12231.0,53314.0,16308.0,10976.0,470.0,10036.0,15681.0,9060.0,7840.0,17249.0,8154.0,18817.0,30.0,282.0,8781.0,8154.0,10036.0,41221.0,25089.0,100355.0,19757.0,6429.0,1646.0,2509.0,28532.0,14113.0,6743.0,13150.0,1960.0,59834.0,15367.0,59837.0,784.0,4704.0,40889.0,10036.0,5959.0,7213.0,14950.0,67354.0,35617.0,1600.0,5645.0,12287.0,5175.0,15681.0,34497.0,70.0,5331.0,15681.0,7213.0,2979.0,27065.0,70.0,18503.0,188.0,21639.0,68994.0,28852.0,17249.0,42557.0,5018.0,15681.0,10500.0,4704.0,153669.0,5802.0,16308.0,4077.0,61894.0,7317.0,16041.0,10976.0,51965.0,16300.0,1960.0,784.0,392.0,36899.0,14426.0,11917.0,220.0,8000.0,31361.0,21395.0,73698.0,32045.0,2509.0,16308.0,314.0,24543.0,1411.0,3293.0,16766.0,4704.0,33243.0,1882.0,10036.0,13799.0,13328.0,28241.0,14740.0,19757.0,282.0,549.0,1098.0,47217.0,7840.0,17876.0,392.0,10697.0,21796.0,392.0,1490.0,34811.0,11917.0,20385.0,4861.0,42152.0,17876.0,13065.0,52357.0,6300.0,19378.0,7840.0,13799.0,10976.0,9408.0,3920.0,52959.0,23521.0,706.0,29489.0,862.0,9408.0,392.0,15681.0,18312.0,90006.0,1568.0,15681.0,48202.0,13589.0,392.0,10976.0,470.0,784.0,7056.0,130148.0,21940.0,9095.0,6272.0,9408.0,1725.0,17249.0,5331.0,627.0,13485.0,5488.0,7840.0,31361.0,3450.0,5488.0,220.0,8624.0,627.0,12544.0,17562.0,17249.0,18826.0,30734.0,1019.0,9252.0,16308.0,784.0,30420.0,10192.0,18817.0,4500.0,16935.0,314.0,18817.0,549.0,5175.0,706.0,23521.0,27033.0,10349.0,4861.0,5959.0,75300.0,18817.0,18189.0,314.0,27598.0,25716.0,4547.0,7213.0,12231.0,5331.0,10349.0,17876.0,30734.0,22502.0,7150.0,13172.0,11760.0,24709.0,14113.0,10000.0,42692.0,22273.0,39829.0,4077.0,4704.0,15530.0,25089.0,44166.0,50.0,23408.0,22332.0,2998.0,220.0,18817.0,470.0,314.0,12544.0,55823.0,1098.0,29793.0,35438.0,21953.0,11290.0,43592.0,17249.0,157.0,392.0,25089.0,89379.0,3293.0,11133.0,19130.0,25591.0,7840.0,5645.0,13172.0,9879.0,4936.0,14113.0,18503.0,8781.0,25089.0,22843.0,9500.0,10976.0,10976.0,21326.0,34240.0,11604.0,11604.0,15458.0,17562.0,23521.0,18817.0,13423.0,200.0,12000.0,40456.0,9408.0,2274.0,37301.0,19441.0,37633.0,33243.0,18817.0,69935.0,14069.0,21937.0,15681.0,12074.0,30.0,470.0,220.0,6899.0,39161.0,2038.0,10036.0,7527.0,9600.0,11917.0,1568.0,627.0,20592.0,19761.0,8154.0,19757.0,26657.0,350.0,784.0,549.0,9948.0,1000.0,16400.0,2352.0,26030.0,3136.0,39201.0,11604.0,37633.0,34497.0,8154.0,74953.0,15423.0,314.0,19444.0,14269.0,188.0,706.0,47042.0,12544.0,16308.0,26657.0,282.0,22580.0,34497.0,314.0,36692.0,50.0,9722.0,2979.0,51373.0,8781.0,14884.0,282.0,6115.0,5959.0,30583.0,4077.0,15053.0,15053.0,6899.0,13485.0,15994.0,16308.0,11290.0,11917.0,16869.0,4861.0,3763.0,48534.0,21639.0,8938.0,50.0,22580.0,16308.0,18817.0,4861.0,25716.0,5018.0,40.0,8781.0,12544.0,20071.0,392.0,14834.0,6899.0,42987.0,20385.0,26971.0,9408.0,50.0,32340.0,11368.0,862.0,14113.0,16621.0,21796.0,21169.0,470.0,29793.0,15367.0,549.0,32305.0,12544.0,19130.0,14426.0,60.0,8154.0,30734.0,28852.0,25089.0,157.0,42218.0,188.0,470.0,17249.0,36068.0,9408.0,13172.0,21395.0,17876.0,3920.0,706.0,18817.0,4704.0,21953.0,26030.0,14583.0,16621.0,188.0,26030.0,10820.0,549.0,19914.0,30.0,706.0,100.0,14834.0,11604.0,22580.0,20297.0,29793.0,13328.0,9565.0,18660.0,68994.0,13799.0,19707.0,28068.0,27598.0,3763.0,79971.0,34387.0,28225.0,100.0,20814.0,11992.0,25716.0,9408.0,30.0,31361.0,470.0,15367.0,15367.0,706.0,1882.0,17249.0,5645.0,10976.0,24559.0,1176.0,26033.0,3136.0,22266.0,706.0,2901.0,17876.0,470.0,2666.0,5500.0,24462.0,627.0,29166.0,10036.0,9095.0,13589.0,25243.0,12720.0,12231.0,3450.0,470.0,6272.0,58579.0,61154.0,3136.0,50.0,26657.0,29793.0,10976.0,2822.0,11604.0,16308.0,16621.0,15681.0,66479.0,470.0,22894.0,62355.0,17035.0,4234.0,94.0,10976.0,13987.0,19130.0,14426.0,11133.0,22894.0,282.0,2666.0,46728.0,17876.0,56136.0,25264.0,6586.0,87021.0,251.0,30420.0,21953.0,47000.0,549.0,470.0,55845.0,392.0,3136.0,14900.0,5331.0,13900.0,11290.0,26971.0,5959.0,549.0,43592.0,3293.0,36899.0,51194.0,21768.0,35043.0,10349.0,14426.0,15681.0,23521.0,26657.0,9408.0,24148.0,4704.0,12544.0,282.0,32744.0,22580.0,13799.0,8151.0,15367.0,29793.0,314.0,4547.0,16778.0,6899.0,6586.0,6586.0,22260.0,14113.0,26343.0,20071.0,1019.0,4077.0,12544.0,13485.0,3450.0,470.0,30.0,43868.0,3763.0,6272.0,12544.0,35610.0,55638.0,18798.0,7500.0,1411.0,29793.0,53872.0,36065.0,2038.0,9500.0,706.0,23521.0,15524.0,14740.0,3136.0,9252.0,25716.0,27065.0,392.0,11604.0,12544.0,12544.0,9408.0,18100.0,392.0,19444.0,15367.0,8311.0,18817.0,34074.0,8154.0,470.0,9408.0,21796.0,53185.0,22649.0,627.0,11917.0,38251.0,33575.0,3500.0,549.0,15053.0,941.0,17876.0,7840.0,27911.0,16621.0,4077.0,10349.0,18189.0,12432.0,15132.0,4861.0,126322.0,4600.0,13485.0,549.0,627.0,314.0,43714.0,54882.0,12544.0,44517.0,65024.0,11447.0,13700.0,1646.0,549.0,17876.0,23304.0,15367.0,23000.0,4704.0,13172.0,549.0,282.0,13799.0,17346.0,17249.0,34497.0,470.0,19080.0,43278.0,2038.0,5959.0,23436.0,7213.0,14269.0,13589.0,3450.0,20005.0,9408.0,9252.0,18503.0,17249.0,157.0,14740.0,17876.0,3763.0,470.0,12074.0,50178.0,17249.0,6586.0,28830.0,392.0,94083.0,11917.0,8781.0,62722.0,1333.0,2587.0,314.0,14000.0,5488.0,9722.0,314.0,3293.0,282.0,23521.0,12858.0,1019.0,8781.0,2800.0,6272.0,12544.0,549.0,28225.0,16308.0,22266.0,2430.0,314.0,4234.0,1490.0,17634.0,11992.0,23521.0,3920.0,19757.0,10976.0,10000.0,13799.0,94.0,77775.0,10192.0,20071.0,2352.0,30583.0,9095.0,470.0,9500.0,6899.0,44247.0,2300.0,15681.0,29793.0,16894.0,14426.0,16935.0,1490.0,3763.0,25205.0,15681.0,2038.0,15677.0,22423.0,32954.0,862.0,63839.0,314.0,2822.0,106957.0,18654.0,10976.0,16766.0,14113.0,1254.0,19757.0,26030.0,10663.0,2500.0,25716.0,27889.0,12544.0,7213.0,12544.0,21953.0,5018.0,42218.0,5331.0,60684.0,7056.0,188.0,9063.0,22266.0,25264.0,20385.0,20071.0,6899.0,30.0,15900.0,1725.0,16894.0,25763.0,8778.0,20385.0,314.0,25089.0,25889.0,17249.0,16308.0,8097.0,41048.0,34845.0,862.0,15524.0,16308.0,282.0,45436.0,13485.0,13485.0,44247.0,4861.0,627.0,16480.0,9832.0,7527.0,5802.0,6272.0,39499.0,7527.0,15612.0,10036.0,11290.0,13877.0,16935.0,314.0,12231.0,29777.0,2822.0,23138.0,1411.0,8467.0,9252.0,862.0,7840.0,13172.0,9722.0,10349.0,12388.0,1803.0,27093.0,18033.0,13476.0,32274.0,8947.0,8000.0,2509.0,28225.0,7840.0,470.0,19444.0,35579.0,15125.0,16308.0,9095.0,11917.0,6272.0,13172.0,12544.0,40142.0,16935.0,16308.0,24920.0,22580.0,3450.0,16900.0,37633.0,10349.0,40769.0,26657.0,22549.0,13771.0,15957.0,157.0,1568.0,27911.0,4391.0,11133.0,13642.0,3763.0,40456.0,12544.0,18826.0,9408.0,31047.0,37580.0,9722.0,20385.0,9408.0,62161.0,15367.0,627.0,6899.0,29580.0,9565.0,15681.0,25089.0,11290.0,19000.0,11604.0,11917.0,9722.0,56121.0,11604.0,41193.0,24239.0,16308.0,9722.0,13956.0,12388.0,8624.0,12858.0,45044.0,10976.0,19444.0,706.0,11917.0,2038.0,45633.0,5645.0,6611.0,59834.0,18817.0,10976.0,10036.0,23521.0,43905.0,27598.0,38731.0,56509.0,30.0,13000.0,1725.0,4234.0,1646.0,11133.0,25089.0,13799.0,7840.0,1882.0,15624.0,6899.0,11290.0,1411.0,627.0,15000.0,38562.0,627.0,67480.0,7056.0,47042.0,251.0,12858.0,1568.0,9722.0,54568.0,22266.0,10976.0,25744.0,16621.0,30420.0,12544.0,10964.0,1882.0,6272.0,1646.0,21639.0,706.0,470.0,5987.0,1803.0,13172.0,4391.0,11290.0,14500.0,3293.0,22266.0,41259.0,1490.0,2901.0,32302.0,1254.0,14113.0,5018.0,35.0,12231.0,18660.0,220.0,34497.0,3450.0,10976.0,10976.0,42000.0,42692.0,2509.0,549.0,4234.0,627.0,13000.0,3800.0,314.0,14740.0,16621.0,9722.0,8781.0,13485.0,1882.0,65015.0,5331.0,9722.0,11964.0,100.0,16621.0,31361.0,220.0,14799.0,1098.0,21953.0,7200.0,18817.0,18500.0,9100.0,36827.0,3293.0,15681.0,12544.0,17346.0,73134.0,3136.0,15681.0,314.0,21739.0,784.0,27598.0,18245.0,18817.0,16621.0,11200.0,19444.0,10976.0,52373.0,25.0,8311.0,14740.0,10976.0,16308.0,23521.0,6586.0,23521.0,15053.0,7056.0,25.0,19130.0,8467.0,941.0,10923.0,21062.0,19547.0,17092.0,15681.0,9408.0,21395.0,16766.0,29793.0,12544.0,20071.0,13485.0,18189.0,13172.0,17876.0,19757.0,13328.0,40688.0,47042.0,26971.0,20385.0,3136.0,11704.0,39085.0,9408.0,706.0,9722.0,5500.0,12880.0,6800.0,28225.0,14426.0,6586.0,29636.0,3293.0,25089.0,392.0,13900.0,22894.0,50178.0,47042.0,16308.0,706.0,14113.0,7524.0,30107.0,17923.0,4077.0,83107.0,45160.0,17700.0,28532.0,12388.0,73071.0,19130.0,11290.0,13172.0,20385.0,20385.0,31361.0,19416.0,6000.0,16894.0,39458.0,7119.0,20071.0,8147.0,25.0,706.0,392.0,11290.0,4861.0,862.0,9408.0,16599.0,1725.0,15681.0,13799.0,13172.0,25889.0,20385.0,17663.0,23828.0,32045.0,470.0,15681.0,16151.0,12544.0,14113.0,43576.0,13328.0,17249.0,10976.0,8154.0,23521.0,12187.0,14740.0,251.0,25456.0,22894.0,21953.0,9252.0,78048.0,30734.0,87927.0,5018.0,22621.0,49174.0,7213.0,32929.0,17158.0,23436.0,16480.0,12388.0,17562.0,188.0,314.0,21639.0,33556.0,18503.0,17876.0,6586.0,2430.0,12388.0,16894.0,5000.0,10976.0,17876.0,6586.0,11133.0,43952.0,90.0,157.0,5645.0,20385.0,2822.0,30712.0,20.0,314.0,37580.0,87999.0,7683.0,9747.0,40092.0,11604.0,17249.0,89379.0,10036.0,13764.0,11290.0,7213.0,22580.0,11412.0,10036.0,27435.0,67426.0,6895.0,25402.0,18503.0,54882.0,12184.0,19030.0,26858.0,9722.0,10349.0,15994.0,27911.0,24462.0,12544.0,84675.0,5800.0,100.0,34074.0,12231.0,14831.0,1646.0,11290.0,29950.0,19757.0,43545.0,9879.0,29166.0,6899.0,10036.0,9408.0,125.0,38731.0,20071.0,1019.0,21639.0,39226.0,52034.0,5645.0,784.0,43952.0,15681.0,30.0,10036.0,21953.0,2744.0,6500.0,10976.0,7056.0,12717.0,2901.0,17562.0,23521.0,14113.0,39797.0,3763.0,23521.0,392.0,52853.0,5331.0,862.0,36228.0,12544.0,52959.0,2195.0,11500.0,40092.0,110.0,3058.0,6272.0,18817.0,14700.0,10820.0,549.0,627.0,17249.0,23521.0,13485.0,15053.0,3920.0,25716.0,100355.0,24327.0,6586.0,6586.0,22715.0,282.0,47.0,188.0,5225.0,20385.0,470.0,157.0,19416.0,12544.0,3763.0,20385.0,470.0,19130.0,24029.0,6899.0,15681.0,55343.0,53314.0,2000.0,941.0,13485.0,11133.0,3293.0,5642.0,84675.0,19287.0,51746.0,6125.0,4500.0,1490.0,16308.0,10976.0,27911.0,4500.0,470.0,7527.0,12231.0,14113.0,14269.0,31.0,11917.0,15524.0,13172.0,12544.0,22894.0,6586.0,12500.0,7840.0,141124.0,470.0,20385.0,11604.0,1490.0,549.0,862.0,22357.0,24775.0,15000.0,32973.0,3920.0,1646.0,784.0,21639.0,50018.0,12231.0,27463.0,784.0,13172.0,15323.0,392.0,13172.0,9095.0,39201.0,23521.0,18817.0,5645.0,15681.0,11604.0,48403.0,68053.0,24571.0,11604.0,20385.0,12544.0,11300.0,36065.0,4234.0,7527.0,1803.0,22260.0,9252.0,36808.0,10036.0,9408.0,25716.0,6899.0,1019.0,17000.0,10000.0,81539.0,17249.0,14426.0,29793.0,17876.0,314.0,29793.0,6586.0,11917.0,29166.0,627.0,16308.0,18503.0,33243.0,2117.0,16621.0,8781.0,45044.0,392.0,26030.0,15681.0,784.0,30.0,25729.0,28000.0,8154.0,3136.0,16308.0,7840.0,12231.0,470.0,1176.0,42218.0,18973.0,46728.0,2352.0,1803.0,28821.0,24775.0,43905.0,8781.0,392.0,5645.0,15681.0,3607.0,12858.0,25716.0,33741.0,6429.0,4077.0,50196.0,23521.0,12701.0,1803.0,1019.0,19924.0,6586.0,706.0,9408.0,29166.0,38217.0,14426.0,18826.0,19943.0,17249.0,23521.0,9361.0,39750.0,314.0,157.0,8154.0,14113.0,31361.0,25032.0,784.0,23994.0,36711.0,549.0,48296.0,36997.0,4861.0,282.0,14247.0,10036.0,14113.0,34497.0,3136.0,35438.0,19287.0,3293.0,62722.0,6899.0,22106.0,18817.0,13150.0,6586.0,13642.0,13172.0,30.0,470.0,3136.0,25089.0,30.0,11760.0,314.0,14113.0,10976.0,22000.0,6586.0,7500.0,2509.0,1019.0,14740.0,862.0,9800.0,20385.0,7000.0,31.0,26971.0,18817.0,53154.0,3763.0,16935.0,118676.0,9408.0,22693.0,2744.0,706.0,20385.0,19444.0,282.0,47957.0,21109.0,20432.0,68994.0,8467.0,627.0,42337.0,17876.0,18189.0,27755.0,10945.0,16599.0,27259.0,2352.0,7840.0,8467.0,392.0,10036.0,18817.0,4679.0,3607.0,3293.0,350.0,13799.0,94083.0,27441.0,30.0,28225.0,1803.0,26861.0,6586.0,34811.0,13485.0,470.0,90.0,392.0,7527.0,3293.0,11604.0,49848.0,17562.0,21012.0,12544.0,16621.0,10976.0,282.0,314.0,20855.0,56340.0,41886.0,6586.0,9565.0,7527.0,21796.0,9252.0,19757.0,54882.0,23521.0,314.0,9722.0,40926.0,862.0,45633.0,10976.0,706.0,157.0,35344.0,20698.0,24775.0,15681.0,10349.0,32311.0,68681.0,7527.0,13667.0,10976.0,40769.0,62408.0,14113.0,14113.0,16465.0,42651.0,7840.0,15323.0,21326.0,22063.0,5018.0,470.0,6272.0,15053.0,941.0,36711.0,31581.0,12388.0,8154.0,13172.0,392.0,20385.0,15423.0,4234.0,27065.0,10192.0,78403.0,33575.0,40142.0,11917.0,470.0,16778.0,8154.0,70.0,37984.0,7840.0,72130.0,392.0,59272.0,4391.0,392.0,7213.0,27065.0,18826.0,17876.0,10663.0,6899.0,157.0,13956.0,27654.0,10663.0,18817.0,1568.0,5645.0,470.0,13231.0,13172.0,8781.0,13172.0,3293.0,20071.0,24123.0,2500.0,251.0,17249.0,2352.0,470.0,1.0,15718.0,13291.0,13172.0,157.0,706.0,36065.0,21953.0,549.0,23521.0,17249.0,18817.0,941.0,54568.0,862.0,470.0,157.0,12544.0,1254.0,10976.0,5959.0,6586.0,26657.0,50.0,35124.0,18189.0,1568.0,941.0,63976.0,627.0,15367.0,62992.0,12544.0,23536.0,37984.0,47.0,17876.0,30734.0,8154.0,3450.0,470.0,1725.0,47042.0,1803.0,1882.0,314.0,25299.0,20385.0,5959.0,39201.0,314.0,50.0,7527.0,13485.0,16932.0,3763.0,6272.0,20385.0,25889.0,11290.0,20385.0,7213.0,40456.0,13485.0,27911.0,32929.0,706.0,188.0,10932.0,21012.0,25889.0,39829.0,17876.0,14583.0,3136.0,9000.0,6899.0,52959.0,20610.0,15681.0,9408.0,6899.0,7840.0,39044.0,23521.0,549.0,170.0,22200.0,251.0,941.0,2587.0,18503.0,28909.0,94083.0,36802.0,470.0,27259.0,21326.0,9565.0,470.0,10976.0,5018.0,16308.0,30351.0,47201.0,20.0,9408.0,32302.0,14113.0,15681.0,9408.0,125.0,30784.0,706.0,15994.0,3136.0,14113.0,10036.0,26324.0,16935.0,30583.0,22580.0,8938.0,11604.0,29166.0,7213.0,23207.0,16320.0,6272.0,8781.0,9252.0,8500.0,46101.0,3293.0,4077.0,8938.0,19121.0,41221.0,784.0,39201.0,9252.0,24775.0,392.0,862.0,12544.0,9408.0,16383.0,314.0,9722.0,94083.0,14113.0,18033.0,22800.0,57108.0,18817.0,5018.0,7213.0,12231.0,4234.0,13956.0,2430.0,78403.0,15367.0,14740.0,4077.0,4861.0,21012.0,627.0,470.0,19130.0,11917.0,17876.0,28830.0,26657.0,17249.0,61154.0,15872.0,10000.0,7840.0,5900.0,51118.0,24148.0,29793.0,19184.0,9408.0,35124.0,12544.0,17619.0,26971.0,14454.0,941.0,10349.0,125.0,26030.0,7213.0,30.0,314.0,10976.0,12074.0,26770.0,11604.0,19444.0,627.0,25402.0,10976.0,31581.0,1098.0,11133.0,15367.0,1176.0,18189.0,12544.0,14113.0,12500.0,2822.0,7213.0,12388.0,470.0,110.0,18817.0,15612.0,23521.0,706.0,25089.0,52856.0,706.0,18189.0,22580.0,8147.0,8781.0,25716.0,549.0,14426.0,3920.0,20071.0,7840.0,2000.0,12388.0,13796.0,16621.0,251.0,28532.0,3607.0,3920.0,1960.0,56136.0,11917.0,51802.0,13630.0,17876.0,1803.0,14740.0,14426.0,16308.0,392.0,17249.0,12544.0,8075.0,16935.0,21639.0,188.0,14740.0,11604.0,392.0,10976.0,16621.0,67426.0,7500.0,706.0,31317.0,20385.0,16621.0,627.0,11604.0,16621.0,8467.0,20526.0,19121.0,23207.0,6272.0,12231.0,16308.0,42883.0,9252.0,7840.0,2587.0,90947.0,18189.0,5811.0,5000.0,7213.0,15834.0,11000.0,7213.0,34074.0,61154.0,45674.0,1882.0,21953.0,627.0,54882.0,1646.0,24596.0,18817.0,16308.0,23800.0,62948.0,13485.0,50.0,17249.0,14113.0,627.0,59586.0,40769.0,6899.0,314.0,18817.0,5800.0,52373.0,470.0,17249.0,8781.0,5968.0,26927.0,19444.0,46728.0,1960.0,80.0,50.0,30263.0,6500.0,2901.0,22947.0,8154.0,9095.0,19757.0,188.0,7200.0,18817.0,4704.0,6115.0,18817.0,10506.0,10092.0,2901.0,10976.0,11000.0,8467.0,17942.0,29166.0,3607.0,28222.0,22000.0,706.0,470.0,4000.0,66485.0,941.0,12544.0,27924.0,12544.0,42337.0,23521.0,16935.0,16455.0,18211.0,19444.0,20237.0,35570.0,4391.0,29793.0,22894.0,16549.0,100.0,4547.0,24462.0,10663.0,6586.0,627.0,42337.0,25889.0,21953.0,19384.0,78.0,862.0,30420.0,21953.0,16621.0,17249.0,10976.0,4391.0,28225.0,39201.0,6000.0,10349.0,6269.0,5175.0,8467.0,12000.0,50.0,10663.0,1019.0,38725.0,30.0,56136.0,8624.0,1098.0,15837.0,20385.0,7840.0,6272.0,12544.0,7900.0,1646.0,93079.0,549.0,24148.0,4234.0,17249.0,9722.0,18189.0,10945.0,15994.0,11604.0,18189.0,7527.0,10976.0,4077.0,470.0,32929.0,392.0,21326.0,6586.0,13172.0,52034.0,5959.0,11917.0,11290.0,15677.0,12858.0,12858.0,9095.0,14454.0,549.0,7000.0,1725.0,47669.0,4077.0,11447.0,16894.0,21326.0,10036.0,282.0,2666.0,12544.0,21900.0,26306.0,12134.0,3607.0,23207.0,50178.0,13172.0,30800.0,1019.0,17663.0,20297.0,1882.0,7840.0,16621.0,22580.0,16308.0,96263.0,6899.0,2430.0,41629.0,36485.0,12858.0,94.0,18189.0,106627.0,37006.0,2587.0,28225.0,13642.0,10192.0,7997.0,49751.0,7213.0,65858.0,4861.0,10036.0,14113.0,43062.0,13953.0,31988.0,29793.0,40766.0,35971.0,220.0,18189.0,29793.0,8781.0,7840.0,4704.0,13485.0,2195.0,706.0,19444.0,21326.0,7840.0,41281.0,188.0,49864.0,157.0,61154.0,9408.0,68994.0,22649.0,8386.0,19416.0,42651.0,29777.0,4861.0,29793.0,29793.0,4547.0,24148.0,3607.0,10976.0,15718.0,22894.0,13172.0,470.0,3450.0,157.0,68681.0,45210.0,16308.0,4704.0,627.0,941.0,25889.0,14113.0,188.0,13987.0,42337.0,14740.0,8781.0,10976.0,9095.0,13799.0,9408.0,10349.0,20500.0,21473.0,21326.0,392.0,9408.0,2300.0,11704.0,5802.0,941.0,1019.0,59583.0,7840.0,706.0,11290.0,17876.0,8154.0,8154.0,18189.0,26657.0,470.0,41977.0,135.0,9408.0,14426.0,22580.0,46251.0,11290.0,549.0,862.0,706.0,470.0,19444.0,50.0,15681.0,8467.0,10349.0,23834.0,4234.0,47757.0,18189.0,392.0,40769.0,23678.0,7840.0,42102.0,27463.0,15677.0,28222.0,392.0,11964.0,549.0,3.0,10976.0,13956.0,13485.0,627.0,14426.0,6586.0,7840.0,6523.0,12287.0,27911.0,21953.0,22580.0,17876.0,20071.0,30734.0,13172.0,37006.0,5940.0,10349.0,392.0,59586.0,42651.0,71817.0,18384.0,2509.0,17500.0,40.0,26657.0,17249.0,13172.0,3500.0,11604.0,15681.0,2430.0,862.0,5959.0,1646.0,15681.0,15994.0,16308.0,15681.0,35570.0,220.0,16308.0,15053.0,8467.0,48610.0,22567.0,18503.0,18189.0,1700.0,9095.0,15681.0,16308.0,251.0,3136.0,150.0,11917.0,314.0,21012.0,20344.0,23521.0,39201.0,3450.0,9879.0,23521.0,470.0,18817.0,941.0,109764.0,31361.0,25719.0,7840.0,188.0,5488.0,17249.0,11290.0,10820.0,37301.0,5237.0,1150.0,17876.0,38229.0,5331.0,470.0,470.0,38574.0,50018.0,15500.0,23129.0,4077.0,14113.0,17300.0,38888.0,44533.0,19757.0,31047.0,9095.0,37000.0,19444.0,8674.0,44542.0,392.0,20855.0,16935.0,9565.0,18189.0,9396.0,16308.0,627.0,37633.0,10192.0,12544.0,470.0,32340.0,549.0,17562.0,470.0,12231.0,14000.0,16621.0,24283.0,22000.0,28909.0,34811.0,40769.0,7840.0,3450.0,9879.0,1960.0,36219.0,97219.0,26510.0,46728.0,16904.0,15681.0,65996.0,9408.0,549.0,20814.0,39722.0,36065.0,1176.0,13172.0,8781.0,13172.0,12231.0,17000.0,15367.0,11563.0,24500.0,9408.0,862.0,3136.0,6272.0,12231.0,30.0,627.0,15681.0,50.0,31361.0,4968.0,12000.0,87811.0,15681.0,8154.0,43905.0,13300.0,11563.0,15994.0,10349.0,17249.0,1646.0,314.0,1803.0,8148.0,314.0,25512.0,16621.0,40456.0,10036.0,32929.0,300.0,12231.0,18503.0,14583.0,10036.0,12231.0,23521.0,22580.0,44878.0,8154.0,17249.0,62023.0,1254.0,3763.0,18817.0,20005.0,7840.0,31204.0,38063.0,8154.0,20266.0,7527.0,23207.0,50651.0,10036.0,10349.0,36065.0,15323.0,8467.0,24000.0,16452.0,9408.0,10663.0,10036.0,25004.0,9095.0,2038.0,6429.0,6272.0,30734.0,26594.0,862.0,7150.0,18817.0,21950.0,220.0,25889.0,14069.0,9252.0,8781.0,2100.0,7997.0,6611.0,470.0,314.0,5018.0,1568.0,18826.0,9095.0,3136.0,3000.0,14113.0,31349.0,16935.0,392.0,27284.0,16621.0,29793.0,18817.0,941.0,21953.0,30.0,9722.0,40926.0,627.0,16935.0,1333.0,5331.0,13485.0,37476.0,70678.0,392.0,8781.0,21012.0,19416.0,1882.0,14113.0,34811.0,18817.0,150533.0,31361.0,54568.0,314.0,40983.0,470.0,17562.0,8154.0,4861.0,784.0,33243.0,28225.0,470.0,941.0,2274.0,7213.0,9095.0,4861.0,3763.0,20071.0,20149.0,11917.0,22549.0,17249.0,9408.0,15681.0,20385.0,12544.0,20385.0,12544.0,706.0,31361.0,14113.0,10976.0,7000.0,20698.0,46728.0,4704.0,25716.0,20438.0,25716.0,5488.0,30326.0,2000.0,470.0,8781.0,8938.0,5018.0,9408.0,17249.0,17249.0,3293.0,36899.0,7527.0,30887.0,9408.0,7840.0,188.0,470.0,3000.0,8781.0,17876.0,54568.0,125.0,29094.0,17876.0,16621.0,5018.0,11604.0,21805.0,2666.0,21012.0,941.0,23521.0,11604.0,549.0,14426.0,11290.0,1646.0,392.0,314.0,4704.0,17305.0,26343.0,50184.0,18503.0,26030.0,549.0,16308.0,51517.0,20488.0,6000.0,15524.0,16599.0,136000.0,17111.0,12544.0,30950.0,8154.0,14113.0,14113.0,1300.0,1333.0,627.0,25440.0,13172.0,47120.0,392.0,1725.0,17500.0,2117.0,20005.0,17249.0,25.0,9722.0,12701.0,11917.0,16621.0,8311.0,25089.0,2666.0,38609.0,549.0,24462.0,21012.0,157.0,17249.0,1000.0,29166.0,627.0,7527.0,9408.0,17719.0,14113.0,2500.0,16308.0,10349.0,706.0,42337.0,4077.0,14586.0,15053.0,1803.0,18817.0,12231.0,50178.0,7840.0,706.0,17249.0,29156.0,127000.0,22266.0,9095.0,39066.0,2901.0,11917.0,20385.0,3607.0,17562.0,15681.0,9095.0,14113.0,10036.0,16308.0,7840.0,4547.0,3607.0,3763.0,16308.0,13328.0,941.0,15053.0,1019.0,8154.0,16778.0,4704.0,9879.0,3763.0,15681.0,15994.0,21326.0,5959.0,42667.0,2430.0,11447.0,28852.0,8781.0,35309.0,20266.0,19757.0,11604.0,14269.0,4861.0,27463.0,470.0,11290.0,38580.0,34808.0,2587.0,30420.0,23521.0,10976.0,14113.0,14426.0,19444.0,7840.0,15681.0,8386.0,17562.0,6272.0,11917.0,470.0,23521.0,21639.0,19601.0,6272.0,2500.0,240.0,17249.0,43062.0,24148.0,8624.0,43281.0,29793.0,8154.0,5500.0,470.0,14113.0,17876.0,16935.0,15685.0,314.0,6429.0,314.0,11604.0,8467.0,27500.0,5018.0,188.0,6743.0,21410.0,10349.0,18189.0,8467.0,17249.0,10976.0,14050.0,50560.0,30931.0,13338.0,10036.0,12231.0,51746.0,28780.0,13172.0,12544.0,4704.0,22260.0,70.0,6899.0,34340.0,13172.0,6899.0,15994.0,627.0,14834.0,22894.0,19757.0,10976.0,1098.0,23521.0,10349.0,31047.0,10663.0,75266.0,5175.0,79971.0,21639.0,20610.0,9408.0,49259.0,19444.0,28532.0,23521.0,18503.0,24148.0,13172.0,37633.0,47512.0,9095.0,6899.0,17249.0,5645.0,29479.0,3763.0,6429.0,57990.0,34497.0,3136.0,21953.0,16308.0,11604.0,12240.0,10036.0,14069.0,5802.0,3763.0,12544.0,7809.0,941.0,13764.0,50178.0,9408.0,13172.0,15681.0,1019.0,19444.0,8781.0,27000.0,12500.0,6586.0,23994.0,17562.0,21953.0,18817.0,18817.0,16621.0,2666.0,9879.0,314.0,32929.0,10976.0,34497.0,10349.0,15053.0,392.0,5959.0,1882.0,14906.0,27654.0,470.0,3000.0,3607.0,28852.0,14426.0,11917.0,17405.0,5488.0,16308.0,1411.0,15825.0,19130.0,2352.0,16621.0,5331.0,14426.0,11604.0,9252.0,39829.0,34572.0,15053.0,12544.0,10976.0,131716.0,18305.0,13570.0,2666.0,24775.0,16960.0,5018.0,3293.0,11917.0,1019.0,20698.0,10663.0,11290.0,11290.0,549.0,16041.0,8154.0,6272.0,11604.0,13642.0,1568.0,35.0,2500.0,12858.0,31361.0,12388.0,3058.0,18817.0,784.0,941.0,22894.0,251.0,941.0,9722.0,24000.0,30200.0,52931.0,2430.0,34497.0,470.0,17249.0,549.0,1568.0,31047.0,29793.0,10036.0,30.0,14113.0,627.0,20385.0,5500.0,17249.0,5645.0,5959.0,89379.0,4234.0,17249.0,15367.0,18817.0,25716.0,55678.0,15367.0,10976.0,4391.0,6272.0,14113.0,30734.0,14740.0,16621.0,314.0,13172.0,26030.0,220.0,11917.0,3293.0,17562.0,11917.0,5959.0,6586.0,7527.0,188.0,18817.0,627.0,13799.0,13799.0,16778.0,4391.0,35438.0,16465.0,15367.0,15524.0,10976.0,30.0,13172.0,8781.0,10349.0,10635.0,21953.0,18817.0,41064.0,94.0,941.0,19757.0,14113.0,20385.0,15681.0,80.0,392.0,36065.0,7213.0,4737.0,10036.0,8467.0,17249.0,706.0,20385.0,9252.0,2352.0,941.0,549.0,31361.0,13488.0,5018.0,470.0,627.0,10964.0,25591.0,40769.0,6272.0,39201.0,9408.0,314.0,52034.0,41553.0,10976.0,706.0,21796.0,11133.0,8311.0,5175.0,6429.0,549.0,32929.0,30.0,11917.0,100060.0,6899.0,12231.0,16500.0,25597.0,21953.0,40.0,100355.0,15367.0,31449.0,12544.0,14426.0,20385.0,79971.0,8500.0,14113.0,17942.0,22894.0,36065.0,5018.0,10036.0,4861.0,706.0,5488.0,72130.0,19444.0,470.0,21953.0,16621.0,16935.0,25716.0,15681.0,8154.0,10036.0,21639.0,27946.0,470.0,8154.0,7527.0,2901.0,3607.0,28608.0,18817.0,10349.0,10349.0,18503.0,10349.0,25763.0,23521.0,549.0,10036.0,20071.0,14500.0,3920.0,37006.0,7837.0,6899.0,18422.0,14113.0,14113.0,38574.0,6429.0,13172.0,16308.0,23521.0,81808.0,16935.0,13172.0,11917.0,11604.0,7840.0,41629.0,39226.0,53420.0,34836.0,14740.0,6586.0,10349.0,11447.0,21953.0,11760.0,10976.0,12861.0,7495.0,33500.0,20005.0,9095.0,7840.0,22894.0,22298.0,20266.0,28225.0,42965.0,37229.0,19757.0,2038.0,7840.0,26657.0,46991.0,12544.0,43905.0,10976.0,19287.0,12231.0,5175.0,13172.0,31414.0,15681.0,17249.0,4391.0,30420.0,3136.0,12600.0,2117.0,35752.0,31675.0,18817.0,30750.0,3763.0,13996.0,8163.0,36219.0,47217.0,3920.0,27598.0,15994.0,40983.0,2666.0,100.0,10976.0,23521.0,16935.0,15994.0,42692.0,10000.0,19757.0,21000.0,8467.0,14113.0,3763.0,9408.0,2500.0,28225.0,15994.0,9722.0,21326.0,392.0,10976.0,4704.0,1568.0,27284.0,29793.0,7527.0,16935.0,8154.0,157.0,47.0,22894.0,19444.0,1098.0,9095.0,18660.0,18826.0,1176.0,18817.0,94.0,20385.0,12544.0,6743.0,11967.0,38762.0,42337.0,18616.0,627.0,6115.0,38157.0,14740.0,12544.0,18503.0,1333.0,16935.0,14740.0,941.0,58018.0,11604.0,11469.0,3763.0,470.0,55823.0,10663.0,11604.0,20322.0,11917.0,157.0,3136.0,2500.0,28589.0,8154.0,15988.0,6.0,15367.0,3450.0,4391.0,5959.0,27654.0,3763.0,1254.0,17405.0,18189.0,5175.0,38445.0,862.0,14834.0,12544.0,13328.0,706.0,13172.0,43655.0,48998.0,1019.0,15245.0,29420.0,50178.0,32929.0,18211.0,42880.0,31047.0,14113.0,2038.0,13589.0,27654.0,157.0,15681.0,10036.0,39201.0,17249.0,18817.0,470.0,39750.0,23521.0,10036.0,60499.0,20450.0,11287.0,81539.0,188.0,31744.0,43868.0,26030.0,12544.0,45473.0,72130.0,50.0,26795.0,36065.0,11917.0,44533.0,44846.0,25500.0,11290.0,12231.0,28852.0,282.0,7683.0,111332.0,16960.0,42171.0,20814.0,38311.0,26971.0,10349.0,22580.0,3763.0,7840.0,24462.0,12541.0,39201.0,26149.0,8467.0,36401.0,12544.0,28391.0,3607.0,30241.0,11604.0,157.0,13172.0,27598.0,15053.0,11917.0,8386.0,5488.0,35124.0,53154.0,7840.0,67426.0,2509.0,40.0,17876.0,314.0,470.0,6272.0,24148.0,28225.0,1882.0,34074.0,706.0,3136.0,11290.0,15367.0,45204.0,3450.0,10036.0,314.0,862.0,282.0,40769.0,30906.0,30734.0,8963.0,29793.0,21326.0,950.0,7840.0,627.0,1568.0,80.0,19757.0,4861.0,4861.0,43655.0,314.0,18826.0,12544.0,39201.0,6272.0,6272.0,18817.0,9252.0,22580.0,11290.0,13808.0,18189.0,31361.0,86243.0,63349.0,2117.0,706.0,23521.0,33870.0,4704.0,706.0,46891.0,25089.0,16465.0,17876.0,21326.0,14113.0,1019.0,17249.0,12701.0,1176.0,9408.0,4077.0,12544.0,1725.0,34811.0,19130.0,36235.0,20385.0,72130.0,282.0,7222.0,32929.0,470.0,28589.0,36636.0,6200.0,22279.0,16621.0,22894.0,11290.0,2666.0,43868.0,1646.0,7527.0,3450.0,12858.0,24148.0,9722.0,627.0,470.0,8467.0,9565.0,15681.0,17158.0,9252.0,12231.0,21012.0,37232.0,18817.0,13642.0,25716.0,9408.0,35269.0,10036.0,12544.0,6586.0,32929.0,14113.0,7213.0,51523.0,8800.0,3136.0,7527.0,11290.0,10973.0,1019.0,19757.0,10976.0,10036.0,862.0,941.0,10976.0,29166.0,17249.0,16621.0,1411.0,16308.0,10976.0,11917.0,4547.0,3800.0,13799.0,10036.0,12544.0,43952.0,15681.0,21326.0,111002.0,282.0,1882.0,26306.0,12858.0,1646.0,2200.0,4861.0,7213.0,52520.0,15323.0,188.0,7310.0,100.0,9252.0,12858.0,15035.0,15367.0,40926.0,9500.0,6400.0,7260.0,29793.0,5645.0,32274.0,20385.0,24433.0,7056.0,470.0,20385.0,15994.0,14113.0,20385.0,34497.0,21326.0,45633.0,19757.0,24462.0,57077.0,282.0,31988.0,282.0,42024.0,9829.0,8467.0,941.0,4500.0,28391.0,38838.0,21953.0,6272.0,26196.0,8643.0,1882.0,2509.0,706.0,314.0,53154.0,9408.0,17249.0,549.0,9879.0,941.0,51746.0,16621.0,20385.0,147397.0,7840.0,12544.0,29793.0,54568.0,17405.0,18817.0,941.0,1490.0,17249.0,37959.0,120.0,31047.0,10976.0,10036.0,1725.0,6899.0,18776.0,27679.0,1490.0,12544.0,10036.0,941.0,10349.0,4077.0,7840.0,1725.0,23521.0,8154.0,30734.0,32302.0,45473.0,12858.0,8467.0,4234.0,18189.0,20385.0,5488.0,14269.0,24932.0,8781.0,9722.0,6272.0,941.0,3293.0,46258.0,43049.0,627.0,8781.0,17562.0,10976.0,3607.0,1176.0,18817.0,34497.0,40.0,941.0,42538.0,7300.0,20764.0,96263.0,21181.0,17092.0,25889.0,11481.0,39201.0,14113.0,5018.0,12231.0,3607.0,18189.0,120.0,392.0,16900.0,4234.0,784.0,14740.0,32929.0,12231.0,6272.0,9722.0,14113.0,33.0,12544.0,18948.0,13328.0,6241.0,14113.0,8154.0,13799.0,784.0,18817.0,30784.0,2352.0,44878.0,33575.0,1725.0,11666.0,549.0,45473.0,2195.0,12777.0,18817.0,11917.0,1019.0,14583.0,549.0,94.0,26701.0,7527.0,4704.0,37633.0,314.0,24543.0,28225.0,4547.0,18503.0,20266.0,1176.0,43278.0,7500.0,11200.0,14269.0,13485.0,6899.0,19444.0,7213.0,16308.0,8781.0,6115.0,10976.0,7213.0,1490.0,12231.0,4000.0,4077.0,51075.0,7683.0,14294.0,706.0,19121.0,26657.0,13015.0,39515.0,18817.0,7370.0,627.0,5488.0,3607.0,8781.0,14800.0,23339.0,549.0,16308.0,20385.0,14113.0,706.0,1725.0,13702.0,5018.0,3200.0,18503.0,5959.0,2200.0,6429.0,5018.0,941.0,14113.0,22894.0,12544.0,34127.0,24148.0,1176.0,15053.0,120.0,44843.0,10192.0,11290.0,10500.0,8311.0,12544.0,51432.0,18817.0,2900.0,6586.0,7370.0,7213.0,17415.0,23834.0,8963.0,784.0,2352.0,627.0,40424.0,12585.0,9888.0,2587.0,7997.0,941.0,18346.0,6429.0,27190.0,941.0,14113.0,97219.0,94.0,13642.0,2200.0,44611.0,549.0,10349.0,29793.0,6586.0,11290.0,13799.0,14113.0,7213.0,10117.0,706.0,392.0,5488.0,11102.0,30.0,4077.0,28523.0,5645.0,26657.0,37291.0,58332.0,4547.0,51118.0,18503.0,13172.0,13485.0,13485.0,314.0,1411.0,23834.0,1411.0,7213.0,88438.0,627.0,12231.0,11274.0,17042.0,18779.0,784.0,6743.0,31659.0,3136.0,29144.0,5488.0,3136.0,7056.0,22580.0,41811.0,15125.0,15681.0,30750.0,12544.0,5645.0,2600.0,29793.0,56814.0,18503.0,15423.0,26030.0,30.0,5645.0,3450.0,21953.0,38229.0,9722.0,10506.0,24000.0,470.0,3607.0,36065.0,17249.0,21012.0,64290.0,7840.0,5018.0,60.0,17634.0,19757.0,18817.0,21326.0,14113.0,10976.0,31797.0,11133.0,8781.0,9879.0,42883.0,14113.0,706.0,7213.0,28755.0,63886.0,3607.0,9722.0,11917.0,21326.0,25402.0,470.0,7213.0,61154.0,13172.0,24462.0,11290.0,14113.0,7527.0,500.0,8300.0,7997.0,13799.0,28225.0,3763.0,36065.0,549.0,2587.0,13485.0,18817.0,7500.0,22075.0,22197.0,34811.0,13808.0,8311.0,50037.0,6743.0,6586.0,1176.0,470.0,37633.0,26017.0,30.0,19444.0,8467.0,15681.0,10036.0,8781.0,19130.0,8781.0,7840.0,29793.0,706.0,50.0,470.0,5802.0,8467.0,15681.0,26108.0,5331.0,470.0],\"yaxis\":\"y\",\"type\":\"scattergl\"}],                        {\"template\":{\"data\":{\"histogram2dcontour\":[{\"type\":\"histogram2dcontour\",\"colorbar\":{\"outlinewidth\":0,\"ticks\":\"\"},\"colorscale\":[[0.0,\"#0d0887\"],[0.1111111111111111,\"#46039f\"],[0.2222222222222222,\"#7201a8\"],[0.3333333333333333,\"#9c179e\"],[0.4444444444444444,\"#bd3786\"],[0.5555555555555556,\"#d8576b\"],[0.6666666666666666,\"#ed7953\"],[0.7777777777777778,\"#fb9f3a\"],[0.8888888888888888,\"#fdca26\"],[1.0,\"#f0f921\"]]}],\"choropleth\":[{\"type\":\"choropleth\",\"colorbar\":{\"outlinewidth\":0,\"ticks\":\"\"}}],\"histogram2d\":[{\"type\":\"histogram2d\",\"colorbar\":{\"outlinewidth\":0,\"ticks\":\"\"},\"colorscale\":[[0.0,\"#0d0887\"],[0.1111111111111111,\"#46039f\"],[0.2222222222222222,\"#7201a8\"],[0.3333333333333333,\"#9c179e\"],[0.4444444444444444,\"#bd3786\"],[0.5555555555555556,\"#d8576b\"],[0.6666666666666666,\"#ed7953\"],[0.7777777777777778,\"#fb9f3a\"],[0.8888888888888888,\"#fdca26\"],[1.0,\"#f0f921\"]]}],\"heatmap\":[{\"type\":\"heatmap\",\"colorbar\":{\"outlinewidth\":0,\"ticks\":\"\"},\"colorscale\":[[0.0,\"#0d0887\"],[0.1111111111111111,\"#46039f\"],[0.2222222222222222,\"#7201a8\"],[0.3333333333333333,\"#9c179e\"],[0.4444444444444444,\"#bd3786\"],[0.5555555555555556,\"#d8576b\"],[0.6666666666666666,\"#ed7953\"],[0.7777777777777778,\"#fb9f3a\"],[0.8888888888888888,\"#fdca26\"],[1.0,\"#f0f921\"]]}],\"heatmapgl\":[{\"type\":\"heatmapgl\",\"colorbar\":{\"outlinewidth\":0,\"ticks\":\"\"},\"colorscale\":[[0.0,\"#0d0887\"],[0.1111111111111111,\"#46039f\"],[0.2222222222222222,\"#7201a8\"],[0.3333333333333333,\"#9c179e\"],[0.4444444444444444,\"#bd3786\"],[0.5555555555555556,\"#d8576b\"],[0.6666666666666666,\"#ed7953\"],[0.7777777777777778,\"#fb9f3a\"],[0.8888888888888888,\"#fdca26\"],[1.0,\"#f0f921\"]]}],\"contourcarpet\":[{\"type\":\"contourcarpet\",\"colorbar\":{\"outlinewidth\":0,\"ticks\":\"\"}}],\"contour\":[{\"type\":\"contour\",\"colorbar\":{\"outlinewidth\":0,\"ticks\":\"\"},\"colorscale\":[[0.0,\"#0d0887\"],[0.1111111111111111,\"#46039f\"],[0.2222222222222222,\"#7201a8\"],[0.3333333333333333,\"#9c179e\"],[0.4444444444444444,\"#bd3786\"],[0.5555555555555556,\"#d8576b\"],[0.6666666666666666,\"#ed7953\"],[0.7777777777777778,\"#fb9f3a\"],[0.8888888888888888,\"#fdca26\"],[1.0,\"#f0f921\"]]}],\"surface\":[{\"type\":\"surface\",\"colorbar\":{\"outlinewidth\":0,\"ticks\":\"\"},\"colorscale\":[[0.0,\"#0d0887\"],[0.1111111111111111,\"#46039f\"],[0.2222222222222222,\"#7201a8\"],[0.3333333333333333,\"#9c179e\"],[0.4444444444444444,\"#bd3786\"],[0.5555555555555556,\"#d8576b\"],[0.6666666666666666,\"#ed7953\"],[0.7777777777777778,\"#fb9f3a\"],[0.8888888888888888,\"#fdca26\"],[1.0,\"#f0f921\"]]}],\"mesh3d\":[{\"type\":\"mesh3d\",\"colorbar\":{\"outlinewidth\":0,\"ticks\":\"\"}}],\"scatter\":[{\"fillpattern\":{\"fillmode\":\"overlay\",\"size\":10,\"solidity\":0.2},\"type\":\"scatter\"}],\"parcoords\":[{\"type\":\"parcoords\",\"line\":{\"colorbar\":{\"outlinewidth\":0,\"ticks\":\"\"}}}],\"scatterpolargl\":[{\"type\":\"scatterpolargl\",\"marker\":{\"colorbar\":{\"outlinewidth\":0,\"ticks\":\"\"}}}],\"bar\":[{\"error_x\":{\"color\":\"#2a3f5f\"},\"error_y\":{\"color\":\"#2a3f5f\"},\"marker\":{\"line\":{\"color\":\"#E5ECF6\",\"width\":0.5},\"pattern\":{\"fillmode\":\"overlay\",\"size\":10,\"solidity\":0.2}},\"type\":\"bar\"}],\"scattergeo\":[{\"type\":\"scattergeo\",\"marker\":{\"colorbar\":{\"outlinewidth\":0,\"ticks\":\"\"}}}],\"scatterpolar\":[{\"type\":\"scatterpolar\",\"marker\":{\"colorbar\":{\"outlinewidth\":0,\"ticks\":\"\"}}}],\"histogram\":[{\"marker\":{\"pattern\":{\"fillmode\":\"overlay\",\"size\":10,\"solidity\":0.2}},\"type\":\"histogram\"}],\"scattergl\":[{\"type\":\"scattergl\",\"marker\":{\"colorbar\":{\"outlinewidth\":0,\"ticks\":\"\"}}}],\"scatter3d\":[{\"type\":\"scatter3d\",\"line\":{\"colorbar\":{\"outlinewidth\":0,\"ticks\":\"\"}},\"marker\":{\"colorbar\":{\"outlinewidth\":0,\"ticks\":\"\"}}}],\"scattermapbox\":[{\"type\":\"scattermapbox\",\"marker\":{\"colorbar\":{\"outlinewidth\":0,\"ticks\":\"\"}}}],\"scatterternary\":[{\"type\":\"scatterternary\",\"marker\":{\"colorbar\":{\"outlinewidth\":0,\"ticks\":\"\"}}}],\"scattercarpet\":[{\"type\":\"scattercarpet\",\"marker\":{\"colorbar\":{\"outlinewidth\":0,\"ticks\":\"\"}}}],\"carpet\":[{\"aaxis\":{\"endlinecolor\":\"#2a3f5f\",\"gridcolor\":\"white\",\"linecolor\":\"white\",\"minorgridcolor\":\"white\",\"startlinecolor\":\"#2a3f5f\"},\"baxis\":{\"endlinecolor\":\"#2a3f5f\",\"gridcolor\":\"white\",\"linecolor\":\"white\",\"minorgridcolor\":\"white\",\"startlinecolor\":\"#2a3f5f\"},\"type\":\"carpet\"}],\"table\":[{\"cells\":{\"fill\":{\"color\":\"#EBF0F8\"},\"line\":{\"color\":\"white\"}},\"header\":{\"fill\":{\"color\":\"#C8D4E3\"},\"line\":{\"color\":\"white\"}},\"type\":\"table\"}],\"barpolar\":[{\"marker\":{\"line\":{\"color\":\"#E5ECF6\",\"width\":0.5},\"pattern\":{\"fillmode\":\"overlay\",\"size\":10,\"solidity\":0.2}},\"type\":\"barpolar\"}],\"pie\":[{\"automargin\":true,\"type\":\"pie\"}]},\"layout\":{\"autotypenumbers\":\"strict\",\"colorway\":[\"#636efa\",\"#EF553B\",\"#00cc96\",\"#ab63fa\",\"#FFA15A\",\"#19d3f3\",\"#FF6692\",\"#B6E880\",\"#FF97FF\",\"#FECB52\"],\"font\":{\"color\":\"#2a3f5f\"},\"hovermode\":\"closest\",\"hoverlabel\":{\"align\":\"left\"},\"paper_bgcolor\":\"white\",\"plot_bgcolor\":\"#E5ECF6\",\"polar\":{\"bgcolor\":\"#E5ECF6\",\"angularaxis\":{\"gridcolor\":\"white\",\"linecolor\":\"white\",\"ticks\":\"\"},\"radialaxis\":{\"gridcolor\":\"white\",\"linecolor\":\"white\",\"ticks\":\"\"}},\"ternary\":{\"bgcolor\":\"#E5ECF6\",\"aaxis\":{\"gridcolor\":\"white\",\"linecolor\":\"white\",\"ticks\":\"\"},\"baxis\":{\"gridcolor\":\"white\",\"linecolor\":\"white\",\"ticks\":\"\"},\"caxis\":{\"gridcolor\":\"white\",\"linecolor\":\"white\",\"ticks\":\"\"}},\"coloraxis\":{\"colorbar\":{\"outlinewidth\":0,\"ticks\":\"\"}},\"colorscale\":{\"sequential\":[[0.0,\"#0d0887\"],[0.1111111111111111,\"#46039f\"],[0.2222222222222222,\"#7201a8\"],[0.3333333333333333,\"#9c179e\"],[0.4444444444444444,\"#bd3786\"],[0.5555555555555556,\"#d8576b\"],[0.6666666666666666,\"#ed7953\"],[0.7777777777777778,\"#fb9f3a\"],[0.8888888888888888,\"#fdca26\"],[1.0,\"#f0f921\"]],\"sequentialminus\":[[0.0,\"#0d0887\"],[0.1111111111111111,\"#46039f\"],[0.2222222222222222,\"#7201a8\"],[0.3333333333333333,\"#9c179e\"],[0.4444444444444444,\"#bd3786\"],[0.5555555555555556,\"#d8576b\"],[0.6666666666666666,\"#ed7953\"],[0.7777777777777778,\"#fb9f3a\"],[0.8888888888888888,\"#fdca26\"],[1.0,\"#f0f921\"]],\"diverging\":[[0,\"#8e0152\"],[0.1,\"#c51b7d\"],[0.2,\"#de77ae\"],[0.3,\"#f1b6da\"],[0.4,\"#fde0ef\"],[0.5,\"#f7f7f7\"],[0.6,\"#e6f5d0\"],[0.7,\"#b8e186\"],[0.8,\"#7fbc41\"],[0.9,\"#4d9221\"],[1,\"#276419\"]]},\"xaxis\":{\"gridcolor\":\"white\",\"linecolor\":\"white\",\"ticks\":\"\",\"title\":{\"standoff\":15},\"zerolinecolor\":\"white\",\"automargin\":true,\"zerolinewidth\":2},\"yaxis\":{\"gridcolor\":\"white\",\"linecolor\":\"white\",\"ticks\":\"\",\"title\":{\"standoff\":15},\"zerolinecolor\":\"white\",\"automargin\":true,\"zerolinewidth\":2},\"scene\":{\"xaxis\":{\"backgroundcolor\":\"#E5ECF6\",\"gridcolor\":\"white\",\"linecolor\":\"white\",\"showbackground\":true,\"ticks\":\"\",\"zerolinecolor\":\"white\",\"gridwidth\":2},\"yaxis\":{\"backgroundcolor\":\"#E5ECF6\",\"gridcolor\":\"white\",\"linecolor\":\"white\",\"showbackground\":true,\"ticks\":\"\",\"zerolinecolor\":\"white\",\"gridwidth\":2},\"zaxis\":{\"backgroundcolor\":\"#E5ECF6\",\"gridcolor\":\"white\",\"linecolor\":\"white\",\"showbackground\":true,\"ticks\":\"\",\"zerolinecolor\":\"white\",\"gridwidth\":2}},\"shapedefaults\":{\"line\":{\"color\":\"#2a3f5f\"}},\"annotationdefaults\":{\"arrowcolor\":\"#2a3f5f\",\"arrowhead\":0,\"arrowwidth\":1},\"geo\":{\"bgcolor\":\"white\",\"landcolor\":\"#E5ECF6\",\"subunitcolor\":\"white\",\"showland\":true,\"showlakes\":true,\"lakecolor\":\"white\"},\"title\":{\"x\":0.05},\"mapbox\":{\"style\":\"light\"}}},\"xaxis\":{\"anchor\":\"y\",\"domain\":[0.0,1.0],\"title\":{\"text\":\"index\"}},\"yaxis\":{\"anchor\":\"x\",\"domain\":[0.0,1.0],\"title\":{\"text\":\"Price\"}},\"legend\":{\"tracegroupgap\":0},\"margin\":{\"t\":60}},                        {\"responsive\": true}                    ).then(function(){\n",
       "                            \n",
       "var gd = document.getElementById('2c6ca73f-7cab-49a3-b930-ae2711d6ccc0');\n",
       "var x = new MutationObserver(function (mutations, observer) {{\n",
       "        var display = window.getComputedStyle(gd).display;\n",
       "        if (!display || display === 'none') {{\n",
       "            console.log([gd, 'removed!']);\n",
       "            Plotly.purge(gd);\n",
       "            observer.disconnect();\n",
       "        }}\n",
       "}});\n",
       "\n",
       "// Listen for the removal of the full notebook cells\n",
       "var notebookContainer = gd.closest('#notebook-container');\n",
       "if (notebookContainer) {{\n",
       "    x.observe(notebookContainer, {childList: true});\n",
       "}}\n",
       "\n",
       "// Listen for the clearing of the current output cell\n",
       "var outputEl = gd.closest('.output');\n",
       "if (outputEl) {{\n",
       "    x.observe(outputEl, {childList: true});\n",
       "}}\n",
       "\n",
       "                        })                };                });            </script>        </div>"
      ]
     },
     "metadata": {},
     "output_type": "display_data"
    }
   ],
   "source": [
    "fig = px.line(data, y='Price')\n",
    "fig.show()"
   ]
  },
  {
   "cell_type": "markdown",
   "id": "9c79e6a6",
   "metadata": {
    "papermill": {
     "duration": 0.021496,
     "end_time": "2022-09-19T00:29:21.497869",
     "exception": false,
     "start_time": "2022-09-19T00:29:21.476373",
     "status": "completed"
    },
    "tags": []
   },
   "source": [
    "Now we have a fairly distributed price range"
   ]
  },
  {
   "cell_type": "markdown",
   "id": "930d1e33",
   "metadata": {
    "papermill": {
     "duration": 0.021585,
     "end_time": "2022-09-19T00:29:21.542033",
     "exception": false,
     "start_time": "2022-09-19T00:29:21.520448",
     "status": "completed"
    },
    "tags": []
   },
   "source": [
    "### Missing Data <a class=\"anchor\" id=\"missing\"></a>"
   ]
  },
  {
   "cell_type": "code",
   "execution_count": 15,
   "id": "7ac554cc",
   "metadata": {
    "execution": {
     "iopub.execute_input": "2022-09-19T00:29:21.588747Z",
     "iopub.status.busy": "2022-09-19T00:29:21.587865Z",
     "iopub.status.idle": "2022-09-19T00:29:21.610488Z",
     "shell.execute_reply": "2022-09-19T00:29:21.609232Z"
    },
    "papermill": {
     "duration": 0.048972,
     "end_time": "2022-09-19T00:29:21.612944",
     "exception": false,
     "start_time": "2022-09-19T00:29:21.563972",
     "status": "completed"
    },
    "tags": []
   },
   "outputs": [
    {
     "data": {
      "text/plain": [
       "ID                  0\n",
       "Price               0\n",
       "Levy                0\n",
       "Manufacturer        0\n",
       "Model               0\n",
       "Prod. year          0\n",
       "Category            0\n",
       "Leather interior    0\n",
       "Fuel type           0\n",
       "Engine volume       0\n",
       "Mileage             0\n",
       "Cylinders           0\n",
       "Gear box type       0\n",
       "Drive wheels        0\n",
       "Doors               0\n",
       "Wheel               0\n",
       "Color               0\n",
       "Airbags             0\n",
       "dtype: int64"
      ]
     },
     "execution_count": 15,
     "metadata": {},
     "output_type": "execute_result"
    }
   ],
   "source": [
    "data.isna().sum()"
   ]
  },
  {
   "cell_type": "code",
   "execution_count": 16,
   "id": "91b1e6a9",
   "metadata": {
    "execution": {
     "iopub.execute_input": "2022-09-19T00:29:21.659298Z",
     "iopub.status.busy": "2022-09-19T00:29:21.658809Z",
     "iopub.status.idle": "2022-09-19T00:29:22.738006Z",
     "shell.execute_reply": "2022-09-19T00:29:22.736277Z"
    },
    "papermill": {
     "duration": 1.107406,
     "end_time": "2022-09-19T00:29:22.742646",
     "exception": false,
     "start_time": "2022-09-19T00:29:21.635240",
     "status": "completed"
    },
    "tags": []
   },
   "outputs": [
    {
     "data": {
      "text/plain": [
       "<AxesSubplot:>"
      ]
     },
     "execution_count": 16,
     "metadata": {},
     "output_type": "execute_result"
    },
    {
     "data": {
      "image/png": "[encoded data removed]",
      "text/plain": [
       "<Figure size 432x288 with 2 Axes>"
      ]
     },
     "metadata": {
      "needs_background": "light"
     },
     "output_type": "display_data"
    }
   ],
   "source": [
    "sns.heatmap(data.isnull(), cmap='viridis')"
   ]
  },
  {
   "cell_type": "markdown",
   "id": "8cc5b558",
   "metadata": {
    "papermill": {
     "duration": 0.031156,
     "end_time": "2022-09-19T00:29:22.800591",
     "exception": false,
     "start_time": "2022-09-19T00:29:22.769435",
     "status": "completed"
    },
    "tags": []
   },
   "source": [
    "Our heatmap looks clean on each of the columns. <br>\n",
    "now we can categoricaly say our dataset is void of missing values"
   ]
  },
  {
   "cell_type": "markdown",
   "id": "ac8134e6",
   "metadata": {
    "papermill": {
     "duration": 0.02305,
     "end_time": "2022-09-19T00:29:22.847038",
     "exception": false,
     "start_time": "2022-09-19T00:29:22.823988",
     "status": "completed"
    },
    "tags": []
   },
   "source": [
    "### Data cleaning <a class=\"anchor\" id=\"DC\"></a>\n",
    "For the dataset to be ready for training we have to clean it and ensure that the data makes logical sense\n",
    "\n"
   ]
  },
  {
   "cell_type": "code",
   "execution_count": 17,
   "id": "bfb4d283",
   "metadata": {
    "execution": {
     "iopub.execute_input": "2022-09-19T00:29:22.896208Z",
     "iopub.status.busy": "2022-09-19T00:29:22.894992Z",
     "iopub.status.idle": "2022-09-19T00:29:22.920306Z",
     "shell.execute_reply": "2022-09-19T00:29:22.919207Z"
    },
    "papermill": {
     "duration": 0.05208,
     "end_time": "2022-09-19T00:29:22.922676",
     "exception": false,
     "start_time": "2022-09-19T00:29:22.870596",
     "status": "completed"
    },
    "tags": []
   },
   "outputs": [
    {
     "data": {
      "text/html": [
       "<div>\n",
       "<style scoped>\n",
       "    .dataframe tbody tr th:only-of-type {\n",
       "        vertical-align: middle;\n",
       "    }\n",
       "\n",
       "    .dataframe tbody tr th {\n",
       "        vertical-align: top;\n",
       "    }\n",
       "\n",
       "    .dataframe thead th {\n",
       "        text-align: right;\n",
       "    }\n",
       "</style>\n",
       "<table border=\"1\" class=\"dataframe\">\n",
       "  <thead>\n",
       "    <tr style=\"text-align: right;\">\n",
       "      <th></th>\n",
       "      <th>ID</th>\n",
       "      <th>Price</th>\n",
       "      <th>Levy</th>\n",
       "      <th>Manufacturer</th>\n",
       "      <th>Model</th>\n",
       "      <th>Prod. year</th>\n",
       "      <th>Category</th>\n",
       "      <th>Leather interior</th>\n",
       "      <th>Fuel type</th>\n",
       "      <th>Engine volume</th>\n",
       "      <th>Mileage</th>\n",
       "      <th>Cylinders</th>\n",
       "      <th>Gear box type</th>\n",
       "      <th>Drive wheels</th>\n",
       "      <th>Doors</th>\n",
       "      <th>Wheel</th>\n",
       "      <th>Color</th>\n",
       "      <th>Airbags</th>\n",
       "    </tr>\n",
       "  </thead>\n",
       "  <tbody>\n",
       "    <tr>\n",
       "      <th>8560</th>\n",
       "      <td>45767180</td>\n",
       "      <td>62722.0</td>\n",
       "      <td>-</td>\n",
       "      <td>TOYOTA</td>\n",
       "      <td>Camry</td>\n",
       "      <td>2018</td>\n",
       "      <td>Sedan</td>\n",
       "      <td>Yes</td>\n",
       "      <td>Hybrid</td>\n",
       "      <td>2.4</td>\n",
       "      <td>14000 km</td>\n",
       "      <td>6.0</td>\n",
       "      <td>Tiptronic</td>\n",
       "      <td>4x4</td>\n",
       "      <td>04-May</td>\n",
       "      <td>Left wheel</td>\n",
       "      <td>Blue</td>\n",
       "      <td>12</td>\n",
       "    </tr>\n",
       "    <tr>\n",
       "      <th>12663</th>\n",
       "      <td>45813306</td>\n",
       "      <td>706.0</td>\n",
       "      <td>1172</td>\n",
       "      <td>LEXUS</td>\n",
       "      <td>RX 350</td>\n",
       "      <td>2011</td>\n",
       "      <td>Jeep</td>\n",
       "      <td>Yes</td>\n",
       "      <td>Petrol</td>\n",
       "      <td>3.5</td>\n",
       "      <td>270320 km</td>\n",
       "      <td>6.0</td>\n",
       "      <td>Automatic</td>\n",
       "      <td>4x4</td>\n",
       "      <td>04-May</td>\n",
       "      <td>Left wheel</td>\n",
       "      <td>White</td>\n",
       "      <td>12</td>\n",
       "    </tr>\n",
       "    <tr>\n",
       "      <th>1589</th>\n",
       "      <td>44931359</td>\n",
       "      <td>15681.0</td>\n",
       "      <td>-</td>\n",
       "      <td>TOYOTA</td>\n",
       "      <td>Prius</td>\n",
       "      <td>2010</td>\n",
       "      <td>Hatchback</td>\n",
       "      <td>No</td>\n",
       "      <td>Petrol</td>\n",
       "      <td>1.8</td>\n",
       "      <td>0 km</td>\n",
       "      <td>4.0</td>\n",
       "      <td>Automatic</td>\n",
       "      <td>Front</td>\n",
       "      <td>04-May</td>\n",
       "      <td>Left wheel</td>\n",
       "      <td>Grey</td>\n",
       "      <td>8</td>\n",
       "    </tr>\n",
       "  </tbody>\n",
       "</table>\n",
       "</div>"
      ],
      "text/plain": [
       "             ID    Price  Levy Manufacturer   Model  Prod. year   Category  \\\n",
       "8560   45767180  62722.0     -       TOYOTA   Camry        2018      Sedan   \n",
       "12663  45813306    706.0  1172        LEXUS  RX 350        2011       Jeep   \n",
       "1589   44931359  15681.0     -       TOYOTA   Prius        2010  Hatchback   \n",
       "\n",
       "      Leather interior Fuel type Engine volume    Mileage  Cylinders  \\\n",
       "8560               Yes    Hybrid           2.4   14000 km        6.0   \n",
       "12663              Yes    Petrol           3.5  270320 km        6.0   \n",
       "1589                No    Petrol           1.8       0 km        4.0   \n",
       "\n",
       "      Gear box type Drive wheels   Doors       Wheel  Color  Airbags  \n",
       "8560      Tiptronic          4x4  04-May  Left wheel   Blue       12  \n",
       "12663     Automatic          4x4  04-May  Left wheel  White       12  \n",
       "1589      Automatic        Front  04-May  Left wheel   Grey        8  "
      ]
     },
     "execution_count": 17,
     "metadata": {},
     "output_type": "execute_result"
    }
   ],
   "source": [
    "data.sample(3)"
   ]
  },
  {
   "cell_type": "markdown",
   "id": "f45cce0d",
   "metadata": {
    "papermill": {
     "duration": 0.022754,
     "end_time": "2022-09-19T00:29:22.968351",
     "exception": false,
     "start_time": "2022-09-19T00:29:22.945597",
     "status": "completed"
    },
    "tags": []
   },
   "source": [
    "<b>Note</b> that the Mileage column has 'km' attached to it and Doors as well has some 'May' attached to it. so we will strip the attachment off so we can have a clean column to present to the model\n",
    "\n",
    "<b>Note</b> also that we may not have missing data but we have data in some columns that doesn't make sense such as '-' in Levy column(it will be handled below)"
   ]
  },
  {
   "cell_type": "code",
   "execution_count": 18,
   "id": "66afef18",
   "metadata": {
    "execution": {
     "iopub.execute_input": "2022-09-19T00:29:23.018810Z",
     "iopub.status.busy": "2022-09-19T00:29:23.017301Z",
     "iopub.status.idle": "2022-09-19T00:29:23.076687Z",
     "shell.execute_reply": "2022-09-19T00:29:23.075646Z"
    },
    "papermill": {
     "duration": 0.087671,
     "end_time": "2022-09-19T00:29:23.079923",
     "exception": false,
     "start_time": "2022-09-19T00:29:22.992252",
     "status": "completed"
    },
    "tags": []
   },
   "outputs": [],
   "source": [
    "## Creating a new columns fro mileage and door\n",
    "new = data['Mileage'].str.split(' ', n=1, expand =True)\n",
    "data['New_mil'] = new[0]\n",
    "data['New_mil'] = pd.to_numeric(data['New_mil'])"
   ]
  },
  {
   "cell_type": "code",
   "execution_count": 19,
   "id": "e3966cf9",
   "metadata": {
    "execution": {
     "iopub.execute_input": "2022-09-19T00:29:23.134745Z",
     "iopub.status.busy": "2022-09-19T00:29:23.134044Z",
     "iopub.status.idle": "2022-09-19T00:29:23.170211Z",
     "shell.execute_reply": "2022-09-19T00:29:23.169266Z"
    },
    "papermill": {
     "duration": 0.063686,
     "end_time": "2022-09-19T00:29:23.172833",
     "exception": false,
     "start_time": "2022-09-19T00:29:23.109147",
     "status": "completed"
    },
    "tags": []
   },
   "outputs": [],
   "source": [
    "## splitting door collums\n",
    "door = data['Doors'].str.split('-', n=1, expand =True)\n",
    "data['New_doors'] = door[0]"
   ]
  },
  {
   "cell_type": "code",
   "execution_count": 20,
   "id": "6b3a9cda",
   "metadata": {
    "execution": {
     "iopub.execute_input": "2022-09-19T00:29:23.223258Z",
     "iopub.status.busy": "2022-09-19T00:29:23.222825Z",
     "iopub.status.idle": "2022-09-19T00:29:23.233807Z",
     "shell.execute_reply": "2022-09-19T00:29:23.232609Z"
    },
    "papermill": {
     "duration": 0.039347,
     "end_time": "2022-09-19T00:29:23.236176",
     "exception": false,
     "start_time": "2022-09-19T00:29:23.196829",
     "status": "completed"
    },
    "tags": []
   },
   "outputs": [
    {
     "data": {
      "text/plain": [
       "array(['04', '02', '>5'], dtype=object)"
      ]
     },
     "execution_count": 20,
     "metadata": {},
     "output_type": "execute_result"
    }
   ],
   "source": [
    "data['New_doors'].unique()\n",
    "#data.head()"
   ]
  },
  {
   "cell_type": "code",
   "execution_count": 21,
   "id": "32d6395a",
   "metadata": {
    "execution": {
     "iopub.execute_input": "2022-09-19T00:29:23.287251Z",
     "iopub.status.busy": "2022-09-19T00:29:23.285861Z",
     "iopub.status.idle": "2022-09-19T00:29:23.331812Z",
     "shell.execute_reply": "2022-09-19T00:29:23.330342Z"
    },
    "papermill": {
     "duration": 0.075135,
     "end_time": "2022-09-19T00:29:23.335163",
     "exception": false,
     "start_time": "2022-09-19T00:29:23.260028",
     "status": "completed"
    },
    "tags": []
   },
   "outputs": [
    {
     "name": "stdout",
     "output_type": "stream",
     "text": [
      "ID : [45654403 44731507 45774419 ... 45804997 45793526 45813273]\n",
      "Price : [13328. 16621.  8467. ... 56814. 63886. 22075.]\n",
      "Levy : ['1399' '1018' '-' '862' '446' '891' '761' '751' '394' '1053' '1055'\n",
      " '1079' '810' '2386' '1850' '531' '586' '1249' '2455' '583' '1537' '1288'\n",
      " '915' '1750' '707' '1077' '1486' '1091' '650' '382' '1436' '1194' '503'\n",
      " '1017' '1104' '639' '629' '919' '781' '530' '640' '765' '777' '779' '934'\n",
      " '769' '645' '1185' '1324' '830' '1187' '1111' '760' '642' '1604' '1095'\n",
      " '966' '473' '1138' '1811' '988' '917' '1156' '687' '11714' '836' '1347'\n",
      " '2866' '1646' '259' '609' '697' '585' '475' '690' '308' '1823' '1361'\n",
      " '1273' '924' '584' '2078' '831' '1172' '893' '1872' '1885' '1266' '447'\n",
      " '2148' '1730' '730' '289' '502' '333' '1325' '247' '879' '1342' '1327'\n",
      " '1598' '1514' '1058' '738' '1935' '481' '1522' '1282' '456' '880' '900'\n",
      " '798' '1277' '442' '1051' '790' '1292' '1047' '528' '1211' '1493' '1793'\n",
      " '574' '930' '1998' '271' '706' '1481' '1677' '1661' '1286' '1408' '1090'\n",
      " '595' '1451' '1267' '993' '1714' '878' '641' '749' '1511' '603' '353'\n",
      " '877' '1236' '1141' '397' '784' '1024' '1357' '1301' '770' '922' '1438'\n",
      " '753' '607' '1363' '638' '490' '431' '565' '517' '833' '489' '1760' '986'\n",
      " '1841' '1620' '1360' '474' '1099' '978' '1624' '1946' '1268' '1307' '696'\n",
      " '649' '666' '2151' '551' '800' '971' '1323' '2377' '1845' '1083' '694'\n",
      " '463' '419' '345' '1515' '1505' '2056' '1203' '729' '460' '1356' '876'\n",
      " '911' '1190' '780' '448' '2410' '1848' '1148' '834' '1275' '1028' '1197'\n",
      " '724' '890' '1705' '505' '789' '2959' '518' '461' '1719' '2858' '3156'\n",
      " '2225' '2177' '1968' '1888' '1308' '2736' '1103' '557' '2195' '843'\n",
      " '1664' '723' '4508' '562' '501' '2018' '1076' '1202' '3301' '691' '1440'\n",
      " '1869' '1178' '418' '1820' '1413' '488' '1304' '363' '2108' '521' '1659'\n",
      " '87' '1411' '1528' '3292' '7058' '1578' '627' '874' '1996' '1488' '5679'\n",
      " '1234' '5603' '400' '889' '3268' '875' '949' '2265' '441' '742' '425'\n",
      " '2476' '2971' '614' '1816' '1375' '1405' '2297' '1062' '1113' '420'\n",
      " '2469' '658' '1951' '2670' '2578' '1995' '1032' '994' '1011' '2421'\n",
      " '1296' '155' '494' '426' '1086' '961' '2236' '1829' '764' '1834' '1054'\n",
      " '617' '1529' '2266' '637' '626' '1832' '1016' '2002' '1756' '746' '1285'\n",
      " '2690' '1118' '5332' '980' '1807' '970' '1228' '1195' '1132' '1768'\n",
      " '1384' '1080' '7063' '1817' '1452' '1975' '1368' '702' '1974' '1781'\n",
      " '1036' '944' '663' '364' '1539' '1345' '1680' '2209' '741' '1575' '695'\n",
      " '1317' '294' '1525' '424' '997' '1473' '1552' '2819' '2188' '1668' '3057'\n",
      " '799' '1502' '2606' '552' '1694' '1759' '1110' '399' '1470' '1174' '5877'\n",
      " '1474' '1688' '526' '686' '5908' '1107' '2070' '1468' '1246' '1685' '556'\n",
      " '1533' '1917' '1346' '732' '692' '579' '421' '362' '3505' '1855' '2711'\n",
      " '1586' '3739' '681' '1708' '2278' '1701' '722' '1482' '928' '827' '832'\n",
      " '527' '604' '173' '1341' '3329' '1553' '859' '167' '916' '828' '2082'\n",
      " '1176' '1108' '975' '3008' '1516' '2269' '1699' '2073' '1031' '1503'\n",
      " '2364' '1030' '1442' '5666' '2715' '1437' '2067' '1426' '2908' '1279'\n",
      " '866' '4283' '279' '2658' '3015' '2004' '1391' '4736' '748' '1466' '644'\n",
      " '683' '2705' '1297' '731' '1252' '2216' '3141' '3273' '1518' '1723'\n",
      " '1588' '972' '682' '1094' '668' '175' '967' '402' '3894' '1960' '1599'\n",
      " '2000' '2084' '1621' '714' '1109' '3989' '873' '1572' '1163' '1991'\n",
      " '1716' '1673' '2562' '2874' '965' '462' '605' '1948' '1736' '3518' '2054'\n",
      " '2467' '1681' '1272' '1205' '750' '2156' '2566' '115' '524' '3184' '676'\n",
      " '1678' '612' '328' '955' '1441' '1675' '3965' '2909' '623' '822' '867'\n",
      " '3025' '1993' '792' '636' '4057' '3743' '2337' '2570' '2418' '2472'\n",
      " '3910' '1662' '2123' '2628' '3208' '2080' '3699' '2913' '864' '2505'\n",
      " '870' '7536' '1924' '1671' '1064' '1836' '1866' '4741' '841' '1369'\n",
      " '5681' '3112' '1366' '2223' '1198' '1039' '3811' '3571' '1387' '1171'\n",
      " '1365' '1531' '1590' '11706' '2308' '4860' '1641' '1045' '1901']\n",
      "Manufacturer : ['LEXUS' 'CHEVROLET' 'HONDA' 'FORD' 'HYUNDAI' 'TOYOTA' 'MERCEDES-BENZ'\n",
      " 'OPEL' 'PORSCHE' 'BMW' 'JEEP' 'VOLKSWAGEN' 'AUDI' 'RENAULT' 'NISSAN'\n",
      " 'SUBARU' 'DAEWOO' 'KIA' 'MITSUBISHI' 'SSANGYONG' 'MAZDA' 'GMC' 'FIAT'\n",
      " 'INFINITI' 'ALFA ROMEO' 'SUZUKI' 'ACURA' 'LINCOLN' 'VAZ' 'GAZ' 'CITROEN'\n",
      " 'LAND ROVER' 'MINI' 'DODGE' 'CHRYSLER' 'JAGUAR' 'ISUZU' 'SKODA'\n",
      " 'DAIHATSU' 'BUICK' 'TESLA' 'CADILLAC' 'PEUGEOT' 'BENTLEY' 'VOLVO' 'სხვა'\n",
      " 'HAVAL' 'HUMMER' 'SCION' 'UAZ' 'MERCURY' 'ZAZ' 'ROVER' 'SEAT' 'LANCIA'\n",
      " 'MOSKVICH' 'MASERATI' 'FERRARI' 'SAAB' 'LAMBORGHINI' 'ROLLS-ROYCE'\n",
      " 'PONTIAC' 'SATURN' 'ASTON MARTIN' 'GREATWALL']\n",
      "Model : ['RX 450' 'Equinox' 'FIT' ... 'E 230 124' 'RX 450 F SPORT' 'Prius C aqua']\n",
      "Prod. year : [2010 2011 2006 2014 2016 2013 2007 1999 1997 2018 2008 2012 2017 2001\n",
      " 1995 2009 2000 2019 2015 2004 1998 1990 2005 2003 1985 1996 2002 1993\n",
      " 1992 1988 1977 1989 1994 2020 1984 1986 1991 1983 1953 1964 1974 1987\n",
      " 1943 1978 1965 1976 1957 1980 1939 1968 1947 1982 1981 1973]\n",
      "Category : ['Jeep' 'Hatchback' 'Sedan' 'Microbus' 'Goods wagon' 'Universal' 'Coupe'\n",
      " 'Minivan' 'Cabriolet' 'Limousine' 'Pickup']\n",
      "Leather interior : ['Yes' 'No']\n",
      "Fuel type : ['Hybrid' 'Petrol' 'Diesel' 'CNG' 'Plug-in Hybrid' 'LPG' 'Hydrogen']\n",
      "Engine volume : ['3.5' '3' '1.3' '2.5' '2' '1.8' '2.4' '4' '1.6' '3.3' '2.0 Turbo'\n",
      " '2.2 Turbo' '4.7' '1.5' '4.4' '3.0 Turbo' '1.4 Turbo' '3.6' '2.3'\n",
      " '1.5 Turbo' '1.6 Turbo' '2.2' '2.3 Turbo' '1.4' '5.5' '2.8 Turbo' '3.2'\n",
      " '3.8' '4.6' '1.2' '5' '1.7' '2.9' '0.5' '1.8 Turbo' '2.4 Turbo'\n",
      " '3.5 Turbo' '1.9' '2.7' '4.8' '5.3' '0.4' '2.8' '3.2 Turbo' '1.1' '2.1'\n",
      " '0.7' '5.4' '1.3 Turbo' '3.7' '1' '2.5 Turbo' '2.6' '1.9 Turbo'\n",
      " '4.4 Turbo' '4.7 Turbo' '0.8' '0.2 Turbo' '5.7' '4.8 Turbo' '4.6 Turbo'\n",
      " '6.7' '6.2' '1.2 Turbo' '3.4' '1.7 Turbo' '6.3 Turbo' '2.7 Turbo' '4.3'\n",
      " '4.2' '2.9 Turbo' '0' '4.0 Turbo' '20' '3.6 Turbo' '0.3' '3.7 Turbo'\n",
      " '5.9' '5.5 Turbo' '0.2' '2.1 Turbo' '5.6' '6' '0.7 Turbo' '0.6 Turbo'\n",
      " '6.8' '4.5' '0.6' '7.3' '0.1' '1.0 Turbo' '6.3' '4.5 Turbo' '0.8 Turbo'\n",
      " '4.2 Turbo' '3.1' '5.0 Turbo' '6.4' '3.9' '5.7 Turbo' '0.9' '0.4 Turbo'\n",
      " '5.4 Turbo' '0.3 Turbo' '5.2' '5.8' '1.1 Turbo']\n",
      "Mileage : ['186005 km' '192000 km' '200000 km' ... '140607 km' '307325 km'\n",
      " '186923 km']\n",
      "Cylinders : [ 6.  4.  8.  1. 12.  3.  2. 16.  5.  7.  9. 10. 14.]\n",
      "Gear box type : ['Automatic' 'Tiptronic' 'Variator' 'Manual']\n",
      "Drive wheels : ['4x4' 'Front' 'Rear']\n",
      "Doors : ['04-May' '02-Mar' '>5']\n",
      "Wheel : ['Left wheel' 'Right-hand drive']\n",
      "Color : ['Silver' 'Black' 'White' 'Grey' 'Blue' 'Green' 'Red' 'Sky blue' 'Orange'\n",
      " 'Yellow' 'Brown' 'Golden' 'Beige' 'Carnelian red' 'Purple' 'Pink']\n",
      "Airbags : [12  8  2  0  4  6 10  3  1 16  5  7  9 11 14 15 13]\n",
      "New_mil : [186005 192000 200000 ... 140607 307325 186923]\n",
      "New_doors : ['04' '02' '>5']\n"
     ]
    }
   ],
   "source": [
    "# checking for wrong entries such as special symbols e.g -,?,*,#,$ etc.\n",
    "for col in data.columns:\n",
    "    print('{} : {}'.format(col, data[col].unique()))"
   ]
  },
  {
   "cell_type": "markdown",
   "id": "5493e164",
   "metadata": {
    "papermill": {
     "duration": 0.025308,
     "end_time": "2022-09-19T00:29:23.387962",
     "exception": false,
     "start_time": "2022-09-19T00:29:23.362654",
     "status": "completed"
    },
    "tags": []
   },
   "source": [
    "It appears we have two special character '-' and '>' for Levy and New_doors respectively."
   ]
  },
  {
   "cell_type": "markdown",
   "id": "136fe56a",
   "metadata": {
    "papermill": {
     "duration": 0.025331,
     "end_time": "2022-09-19T00:29:23.438159",
     "exception": false,
     "start_time": "2022-09-19T00:29:23.412828",
     "status": "completed"
    },
    "tags": []
   },
   "source": [
    "It appears we still have a column to split. In the 'engine volume' column, some of the values has turbo and some doesn't so we will split and remove the turbo so it will remain the numbers alone"
   ]
  },
  {
   "cell_type": "code",
   "execution_count": 22,
   "id": "ff33f0e2",
   "metadata": {
    "execution": {
     "iopub.execute_input": "2022-09-19T00:29:23.492128Z",
     "iopub.status.busy": "2022-09-19T00:29:23.491631Z",
     "iopub.status.idle": "2022-09-19T00:29:23.534278Z",
     "shell.execute_reply": "2022-09-19T00:29:23.533037Z"
    },
    "papermill": {
     "duration": 0.073467,
     "end_time": "2022-09-19T00:29:23.536950",
     "exception": false,
     "start_time": "2022-09-19T00:29:23.463483",
     "status": "completed"
    },
    "tags": []
   },
   "outputs": [],
   "source": [
    "## Creating a new columns fro mileage and door\n",
    "eng_vol = data['Engine volume'].str.split(' ', n=1, expand =True)\n",
    "data['New_engine_volume'] = eng_vol[0]\n",
    "data['New_engine_volume'] = pd.to_numeric(data['New_engine_volume'])"
   ]
  },
  {
   "cell_type": "code",
   "execution_count": 23,
   "id": "063b5624",
   "metadata": {
    "execution": {
     "iopub.execute_input": "2022-09-19T00:29:23.589085Z",
     "iopub.status.busy": "2022-09-19T00:29:23.588585Z",
     "iopub.status.idle": "2022-09-19T00:29:23.811405Z",
     "shell.execute_reply": "2022-09-19T00:29:23.810216Z"
    },
    "papermill": {
     "duration": 0.251942,
     "end_time": "2022-09-19T00:29:23.813784",
     "exception": false,
     "start_time": "2022-09-19T00:29:23.561842",
     "status": "completed"
    },
    "tags": []
   },
   "outputs": [
    {
     "data": {
      "text/plain": [
       "<AxesSubplot:xlabel='New_doors', ylabel='count'>"
      ]
     },
     "execution_count": 23,
     "metadata": {},
     "output_type": "execute_result"
    },
    {
     "data": {
      "image/png": "[encoded data removed]",
      "text/plain": [
       "<Figure size 432x288 with 1 Axes>"
      ]
     },
     "metadata": {
      "needs_background": "light"
     },
     "output_type": "display_data"
    }
   ],
   "source": [
    "sns.countplot(data=data, x='New_doors')"
   ]
  },
  {
   "cell_type": "markdown",
   "id": "0971ca6e",
   "metadata": {
    "papermill": {
     "duration": 0.024531,
     "end_time": "2022-09-19T00:29:23.863576",
     "exception": false,
     "start_time": "2022-09-19T00:29:23.839045",
     "status": "completed"
    },
    "tags": []
   },
   "source": [
    "Since we only have three (3) categories of new doors e.g cars with 4-doors, cars with 2-doors and cars with more than 5-doors."
   ]
  },
  {
   "cell_type": "markdown",
   "id": "ac5dd36c",
   "metadata": {
    "papermill": {
     "duration": 0.024942,
     "end_time": "2022-09-19T00:29:23.913378",
     "exception": false,
     "start_time": "2022-09-19T00:29:23.888436",
     "status": "completed"
    },
    "tags": []
   },
   "source": [
    "Let's take a look at the Levy column"
   ]
  },
  {
   "cell_type": "code",
   "execution_count": 24,
   "id": "b3734a3f",
   "metadata": {
    "execution": {
     "iopub.execute_input": "2022-09-19T00:29:23.965706Z",
     "iopub.status.busy": "2022-09-19T00:29:23.965231Z",
     "iopub.status.idle": "2022-09-19T00:29:24.016174Z",
     "shell.execute_reply": "2022-09-19T00:29:24.015101Z"
    },
    "papermill": {
     "duration": 0.079937,
     "end_time": "2022-09-19T00:29:24.018586",
     "exception": false,
     "start_time": "2022-09-19T00:29:23.938649",
     "status": "completed"
    },
    "tags": []
   },
   "outputs": [
    {
     "data": {
      "text/html": [
       "<div>\n",
       "<style scoped>\n",
       "    .dataframe tbody tr th:only-of-type {\n",
       "        vertical-align: middle;\n",
       "    }\n",
       "\n",
       "    .dataframe tbody tr th {\n",
       "        vertical-align: top;\n",
       "    }\n",
       "\n",
       "    .dataframe thead th {\n",
       "        text-align: right;\n",
       "    }\n",
       "</style>\n",
       "<table border=\"1\" class=\"dataframe\">\n",
       "  <thead>\n",
       "    <tr style=\"text-align: right;\">\n",
       "      <th></th>\n",
       "      <th>ID</th>\n",
       "      <th>Price</th>\n",
       "      <th>Levy</th>\n",
       "      <th>Manufacturer</th>\n",
       "      <th>Model</th>\n",
       "      <th>Prod. year</th>\n",
       "      <th>Category</th>\n",
       "      <th>Leather interior</th>\n",
       "      <th>Fuel type</th>\n",
       "      <th>Engine volume</th>\n",
       "      <th>...</th>\n",
       "      <th>Cylinders</th>\n",
       "      <th>Gear box type</th>\n",
       "      <th>Drive wheels</th>\n",
       "      <th>Doors</th>\n",
       "      <th>Wheel</th>\n",
       "      <th>Color</th>\n",
       "      <th>Airbags</th>\n",
       "      <th>New_mil</th>\n",
       "      <th>New_doors</th>\n",
       "      <th>New_engine_volume</th>\n",
       "    </tr>\n",
       "  </thead>\n",
       "  <tbody>\n",
       "    <tr>\n",
       "      <th>2</th>\n",
       "      <td>45774419</td>\n",
       "      <td>8467.0</td>\n",
       "      <td>-</td>\n",
       "      <td>HONDA</td>\n",
       "      <td>FIT</td>\n",
       "      <td>2006</td>\n",
       "      <td>Hatchback</td>\n",
       "      <td>No</td>\n",
       "      <td>Petrol</td>\n",
       "      <td>1.3</td>\n",
       "      <td>...</td>\n",
       "      <td>4.0</td>\n",
       "      <td>Variator</td>\n",
       "      <td>Front</td>\n",
       "      <td>04-May</td>\n",
       "      <td>Right-hand drive</td>\n",
       "      <td>Black</td>\n",
       "      <td>2</td>\n",
       "      <td>200000</td>\n",
       "      <td>04</td>\n",
       "      <td>1.3</td>\n",
       "    </tr>\n",
       "    <tr>\n",
       "      <th>9</th>\n",
       "      <td>45756839</td>\n",
       "      <td>26657.0</td>\n",
       "      <td>-</td>\n",
       "      <td>LEXUS</td>\n",
       "      <td>RX 350</td>\n",
       "      <td>2007</td>\n",
       "      <td>Jeep</td>\n",
       "      <td>Yes</td>\n",
       "      <td>Petrol</td>\n",
       "      <td>3.5</td>\n",
       "      <td>...</td>\n",
       "      <td>6.0</td>\n",
       "      <td>Automatic</td>\n",
       "      <td>4x4</td>\n",
       "      <td>04-May</td>\n",
       "      <td>Left wheel</td>\n",
       "      <td>Silver</td>\n",
       "      <td>12</td>\n",
       "      <td>128500</td>\n",
       "      <td>04</td>\n",
       "      <td>3.5</td>\n",
       "    </tr>\n",
       "    <tr>\n",
       "      <th>11</th>\n",
       "      <td>45814819</td>\n",
       "      <td>8781.0</td>\n",
       "      <td>-</td>\n",
       "      <td>FORD</td>\n",
       "      <td>Transit</td>\n",
       "      <td>1999</td>\n",
       "      <td>Microbus</td>\n",
       "      <td>No</td>\n",
       "      <td>CNG</td>\n",
       "      <td>4</td>\n",
       "      <td>...</td>\n",
       "      <td>8.0</td>\n",
       "      <td>Manual</td>\n",
       "      <td>Rear</td>\n",
       "      <td>02-Mar</td>\n",
       "      <td>Left wheel</td>\n",
       "      <td>Blue</td>\n",
       "      <td>0</td>\n",
       "      <td>0</td>\n",
       "      <td>02</td>\n",
       "      <td>4.0</td>\n",
       "    </tr>\n",
       "    <tr>\n",
       "      <th>12</th>\n",
       "      <td>45815568</td>\n",
       "      <td>3000.0</td>\n",
       "      <td>-</td>\n",
       "      <td>OPEL</td>\n",
       "      <td>Vectra</td>\n",
       "      <td>1997</td>\n",
       "      <td>Goods wagon</td>\n",
       "      <td>No</td>\n",
       "      <td>CNG</td>\n",
       "      <td>1.6</td>\n",
       "      <td>...</td>\n",
       "      <td>4.0</td>\n",
       "      <td>Manual</td>\n",
       "      <td>Front</td>\n",
       "      <td>04-May</td>\n",
       "      <td>Left wheel</td>\n",
       "      <td>White</td>\n",
       "      <td>4</td>\n",
       "      <td>350000</td>\n",
       "      <td>04</td>\n",
       "      <td>1.6</td>\n",
       "    </tr>\n",
       "    <tr>\n",
       "      <th>23</th>\n",
       "      <td>45814106</td>\n",
       "      <td>7840.0</td>\n",
       "      <td>-</td>\n",
       "      <td>FORD</td>\n",
       "      <td>Transit</td>\n",
       "      <td>2001</td>\n",
       "      <td>Microbus</td>\n",
       "      <td>No</td>\n",
       "      <td>Diesel</td>\n",
       "      <td>2.0 Turbo</td>\n",
       "      <td>...</td>\n",
       "      <td>4.0</td>\n",
       "      <td>Manual</td>\n",
       "      <td>Front</td>\n",
       "      <td>02-Mar</td>\n",
       "      <td>Left wheel</td>\n",
       "      <td>White</td>\n",
       "      <td>0</td>\n",
       "      <td>230000</td>\n",
       "      <td>02</td>\n",
       "      <td>2.0</td>\n",
       "    </tr>\n",
       "    <tr>\n",
       "      <th>...</th>\n",
       "      <td>...</td>\n",
       "      <td>...</td>\n",
       "      <td>...</td>\n",
       "      <td>...</td>\n",
       "      <td>...</td>\n",
       "      <td>...</td>\n",
       "      <td>...</td>\n",
       "      <td>...</td>\n",
       "      <td>...</td>\n",
       "      <td>...</td>\n",
       "      <td>...</td>\n",
       "      <td>...</td>\n",
       "      <td>...</td>\n",
       "      <td>...</td>\n",
       "      <td>...</td>\n",
       "      <td>...</td>\n",
       "      <td>...</td>\n",
       "      <td>...</td>\n",
       "      <td>...</td>\n",
       "      <td>...</td>\n",
       "      <td>...</td>\n",
       "    </tr>\n",
       "    <tr>\n",
       "      <th>19223</th>\n",
       "      <td>44571028</td>\n",
       "      <td>8781.0</td>\n",
       "      <td>-</td>\n",
       "      <td>DODGE</td>\n",
       "      <td>Caliber</td>\n",
       "      <td>2008</td>\n",
       "      <td>Hatchback</td>\n",
       "      <td>No</td>\n",
       "      <td>Petrol</td>\n",
       "      <td>2.4</td>\n",
       "      <td>...</td>\n",
       "      <td>4.0</td>\n",
       "      <td>Automatic</td>\n",
       "      <td>Front</td>\n",
       "      <td>04-May</td>\n",
       "      <td>Left wheel</td>\n",
       "      <td>Blue</td>\n",
       "      <td>4</td>\n",
       "      <td>0</td>\n",
       "      <td>04</td>\n",
       "      <td>2.4</td>\n",
       "    </tr>\n",
       "    <tr>\n",
       "      <th>19224</th>\n",
       "      <td>45768089</td>\n",
       "      <td>19130.0</td>\n",
       "      <td>-</td>\n",
       "      <td>KIA</td>\n",
       "      <td>Optima ex</td>\n",
       "      <td>2014</td>\n",
       "      <td>Sedan</td>\n",
       "      <td>Yes</td>\n",
       "      <td>Petrol</td>\n",
       "      <td>2.4</td>\n",
       "      <td>...</td>\n",
       "      <td>4.0</td>\n",
       "      <td>Automatic</td>\n",
       "      <td>Front</td>\n",
       "      <td>04-May</td>\n",
       "      <td>Left wheel</td>\n",
       "      <td>Black</td>\n",
       "      <td>12</td>\n",
       "      <td>35800</td>\n",
       "      <td>04</td>\n",
       "      <td>2.4</td>\n",
       "    </tr>\n",
       "    <tr>\n",
       "      <th>19226</th>\n",
       "      <td>45796788</td>\n",
       "      <td>7840.0</td>\n",
       "      <td>-</td>\n",
       "      <td>NISSAN</td>\n",
       "      <td>Skyline</td>\n",
       "      <td>2003</td>\n",
       "      <td>Sedan</td>\n",
       "      <td>Yes</td>\n",
       "      <td>Petrol</td>\n",
       "      <td>3</td>\n",
       "      <td>...</td>\n",
       "      <td>6.0</td>\n",
       "      <td>Tiptronic</td>\n",
       "      <td>Rear</td>\n",
       "      <td>04-May</td>\n",
       "      <td>Right-hand drive</td>\n",
       "      <td>White</td>\n",
       "      <td>0</td>\n",
       "      <td>220000</td>\n",
       "      <td>04</td>\n",
       "      <td>3.0</td>\n",
       "    </tr>\n",
       "    <tr>\n",
       "      <th>19229</th>\n",
       "      <td>39977395</td>\n",
       "      <td>50.0</td>\n",
       "      <td>-</td>\n",
       "      <td>TOYOTA</td>\n",
       "      <td>Prius</td>\n",
       "      <td>2008</td>\n",
       "      <td>Hatchback</td>\n",
       "      <td>No</td>\n",
       "      <td>Hybrid</td>\n",
       "      <td>1.5</td>\n",
       "      <td>...</td>\n",
       "      <td>4.0</td>\n",
       "      <td>Automatic</td>\n",
       "      <td>Front</td>\n",
       "      <td>04-May</td>\n",
       "      <td>Left wheel</td>\n",
       "      <td>Silver</td>\n",
       "      <td>6</td>\n",
       "      <td>150000</td>\n",
       "      <td>04</td>\n",
       "      <td>1.5</td>\n",
       "    </tr>\n",
       "    <tr>\n",
       "      <th>19232</th>\n",
       "      <td>45798355</td>\n",
       "      <td>8467.0</td>\n",
       "      <td>-</td>\n",
       "      <td>MERCEDES-BENZ</td>\n",
       "      <td>CLK 200</td>\n",
       "      <td>1999</td>\n",
       "      <td>Coupe</td>\n",
       "      <td>Yes</td>\n",
       "      <td>CNG</td>\n",
       "      <td>2.0 Turbo</td>\n",
       "      <td>...</td>\n",
       "      <td>4.0</td>\n",
       "      <td>Manual</td>\n",
       "      <td>Rear</td>\n",
       "      <td>02-Mar</td>\n",
       "      <td>Left wheel</td>\n",
       "      <td>Silver</td>\n",
       "      <td>5</td>\n",
       "      <td>300000</td>\n",
       "      <td>02</td>\n",
       "      <td>2.0</td>\n",
       "    </tr>\n",
       "  </tbody>\n",
       "</table>\n",
       "<p>5819 rows × 21 columns</p>\n",
       "</div>"
      ],
      "text/plain": [
       "             ID    Price Levy   Manufacturer      Model  Prod. year  \\\n",
       "2      45774419   8467.0    -          HONDA        FIT        2006   \n",
       "9      45756839  26657.0    -          LEXUS     RX 350        2007   \n",
       "11     45814819   8781.0    -           FORD    Transit        1999   \n",
       "12     45815568   3000.0    -           OPEL     Vectra        1997   \n",
       "23     45814106   7840.0    -           FORD    Transit        2001   \n",
       "...         ...      ...  ...            ...        ...         ...   \n",
       "19223  44571028   8781.0    -          DODGE    Caliber        2008   \n",
       "19224  45768089  19130.0    -            KIA  Optima ex        2014   \n",
       "19226  45796788   7840.0    -         NISSAN    Skyline        2003   \n",
       "19229  39977395     50.0    -         TOYOTA      Prius        2008   \n",
       "19232  45798355   8467.0    -  MERCEDES-BENZ    CLK 200        1999   \n",
       "\n",
       "          Category Leather interior Fuel type Engine volume  ... Cylinders  \\\n",
       "2        Hatchback               No    Petrol           1.3  ...       4.0   \n",
       "9             Jeep              Yes    Petrol           3.5  ...       6.0   \n",
       "11        Microbus               No       CNG             4  ...       8.0   \n",
       "12     Goods wagon               No       CNG           1.6  ...       4.0   \n",
       "23        Microbus               No    Diesel     2.0 Turbo  ...       4.0   \n",
       "...            ...              ...       ...           ...  ...       ...   \n",
       "19223    Hatchback               No    Petrol           2.4  ...       4.0   \n",
       "19224        Sedan              Yes    Petrol           2.4  ...       4.0   \n",
       "19226        Sedan              Yes    Petrol             3  ...       6.0   \n",
       "19229    Hatchback               No    Hybrid           1.5  ...       4.0   \n",
       "19232        Coupe              Yes       CNG     2.0 Turbo  ...       4.0   \n",
       "\n",
       "       Gear box type Drive wheels   Doors             Wheel   Color Airbags  \\\n",
       "2           Variator        Front  04-May  Right-hand drive   Black       2   \n",
       "9          Automatic          4x4  04-May        Left wheel  Silver      12   \n",
       "11            Manual         Rear  02-Mar        Left wheel    Blue       0   \n",
       "12            Manual        Front  04-May        Left wheel   White       4   \n",
       "23            Manual        Front  02-Mar        Left wheel   White       0   \n",
       "...              ...          ...     ...               ...     ...     ...   \n",
       "19223      Automatic        Front  04-May        Left wheel    Blue       4   \n",
       "19224      Automatic        Front  04-May        Left wheel   Black      12   \n",
       "19226      Tiptronic         Rear  04-May  Right-hand drive   White       0   \n",
       "19229      Automatic        Front  04-May        Left wheel  Silver       6   \n",
       "19232         Manual         Rear  02-Mar        Left wheel  Silver       5   \n",
       "\n",
       "       New_mil  New_doors New_engine_volume  \n",
       "2       200000         04               1.3  \n",
       "9       128500         04               3.5  \n",
       "11           0         02               4.0  \n",
       "12      350000         04               1.6  \n",
       "23      230000         02               2.0  \n",
       "...        ...        ...               ...  \n",
       "19223        0         04               2.4  \n",
       "19224    35800         04               2.4  \n",
       "19226   220000         04               3.0  \n",
       "19229   150000         04               1.5  \n",
       "19232   300000         02               2.0  \n",
       "\n",
       "[5819 rows x 21 columns]"
      ]
     },
     "execution_count": 24,
     "metadata": {},
     "output_type": "execute_result"
    }
   ],
   "source": [
    "data[data['Levy'] == '-']"
   ]
  },
  {
   "cell_type": "markdown",
   "id": "88b6bc8b",
   "metadata": {
    "papermill": {
     "duration": 0.025177,
     "end_time": "2022-09-19T00:29:24.069945",
     "exception": false,
     "start_time": "2022-09-19T00:29:24.044768",
     "status": "completed"
    },
    "tags": []
   },
   "source": [
    "We obviously can't make use of 'Levy' column because the missing value is too much so as such we will be droping the column.\n",
    "\n",
    "The list of columns that we will be droping are:ID, Levy Mileage, Drive wheels, Doors"
   ]
  },
  {
   "cell_type": "code",
   "execution_count": 25,
   "id": "55051de9",
   "metadata": {
    "execution": {
     "iopub.execute_input": "2022-09-19T00:29:24.123110Z",
     "iopub.status.busy": "2022-09-19T00:29:24.122218Z",
     "iopub.status.idle": "2022-09-19T00:29:24.131661Z",
     "shell.execute_reply": "2022-09-19T00:29:24.130655Z"
    },
    "papermill": {
     "duration": 0.038767,
     "end_time": "2022-09-19T00:29:24.134173",
     "exception": false,
     "start_time": "2022-09-19T00:29:24.095406",
     "status": "completed"
    },
    "tags": []
   },
   "outputs": [],
   "source": [
    "data = data.drop(['ID','Levy', 'Mileage', 'Drive wheels', 'Doors', 'Engine volume'], axis = 1)"
   ]
  },
  {
   "cell_type": "markdown",
   "id": "da6d7036",
   "metadata": {
    "papermill": {
     "duration": 0.026923,
     "end_time": "2022-09-19T00:29:24.188170",
     "exception": false,
     "start_time": "2022-09-19T00:29:24.161247",
     "status": "completed"
    },
    "tags": []
   },
   "source": [
    "##### Correlation with Target (Price) column"
   ]
  },
  {
   "cell_type": "code",
   "execution_count": 26,
   "id": "c86ea80f",
   "metadata": {
    "execution": {
     "iopub.execute_input": "2022-09-19T00:29:24.245196Z",
     "iopub.status.busy": "2022-09-19T00:29:24.243694Z",
     "iopub.status.idle": "2022-09-19T00:29:24.255652Z",
     "shell.execute_reply": "2022-09-19T00:29:24.254356Z"
    },
    "papermill": {
     "duration": 0.04276,
     "end_time": "2022-09-19T00:29:24.257918",
     "exception": false,
     "start_time": "2022-09-19T00:29:24.215158",
     "status": "completed"
    },
    "tags": []
   },
   "outputs": [
    {
     "data": {
      "text/plain": [
       "0.2862518716542936"
      ]
     },
     "execution_count": 26,
     "metadata": {},
     "output_type": "execute_result"
    }
   ],
   "source": [
    "data['Price'].corr(data['Prod. year'])"
   ]
  },
  {
   "cell_type": "code",
   "execution_count": 27,
   "id": "b2c11ab2",
   "metadata": {
    "execution": {
     "iopub.execute_input": "2022-09-19T00:29:24.313634Z",
     "iopub.status.busy": "2022-09-19T00:29:24.312478Z",
     "iopub.status.idle": "2022-09-19T00:29:24.321135Z",
     "shell.execute_reply": "2022-09-19T00:29:24.319847Z"
    },
    "papermill": {
     "duration": 0.039667,
     "end_time": "2022-09-19T00:29:24.323512",
     "exception": false,
     "start_time": "2022-09-19T00:29:24.283845",
     "status": "completed"
    },
    "tags": []
   },
   "outputs": [
    {
     "data": {
      "text/plain": [
       "0.13040845662604442"
      ]
     },
     "execution_count": 27,
     "metadata": {},
     "output_type": "execute_result"
    }
   ],
   "source": [
    "data['Price'].corr(data['New_engine_volume'])"
   ]
  },
  {
   "cell_type": "code",
   "execution_count": 28,
   "id": "405dd2ad",
   "metadata": {
    "execution": {
     "iopub.execute_input": "2022-09-19T00:29:24.377890Z",
     "iopub.status.busy": "2022-09-19T00:29:24.377056Z",
     "iopub.status.idle": "2022-09-19T00:29:24.844682Z",
     "shell.execute_reply": "2022-09-19T00:29:24.843680Z"
    },
    "papermill": {
     "duration": 0.497716,
     "end_time": "2022-09-19T00:29:24.846872",
     "exception": false,
     "start_time": "2022-09-19T00:29:24.349156",
     "status": "completed"
    },
    "tags": []
   },
   "outputs": [
    {
     "data": {
      "text/plain": [
       "<AxesSubplot:>"
      ]
     },
     "execution_count": 28,
     "metadata": {},
     "output_type": "execute_result"
    },
    {
     "data": {
      "image/png": "[encoded data removed]",
      "text/plain": [
       "<Figure size 720x720 with 2 Axes>"
      ]
     },
     "metadata": {
      "needs_background": "light"
     },
     "output_type": "display_data"
    }
   ],
   "source": [
    "plt.figure(figsize=(10, 10))\n",
    "sns.heatmap(data.corr(), cbar=True, annot=True, cmap='Blues')"
   ]
  },
  {
   "cell_type": "markdown",
   "id": "d95ce425",
   "metadata": {
    "papermill": {
     "duration": 0.025908,
     "end_time": "2022-09-19T00:29:24.899474",
     "exception": false,
     "start_time": "2022-09-19T00:29:24.873566",
     "status": "completed"
    },
    "tags": []
   },
   "source": [
    "<b><u>Note:</u></b> 0.6 and above is considered as good correlation here<br>\n",
    "- New_engine_volume and cylinder seems to be the only columns that are highly correlated with 0.78"
   ]
  },
  {
   "cell_type": "markdown",
   "id": "7516ba4b",
   "metadata": {
    "papermill": {
     "duration": 0.026142,
     "end_time": "2022-09-19T00:29:24.952454",
     "exception": false,
     "start_time": "2022-09-19T00:29:24.926312",
     "status": "completed"
    },
    "tags": []
   },
   "source": [
    "## Training ML-Model<a class=\"anchor\" id=\"model\"></a>"
   ]
  },
  {
   "cell_type": "code",
   "execution_count": 29,
   "id": "3c9812f4",
   "metadata": {
    "execution": {
     "iopub.execute_input": "2022-09-19T00:29:25.008795Z",
     "iopub.status.busy": "2022-09-19T00:29:25.008334Z",
     "iopub.status.idle": "2022-09-19T00:29:25.029480Z",
     "shell.execute_reply": "2022-09-19T00:29:25.028270Z"
    },
    "papermill": {
     "duration": 0.05256,
     "end_time": "2022-09-19T00:29:25.032153",
     "exception": false,
     "start_time": "2022-09-19T00:29:24.979593",
     "status": "completed"
    },
    "tags": []
   },
   "outputs": [
    {
     "data": {
      "text/html": [
       "<div>\n",
       "<style scoped>\n",
       "    .dataframe tbody tr th:only-of-type {\n",
       "        vertical-align: middle;\n",
       "    }\n",
       "\n",
       "    .dataframe tbody tr th {\n",
       "        vertical-align: top;\n",
       "    }\n",
       "\n",
       "    .dataframe thead th {\n",
       "        text-align: right;\n",
       "    }\n",
       "</style>\n",
       "<table border=\"1\" class=\"dataframe\">\n",
       "  <thead>\n",
       "    <tr style=\"text-align: right;\">\n",
       "      <th></th>\n",
       "      <th>Price</th>\n",
       "      <th>Manufacturer</th>\n",
       "      <th>Model</th>\n",
       "      <th>Prod. year</th>\n",
       "      <th>Category</th>\n",
       "      <th>Leather interior</th>\n",
       "      <th>Fuel type</th>\n",
       "      <th>Cylinders</th>\n",
       "      <th>Gear box type</th>\n",
       "      <th>Wheel</th>\n",
       "      <th>Color</th>\n",
       "      <th>Airbags</th>\n",
       "      <th>New_mil</th>\n",
       "      <th>New_doors</th>\n",
       "      <th>New_engine_volume</th>\n",
       "    </tr>\n",
       "  </thead>\n",
       "  <tbody>\n",
       "    <tr>\n",
       "      <th>0</th>\n",
       "      <td>13328.0</td>\n",
       "      <td>LEXUS</td>\n",
       "      <td>RX 450</td>\n",
       "      <td>2010</td>\n",
       "      <td>Jeep</td>\n",
       "      <td>Yes</td>\n",
       "      <td>Hybrid</td>\n",
       "      <td>6.0</td>\n",
       "      <td>Automatic</td>\n",
       "      <td>Left wheel</td>\n",
       "      <td>Silver</td>\n",
       "      <td>12</td>\n",
       "      <td>186005</td>\n",
       "      <td>04</td>\n",
       "      <td>3.5</td>\n",
       "    </tr>\n",
       "    <tr>\n",
       "      <th>1</th>\n",
       "      <td>16621.0</td>\n",
       "      <td>CHEVROLET</td>\n",
       "      <td>Equinox</td>\n",
       "      <td>2011</td>\n",
       "      <td>Jeep</td>\n",
       "      <td>No</td>\n",
       "      <td>Petrol</td>\n",
       "      <td>6.0</td>\n",
       "      <td>Tiptronic</td>\n",
       "      <td>Left wheel</td>\n",
       "      <td>Black</td>\n",
       "      <td>8</td>\n",
       "      <td>192000</td>\n",
       "      <td>04</td>\n",
       "      <td>3.0</td>\n",
       "    </tr>\n",
       "    <tr>\n",
       "      <th>2</th>\n",
       "      <td>8467.0</td>\n",
       "      <td>HONDA</td>\n",
       "      <td>FIT</td>\n",
       "      <td>2006</td>\n",
       "      <td>Hatchback</td>\n",
       "      <td>No</td>\n",
       "      <td>Petrol</td>\n",
       "      <td>4.0</td>\n",
       "      <td>Variator</td>\n",
       "      <td>Right-hand drive</td>\n",
       "      <td>Black</td>\n",
       "      <td>2</td>\n",
       "      <td>200000</td>\n",
       "      <td>04</td>\n",
       "      <td>1.3</td>\n",
       "    </tr>\n",
       "    <tr>\n",
       "      <th>3</th>\n",
       "      <td>3607.0</td>\n",
       "      <td>FORD</td>\n",
       "      <td>Escape</td>\n",
       "      <td>2011</td>\n",
       "      <td>Jeep</td>\n",
       "      <td>Yes</td>\n",
       "      <td>Hybrid</td>\n",
       "      <td>4.0</td>\n",
       "      <td>Automatic</td>\n",
       "      <td>Left wheel</td>\n",
       "      <td>White</td>\n",
       "      <td>0</td>\n",
       "      <td>168966</td>\n",
       "      <td>04</td>\n",
       "      <td>2.5</td>\n",
       "    </tr>\n",
       "    <tr>\n",
       "      <th>4</th>\n",
       "      <td>11726.0</td>\n",
       "      <td>HONDA</td>\n",
       "      <td>FIT</td>\n",
       "      <td>2014</td>\n",
       "      <td>Hatchback</td>\n",
       "      <td>Yes</td>\n",
       "      <td>Petrol</td>\n",
       "      <td>4.0</td>\n",
       "      <td>Automatic</td>\n",
       "      <td>Left wheel</td>\n",
       "      <td>Silver</td>\n",
       "      <td>4</td>\n",
       "      <td>91901</td>\n",
       "      <td>04</td>\n",
       "      <td>1.3</td>\n",
       "    </tr>\n",
       "  </tbody>\n",
       "</table>\n",
       "</div>"
      ],
      "text/plain": [
       "     Price Manufacturer    Model  Prod. year   Category Leather interior  \\\n",
       "0  13328.0        LEXUS   RX 450        2010       Jeep              Yes   \n",
       "1  16621.0    CHEVROLET  Equinox        2011       Jeep               No   \n",
       "2   8467.0        HONDA      FIT        2006  Hatchback               No   \n",
       "3   3607.0         FORD   Escape        2011       Jeep              Yes   \n",
       "4  11726.0        HONDA      FIT        2014  Hatchback              Yes   \n",
       "\n",
       "  Fuel type  Cylinders Gear box type             Wheel   Color  Airbags  \\\n",
       "0    Hybrid        6.0     Automatic        Left wheel  Silver       12   \n",
       "1    Petrol        6.0     Tiptronic        Left wheel   Black        8   \n",
       "2    Petrol        4.0      Variator  Right-hand drive   Black        2   \n",
       "3    Hybrid        4.0     Automatic        Left wheel   White        0   \n",
       "4    Petrol        4.0     Automatic        Left wheel  Silver        4   \n",
       "\n",
       "   New_mil New_doors  New_engine_volume  \n",
       "0   186005        04                3.5  \n",
       "1   192000        04                3.0  \n",
       "2   200000        04                1.3  \n",
       "3   168966        04                2.5  \n",
       "4    91901        04                1.3  "
      ]
     },
     "execution_count": 29,
     "metadata": {},
     "output_type": "execute_result"
    }
   ],
   "source": [
    "data.head()"
   ]
  },
  {
   "cell_type": "markdown",
   "id": "feba72b1",
   "metadata": {
    "papermill": {
     "duration": 0.026383,
     "end_time": "2022-09-19T00:29:25.085850",
     "exception": false,
     "start_time": "2022-09-19T00:29:25.059467",
     "status": "completed"
    },
    "tags": []
   },
   "source": [
    "### Data preprocessing <a class=\"anchor\" id=\"preprocessing\"></a>"
   ]
  },
  {
   "cell_type": "code",
   "execution_count": 30,
   "id": "438215c7",
   "metadata": {
    "execution": {
     "iopub.execute_input": "2022-09-19T00:29:25.141932Z",
     "iopub.status.busy": "2022-09-19T00:29:25.140823Z",
     "iopub.status.idle": "2022-09-19T00:29:25.148133Z",
     "shell.execute_reply": "2022-09-19T00:29:25.146632Z"
    },
    "papermill": {
     "duration": 0.038286,
     "end_time": "2022-09-19T00:29:25.150795",
     "exception": false,
     "start_time": "2022-09-19T00:29:25.112509",
     "status": "completed"
    },
    "tags": []
   },
   "outputs": [],
   "source": [
    "input_cols = list(data.columns)[1:]\n",
    "target_col = ['Price']"
   ]
  },
  {
   "cell_type": "markdown",
   "id": "5ae23321",
   "metadata": {
    "papermill": {
     "duration": 0.028261,
     "end_time": "2022-09-19T00:29:25.207657",
     "exception": false,
     "start_time": "2022-09-19T00:29:25.179396",
     "status": "completed"
    },
    "tags": []
   },
   "source": [
    "we are specifying the columns we need here the input columns includes everything left after dropping the unneccessary and target columns"
   ]
  },
  {
   "cell_type": "code",
   "execution_count": 31,
   "id": "40036b77",
   "metadata": {
    "execution": {
     "iopub.execute_input": "2022-09-19T00:29:25.265775Z",
     "iopub.status.busy": "2022-09-19T00:29:25.265349Z",
     "iopub.status.idle": "2022-09-19T00:29:25.276389Z",
     "shell.execute_reply": "2022-09-19T00:29:25.275085Z"
    },
    "papermill": {
     "duration": 0.043629,
     "end_time": "2022-09-19T00:29:25.279239",
     "exception": false,
     "start_time": "2022-09-19T00:29:25.235610",
     "status": "completed"
    },
    "tags": []
   },
   "outputs": [],
   "source": [
    "train_inputs = data[input_cols].copy()\n",
    "train_targets = data[target_col].copy()"
   ]
  },
  {
   "cell_type": "code",
   "execution_count": 32,
   "id": "dea8be7a",
   "metadata": {
    "execution": {
     "iopub.execute_input": "2022-09-19T00:29:25.338509Z",
     "iopub.status.busy": "2022-09-19T00:29:25.338113Z",
     "iopub.status.idle": "2022-09-19T00:29:25.349659Z",
     "shell.execute_reply": "2022-09-19T00:29:25.348229Z"
    },
    "papermill": {
     "duration": 0.04461,
     "end_time": "2022-09-19T00:29:25.352253",
     "exception": false,
     "start_time": "2022-09-19T00:29:25.307643",
     "status": "completed"
    },
    "tags": []
   },
   "outputs": [],
   "source": [
    "numeric_cols = train_inputs.select_dtypes(include=np.number).columns.tolist()\n",
    "categorical_cols = train_inputs.select_dtypes('object').columns.tolist()"
   ]
  },
  {
   "cell_type": "code",
   "execution_count": 33,
   "id": "933351ff",
   "metadata": {
    "execution": {
     "iopub.execute_input": "2022-09-19T00:29:25.411409Z",
     "iopub.status.busy": "2022-09-19T00:29:25.410462Z",
     "iopub.status.idle": "2022-09-19T00:29:25.415934Z",
     "shell.execute_reply": "2022-09-19T00:29:25.415062Z"
    },
    "papermill": {
     "duration": 0.03727,
     "end_time": "2022-09-19T00:29:25.418298",
     "exception": false,
     "start_time": "2022-09-19T00:29:25.381028",
     "status": "completed"
    },
    "tags": []
   },
   "outputs": [
    {
     "name": "stdout",
     "output_type": "stream",
     "text": [
      "This are the numerical columns:  ['Prod. year', 'Cylinders', 'Airbags', 'New_mil', 'New_engine_volume']\n",
      "This are the categorical columns:  ['Manufacturer', 'Model', 'Category', 'Leather interior', 'Fuel type', 'Gear box type', 'Wheel', 'Color', 'New_doors']\n"
     ]
    }
   ],
   "source": [
    "print('This are the numerical columns: ', numeric_cols)\n",
    "print('This are the categorical columns: ', categorical_cols)"
   ]
  },
  {
   "cell_type": "markdown",
   "id": "313e5e7c",
   "metadata": {
    "papermill": {
     "duration": 0.02786,
     "end_time": "2022-09-19T00:29:25.474788",
     "exception": false,
     "start_time": "2022-09-19T00:29:25.446928",
     "status": "completed"
    },
    "tags": []
   },
   "source": [
    "We defined new variables here to seperate the dataset into training input and target column. After which we seperated the numerical columns from the categorical columns so that the scaling of the numerical and the ecoding of the categorical columns will be easier to define"
   ]
  },
  {
   "cell_type": "markdown",
   "id": "36427db4",
   "metadata": {
    "papermill": {
     "duration": 0.038948,
     "end_time": "2022-09-19T00:29:25.545624",
     "exception": false,
     "start_time": "2022-09-19T00:29:25.506676",
     "status": "completed"
    },
    "tags": []
   },
   "source": [
    "### Scaling Numerical Features <a class=\"anchor\" id=\"SNF\"></a>"
   ]
  },
  {
   "cell_type": "code",
   "execution_count": 34,
   "id": "1f9b357b",
   "metadata": {
    "execution": {
     "iopub.execute_input": "2022-09-19T00:29:25.614870Z",
     "iopub.status.busy": "2022-09-19T00:29:25.614406Z",
     "iopub.status.idle": "2022-09-19T00:29:25.628055Z",
     "shell.execute_reply": "2022-09-19T00:29:25.627159Z"
    },
    "papermill": {
     "duration": 0.046646,
     "end_time": "2022-09-19T00:29:25.630859",
     "exception": false,
     "start_time": "2022-09-19T00:29:25.584213",
     "status": "completed"
    },
    "tags": []
   },
   "outputs": [],
   "source": [
    "scaler = MinMaxScaler().fit(data[numeric_cols])\n",
    "\n",
    "train_inputs[numeric_cols] = scaler.transform(train_inputs[numeric_cols])\n",
    "#X_test[input_cols] = scaler.transform(X_test[input_cols])"
   ]
  },
  {
   "cell_type": "code",
   "execution_count": 35,
   "id": "20451689",
   "metadata": {
    "execution": {
     "iopub.execute_input": "2022-09-19T00:29:25.692524Z",
     "iopub.status.busy": "2022-09-19T00:29:25.692145Z",
     "iopub.status.idle": "2022-09-19T00:29:25.722908Z",
     "shell.execute_reply": "2022-09-19T00:29:25.721912Z"
    },
    "papermill": {
     "duration": 0.064843,
     "end_time": "2022-09-19T00:29:25.725451",
     "exception": false,
     "start_time": "2022-09-19T00:29:25.660608",
     "status": "completed"
    },
    "tags": []
   },
   "outputs": [
    {
     "data": {
      "text/html": [
       "<div>\n",
       "<style scoped>\n",
       "    .dataframe tbody tr th:only-of-type {\n",
       "        vertical-align: middle;\n",
       "    }\n",
       "\n",
       "    .dataframe tbody tr th {\n",
       "        vertical-align: top;\n",
       "    }\n",
       "\n",
       "    .dataframe thead th {\n",
       "        text-align: right;\n",
       "    }\n",
       "</style>\n",
       "<table border=\"1\" class=\"dataframe\">\n",
       "  <thead>\n",
       "    <tr style=\"text-align: right;\">\n",
       "      <th></th>\n",
       "      <th>Prod. year</th>\n",
       "      <th>Cylinders</th>\n",
       "      <th>Airbags</th>\n",
       "      <th>New_mil</th>\n",
       "      <th>New_engine_volume</th>\n",
       "    </tr>\n",
       "  </thead>\n",
       "  <tbody>\n",
       "    <tr>\n",
       "      <th>min</th>\n",
       "      <td>0.0</td>\n",
       "      <td>0.0</td>\n",
       "      <td>0.0</td>\n",
       "      <td>0.0</td>\n",
       "      <td>0.0</td>\n",
       "    </tr>\n",
       "    <tr>\n",
       "      <th>max</th>\n",
       "      <td>1.0</td>\n",
       "      <td>1.0</td>\n",
       "      <td>1.0</td>\n",
       "      <td>1.0</td>\n",
       "      <td>1.0</td>\n",
       "    </tr>\n",
       "  </tbody>\n",
       "</table>\n",
       "</div>"
      ],
      "text/plain": [
       "     Prod. year  Cylinders  Airbags  New_mil  New_engine_volume\n",
       "min         0.0        0.0      0.0      0.0                0.0\n",
       "max         1.0        1.0      1.0      1.0                1.0"
      ]
     },
     "execution_count": 35,
     "metadata": {},
     "output_type": "execute_result"
    }
   ],
   "source": [
    "train_inputs.describe().loc[['min', 'max']]"
   ]
  },
  {
   "cell_type": "markdown",
   "id": "0c65a04e",
   "metadata": {
    "execution": {
     "iopub.execute_input": "2022-09-18T19:24:58.073690Z",
     "iopub.status.busy": "2022-09-18T19:24:58.073306Z",
     "iopub.status.idle": "2022-09-18T19:24:58.078353Z",
     "shell.execute_reply": "2022-09-18T19:24:58.077276Z",
     "shell.execute_reply.started": "2022-09-18T19:24:58.073658Z"
    },
    "papermill": {
     "duration": 0.028415,
     "end_time": "2022-09-19T00:29:25.782979",
     "exception": false,
     "start_time": "2022-09-19T00:29:25.754564",
     "status": "completed"
    },
    "tags": []
   },
   "source": [
    "### Encoding Categorical Columns <a class=\"anchor\" id=\"ECC\"></a>"
   ]
  },
  {
   "cell_type": "code",
   "execution_count": 36,
   "id": "c4302a07",
   "metadata": {
    "execution": {
     "iopub.execute_input": "2022-09-19T00:29:25.841458Z",
     "iopub.status.busy": "2022-09-19T00:29:25.840799Z",
     "iopub.status.idle": "2022-09-19T00:29:25.857918Z",
     "shell.execute_reply": "2022-09-19T00:29:25.856873Z"
    },
    "papermill": {
     "duration": 0.04955,
     "end_time": "2022-09-19T00:29:25.860582",
     "exception": false,
     "start_time": "2022-09-19T00:29:25.811032",
     "status": "completed"
    },
    "tags": []
   },
   "outputs": [],
   "source": [
    "encoder = OneHotEncoder(sparse=False, drop='first', handle_unknown='ignore').fit(data[categorical_cols])\n",
    "encoded_cols = list(encoder.get_feature_names_out (categorical_cols))"
   ]
  },
  {
   "cell_type": "code",
   "execution_count": 37,
   "id": "f42be590",
   "metadata": {
    "execution": {
     "iopub.execute_input": "2022-09-19T00:29:25.919032Z",
     "iopub.status.busy": "2022-09-19T00:29:25.918208Z",
     "iopub.status.idle": "2022-09-19T00:29:27.848653Z",
     "shell.execute_reply": "2022-09-19T00:29:27.847297Z"
    },
    "papermill": {
     "duration": 1.96321,
     "end_time": "2022-09-19T00:29:27.851890",
     "exception": false,
     "start_time": "2022-09-19T00:29:25.888680",
     "status": "completed"
    },
    "tags": []
   },
   "outputs": [
    {
     "name": "stderr",
     "output_type": "stream",
     "text": [
      "/opt/conda/lib/python3.7/site-packages/pandas/core/frame.py:3678: PerformanceWarning:\n",
      "\n",
      "DataFrame is highly fragmented.  This is usually the result of calling `frame.insert` many times, which has poor performance.  Consider joining all columns at once using pd.concat(axis=1) instead.  To get a de-fragmented frame, use `newframe = frame.copy()`\n",
      "\n"
     ]
    }
   ],
   "source": [
    "train_inputs[encoded_cols] = encoder.transform(train_inputs[categorical_cols])"
   ]
  },
  {
   "cell_type": "code",
   "execution_count": 38,
   "id": "122d0a8b",
   "metadata": {
    "execution": {
     "iopub.execute_input": "2022-09-19T00:29:27.910423Z",
     "iopub.status.busy": "2022-09-19T00:29:27.909943Z",
     "iopub.status.idle": "2022-09-19T00:29:28.680293Z",
     "shell.execute_reply": "2022-09-19T00:29:28.679041Z"
    },
    "papermill": {
     "duration": 0.803385,
     "end_time": "2022-09-19T00:29:28.683375",
     "exception": false,
     "start_time": "2022-09-19T00:29:27.879990",
     "status": "completed"
    },
    "tags": []
   },
   "outputs": [],
   "source": [
    "# Spliting the dataset into train and test\n",
    "X_train, X_test, y_train, y_test = train_test_split(train_inputs[numeric_cols + encoded_cols], train_targets, test_size=0.2,random_state=42)"
   ]
  },
  {
   "cell_type": "code",
   "execution_count": 39,
   "id": "82902b55",
   "metadata": {
    "execution": {
     "iopub.execute_input": "2022-09-19T00:29:28.742924Z",
     "iopub.status.busy": "2022-09-19T00:29:28.742467Z",
     "iopub.status.idle": "2022-09-19T00:29:28.773775Z",
     "shell.execute_reply": "2022-09-19T00:29:28.772626Z"
    },
    "papermill": {
     "duration": 0.064999,
     "end_time": "2022-09-19T00:29:28.776238",
     "exception": false,
     "start_time": "2022-09-19T00:29:28.711239",
     "status": "completed"
    },
    "tags": []
   },
   "outputs": [
    {
     "data": {
      "text/html": [
       "<div>\n",
       "<style scoped>\n",
       "    .dataframe tbody tr th:only-of-type {\n",
       "        vertical-align: middle;\n",
       "    }\n",
       "\n",
       "    .dataframe tbody tr th {\n",
       "        vertical-align: top;\n",
       "    }\n",
       "\n",
       "    .dataframe thead th {\n",
       "        text-align: right;\n",
       "    }\n",
       "</style>\n",
       "<table border=\"1\" class=\"dataframe\">\n",
       "  <thead>\n",
       "    <tr style=\"text-align: right;\">\n",
       "      <th></th>\n",
       "      <th>Prod. year</th>\n",
       "      <th>Cylinders</th>\n",
       "      <th>Airbags</th>\n",
       "      <th>New_mil</th>\n",
       "      <th>New_engine_volume</th>\n",
       "      <th>Manufacturer_ALFA ROMEO</th>\n",
       "      <th>Manufacturer_ASTON MARTIN</th>\n",
       "      <th>Manufacturer_AUDI</th>\n",
       "      <th>Manufacturer_BENTLEY</th>\n",
       "      <th>Manufacturer_BMW</th>\n",
       "      <th>...</th>\n",
       "      <th>Color_Orange</th>\n",
       "      <th>Color_Pink</th>\n",
       "      <th>Color_Purple</th>\n",
       "      <th>Color_Red</th>\n",
       "      <th>Color_Silver</th>\n",
       "      <th>Color_Sky blue</th>\n",
       "      <th>Color_White</th>\n",
       "      <th>Color_Yellow</th>\n",
       "      <th>New_doors_04</th>\n",
       "      <th>New_doors_&gt;5</th>\n",
       "    </tr>\n",
       "  </thead>\n",
       "  <tbody>\n",
       "    <tr>\n",
       "      <th>7808</th>\n",
       "      <td>0.913580</td>\n",
       "      <td>0.200000</td>\n",
       "      <td>0.750</td>\n",
       "      <td>0.000105</td>\n",
       "      <td>0.125</td>\n",
       "      <td>0.0</td>\n",
       "      <td>0.0</td>\n",
       "      <td>0.0</td>\n",
       "      <td>0.0</td>\n",
       "      <td>0.0</td>\n",
       "      <td>...</td>\n",
       "      <td>0.0</td>\n",
       "      <td>0.0</td>\n",
       "      <td>0.0</td>\n",
       "      <td>0.0</td>\n",
       "      <td>0.0</td>\n",
       "      <td>0.0</td>\n",
       "      <td>1.0</td>\n",
       "      <td>0.0</td>\n",
       "      <td>1.0</td>\n",
       "      <td>0.0</td>\n",
       "    </tr>\n",
       "    <tr>\n",
       "      <th>16766</th>\n",
       "      <td>0.839506</td>\n",
       "      <td>0.200000</td>\n",
       "      <td>0.250</td>\n",
       "      <td>0.000035</td>\n",
       "      <td>0.100</td>\n",
       "      <td>0.0</td>\n",
       "      <td>0.0</td>\n",
       "      <td>0.0</td>\n",
       "      <td>0.0</td>\n",
       "      <td>0.0</td>\n",
       "      <td>...</td>\n",
       "      <td>0.0</td>\n",
       "      <td>0.0</td>\n",
       "      <td>0.0</td>\n",
       "      <td>0.0</td>\n",
       "      <td>1.0</td>\n",
       "      <td>0.0</td>\n",
       "      <td>0.0</td>\n",
       "      <td>0.0</td>\n",
       "      <td>1.0</td>\n",
       "      <td>0.0</td>\n",
       "    </tr>\n",
       "    <tr>\n",
       "      <th>7285</th>\n",
       "      <td>0.876543</td>\n",
       "      <td>0.333333</td>\n",
       "      <td>0.750</td>\n",
       "      <td>0.000088</td>\n",
       "      <td>0.175</td>\n",
       "      <td>0.0</td>\n",
       "      <td>0.0</td>\n",
       "      <td>0.0</td>\n",
       "      <td>0.0</td>\n",
       "      <td>0.0</td>\n",
       "      <td>...</td>\n",
       "      <td>0.0</td>\n",
       "      <td>0.0</td>\n",
       "      <td>0.0</td>\n",
       "      <td>0.0</td>\n",
       "      <td>0.0</td>\n",
       "      <td>0.0</td>\n",
       "      <td>0.0</td>\n",
       "      <td>0.0</td>\n",
       "      <td>1.0</td>\n",
       "      <td>0.0</td>\n",
       "    </tr>\n",
       "    <tr>\n",
       "      <th>15712</th>\n",
       "      <td>0.901235</td>\n",
       "      <td>0.200000</td>\n",
       "      <td>0.250</td>\n",
       "      <td>0.000102</td>\n",
       "      <td>0.100</td>\n",
       "      <td>0.0</td>\n",
       "      <td>0.0</td>\n",
       "      <td>0.0</td>\n",
       "      <td>0.0</td>\n",
       "      <td>0.0</td>\n",
       "      <td>...</td>\n",
       "      <td>0.0</td>\n",
       "      <td>0.0</td>\n",
       "      <td>0.0</td>\n",
       "      <td>0.0</td>\n",
       "      <td>0.0</td>\n",
       "      <td>0.0</td>\n",
       "      <td>0.0</td>\n",
       "      <td>0.0</td>\n",
       "      <td>1.0</td>\n",
       "      <td>0.0</td>\n",
       "    </tr>\n",
       "    <tr>\n",
       "      <th>16562</th>\n",
       "      <td>0.753086</td>\n",
       "      <td>0.333333</td>\n",
       "      <td>0.375</td>\n",
       "      <td>0.000012</td>\n",
       "      <td>0.150</td>\n",
       "      <td>0.0</td>\n",
       "      <td>0.0</td>\n",
       "      <td>0.0</td>\n",
       "      <td>0.0</td>\n",
       "      <td>1.0</td>\n",
       "      <td>...</td>\n",
       "      <td>0.0</td>\n",
       "      <td>0.0</td>\n",
       "      <td>0.0</td>\n",
       "      <td>0.0</td>\n",
       "      <td>1.0</td>\n",
       "      <td>0.0</td>\n",
       "      <td>0.0</td>\n",
       "      <td>0.0</td>\n",
       "      <td>1.0</td>\n",
       "      <td>0.0</td>\n",
       "    </tr>\n",
       "  </tbody>\n",
       "</table>\n",
       "<p>5 rows × 1696 columns</p>\n",
       "</div>"
      ],
      "text/plain": [
       "       Prod. year  Cylinders  Airbags   New_mil  New_engine_volume  \\\n",
       "7808     0.913580   0.200000    0.750  0.000105              0.125   \n",
       "16766    0.839506   0.200000    0.250  0.000035              0.100   \n",
       "7285     0.876543   0.333333    0.750  0.000088              0.175   \n",
       "15712    0.901235   0.200000    0.250  0.000102              0.100   \n",
       "16562    0.753086   0.333333    0.375  0.000012              0.150   \n",
       "\n",
       "       Manufacturer_ALFA ROMEO  Manufacturer_ASTON MARTIN  Manufacturer_AUDI  \\\n",
       "7808                       0.0                        0.0                0.0   \n",
       "16766                      0.0                        0.0                0.0   \n",
       "7285                       0.0                        0.0                0.0   \n",
       "15712                      0.0                        0.0                0.0   \n",
       "16562                      0.0                        0.0                0.0   \n",
       "\n",
       "       Manufacturer_BENTLEY  Manufacturer_BMW  ...  Color_Orange  Color_Pink  \\\n",
       "7808                    0.0               0.0  ...           0.0         0.0   \n",
       "16766                   0.0               0.0  ...           0.0         0.0   \n",
       "7285                    0.0               0.0  ...           0.0         0.0   \n",
       "15712                   0.0               0.0  ...           0.0         0.0   \n",
       "16562                   0.0               1.0  ...           0.0         0.0   \n",
       "\n",
       "       Color_Purple  Color_Red  Color_Silver  Color_Sky blue  Color_White  \\\n",
       "7808            0.0        0.0           0.0             0.0          1.0   \n",
       "16766           0.0        0.0           1.0             0.0          0.0   \n",
       "7285            0.0        0.0           0.0             0.0          0.0   \n",
       "15712           0.0        0.0           0.0             0.0          0.0   \n",
       "16562           0.0        0.0           1.0             0.0          0.0   \n",
       "\n",
       "       Color_Yellow  New_doors_04  New_doors_>5  \n",
       "7808            0.0           1.0           0.0  \n",
       "16766           0.0           1.0           0.0  \n",
       "7285            0.0           1.0           0.0  \n",
       "15712           0.0           1.0           0.0  \n",
       "16562           0.0           1.0           0.0  \n",
       "\n",
       "[5 rows x 1696 columns]"
      ]
     },
     "execution_count": 39,
     "metadata": {},
     "output_type": "execute_result"
    }
   ],
   "source": [
    "X_train.head()"
   ]
  },
  {
   "cell_type": "code",
   "execution_count": 40,
   "id": "b0907adc",
   "metadata": {
    "execution": {
     "iopub.execute_input": "2022-09-19T00:29:28.833272Z",
     "iopub.status.busy": "2022-09-19T00:29:28.832175Z",
     "iopub.status.idle": "2022-09-19T00:29:28.843161Z",
     "shell.execute_reply": "2022-09-19T00:29:28.842293Z"
    },
    "papermill": {
     "duration": 0.042318,
     "end_time": "2022-09-19T00:29:28.845693",
     "exception": false,
     "start_time": "2022-09-19T00:29:28.803375",
     "status": "completed"
    },
    "tags": []
   },
   "outputs": [],
   "source": [
    "# This function evaluates the train dataset\n",
    "#, ,  \n",
    "def train_acc_model(models):\n",
    "    r_mean_sqr_le = []\n",
    "    #mean_squared_err = []\n",
    "    execution_time_list = []\n",
    "    model_name_list = []\n",
    "    r2_score_ = []\n",
    "    r_mean_squared_err = []\n",
    "    mean_absolute_err = []\n",
    "    #print('Training dataset Evaluation with different metrix')\n",
    "    \n",
    "    for model in models:\n",
    "        \n",
    "        start = time.time()\n",
    "        model.fit(X_train, y_train.values.ravel())\n",
    "        end = time.time()\n",
    "        \n",
    "        model_name_list.append(type(model).__name__)\n",
    "\n",
    "        #model prediction\n",
    "        train_preds = model.predict(X_train)\n",
    "\n",
    "        # RMSLE\n",
    "        rmsle = np.log(np.sqrt(mean_squared_error(y_train, train_preds)))\n",
    "        r_mean_sqr_le.append(rmsle)\n",
    "\n",
    "        # MAE \n",
    "        mae = mean_absolute_error(y_train, train_preds)\n",
    "        mean_absolute_err.append(mae)\n",
    "\n",
    "        # MSE \n",
    "        #mse = mean_squared_error(y_train, train_preds)\n",
    "        #mean_squared_err.append(mse)\n",
    "\n",
    "        # R2 score\n",
    "        r2_scor = r2_score(y_train, train_preds)\n",
    "        r2_score_.append(r2_scor)\n",
    "\n",
    "        # RMSE\n",
    "        rmse = np.sqrt(mean_squared_error(y_train, train_preds))\n",
    "        r_mean_squared_err.append(rmse)\n",
    "        \n",
    "        execution_time_list.append(end-start)\n",
    "\n",
    "        Dict = {'Model':model_name_list,\n",
    "                'Execution Time(sec)':execution_time_list,\n",
    "                'Root Mean Squared Log Error':r_mean_sqr_le, \n",
    "                #'Mean Squared Error':mean_squared_err,\n",
    "                'R2 Score':r2_score_,\n",
    "                'Root Mean Squared Error':r_mean_squared_err, \n",
    "                'Mean Absolute Error':mean_absolute_err}\n",
    "    return pd.DataFrame(Dict) "
   ]
  },
  {
   "cell_type": "code",
   "execution_count": 41,
   "id": "95ad1b86",
   "metadata": {
    "execution": {
     "iopub.execute_input": "2022-09-19T00:29:28.903120Z",
     "iopub.status.busy": "2022-09-19T00:29:28.902440Z",
     "iopub.status.idle": "2022-09-19T00:29:28.914228Z",
     "shell.execute_reply": "2022-09-19T00:29:28.913327Z"
    },
    "papermill": {
     "duration": 0.044063,
     "end_time": "2022-09-19T00:29:28.917146",
     "exception": false,
     "start_time": "2022-09-19T00:29:28.873083",
     "status": "completed"
    },
    "tags": []
   },
   "outputs": [],
   "source": [
    "# This function evaluates the test dataset\n",
    "def test_acc_model(models):\n",
    "    r_mean_sqr_le = []\n",
    "    #mean_squared_err = []\n",
    "    execution_time_list = []\n",
    "    model_name_list = []\n",
    "    r2_score_ = []\n",
    "    r_mean_squared_err = []\n",
    "    mean_absolute_err = []\n",
    "    feature_importance = []\n",
    "    feature_imp_name = []\n",
    "    \n",
    "    #print('Evaluating Validation dataset with different metrix')\n",
    "    \n",
    "    for model in models:\n",
    "        start = time.time()\n",
    "        model.fit(X_train, y_train.values.ravel())\n",
    "        end = time.time()\n",
    "        try:\n",
    "            feature_importance.append(pd.DataFrame({\n",
    "                (str(model) + ': Features'): X_train.columns,\n",
    "                'Importance': model.feature_importances_\n",
    "            }).sort_values('Importance', ascending=False))\n",
    "        except:\n",
    "            pass\n",
    "        \n",
    "        model_name_list.append(type(model).__name__)\n",
    "\n",
    "        #model prediction\n",
    "        test_preds = model.predict(X_test)\n",
    "\n",
    "        # RMSLE\n",
    "        rmsle = np.log(np.sqrt(mean_squared_error(y_test, test_preds)))\n",
    "        r_mean_sqr_le.append(rmsle)\n",
    "\n",
    "        # MAE \n",
    "        mae = mean_absolute_error(y_test, test_preds)\n",
    "        mean_absolute_err.append(mae)\n",
    "\n",
    "        # MSE \n",
    "        #mse = mean_squared_error(y_test, test_preds)\n",
    "        #mean_squared_err.append(mse)\n",
    "\n",
    "        # R2 score\n",
    "        r2_scor = r2_score(y_test, test_preds)\n",
    "        r2_score_.append(r2_scor)\n",
    "\n",
    "        # RMSE\n",
    "        rmse = np.sqrt(mean_squared_error(y_test, test_preds))\n",
    "        r_mean_squared_err.append(rmse)\n",
    "        \n",
    "        execution_time_list.append(end-start)\n",
    "\n",
    "        Dict = {'Model':model_name_list,\n",
    "                'Execution Time(sec)':execution_time_list,\n",
    "                'Root Mean Squared Log Error':r_mean_sqr_le, \n",
    "                #'Mean Squared Error':mean_squared_err,\n",
    "                'R2 Score':r2_score_,\n",
    "                'Root Mean Squared Error':r_mean_squared_err, \n",
    "                'Mean Absolute Error':mean_absolute_err}\n",
    "\n",
    "    #feat_imp_dict = {'Model name':feature_imp_name,\n",
    "     #                'Feature Importance':feature_importance}\n",
    "    \n",
    "    return pd.DataFrame(Dict), feature_importance"
   ]
  },
  {
   "cell_type": "code",
   "execution_count": 42,
   "id": "558fbe4f",
   "metadata": {
    "execution": {
     "iopub.execute_input": "2022-09-19T00:29:28.974123Z",
     "iopub.status.busy": "2022-09-19T00:29:28.973467Z",
     "iopub.status.idle": "2022-09-19T00:29:28.978950Z",
     "shell.execute_reply": "2022-09-19T00:29:28.978124Z"
    },
    "papermill": {
     "duration": 0.03651,
     "end_time": "2022-09-19T00:29:28.981112",
     "exception": false,
     "start_time": "2022-09-19T00:29:28.944602",
     "status": "completed"
    },
    "tags": []
   },
   "outputs": [],
   "source": [
    "models = [SGDRegressor(), \n",
    "          LinearRegression(),\n",
    "          GradientBoostingRegressor(), \n",
    "          AdaBoostRegressor(), \n",
    "          ExtraTreeRegressor(), \n",
    "          DecisionTreeRegressor(), \n",
    "          BaggingRegressor()\n",
    "         ]"
   ]
  },
  {
   "cell_type": "code",
   "execution_count": 43,
   "id": "7081b1ed",
   "metadata": {
    "execution": {
     "iopub.execute_input": "2022-09-19T00:29:29.038725Z",
     "iopub.status.busy": "2022-09-19T00:29:29.038048Z",
     "iopub.status.idle": "2022-09-19T00:32:23.379570Z",
     "shell.execute_reply": "2022-09-19T00:32:23.378081Z"
    },
    "papermill": {
     "duration": 174.403744,
     "end_time": "2022-09-19T00:32:23.412768",
     "exception": false,
     "start_time": "2022-09-19T00:29:29.009024",
     "status": "completed"
    },
    "tags": []
   },
   "outputs": [
    {
     "data": {
      "text/html": [
       "<div>\n",
       "<style scoped>\n",
       "    .dataframe tbody tr th:only-of-type {\n",
       "        vertical-align: middle;\n",
       "    }\n",
       "\n",
       "    .dataframe tbody tr th {\n",
       "        vertical-align: top;\n",
       "    }\n",
       "\n",
       "    .dataframe thead th {\n",
       "        text-align: right;\n",
       "    }\n",
       "</style>\n",
       "<table border=\"1\" class=\"dataframe\">\n",
       "  <thead>\n",
       "    <tr style=\"text-align: right;\">\n",
       "      <th></th>\n",
       "      <th>Model</th>\n",
       "      <th>Execution Time(sec)</th>\n",
       "      <th>Root Mean Squared Log Error</th>\n",
       "      <th>R2 Score</th>\n",
       "      <th>Root Mean Squared Error</th>\n",
       "      <th>Mean Absolute Error</th>\n",
       "    </tr>\n",
       "  </thead>\n",
       "  <tbody>\n",
       "    <tr>\n",
       "      <th>0</th>\n",
       "      <td>SGDRegressor</td>\n",
       "      <td>87.672937</td>\n",
       "      <td>9.507708</td>\n",
       "      <td>0.466347</td>\n",
       "      <td>13463.098358</td>\n",
       "      <td>8640.165019</td>\n",
       "    </tr>\n",
       "    <tr>\n",
       "      <th>1</th>\n",
       "      <td>LinearRegression</td>\n",
       "      <td>4.725828</td>\n",
       "      <td>9.400377</td>\n",
       "      <td>0.569441</td>\n",
       "      <td>12092.944806</td>\n",
       "      <td>7832.008399</td>\n",
       "    </tr>\n",
       "    <tr>\n",
       "      <th>2</th>\n",
       "      <td>GradientBoostingRegressor</td>\n",
       "      <td>26.179335</td>\n",
       "      <td>9.340065</td>\n",
       "      <td>0.618366</td>\n",
       "      <td>11385.152495</td>\n",
       "      <td>7521.067209</td>\n",
       "    </tr>\n",
       "    <tr>\n",
       "      <th>3</th>\n",
       "      <td>AdaBoostRegressor</td>\n",
       "      <td>38.161827</td>\n",
       "      <td>10.020195</td>\n",
       "      <td>-0.487304</td>\n",
       "      <td>22475.815597</td>\n",
       "      <td>19032.218404</td>\n",
       "    </tr>\n",
       "    <tr>\n",
       "      <th>4</th>\n",
       "      <td>ExtraTreeRegressor</td>\n",
       "      <td>1.330256</td>\n",
       "      <td>7.593561</td>\n",
       "      <td>0.988395</td>\n",
       "      <td>1985.371181</td>\n",
       "      <td>227.844096</td>\n",
       "    </tr>\n",
       "    <tr>\n",
       "      <th>5</th>\n",
       "      <td>DecisionTreeRegressor</td>\n",
       "      <td>1.196753</td>\n",
       "      <td>7.593633</td>\n",
       "      <td>0.988393</td>\n",
       "      <td>1985.514653</td>\n",
       "      <td>228.195451</td>\n",
       "    </tr>\n",
       "    <tr>\n",
       "      <th>6</th>\n",
       "      <td>BaggingRegressor</td>\n",
       "      <td>9.127655</td>\n",
       "      <td>8.416751</td>\n",
       "      <td>0.939790</td>\n",
       "      <td>4522.187891</td>\n",
       "      <td>1903.614372</td>\n",
       "    </tr>\n",
       "  </tbody>\n",
       "</table>\n",
       "</div>"
      ],
      "text/plain": [
       "                       Model  Execution Time(sec)  \\\n",
       "0               SGDRegressor            87.672937   \n",
       "1           LinearRegression             4.725828   \n",
       "2  GradientBoostingRegressor            26.179335   \n",
       "3          AdaBoostRegressor            38.161827   \n",
       "4         ExtraTreeRegressor             1.330256   \n",
       "5      DecisionTreeRegressor             1.196753   \n",
       "6           BaggingRegressor             9.127655   \n",
       "\n",
       "   Root Mean Squared Log Error  R2 Score  Root Mean Squared Error  \\\n",
       "0                     9.507708  0.466347             13463.098358   \n",
       "1                     9.400377  0.569441             12092.944806   \n",
       "2                     9.340065  0.618366             11385.152495   \n",
       "3                    10.020195 -0.487304             22475.815597   \n",
       "4                     7.593561  0.988395              1985.371181   \n",
       "5                     7.593633  0.988393              1985.514653   \n",
       "6                     8.416751  0.939790              4522.187891   \n",
       "\n",
       "   Mean Absolute Error  \n",
       "0          8640.165019  \n",
       "1          7832.008399  \n",
       "2          7521.067209  \n",
       "3         19032.218404  \n",
       "4           227.844096  \n",
       "5           228.195451  \n",
       "6          1903.614372  "
      ]
     },
     "execution_count": 43,
     "metadata": {},
     "output_type": "execute_result"
    }
   ],
   "source": [
    "train_acc_model(models)"
   ]
  },
  {
   "cell_type": "code",
   "execution_count": 44,
   "id": "e95e455e",
   "metadata": {
    "execution": {
     "iopub.execute_input": "2022-09-19T00:32:23.473436Z",
     "iopub.status.busy": "2022-09-19T00:32:23.472962Z",
     "iopub.status.idle": "2022-09-19T00:35:24.082162Z",
     "shell.execute_reply": "2022-09-19T00:35:24.080482Z"
    },
    "papermill": {
     "duration": 180.643537,
     "end_time": "2022-09-19T00:35:24.085375",
     "exception": false,
     "start_time": "2022-09-19T00:32:23.441838",
     "status": "completed"
    },
    "tags": []
   },
   "outputs": [],
   "source": [
    "testing_acc, feature_importance = test_acc_model(models)"
   ]
  },
  {
   "cell_type": "code",
   "execution_count": 45,
   "id": "ee26839d",
   "metadata": {
    "execution": {
     "iopub.execute_input": "2022-09-19T00:35:24.143917Z",
     "iopub.status.busy": "2022-09-19T00:35:24.143397Z",
     "iopub.status.idle": "2022-09-19T00:35:24.159730Z",
     "shell.execute_reply": "2022-09-19T00:35:24.158596Z"
    },
    "papermill": {
     "duration": 0.04815,
     "end_time": "2022-09-19T00:35:24.162130",
     "exception": false,
     "start_time": "2022-09-19T00:35:24.113980",
     "status": "completed"
    },
    "tags": []
   },
   "outputs": [
    {
     "data": {
      "text/html": [
       "<div>\n",
       "<style scoped>\n",
       "    .dataframe tbody tr th:only-of-type {\n",
       "        vertical-align: middle;\n",
       "    }\n",
       "\n",
       "    .dataframe tbody tr th {\n",
       "        vertical-align: top;\n",
       "    }\n",
       "\n",
       "    .dataframe thead th {\n",
       "        text-align: right;\n",
       "    }\n",
       "</style>\n",
       "<table border=\"1\" class=\"dataframe\">\n",
       "  <thead>\n",
       "    <tr style=\"text-align: right;\">\n",
       "      <th></th>\n",
       "      <th>Model</th>\n",
       "      <th>Execution Time(sec)</th>\n",
       "      <th>Root Mean Squared Log Error</th>\n",
       "      <th>R2 Score</th>\n",
       "      <th>Root Mean Squared Error</th>\n",
       "      <th>Mean Absolute Error</th>\n",
       "    </tr>\n",
       "  </thead>\n",
       "  <tbody>\n",
       "    <tr>\n",
       "      <th>0</th>\n",
       "      <td>SGDRegressor</td>\n",
       "      <td>89.301848</td>\n",
       "      <td>9.553274</td>\n",
       "      <td>3.628001e-01</td>\n",
       "      <td>1.409075e+04</td>\n",
       "      <td>8.781713e+03</td>\n",
       "    </tr>\n",
       "    <tr>\n",
       "      <th>1</th>\n",
       "      <td>LinearRegression</td>\n",
       "      <td>4.623116</td>\n",
       "      <td>32.484979</td>\n",
       "      <td>-5.278394e+19</td>\n",
       "      <td>1.282470e+14</td>\n",
       "      <td>1.677600e+13</td>\n",
       "    </tr>\n",
       "    <tr>\n",
       "      <th>2</th>\n",
       "      <td>GradientBoostingRegressor</td>\n",
       "      <td>26.102652</td>\n",
       "      <td>9.453277</td>\n",
       "      <td>4.783013e-01</td>\n",
       "      <td>1.274988e+04</td>\n",
       "      <td>7.696359e+03</td>\n",
       "    </tr>\n",
       "    <tr>\n",
       "      <th>3</th>\n",
       "      <td>AdaBoostRegressor</td>\n",
       "      <td>47.381549</td>\n",
       "      <td>9.991007</td>\n",
       "      <td>-5.292741e-01</td>\n",
       "      <td>2.182926e+04</td>\n",
       "      <td>1.789547e+04</td>\n",
       "    </tr>\n",
       "    <tr>\n",
       "      <th>4</th>\n",
       "      <td>ExtraTreeRegressor</td>\n",
       "      <td>1.521130</td>\n",
       "      <td>9.405758</td>\n",
       "      <td>5.256001e-01</td>\n",
       "      <td>1.215818e+04</td>\n",
       "      <td>5.345632e+03</td>\n",
       "    </tr>\n",
       "    <tr>\n",
       "      <th>5</th>\n",
       "      <td>DecisionTreeRegressor</td>\n",
       "      <td>1.329397</td>\n",
       "      <td>9.324271</td>\n",
       "      <td>5.969430e-01</td>\n",
       "      <td>1.120675e+04</td>\n",
       "      <td>5.177668e+03</td>\n",
       "    </tr>\n",
       "    <tr>\n",
       "      <th>6</th>\n",
       "      <td>BaggingRegressor</td>\n",
       "      <td>8.945538</td>\n",
       "      <td>9.184679</td>\n",
       "      <td>6.951274e-01</td>\n",
       "      <td>9.746654e+03</td>\n",
       "      <td>4.548762e+03</td>\n",
       "    </tr>\n",
       "  </tbody>\n",
       "</table>\n",
       "</div>"
      ],
      "text/plain": [
       "                       Model  Execution Time(sec)  \\\n",
       "0               SGDRegressor            89.301848   \n",
       "1           LinearRegression             4.623116   \n",
       "2  GradientBoostingRegressor            26.102652   \n",
       "3          AdaBoostRegressor            47.381549   \n",
       "4         ExtraTreeRegressor             1.521130   \n",
       "5      DecisionTreeRegressor             1.329397   \n",
       "6           BaggingRegressor             8.945538   \n",
       "\n",
       "   Root Mean Squared Log Error      R2 Score  Root Mean Squared Error  \\\n",
       "0                     9.553274  3.628001e-01             1.409075e+04   \n",
       "1                    32.484979 -5.278394e+19             1.282470e+14   \n",
       "2                     9.453277  4.783013e-01             1.274988e+04   \n",
       "3                     9.991007 -5.292741e-01             2.182926e+04   \n",
       "4                     9.405758  5.256001e-01             1.215818e+04   \n",
       "5                     9.324271  5.969430e-01             1.120675e+04   \n",
       "6                     9.184679  6.951274e-01             9.746654e+03   \n",
       "\n",
       "   Mean Absolute Error  \n",
       "0         8.781713e+03  \n",
       "1         1.677600e+13  \n",
       "2         7.696359e+03  \n",
       "3         1.789547e+04  \n",
       "4         5.345632e+03  \n",
       "5         5.177668e+03  \n",
       "6         4.548762e+03  "
      ]
     },
     "execution_count": 45,
     "metadata": {},
     "output_type": "execute_result"
    }
   ],
   "source": [
    "testing_acc"
   ]
  },
  {
   "cell_type": "code",
   "execution_count": 46,
   "id": "32382f6c",
   "metadata": {
    "execution": {
     "iopub.execute_input": "2022-09-19T00:35:24.220424Z",
     "iopub.status.busy": "2022-09-19T00:35:24.219931Z",
     "iopub.status.idle": "2022-09-19T00:35:24.227450Z",
     "shell.execute_reply": "2022-09-19T00:35:24.226265Z"
    },
    "papermill": {
     "duration": 0.039646,
     "end_time": "2022-09-19T00:35:24.229694",
     "exception": false,
     "start_time": "2022-09-19T00:35:24.190048",
     "status": "completed"
    },
    "tags": []
   },
   "outputs": [
    {
     "data": {
      "text/plain": [
       "\"\\ninstance_pred = {'Model'= , \\n                 'Prod. year'= '', \\n                 'Leather interior'='', \\n                 'Fuel type'='', \\n                 'Cylinders'= , \\n                 'Gear box type'= , \\n                 'Wheel'= , \\n                 'Color'= , \\n                 'Airbags'= , \\n                 'Mileage'= , \\n                 'Doors'= , \\n                 'Engines'= \\n                }\\n\""
      ]
     },
     "execution_count": 46,
     "metadata": {},
     "output_type": "execute_result"
    }
   ],
   "source": [
    "'''\n",
    "instance_pred = {'Model'= , \n",
    "                 'Prod. year'= '', \n",
    "                 'Leather interior'='', \n",
    "                 'Fuel type'='', \n",
    "                 'Cylinders'= , \n",
    "                 'Gear box type'= , \n",
    "                 'Wheel'= , \n",
    "                 'Color'= , \n",
    "                 'Airbags'= , \n",
    "                 'Mileage'= , \n",
    "                 'Doors'= , \n",
    "                 'Engines'= \n",
    "                }\n",
    "'''"
   ]
  },
  {
   "cell_type": "markdown",
   "id": "7e64c7eb",
   "metadata": {
    "papermill": {
     "duration": 0.028004,
     "end_time": "2022-09-19T00:35:24.285967",
     "exception": false,
     "start_time": "2022-09-19T00:35:24.257963",
     "status": "completed"
    },
    "tags": []
   },
   "source": [
    "### Feature Importance <a class=\"anchor\" id=\"featureImp\"></a>"
   ]
  },
  {
   "cell_type": "code",
   "execution_count": 47,
   "id": "22377326",
   "metadata": {
    "execution": {
     "iopub.execute_input": "2022-09-19T00:35:24.345228Z",
     "iopub.status.busy": "2022-09-19T00:35:24.343920Z",
     "iopub.status.idle": "2022-09-19T00:35:25.555786Z",
     "shell.execute_reply": "2022-09-19T00:35:25.554409Z"
    },
    "papermill": {
     "duration": 1.244767,
     "end_time": "2022-09-19T00:35:25.558962",
     "exception": false,
     "start_time": "2022-09-19T00:35:24.314195",
     "status": "completed"
    },
    "tags": []
   },
   "outputs": [
    {
     "data": {
      "image/png": "[encoded data removed]",
      "text/plain": [
       "<Figure size 432x288 with 1 Axes>"
      ]
     },
     "metadata": {
      "needs_background": "light"
     },
     "output_type": "display_data"
    },
    {
     "data": {
      "image/png": "[encoded data removed]",
      "text/plain": [
       "<Figure size 432x288 with 1 Axes>"
      ]
     },
     "metadata": {
      "needs_background": "light"
     },
     "output_type": "display_data"
    },
    {
     "data": {
      "image/png": "[encoded data removed]",
      "text/plain": [
       "<Figure size 432x288 with 1 Axes>"
      ]
     },
     "metadata": {
      "needs_background": "light"
     },
     "output_type": "display_data"
    },
    {
     "data": {
      "image/png": "[encoded data removed]",
      "text/plain": [
       "<Figure size 432x288 with 1 Axes>"
      ]
     },
     "metadata": {
      "needs_background": "light"
     },
     "output_type": "display_data"
    }
   ],
   "source": [
    "# initializing to index 0 to plot feature for first model\n",
    "for each_model in range(len(feature_importance)):\n",
    "    plt.title('Feature Importance')\n",
    "    sns.barplot(data=feature_importance[each_model].head(15), x='Importance', y = feature_importance[each_model].columns[0]);\n",
    "    plt.show()"
   ]
  },
  {
   "cell_type": "markdown",
   "id": "993b43a0",
   "metadata": {
    "papermill": {
     "duration": 0.031615,
     "end_time": "2022-09-19T00:35:25.623832",
     "exception": false,
     "start_time": "2022-09-19T00:35:25.592217",
     "status": "completed"
    },
    "tags": []
   },
   "source": [
    "The graphical representation of the feature importance above shows the top (15) importance from the top most priority to the least priority.\n",
    "It is observed that for each of the four graph plotted 'Product year' standsout the most then from the second feature it varies for the different algorithms"
   ]
  },
  {
   "cell_type": "markdown",
   "id": "238a4679",
   "metadata": {
    "papermill": {
     "duration": 0.032236,
     "end_time": "2022-09-19T00:35:25.687722",
     "exception": false,
     "start_time": "2022-09-19T00:35:25.655486",
     "status": "completed"
    },
    "tags": []
   },
   "source": [
    "## Conclusion <a class=\"anchor\" id=\"conclusion\"></a>"
   ]
  },
  {
   "cell_type": "markdown",
   "id": "aa63e2bd",
   "metadata": {
    "execution": {
     "iopub.execute_input": "2022-09-19T00:02:32.766211Z",
     "iopub.status.busy": "2022-09-19T00:02:32.765248Z",
     "iopub.status.idle": "2022-09-19T00:02:32.789572Z",
     "shell.execute_reply": "2022-09-19T00:02:32.788683Z",
     "shell.execute_reply.started": "2022-09-19T00:02:32.766144Z"
    },
    "papermill": {
     "duration": 0.032214,
     "end_time": "2022-09-19T00:35:25.753053",
     "exception": false,
     "start_time": "2022-09-19T00:35:25.720839",
     "status": "completed"
    },
    "tags": []
   },
   "source": [
    "In this dataset we were able to train (7) different models on the car prediction dataset.<br>\n",
    "We did some preprocessing as the dataset contains irrelevant columns and values in some columns that wouldn't make sense too our model. <br>\n",
    "Next we splitted the dataset into numerical and categorical columns and preprocess each.<br>\n",
    "We normalized the numerical columns and OneHotEncoded the categorical column and then we trained our model and tested it on the test dataset we created.<br>\n",
    "Finally we plotted some graph showing the feature inportace for the models."
   ]
  },
  {
   "cell_type": "code",
   "execution_count": null,
   "id": "dc672082",
   "metadata": {
    "papermill": {
     "duration": 0.031092,
     "end_time": "2022-09-19T00:35:25.815898",
     "exception": false,
     "start_time": "2022-09-19T00:35:25.784806",
     "status": "completed"
    },
    "tags": []
   },
   "outputs": [],
   "source": []
  }
 ],
 "metadata": {
  "kernelspec": {
   "display_name": "Python 3",
   "language": "python",
   "name": "python3"
  },
  "language_info": {
   "codemirror_mode": {
    "name": "ipython",
    "version": 3
   },
   "file_extension": ".py",
   "mimetype": "text/x-python",
   "name": "python",
   "nbconvert_exporter": "python",
   "pygments_lexer": "ipython3",
   "version": "3.7.12"
  },
  "papermill": {
   "default_parameters": {},
   "duration": 382.138899,
   "end_time": "2022-09-19T00:35:27.275831",
   "environment_variables": {},
   "exception": null,
   "input_path": "__notebook__.ipynb",
   "output_path": "__notebook__.ipynb",
   "parameters": {},
   "start_time": "2022-09-19T00:29:05.136932",
   "version": "2.3.4"
  }
 },
 "nbformat": 4,
 "nbformat_minor": 5
}
